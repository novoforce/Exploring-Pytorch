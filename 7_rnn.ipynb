{
  "nbformat": 4,
  "nbformat_minor": 0,
  "metadata": {
    "colab": {
      "name": "7_rnn.ipynb",
      "provenance": [],
      "authorship_tag": "ABX9TyOBpfMzfWseiq01ZK+B8KoX",
      "include_colab_link": true
    },
    "kernelspec": {
      "name": "python3",
      "display_name": "Python 3"
    }
  },
  "cells": [
    {
      "cell_type": "markdown",
      "metadata": {
        "id": "view-in-github",
        "colab_type": "text"
      },
      "source": [
        "<a href=\"https://colab.research.google.com/github/novoforce/Exploring-Pytorch/blob/master/7_rnn.ipynb\" target=\"_parent\"><img src=\"https://colab.research.google.com/assets/colab-badge.svg\" alt=\"Open In Colab\"/></a>"
      ]
    },
    {
      "cell_type": "markdown",
      "metadata": {
        "id": "i1fbzEQWNeXq"
      },
      "source": [
        "# RNN Introduction\n",
        "\n",
        "The neural network architectures you've seen so far were trained using the current inputs only. We did not consider previous inputs when generating the current output. In other words, our systems did not have any memory elements. RNNs address this very basic and important issue by using memory (i.e. past inputs to the network) when producing the current output.\n",
        "\n",
        "**Temporal dependencies**\n",
        "\n",
        "Dependencies over time are called temporal dependencies.\n",
        "\n",
        "So, RNN's finds their applications wherever there is a need for the temporal dependencies. For example where the previous inputs mattered for predicting the present output.\n",
        "Predicting the stock maret price,Predicting a cricket match etc."
      ]
    },
    {
      "cell_type": "code",
      "metadata": {
        "id": "m8-ft0h2MxXg"
      },
      "source": [
        ""
      ],
      "execution_count": null,
      "outputs": []
    }
  ]
}