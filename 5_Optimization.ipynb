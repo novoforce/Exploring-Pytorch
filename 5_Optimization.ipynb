{
  "nbformat": 4,
  "nbformat_minor": 0,
  "metadata": {
    "colab": {
      "name": "5_Optimization.ipynb",
      "provenance": [],
      "toc_visible": true,
      "authorship_tag": "ABX9TyNGVvNxBU1h2YO5cN2eLEkU",
      "include_colab_link": true
    },
    "kernelspec": {
      "name": "python3",
      "display_name": "Python 3"
    }
  },
  "cells": [
    {
      "cell_type": "markdown",
      "metadata": {
        "id": "view-in-github",
        "colab_type": "text"
      },
      "source": [
        "<a href=\"https://colab.research.google.com/github/novoforce/Exploring-Pytorch/blob/master/5_Optimization.ipynb\" target=\"_parent\"><img src=\"https://colab.research.google.com/assets/colab-badge.svg\" alt=\"Open In Colab\"/></a>"
      ]
    },
    {
      "cell_type": "markdown",
      "metadata": {
        "id": "6zLaeCFLP09f"
      },
      "source": [
        "# Gradiant descent Update Rule\n",
        "\n",
        "### $w= w-\\eta \\frac{\\partial{L(w)}}{\\partial{w}}$  $===>[eq_1]$\n",
        "\n",
        "The $[eq_1]$ is the vanilla gradiant descent update rule.\n",
        "For optimization or better learning algorithms what all things need to be done:\n",
        "\n",
        "```\n",
        "How do you compute the gradient ?\n",
        "or What data should you use for computing the gradients ?\n",
        "```\n",
        "\n",
        "```\n",
        "How do you use the gradient ?\n",
        "or Can you come up with better update rule ?\n",
        "```\n",
        "\n",
        "\n",
        "\n"
      ]
    },
    {
      "cell_type": "code",
      "metadata": {
        "id": "gw0wDrQWPuzE"
      },
      "source": [
        ""
      ],
      "execution_count": null,
      "outputs": []
    }
  ]
}