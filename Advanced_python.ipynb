{
  "nbformat": 4,
  "nbformat_minor": 0,
  "metadata": {
    "colab": {
      "name": "Advanced_python.ipynb",
      "provenance": [],
      "collapsed_sections": [],
      "toc_visible": true,
      "authorship_tag": "ABX9TyPnzQmYaPn2aAV8uj1rCwQI",
      "include_colab_link": true
    },
    "kernelspec": {
      "name": "python3",
      "display_name": "Python 3"
    }
  },
  "cells": [
    {
      "cell_type": "markdown",
      "metadata": {
        "id": "view-in-github",
        "colab_type": "text"
      },
      "source": [
        "<a href=\"https://colab.research.google.com/github/novoforce/Exploring-Pytorch/blob/master/Advanced_python.ipynb\" target=\"_parent\"><img src=\"https://colab.research.google.com/assets/colab-badge.svg\" alt=\"Open In Colab\"/></a>"
      ]
    },
    {
      "cell_type": "markdown",
      "metadata": {
        "id": "7sJ1Mc08ldbm"
      },
      "source": [
        "# OOPS Concept"
      ]
    },
    {
      "cell_type": "markdown",
      "metadata": {
        "id": "1JgPDyu8lUA7"
      },
      "source": [
        "The main use of OOPS concept is to decrease the code and make use of code reusability."
      ]
    },
    {
      "cell_type": "code",
      "metadata": {
        "id": "tdTI0hnmlAa5",
        "outputId": "6daa728c-9397-4384-9de4-405bddc42a98",
        "colab": {
          "base_uri": "https://localhost:8080/",
          "height": 34
        }
      },
      "source": [
        "class Employee:\n",
        "  pass\n",
        "\n",
        "harry= Employee() #object1\n",
        "rohan= Employee() #object2\n",
        "\n",
        "harry.name='harry'\n",
        "harry.designation='project engineer'\n",
        "harry.salary=50000\n",
        "\n",
        "rohan.name='rohan'\n",
        "rohan.designation='project engineer L2'\n",
        "rohan.salary=65000\n",
        "\n",
        "print(harry,rohan)"
      ],
      "execution_count": null,
      "outputs": [
        {
          "output_type": "stream",
          "text": [
            "<__main__.Employee object at 0x7f4d06783390> <__main__.Employee object at 0x7f4d06783358>\n"
          ],
          "name": "stdout"
        }
      ]
    },
    {
      "cell_type": "markdown",
      "metadata": {
        "id": "tiO35l_HmiaP"
      },
      "source": [
        "**Context** \n",
        "\n",
        "Suppose you own a company and there you want to create a database of the employee and you are using python programming language. Now the your company has around 500 employees, so now if you keep on adding employees as in the previous method then the code will keep on increasing which is contrary to what we have introduced the OOPS.\n",
        "\n",
        "```\n",
        "harry.name='harry'\n",
        "harry.designation='project engineer'\n",
        "harry.salary=50000\n",
        "\n",
        "rohan.name='rohan'\n",
        "rohan.designation='project engineer L2'\n",
        "rohan.salary=65000\n",
        "```\n",
        "\n"
      ]
    },
    {
      "cell_type": "markdown",
      "metadata": {
        "id": "yk8JFdY-pMvC"
      },
      "source": [
        "# OOPS in action"
      ]
    },
    {
      "cell_type": "code",
      "metadata": {
        "id": "gfandwsql80x",
        "outputId": "b749e6c1-065d-429d-99ff-350e11b55d9b",
        "colab": {
          "base_uri": "https://localhost:8080/",
          "height": 34
        }
      },
      "source": [
        "class Employee:\n",
        "\n",
        "  def __init__(self,name,designation,salary):\n",
        "    self.name=name\n",
        "    self.designation=designation\n",
        "    self.salary=salary\n",
        "\n",
        "\n",
        "harry= Employee('harry','project engineer',50000) #create object1\n",
        "rohan= Employee('rohan','project engineer L2',65000) #create object2\n",
        "\n",
        "print(harry,rohan)\n"
      ],
      "execution_count": null,
      "outputs": [
        {
          "output_type": "stream",
          "text": [
            "<__main__.Employee object at 0x7f4d0673f898> <__main__.Employee object at 0x7f4d0673f2b0>\n"
          ],
          "name": "stdout"
        }
      ]
    },
    {
      "cell_type": "markdown",
      "metadata": {
        "id": "9kXjHXv-rnWz"
      },
      "source": [
        "Intuitively speaking the main purpose of the ```class``` is to make template which can be used for the new object creation. So whenever a candidate joins a firm he will be an employee who will have a basic characterstics like name,designation,salary which will be unique to the employee.\n",
        "\n",
        "Now if we print the object we get the ```Employee``` object for that particular object. Like for example:\n",
        "\n",
        "For each execution the template  hash value like this as below ```0x7f4d067469e8``` changes\n",
        "```\n",
        "<__main__.Employee object at 0x7f4d067469e8>\n",
        "```\n",
        "\n",
        "```\n",
        "<__main__.Employee object at 0x7f4d06746a58>\n",
        "```\n",
        "\n",
        "Now what the hell is **__init__(self)** ?\n",
        "This is a constructor in programming terms which will execute when an object is created.\n",
        "\n",
        "Now what is **self** ? \n",
        "[self explained](https://www.edureka.co/blog/self-in-python/#:~:text=The%20self%20is%20used%20to,attributes%20with%20the%20given%20arguments.&text=In%20Python%2C%20we%20have%20methods,automatically%2C%20but%20not%20received%20automatically.)"
      ]
    },
    {
      "cell_type": "markdown",
      "metadata": {
        "id": "Dbm_nwMTvVZV"
      },
      "source": [
        "# What are class and instance variable ?\n",
        "Till now we didn't declare or make class variable. we made instance variables.\n",
        "Now to be clear the instance variables are:\n",
        "\n",
        "\n",
        "What do we actually need class variable ?\n",
        "In OOPS concept there are common features among the objects getting created like increment etc\n",
        "So to implement class variable lets see the code below:"
      ]
    },
    {
      "cell_type": "code",
      "metadata": {
        "id": "8YbZ08cXp02p",
        "outputId": "2ad7e48e-080a-4799-9e26-4be42184a36c",
        "colab": {
          "base_uri": "https://localhost:8080/",
          "height": 67
        }
      },
      "source": [
        "#Snippet-1\n",
        "class Employee:\n",
        "\n",
        "  increment=1.5 #class variable\n",
        "  def __init__(self,name,designation,salary):   #instance intialization\n",
        "    self.name=name\n",
        "    self.designation=designation\n",
        "    self.salary=salary\n",
        "\n",
        "  def increase(self):\n",
        "    self.salary=self.salary*self.increment\n",
        "\n",
        "harry= Employee('harry','project engineer',50000) #create object1\n",
        "rohan= Employee('rohan','project engineer L2',65000) #create object2\n",
        "\n",
        "print(harry.salary)# before the salary increment\n",
        "print(harry.increase())# here the return value is None by default\n",
        "print(harry.salary)# after the salary increment\n"
      ],
      "execution_count": null,
      "outputs": [
        {
          "output_type": "stream",
          "text": [
            "50000\n",
            "None\n",
            "75000.0\n"
          ],
          "name": "stdout"
        }
      ]
    },
    {
      "cell_type": "code",
      "metadata": {
        "id": "sHDGYIMBxPmF",
        "outputId": "85733ac1-bfea-40fd-aeee-2c4896852bae",
        "colab": {
          "base_uri": "https://localhost:8080/",
          "height": 67
        }
      },
      "source": [
        "#Snippet-2\n",
        "class Employee:\n",
        "\n",
        "  increment=1.5 #class variable\n",
        "  def __init__(self,name,designation,salary):   #instance intialization\n",
        "    self.name=name\n",
        "    self.designation=designation\n",
        "    self.salary=salary\n",
        "\n",
        "  def increase(self):\n",
        "    self.salary=self.salary*Employee.increment\n",
        "\n",
        "harry= Employee('harry','project engineer',50000) #create object1\n",
        "rohan= Employee('rohan','project engineer L2',65000) #create object2\n",
        "\n",
        "print(harry.salary)# before the salary increment\n",
        "print(harry.increase())# here the return value is None by default\n",
        "print(harry.salary)# after the salary increment\n"
      ],
      "execution_count": null,
      "outputs": [
        {
          "output_type": "stream",
          "text": [
            "50000\n",
            "None\n",
            "75000.0\n"
          ],
          "name": "stdout"
        }
      ]
    },
    {
      "cell_type": "markdown",
      "metadata": {
        "id": "EVsUp6SUzjyQ"
      },
      "source": [
        "still the same output even after changing:\n",
        "```\n",
        "def increase(self):\n",
        "    self.salary=self.salary*self.increment\n",
        "```\n",
        "to \n",
        "```\n",
        "  def increase(self):\n",
        "    self.salary=self.salary*Employee.increment\n",
        "```\n",
        "So here by using ```Employee.increment``` in the increase() we are explicitily specifying to look for Class Variable. With ```self.increment```, the python will search for ```increment``` variable in instance which is ```__init__``` and if there is no ```increment``` in instance then it will search on Employee which is our class variable.\n",
        "\n",
        "The following behaviour can be verified by the following snippet below:"
      ]
    },
    {
      "cell_type": "code",
      "metadata": {
        "id": "yE7DVmmRzcGw",
        "outputId": "4c7c8a1c-ce63-44f9-b2d7-7a8af676b12a",
        "colab": {
          "base_uri": "https://localhost:8080/",
          "height": 67
        }
      },
      "source": [
        "#Snippet-3\n",
        "class Employee:\n",
        "\n",
        "  increment=1.5 #class variable\n",
        "  def __init__(self,name,designation,salary):   #instance intialization\n",
        "    self.name=name\n",
        "    self.designation=designation\n",
        "    self.salary=salary\n",
        "    self.increment=3.0\n",
        "\n",
        "  def increase(self):\n",
        "    self.salary=self.salary*self.increment\n",
        "\n",
        "harry= Employee('harry','project engineer',50000) #create object1\n",
        "rohan= Employee('rohan','project engineer L2',65000) #create object2\n",
        "\n",
        "print(harry.salary)# before the salary increment\n",
        "print(harry.increase())# here the return value is None by default\n",
        "print(harry.salary)# after the salary increment\n"
      ],
      "execution_count": null,
      "outputs": [
        {
          "output_type": "stream",
          "text": [
            "50000\n",
            "None\n",
            "150000.0\n"
          ],
          "name": "stdout"
        }
      ]
    },
    {
      "cell_type": "markdown",
      "metadata": {
        "id": "dhYTPpd22Amc"
      },
      "source": [
        "In the above snippet we added a ```self.increment=3.0``` which is an instance variable so as expected ```increase()``` will use the instance ```increment```variable."
      ]
    },
    {
      "cell_type": "markdown",
      "metadata": {
        "id": "AJYRwKvH4c4x"
      },
      "source": [
        "## How to check how many variables are there in the Class or an Instance ?\n",
        "\n",
        "We can use __dict__ attribute. as in the below code"
      ]
    },
    {
      "cell_type": "code",
      "metadata": {
        "id": "r5NcpcZN1ujT",
        "outputId": "e941aeeb-deba-463f-e1cb-3291e79e2c8b",
        "colab": {
          "base_uri": "https://localhost:8080/",
          "height": 84
        }
      },
      "source": [
        "harry.__dict__"
      ],
      "execution_count": null,
      "outputs": [
        {
          "output_type": "execute_result",
          "data": {
            "text/plain": [
              "{'designation': 'project engineer',\n",
              " 'increment': 3.0,\n",
              " 'name': 'harry',\n",
              " 'salary': 150000.0}"
            ]
          },
          "metadata": {
            "tags": []
          },
          "execution_count": 16
        }
      ]
    },
    {
      "cell_type": "code",
      "metadata": {
        "id": "50Niw3JEDc0F",
        "outputId": "a5bad0f5-e745-420a-ea60-7c8173d24205",
        "colab": {
          "base_uri": "https://localhost:8080/",
          "height": 134
        }
      },
      "source": [
        "Employee.__dict__"
      ],
      "execution_count": null,
      "outputs": [
        {
          "output_type": "execute_result",
          "data": {
            "text/plain": [
              "mappingproxy({'__dict__': <attribute '__dict__' of 'Employee' objects>,\n",
              "              '__doc__': None,\n",
              "              '__init__': <function __main__.Employee.__init__>,\n",
              "              '__module__': '__main__',\n",
              "              '__weakref__': <attribute '__weakref__' of 'Employee' objects>,\n",
              "              'increase': <function __main__.Employee.increase>,\n",
              "              'increment': 1.5})"
            ]
          },
          "metadata": {
            "tags": []
          },
          "execution_count": 17
        }
      ]
    },
    {
      "cell_type": "markdown",
      "metadata": {
        "id": "ruySMlIXE7EQ"
      },
      "source": [
        "## How to update class variable from instance ?"
      ]
    },
    {
      "cell_type": "code",
      "metadata": {
        "id": "iO3kdRqZDfnj",
        "outputId": "7fb5c258-5e0a-40f4-e206-188f9ad1dd06",
        "colab": {
          "base_uri": "https://localhost:8080/",
          "height": 101
        }
      },
      "source": [
        "#Snippet-4\n",
        "class Employee:\n",
        "\n",
        "  increment=1.5 #class variable\n",
        "  no_of_employees=0\n",
        "  def __init__(self,name,designation,salary):   #instance intialization\n",
        "    self.name=name\n",
        "    self.designation=designation\n",
        "    self.salary=salary\n",
        "    self.increment=3.0\n",
        "    Employee.no_of_employees+=1 #increment1\n",
        "\n",
        "  def increase(self):\n",
        "    self.salary=self.salary*self.increment\n",
        "\n",
        "print(\"no of employees before 2 instances creation: \",Employee.no_of_employees)\n",
        "harry= Employee('harry','project engineer',50000) #create object1\n",
        "rohan= Employee('rohan','project engineer L2',65000) #create object2\n",
        "\n",
        "print(harry.salary)# before the salary increment\n",
        "print(harry.increase())# here the return value is None by default\n",
        "print(harry.salary)# after the salary increment\n",
        "\n",
        "print(\"no of employees after 2 instances creation: \",Employee.no_of_employees) #2 since 2 instances are created\n"
      ],
      "execution_count": null,
      "outputs": [
        {
          "output_type": "stream",
          "text": [
            "no of employees before 2 instances creation:  0\n",
            "50000\n",
            "None\n",
            "150000.0\n",
            "no of employees after 2 instances creation:  2\n"
          ],
          "name": "stdout"
        }
      ]
    },
    {
      "cell_type": "markdown",
      "metadata": {
        "id": "AkpXR4uxdoZR"
      },
      "source": [
        "# Class Methods\n",
        "\n",
        "Class methods are specifically used to change the class variables.\n",
        "\n",
        "Normally we can change the value of the class variables using the instance methods but while using instance we are passing the instance itself in the form of ```self``` as an argument to the method which usually is bad programming style. So to mitigate this we are using the ```@classmethod decorator``` to access the class variables and change it.\n",
        "\n",
        "Suppose what if a company makes a huge profit and it wants to gives its all employee an increment of 5x instead of usual 1.5x so in this scenario we can use the class method to change the increment value to convert 1.5 --> 5"
      ]
    },
    {
      "cell_type": "code",
      "metadata": {
        "id": "rBPnjVAVFR7d",
        "cellView": "code",
        "outputId": "1c2a6f6a-6053-4b88-a5a6-1898019f5af0",
        "colab": {
          "base_uri": "https://localhost:8080/",
          "height": 151
        }
      },
      "source": [
        "#Snippet-5\n",
        "class Employee:\n",
        "\n",
        "  increment=1.5 #class variable\n",
        "  no_of_employees=0\n",
        "  def __init__(self,name,designation,salary):   #instance intialization\n",
        "    self.name=name\n",
        "    self.designation=designation\n",
        "    self.salary=salary\n",
        "    self.increment=3.0\n",
        "    Employee.no_of_employees+=1 #increment1\n",
        "\n",
        "  def increase(self):\n",
        "    self.salary=self.salary*self.increment\n",
        "\n",
        "  @classmethod\n",
        "  def change_increment(cls,amount):\n",
        "    cls.increment=amount  #this will change the increment at line 4 to the value passed to the function change_increment()\n",
        "\n",
        "print(\"no of employees before 2 instances creation: \",Employee.no_of_employees)\n",
        "harry= Employee('harry','project engineer',50000) #create object1\n",
        "rohan= Employee('rohan','project engineer L2',65000) #create object2\n",
        "\n",
        "print(\"harry's original salary\",harry.salary)# before the salary increment\n",
        "print(harry.increase())# here the return value is None by default\n",
        "print(\"harry's new salary after original increment \",harry.salary)# after the salary increment\n",
        "\n",
        "print(\"no of employees after 2 instances creation: \",Employee.no_of_employees) #2 since 2 instances are created\n",
        "\n",
        "#change the increment variable\n",
        "print(\"the increment value before change: \",Employee.increment)\n",
        "Employee.change_increment(5) #since this is a class method we need to specify class_name i.e Employee.method_name()\n",
        "print(\"the increment value after change: \",Employee.increment)\n",
        "\n",
        "harry.increase() #increase salary of harry after the increment value\n",
        "print(\"the salary of harry after the new increment value is: \",harry.salary)\n"
      ],
      "execution_count": null,
      "outputs": [
        {
          "output_type": "stream",
          "text": [
            "no of employees before 2 instances creation:  0\n",
            "harry's original salary 50000\n",
            "None\n",
            "harry's new salary after original increment  150000.0\n",
            "no of employees after 2 instances creation:  2\n",
            "the increment value before change:  1.5\n",
            "the increment value after change:  5\n",
            "the salary of harry after the new increment value is:  450000.0\n"
          ],
          "name": "stdout"
        }
      ]
    },
    {
      "cell_type": "markdown",
      "metadata": {
        "id": "A6ToYdiOhkI3"
      },
      "source": [
        "# Class methods as constructor\n",
        "\n",
        "Suppose we want to set the constructor values after some pre-processing(after executing function) we can use the class methods for manipulating the constructor values"
      ]
    },
    {
      "cell_type": "code",
      "metadata": {
        "id": "s6la93xgfGZR",
        "cellView": "code",
        "outputId": "ad6349ab-e11b-4c91-ec07-c45f8675b0e2",
        "colab": {
          "base_uri": "https://localhost:8080/",
          "height": 34
        }
      },
      "source": [
        "#Snippet-6\n",
        "class Employee:\n",
        "\n",
        "  increment=1.5 #class variable\n",
        "  no_of_employees=0\n",
        "  def __init__(self,name,designation,salary):   #instance intialization\n",
        "    self.name=name\n",
        "    self.designation=designation\n",
        "    self.salary=salary\n",
        "    self.increment=3.0\n",
        "    Employee.no_of_employees+=1 #increment1\n",
        "\n",
        "  def increase(self):\n",
        "    self.salary=self.salary*self.increment\n",
        "\n",
        "  @classmethod\n",
        "  def change_increment(cls,amount):\n",
        "    cls.increment=amount  #this will change the increment at line 4 to the value passed to the function change_increment()\n",
        "\n",
        "  @classmethod\n",
        "  def parse_str(cls,strr):\n",
        "    name,designation,salary= strr.split(\"-\")\n",
        "    return cls(name,designation,salary)\n",
        "\n",
        "\n",
        "tom= Employee.parse_str(\"tom-junior engineer-30000\")\n",
        "print(\"Tom's name,designation,salary is: \",tom.name,tom.designation,tom.salary)\n",
        "\n",
        "# print(\"no of employees before 2 instances creation: \",Employee.no_of_employees)\n",
        "# harry= Employee('harry','project engineer',50000) #create object1\n",
        "# rohan= Employee('rohan','project engineer L2',65000) #create object2\n",
        "\n",
        "# print(\"harry's original salary\",harry.salary)# before the salary increment\n",
        "# print(harry.increase())# here the return value is None by default\n",
        "# print(\"harry's new salary after original increment \",harry.salary)# after the salary increment\n",
        "\n",
        "# print(\"no of employees after 2 instances creation: \",Employee.no_of_employees) #2 since 2 instances are created\n",
        "\n",
        "# #change the increment variable\n",
        "# print(\"the increment value before change: \",Employee.increment)\n",
        "# Employee.change_increment(5) #since this is a class method we need to specify class_name i.e Employee.method_name()\n",
        "# print(\"the increment value after change: \",Employee.increment)\n",
        "\n",
        "# harry.increase() #increase salary of harry after the increment value\n",
        "# print(\"the salary of harry after the new increment value is: \",harry.salary)\n",
        "\n"
      ],
      "execution_count": null,
      "outputs": [
        {
          "output_type": "stream",
          "text": [
            "Tom's name,designation,salary is:  tom junior engineer 30000\n"
          ],
          "name": "stdout"
        }
      ]
    },
    {
      "cell_type": "markdown",
      "metadata": {
        "id": "dDn0QlLhk7p6"
      },
      "source": [
        "# Static method\n",
        "\n",
        "Suppose we don't want to send the instance as well as the Class as an argument then in that case we will use ```@staticmethod``` decorator over the method. **We can use direct class as well as the instance of the class(object) to invoke static methods**\n",
        "\n"
      ]
    },
    {
      "cell_type": "code",
      "metadata": {
        "id": "y7VG1n7uks86",
        "outputId": "e1510fe5-1ae9-4ae4-dabf-fd4346ffde5f",
        "colab": {
          "base_uri": "https://localhost:8080/",
          "height": 50
        }
      },
      "source": [
        "#Snippet-6\n",
        "class Employee:\n",
        "\n",
        "  increment=1.5 #class variable\n",
        "  no_of_employees=0\n",
        "  def __init__(self,name,designation,salary):   #instance intialization\n",
        "    self.name=name\n",
        "    self.designation=designation\n",
        "    self.salary=salary\n",
        "    self.increment=3.0\n",
        "    Employee.no_of_employees+=1 #increment1\n",
        "\n",
        "  def increase(self):\n",
        "    self.salary=self.salary*self.increment\n",
        "\n",
        "  @classmethod\n",
        "  def change_increment(cls,amount):\n",
        "    cls.increment=amount  #this will change the increment at line 4 to the value passed to the function change_increment()\n",
        "\n",
        "  @classmethod\n",
        "  def parse_str(cls,strr):\n",
        "    name,designation,salary= strr.split(\"-\")\n",
        "    return cls(name,designation,salary)\n",
        "\n",
        "  @staticmethod\n",
        "  def isopen(day):\n",
        "    if day=='sunday':\n",
        "      return False\n",
        "    else:\n",
        "      return True\n",
        "\n",
        "\n",
        "print(\"Is the company open on sunday ? \",Employee.isopen(\"sunday\"))\n",
        "shubham= Employee(\"Shubham\",\"project engineer\",40000)\n",
        "print(\"Is shubham working on sunday ? \",shubham.isopen(\"sunday\"))\n",
        "\n",
        "\n",
        "\n",
        "# tom= Employee.parse_str(\"tom-junior engineer-30000\")\n",
        "# print(\"Tom's name,designation,salary is: \",tom.name,tom.designation,tom.salary)\n",
        "\n",
        "# print(\"no of employees before 2 instances creation: \",Employee.no_of_employees)\n",
        "# harry= Employee('harry','project engineer',50000) #create object1\n",
        "# rohan= Employee('rohan','project engineer L2',65000) #create object2\n",
        "\n",
        "# print(\"harry's original salary\",harry.salary)# before the salary increment\n",
        "# print(harry.increase())# here the return value is None by default\n",
        "# print(\"harry's new salary after original increment \",harry.salary)# after the salary increment\n",
        "\n",
        "# print(\"no of employees after 2 instances creation: \",Employee.no_of_employees) #2 since 2 instances are created\n",
        "\n",
        "# #change the increment variable\n",
        "# print(\"the increment value before change: \",Employee.increment)\n",
        "# Employee.change_increment(5) #since this is a class method we need to specify class_name i.e Employee.method_name()\n",
        "# print(\"the increment value after change: \",Employee.increment)\n",
        "\n",
        "# harry.increase() #increase salary of harry after the increment value\n",
        "# print(\"the salary of harry after the new increment value is: \",harry.salary)\n",
        "\n"
      ],
      "execution_count": null,
      "outputs": [
        {
          "output_type": "stream",
          "text": [
            "Is the company open on sunday ?  False\n",
            "Is shubham working on sunday ?  False\n"
          ],
          "name": "stdout"
        }
      ]
    },
    {
      "cell_type": "markdown",
      "metadata": {
        "id": "s_HVaLdzlzbu"
      },
      "source": [
        "# Inheritance\n",
        "\n",
        "Suppose we have a **class-1** and we need to have a **class-2** which has all the attributes and the variables of **class-1** and some feature of itself. So in this scenario **class-1** is the ***parent*** and the **class-2** is the ***child***.\n",
        "\n",
        "So instead of copying and pasting the code of **class-1** to **class-2** we can make make use of Inheritance to inherit the **clss-1** and then add variables and methods of **class-2**"
      ]
    },
    {
      "cell_type": "code",
      "metadata": {
        "id": "QrQ-HArvm_7N",
        "outputId": "b9b17bce-f9a3-4ddb-9bdc-fb902413e776",
        "colab": {
          "base_uri": "https://localhost:8080/",
          "height": 1000
        }
      },
      "source": [
        "#Snippet-7\n",
        "class Employee:     #class-1\n",
        "\n",
        "  increment=1.5 #class variable\n",
        "  no_of_employees=0\n",
        "  def __init__(self,name,designation,salary):   #instance intialization\n",
        "    self.name=name\n",
        "    self.designation=designation\n",
        "    self.salary=salary\n",
        "    self.increment=3.0\n",
        "    Employee.no_of_employees+=1 #increment1\n",
        "\n",
        "  def increase(self):\n",
        "    self.salary=self.salary*self.increment\n",
        "\n",
        "  @classmethod\n",
        "  def change_increment(cls,amount):\n",
        "    cls.increment=amount  #this will change the increment at line 4 to the value passed to the function change_increment()\n",
        "\n",
        "  @classmethod\n",
        "  def parse_str(cls,strr):\n",
        "    name,designation,salary= strr.split(\"-\")\n",
        "    return cls(name,designation,salary)\n",
        "\n",
        "  @staticmethod\n",
        "  def isopen(day):\n",
        "    if day=='sunday':\n",
        "      return False\n",
        "    else:\n",
        "      return True\n",
        "\n",
        "#Inheritance demo\n",
        "class Programmer(Employee): #inheriting from Employee class\n",
        "  def __init__(self,name,designation,salary,prog_lang,experience):\n",
        "    super().__init__(name,designation,salary)\n",
        "    self.prog_lang=prog_lang\n",
        "    self.experience=experience\n",
        "\n",
        "  #the below function increase() will override the function defined in the parent class\n",
        "  def increase(self):\n",
        "    self.salary=self.salary*self.increment+0.7\n",
        "\n",
        "\n",
        "\n",
        "Mohit= Programmer(\"Mohit\",\"engineer\",\"18000\",\"python\",1.5)\n",
        "\n",
        "print(\"Name:\",Mohit.name,\"Designation:\",Mohit.designation,\"Salary:\",Mohit.salary,\"Programming:\",Mohit.prog_lang,\"Experience:\",Mohit.experience)\n",
        "\n",
        "\n",
        "print(help(Programmer)) #this code snippet will give the comprehensive understanding of the class Programmer\n",
        "\n",
        "print(help(Employee))\n"
      ],
      "execution_count": 8,
      "outputs": [
        {
          "output_type": "stream",
          "text": [
            "Name: Mohit Designation: engineer Salary: 18000 Programming: python Experience: 1.5\n",
            "Help on class Programmer in module __main__:\n",
            "\n",
            "class Programmer(Employee)\n",
            " |  Method resolution order:\n",
            " |      Programmer\n",
            " |      Employee\n",
            " |      builtins.object\n",
            " |  \n",
            " |  Methods defined here:\n",
            " |  \n",
            " |  __init__(self, name, designation, salary, prog_lang, experience)\n",
            " |      Initialize self.  See help(type(self)) for accurate signature.\n",
            " |  \n",
            " |  increase(self)\n",
            " |      #the below function increase() will override the function defined in the parent class\n",
            " |  \n",
            " |  ----------------------------------------------------------------------\n",
            " |  Class methods inherited from Employee:\n",
            " |  \n",
            " |  change_increment(amount) from builtins.type\n",
            " |  \n",
            " |  parse_str(strr) from builtins.type\n",
            " |  \n",
            " |  ----------------------------------------------------------------------\n",
            " |  Static methods inherited from Employee:\n",
            " |  \n",
            " |  isopen(day)\n",
            " |  \n",
            " |  ----------------------------------------------------------------------\n",
            " |  Data descriptors inherited from Employee:\n",
            " |  \n",
            " |  __dict__\n",
            " |      dictionary for instance variables (if defined)\n",
            " |  \n",
            " |  __weakref__\n",
            " |      list of weak references to the object (if defined)\n",
            " |  \n",
            " |  ----------------------------------------------------------------------\n",
            " |  Data and other attributes inherited from Employee:\n",
            " |  \n",
            " |  increment = 1.5\n",
            " |  \n",
            " |  no_of_employees = 1\n",
            "\n",
            "None\n",
            "Help on class Employee in module __main__:\n",
            "\n",
            "class Employee(builtins.object)\n",
            " |  Methods defined here:\n",
            " |  \n",
            " |  __init__(self, name, designation, salary)\n",
            " |      Initialize self.  See help(type(self)) for accurate signature.\n",
            " |  \n",
            " |  increase(self)\n",
            " |  \n",
            " |  ----------------------------------------------------------------------\n",
            " |  Class methods defined here:\n",
            " |  \n",
            " |  change_increment(amount) from builtins.type\n",
            " |  \n",
            " |  parse_str(strr) from builtins.type\n",
            " |  \n",
            " |  ----------------------------------------------------------------------\n",
            " |  Static methods defined here:\n",
            " |  \n",
            " |  isopen(day)\n",
            " |  \n",
            " |  ----------------------------------------------------------------------\n",
            " |  Data descriptors defined here:\n",
            " |  \n",
            " |  __dict__\n",
            " |      dictionary for instance variables (if defined)\n",
            " |  \n",
            " |  __weakref__\n",
            " |      list of weak references to the object (if defined)\n",
            " |  \n",
            " |  ----------------------------------------------------------------------\n",
            " |  Data and other attributes defined here:\n",
            " |  \n",
            " |  increment = 1.5\n",
            " |  \n",
            " |  no_of_employees = 1\n",
            "\n",
            "None\n"
          ],
          "name": "stdout"
        }
      ]
    },
    {
      "cell_type": "code",
      "metadata": {
        "id": "IV6h-HP1dufc"
      },
      "source": [
        ""
      ],
      "execution_count": null,
      "outputs": []
    },
    {
      "cell_type": "markdown",
      "metadata": {
        "id": "Tp0zdgtOXCFY"
      },
      "source": [
        "## Magic/Dunder methods\n",
        "\n",
        "[Dunder method companion website](https://dbader.org/blog/python-dunder-methods)\n",
        "\n",
        "[Important dunder method tutorial](https://colab.research.google.com/github/pybites/dunders/blob/master/richer-classes-with-dunders.ipynb)\n"
      ]
    },
    {
      "cell_type": "code",
      "metadata": {
        "id": "tUw3-LxmT6s5"
      },
      "source": [
        ""
      ],
      "execution_count": null,
      "outputs": []
    }
  ]
}