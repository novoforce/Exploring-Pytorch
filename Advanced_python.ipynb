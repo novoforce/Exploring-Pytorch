{
  "nbformat": 4,
  "nbformat_minor": 0,
  "metadata": {
    "colab": {
      "name": "Advanced_python.ipynb",
      "provenance": [],
      "collapsed_sections": [],
      "toc_visible": true,
      "authorship_tag": "ABX9TyPTQNjDnuASxLSuungwH+tB",
      "include_colab_link": true
    },
    "kernelspec": {
      "name": "python3",
      "display_name": "Python 3"
    }
  },
  "cells": [
    {
      "cell_type": "markdown",
      "metadata": {
        "id": "view-in-github",
        "colab_type": "text"
      },
      "source": [
        "<a href=\"https://colab.research.google.com/github/novoforce/Exploring-Pytorch/blob/master/Advanced_python.ipynb\" target=\"_parent\"><img src=\"https://colab.research.google.com/assets/colab-badge.svg\" alt=\"Open In Colab\"/></a>"
      ]
    },
    {
      "cell_type": "markdown",
      "metadata": {
        "id": "7sJ1Mc08ldbm",
        "colab_type": "text"
      },
      "source": [
        "# OOPS Concept"
      ]
    },
    {
      "cell_type": "markdown",
      "metadata": {
        "id": "1JgPDyu8lUA7",
        "colab_type": "text"
      },
      "source": [
        "The main use of OOPS concept is to decrease the code and make use of code reusability."
      ]
    },
    {
      "cell_type": "code",
      "metadata": {
        "id": "tdTI0hnmlAa5",
        "colab_type": "code",
        "colab": {
          "base_uri": "https://localhost:8080/",
          "height": 34
        },
        "outputId": "6daa728c-9397-4384-9de4-405bddc42a98"
      },
      "source": [
        "class Employee:\n",
        "  pass\n",
        "\n",
        "harry= Employee() #object1\n",
        "rohan= Employee() #object2\n",
        "\n",
        "harry.name='harry'\n",
        "harry.designation='project engineer'\n",
        "harry.salary=50000\n",
        "\n",
        "rohan.name='rohan'\n",
        "rohan.designation='project engineer L2'\n",
        "rohan.salary=65000\n",
        "\n",
        "print(harry,rohan)"
      ],
      "execution_count": 2,
      "outputs": [
        {
          "output_type": "stream",
          "text": [
            "<__main__.Employee object at 0x7f4d06783390> <__main__.Employee object at 0x7f4d06783358>\n"
          ],
          "name": "stdout"
        }
      ]
    },
    {
      "cell_type": "markdown",
      "metadata": {
        "id": "tiO35l_HmiaP",
        "colab_type": "text"
      },
      "source": [
        "**Context** \n",
        "\n",
        "Suppose you own a company and there you want to create a database of the employee and you are using python programming language. Now the your company has around 500 employees, so now if you keep on adding employees as in the previous method then the code will keep on increasing which is contrary to what we have introduced the OOPS.\n",
        "\n",
        "```\n",
        "harry.name='harry'\n",
        "harry.designation='project engineer'\n",
        "harry.salary=50000\n",
        "\n",
        "rohan.name='rohan'\n",
        "rohan.designation='project engineer L2'\n",
        "rohan.salary=65000\n",
        "```\n",
        "\n"
      ]
    },
    {
      "cell_type": "markdown",
      "metadata": {
        "id": "yk8JFdY-pMvC",
        "colab_type": "text"
      },
      "source": [
        "# OOPS in action"
      ]
    },
    {
      "cell_type": "code",
      "metadata": {
        "id": "gfandwsql80x",
        "colab_type": "code",
        "colab": {
          "base_uri": "https://localhost:8080/",
          "height": 34
        },
        "outputId": "b749e6c1-065d-429d-99ff-350e11b55d9b"
      },
      "source": [
        "class Employee:\n",
        "\n",
        "  def __init__(self,name,designation,salary):\n",
        "    self.name=name\n",
        "    self.designation=designation\n",
        "    self.salary=salary\n",
        "\n",
        "\n",
        "harry= Employee('harry','project engineer',50000) #create object1\n",
        "rohan= Employee('rohan','project engineer L2',65000) #create object2\n",
        "\n",
        "print(harry,rohan)\n"
      ],
      "execution_count": 5,
      "outputs": [
        {
          "output_type": "stream",
          "text": [
            "<__main__.Employee object at 0x7f4d0673f898> <__main__.Employee object at 0x7f4d0673f2b0>\n"
          ],
          "name": "stdout"
        }
      ]
    },
    {
      "cell_type": "markdown",
      "metadata": {
        "id": "9kXjHXv-rnWz",
        "colab_type": "text"
      },
      "source": [
        "Intuitively speaking the main purpose of the ```class``` is to make template which can be used for the new object creation. So whenever a candidate joins a firm he will be an employee who will have a basic characterstics like name,designation,salary which will be unique to the employee.\n",
        "\n",
        "Now if we print the object we get the ```Employee``` object for that particular object. Like for example:\n",
        "\n",
        "For each execution the template  hash value like this as below ```0x7f4d067469e8``` changes\n",
        "```\n",
        "<__main__.Employee object at 0x7f4d067469e8>\n",
        "```\n",
        "\n",
        "```\n",
        "<__main__.Employee object at 0x7f4d06746a58>\n",
        "```\n",
        "\n",
        "Now what the hell is **__init__(self)** ?\n",
        "This is a constructor in programming terms which will execute when an object is created.\n",
        "\n",
        "Now what is **self** ? \n",
        "[self explained](https://www.edureka.co/blog/self-in-python/#:~:text=The%20self%20is%20used%20to,attributes%20with%20the%20given%20arguments.&text=In%20Python%2C%20we%20have%20methods,automatically%2C%20but%20not%20received%20automatically.)"
      ]
    },
    {
      "cell_type": "markdown",
      "metadata": {
        "id": "Dbm_nwMTvVZV",
        "colab_type": "text"
      },
      "source": [
        "# What are class and instance variable ?\n",
        "Till now we didn't declare or make class variable. we made instance variables.\n",
        "Now to be clear the instance variables are:\n",
        "\n",
        "\n",
        "What do we actually need class variable ?\n",
        "In OOPS concept there are common features among the objects getting created like increment etc\n",
        "So to implement class variable lets see the code below:"
      ]
    },
    {
      "cell_type": "code",
      "metadata": {
        "id": "8YbZ08cXp02p",
        "colab_type": "code",
        "colab": {
          "base_uri": "https://localhost:8080/",
          "height": 67
        },
        "outputId": "2ad7e48e-080a-4799-9e26-4be42184a36c"
      },
      "source": [
        "#Snippet-1\n",
        "class Employee:\n",
        "\n",
        "  increment=1.5 #class variable\n",
        "  def __init__(self,name,designation,salary):   #instance intialization\n",
        "    self.name=name\n",
        "    self.designation=designation\n",
        "    self.salary=salary\n",
        "\n",
        "  def increase(self):\n",
        "    self.salary=self.salary*self.increment\n",
        "\n",
        "harry= Employee('harry','project engineer',50000) #create object1\n",
        "rohan= Employee('rohan','project engineer L2',65000) #create object2\n",
        "\n",
        "print(harry.salary)# before the salary increment\n",
        "print(harry.increase())# here the return value is None by default\n",
        "print(harry.salary)# after the salary increment\n"
      ],
      "execution_count": 13,
      "outputs": [
        {
          "output_type": "stream",
          "text": [
            "50000\n",
            "None\n",
            "75000.0\n"
          ],
          "name": "stdout"
        }
      ]
    },
    {
      "cell_type": "code",
      "metadata": {
        "id": "sHDGYIMBxPmF",
        "colab_type": "code",
        "colab": {
          "base_uri": "https://localhost:8080/",
          "height": 67
        },
        "outputId": "85733ac1-bfea-40fd-aeee-2c4896852bae"
      },
      "source": [
        "#Snippet-2\n",
        "class Employee:\n",
        "\n",
        "  increment=1.5 #class variable\n",
        "  def __init__(self,name,designation,salary):   #instance intialization\n",
        "    self.name=name\n",
        "    self.designation=designation\n",
        "    self.salary=salary\n",
        "\n",
        "  def increase(self):\n",
        "    self.salary=self.salary*Employee.increment\n",
        "\n",
        "harry= Employee('harry','project engineer',50000) #create object1\n",
        "rohan= Employee('rohan','project engineer L2',65000) #create object2\n",
        "\n",
        "print(harry.salary)# before the salary increment\n",
        "print(harry.increase())# here the return value is None by default\n",
        "print(harry.salary)# after the salary increment\n"
      ],
      "execution_count": 14,
      "outputs": [
        {
          "output_type": "stream",
          "text": [
            "50000\n",
            "None\n",
            "75000.0\n"
          ],
          "name": "stdout"
        }
      ]
    },
    {
      "cell_type": "markdown",
      "metadata": {
        "id": "EVsUp6SUzjyQ",
        "colab_type": "text"
      },
      "source": [
        "still the same output even after changing:\n",
        "```\n",
        "def increase(self):\n",
        "    self.salary=self.salary*self.increment\n",
        "```\n",
        "to \n",
        "```\n",
        "  def increase(self):\n",
        "    self.salary=self.salary*Employee.increment\n",
        "```\n",
        "So here by using ```Employee.increment``` in the increase() we are explicitily specifying to look for Class Variable. With ```self.increment```, the python will search for ```increment``` variable in instance which is ```__init__``` and if there is no ```increment``` in instance then it will search on Employee which is our class variable.\n",
        "\n",
        "The following behaviour can be verified by the following snippet below:"
      ]
    },
    {
      "cell_type": "code",
      "metadata": {
        "id": "yE7DVmmRzcGw",
        "colab_type": "code",
        "colab": {
          "base_uri": "https://localhost:8080/",
          "height": 67
        },
        "outputId": "4c7c8a1c-ce63-44f9-b2d7-7a8af676b12a"
      },
      "source": [
        "#Snippet-3\n",
        "class Employee:\n",
        "\n",
        "  increment=1.5 #class variable\n",
        "  def __init__(self,name,designation,salary):   #instance intialization\n",
        "    self.name=name\n",
        "    self.designation=designation\n",
        "    self.salary=salary\n",
        "    self.increment=3.0\n",
        "\n",
        "  def increase(self):\n",
        "    self.salary=self.salary*self.increment\n",
        "\n",
        "harry= Employee('harry','project engineer',50000) #create object1\n",
        "rohan= Employee('rohan','project engineer L2',65000) #create object2\n",
        "\n",
        "print(harry.salary)# before the salary increment\n",
        "print(harry.increase())# here the return value is None by default\n",
        "print(harry.salary)# after the salary increment\n"
      ],
      "execution_count": 15,
      "outputs": [
        {
          "output_type": "stream",
          "text": [
            "50000\n",
            "None\n",
            "150000.0\n"
          ],
          "name": "stdout"
        }
      ]
    },
    {
      "cell_type": "markdown",
      "metadata": {
        "id": "dhYTPpd22Amc",
        "colab_type": "text"
      },
      "source": [
        "In the above snippet we added a ```self.increment=3.0``` which is an instance variable so as expected ```increase()``` will use the instance ```increment```variable."
      ]
    },
    {
      "cell_type": "markdown",
      "metadata": {
        "id": "AJYRwKvH4c4x",
        "colab_type": "text"
      },
      "source": [
        "## How to check how many variables are there in the Class or an Instance ?\n",
        "\n",
        "We can use __dict__ attribute. as in the below code"
      ]
    },
    {
      "cell_type": "code",
      "metadata": {
        "id": "r5NcpcZN1ujT",
        "colab_type": "code",
        "colab": {
          "base_uri": "https://localhost:8080/",
          "height": 84
        },
        "outputId": "e941aeeb-deba-463f-e1cb-3291e79e2c8b"
      },
      "source": [
        "harry.__dict__"
      ],
      "execution_count": 16,
      "outputs": [
        {
          "output_type": "execute_result",
          "data": {
            "text/plain": [
              "{'designation': 'project engineer',\n",
              " 'increment': 3.0,\n",
              " 'name': 'harry',\n",
              " 'salary': 150000.0}"
            ]
          },
          "metadata": {
            "tags": []
          },
          "execution_count": 16
        }
      ]
    },
    {
      "cell_type": "code",
      "metadata": {
        "id": "50Niw3JEDc0F",
        "colab_type": "code",
        "colab": {
          "base_uri": "https://localhost:8080/",
          "height": 134
        },
        "outputId": "a5bad0f5-e745-420a-ea60-7c8173d24205"
      },
      "source": [
        "Employee.__dict__"
      ],
      "execution_count": 17,
      "outputs": [
        {
          "output_type": "execute_result",
          "data": {
            "text/plain": [
              "mappingproxy({'__dict__': <attribute '__dict__' of 'Employee' objects>,\n",
              "              '__doc__': None,\n",
              "              '__init__': <function __main__.Employee.__init__>,\n",
              "              '__module__': '__main__',\n",
              "              '__weakref__': <attribute '__weakref__' of 'Employee' objects>,\n",
              "              'increase': <function __main__.Employee.increase>,\n",
              "              'increment': 1.5})"
            ]
          },
          "metadata": {
            "tags": []
          },
          "execution_count": 17
        }
      ]
    },
    {
      "cell_type": "markdown",
      "metadata": {
        "id": "ruySMlIXE7EQ",
        "colab_type": "text"
      },
      "source": [
        "## How to update class variable from instance ?"
      ]
    },
    {
      "cell_type": "code",
      "metadata": {
        "id": "iO3kdRqZDfnj",
        "colab_type": "code",
        "colab": {
          "base_uri": "https://localhost:8080/",
          "height": 101
        },
        "outputId": "7fb5c258-5e0a-40f4-e206-188f9ad1dd06"
      },
      "source": [
        "#Snippet-4\n",
        "class Employee:\n",
        "\n",
        "  increment=1.5 #class variable\n",
        "  no_of_employees=0\n",
        "  def __init__(self,name,designation,salary):   #instance intialization\n",
        "    self.name=name\n",
        "    self.designation=designation\n",
        "    self.salary=salary\n",
        "    self.increment=3.0\n",
        "    Employee.no_of_employees+=1 #increment1\n",
        "\n",
        "  def increase(self):\n",
        "    self.salary=self.salary*self.increment\n",
        "\n",
        "print(\"no of employees before 2 instances creation: \",Employee.no_of_employees)\n",
        "harry= Employee('harry','project engineer',50000) #create object1\n",
        "rohan= Employee('rohan','project engineer L2',65000) #create object2\n",
        "\n",
        "print(harry.salary)# before the salary increment\n",
        "print(harry.increase())# here the return value is None by default\n",
        "print(harry.salary)# after the salary increment\n",
        "\n",
        "print(\"no of employees after 2 instances creation: \",Employee.no_of_employees) #2 since 2 instances are created\n"
      ],
      "execution_count": 21,
      "outputs": [
        {
          "output_type": "stream",
          "text": [
            "no of employees before 2 instances creation:  0\n",
            "50000\n",
            "None\n",
            "150000.0\n",
            "no of employees after 2 instances creation:  2\n"
          ],
          "name": "stdout"
        }
      ]
    },
    {
      "cell_type": "code",
      "metadata": {
        "id": "rBPnjVAVFR7d",
        "colab_type": "code",
        "colab": {}
      },
      "source": [
        ""
      ],
      "execution_count": null,
      "outputs": []
    }
  ]
}