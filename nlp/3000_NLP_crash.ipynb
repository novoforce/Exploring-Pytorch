{
  "nbformat": 4,
  "nbformat_minor": 0,
  "metadata": {
    "colab": {
      "name": "NLP_crash.ipynb",
      "private_outputs": true,
      "provenance": [],
      "authorship_tag": "ABX9TyPk/Cv/bpzX3Pq2jOGqgHdw",
      "include_colab_link": true
    },
    "kernelspec": {
      "name": "python3",
      "display_name": "Python 3"
    }
  },
  "cells": [
    {
      "cell_type": "markdown",
      "metadata": {
        "id": "view-in-github",
        "colab_type": "text"
      },
      "source": [
        "<a href=\"https://colab.research.google.com/github/novoforce/Exploring-Pytorch/blob/master/nlp/3000_NLP_crash.ipynb\" target=\"_parent\"><img src=\"https://colab.research.google.com/assets/colab-badge.svg\" alt=\"Open In Colab\"/></a>"
      ]
    },
    {
      "cell_type": "code",
      "metadata": {
        "id": "WAMy2gnGPiyv"
      },
      "source": [
        "import nltk\r\n",
        "nltk.download()"
      ],
      "execution_count": null,
      "outputs": []
    },
    {
      "cell_type": "code",
      "metadata": {
        "id": "nz_53ppjP9U-"
      },
      "source": [
        "paragraph = \"\"\"I have three visions for India. In 3000 years of our history, people from all over \r\n",
        "               the world have come and invaded us, captured our lands, conquered our minds. \r\n",
        "               From Alexander onwards, the Greeks, the Turks, the Moguls, the Portuguese, the British,\r\n",
        "               the French, the Dutch, all of them came and looted us, took over what was ours. \r\n",
        "               Yet we have not done this to any other nation. We have not conquered anyone. \r\n",
        "               We have not grabbed their land, their culture, \r\n",
        "               their history and tried to enforce our way of life on them. \r\n",
        "               Why? Because we respect the freedom of others.That is why my \r\n",
        "               first vision is that of freedom. I believe that India got its first vision of \r\n",
        "               this in 1857, when we started the War of Independence. It is this freedom that\r\n",
        "               we must protect and nurture and build on. If we are not free, no one will respect us.\r\n",
        "               My second vision for India’s development. For fifty years we have been a developing nation.\r\n",
        "               It is time we see ourselves as a developed nation. We are among the top 5 nations of the world\r\n",
        "               in terms of GDP. We have a 10 percent growth rate in most areas. Our poverty levels are falling.\r\n",
        "               Our achievements are being globally recognised today. Yet we lack the self-confidence to\r\n",
        "               see ourselves as a developed nation, self-reliant and self-assured. Isn’t this incorrect?\r\n",
        "               I have a third vision. India must stand up to the world. Because I believe that unless India \r\n",
        "               stands up to the world, no one will respect us. Only strength respects strength. We must be \r\n",
        "               strong not only as a military power but also as an economic power. Both must go hand-in-hand. \r\n",
        "               My good fortune was to have worked with three great minds. Dr. Vikram Sarabhai of the Dept. of \r\n",
        "               space, Professor Satish Dhawan, who succeeded him and Dr. Brahm Prakash, father of nuclear material.\r\n",
        "               I was lucky to have worked with all three of them closely and consider this the great opportunity of my life. \r\n",
        "               I see four milestones in my career\"\"\""
      ],
      "execution_count": null,
      "outputs": []
    },
    {
      "cell_type": "markdown",
      "metadata": {
        "id": "ZH-21ejRQnyD"
      },
      "source": [
        "# Tokenization"
      ]
    },
    {
      "cell_type": "code",
      "metadata": {
        "id": "Pug8cI0lQBZV"
      },
      "source": [
        "#sentence tokenization\r\n",
        "sentences = nltk.sent_tokenize(paragraph)\r\n",
        "print('Tokenized sentences:> ',sentences)"
      ],
      "execution_count": null,
      "outputs": []
    },
    {
      "cell_type": "code",
      "metadata": {
        "id": "K08ZYbV-QGaz"
      },
      "source": [
        "#word tokenization\r\n",
        "words = nltk.word_tokenize(paragraph)\r\n",
        "print('Tokenizaed words:> ',words)"
      ],
      "execution_count": null,
      "outputs": []
    },
    {
      "cell_type": "markdown",
      "metadata": {
        "id": "xWuDcGrZQqD8"
      },
      "source": [
        "# Stemming"
      ]
    },
    {
      "cell_type": "code",
      "metadata": {
        "id": "YejdeBcrQXrl"
      },
      "source": [
        "from nltk.stem import PorterStemmer\r\n",
        "from nltk.corpus import stopwords"
      ],
      "execution_count": null,
      "outputs": []
    },
    {
      "cell_type": "code",
      "metadata": {
        "id": "b4tbFUfaRv8m"
      },
      "source": [
        "sentences = nltk.sent_tokenize(paragraph)\r\n",
        "stemmer = PorterStemmer()"
      ],
      "execution_count": null,
      "outputs": []
    },
    {
      "cell_type": "code",
      "metadata": {
        "id": "ijXRPMDpRzml"
      },
      "source": [
        "for i in range(len(sentences)):\r\n",
        "    words = nltk.word_tokenize(sentences[i])\r\n",
        "    words = [stemmer.stem(word) for word in words if word not in set(stopwords.words('english'))]\r\n",
        "    sentences[i] = ' '.join(words)   "
      ],
      "execution_count": null,
      "outputs": []
    },
    {
      "cell_type": "code",
      "metadata": {
        "id": "jRCmRPL8R25D"
      },
      "source": [
        "print('Stemmed sentences:> ',sentences)"
      ],
      "execution_count": null,
      "outputs": []
    },
    {
      "cell_type": "markdown",
      "metadata": {
        "id": "x50ojZgUfC9r"
      },
      "source": [
        "# Lemmentization"
      ]
    },
    {
      "cell_type": "code",
      "metadata": {
        "id": "Vl7HYw3Oc18w"
      },
      "source": [
        "from nltk.stem import WordNetLemmatizer\r\n",
        "sentences = nltk.sent_tokenize(paragraph)\r\n",
        "lemmatizer = WordNetLemmatizer()\r\n",
        "\r\n",
        "# Lemmatization\r\n",
        "for i in range(len(sentences)):\r\n",
        "    words = nltk.word_tokenize(sentences[i])\r\n",
        "    words = [lemmatizer.lemmatize(word) for word in words if word not in set(stopwords.words('english'))]\r\n",
        "    sentences[i] = ' '.join(words)   "
      ],
      "execution_count": null,
      "outputs": []
    },
    {
      "cell_type": "code",
      "metadata": {
        "id": "yV1XvYvefNYz"
      },
      "source": [
        "print('Lemmentizaed sentences:> ',sentences)"
      ],
      "execution_count": null,
      "outputs": []
    },
    {
      "cell_type": "markdown",
      "metadata": {
        "id": "4XrOINnmfZsa"
      },
      "source": [
        "# Bag of words"
      ]
    },
    {
      "cell_type": "code",
      "metadata": {
        "id": "DucsEmLVfVYy"
      },
      "source": [
        "import re\r\n",
        "from nltk.corpus import stopwords\r\n",
        "from nltk.stem.porter import PorterStemmer\r\n",
        "from nltk.stem import WordNetLemmatizer\r\n",
        "\r\n",
        "ps = PorterStemmer()\r\n",
        "wordnet=WordNetLemmatizer()\r\n",
        "sentences = nltk.sent_tokenize(paragraph)\r\n",
        "corpus = []\r\n",
        "for i in range(len(sentences)):\r\n",
        "    review = re.sub('[^a-zA-Z]', ' ', sentences[i])\r\n",
        "    review = review.lower()\r\n",
        "    review = review.split()\r\n",
        "    review = [ps.stem(word) for word in review if not word in set(stopwords.words('english'))]\r\n",
        "    review = ' '.join(review)\r\n",
        "    corpus.append(review)\r\n",
        "    \r\n",
        "# Creating the Bag of Words model\r\n",
        "from sklearn.feature_extraction.text import CountVectorizer\r\n",
        "cv = CountVectorizer(max_features = 1500)\r\n",
        "X = cv.fit_transform(corpus).toarray()"
      ],
      "execution_count": null,
      "outputs": []
    },
    {
      "cell_type": "code",
      "metadata": {
        "id": "tEi06opngWhP"
      },
      "source": [
        "X"
      ],
      "execution_count": null,
      "outputs": []
    },
    {
      "cell_type": "markdown",
      "metadata": {
        "id": "gKi4kAU6gihz"
      },
      "source": [
        "# TF/IDF"
      ]
    },
    {
      "cell_type": "code",
      "metadata": {
        "id": "svOcRyK6gXuq"
      },
      "source": [
        "import re\r\n",
        "from nltk.corpus import stopwords\r\n",
        "from nltk.stem.porter import PorterStemmer\r\n",
        "from nltk.stem import WordNetLemmatizer\r\n",
        "\r\n",
        "ps = PorterStemmer()\r\n",
        "wordnet=WordNetLemmatizer()\r\n",
        "sentences = nltk.sent_tokenize(paragraph)\r\n",
        "corpus = []\r\n",
        "for i in range(len(sentences)):\r\n",
        "    review = re.sub('[^a-zA-Z]', ' ', sentences[i])\r\n",
        "    review = review.lower()\r\n",
        "    review = review.split()\r\n",
        "    review = [wordnet.lemmatize(word) for word in review if not word in set(stopwords.words('english'))]\r\n",
        "    review = ' '.join(review)\r\n",
        "    corpus.append(review)\r\n",
        "    \r\n",
        "# Creating the TF-IDF model\r\n",
        "from sklearn.feature_extraction.text import TfidfVectorizer\r\n",
        "cv = TfidfVectorizer()\r\n",
        "X = cv.fit_transform(corpus).toarray()"
      ],
      "execution_count": null,
      "outputs": []
    },
    {
      "cell_type": "code",
      "metadata": {
        "id": "R23SJCWrguHK"
      },
      "source": [
        ""
      ],
      "execution_count": null,
      "outputs": []
    }
  ]
}