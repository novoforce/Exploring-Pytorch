{
  "nbformat": 4,
  "nbformat_minor": 0,
  "metadata": {
    "colab": {
      "name": "2_image_data_modelling_cifar_dataset.ipynb",
      "provenance": [],
      "toc_visible": true,
      "authorship_tag": "ABX9TyNxSfkgojAx+zk8ODooALyr",
      "include_colab_link": true
    },
    "kernelspec": {
      "name": "python3",
      "display_name": "Python 3"
    }
  },
  "cells": [
    {
      "cell_type": "markdown",
      "metadata": {
        "id": "view-in-github",
        "colab_type": "text"
      },
      "source": [
        "<a href=\"https://colab.research.google.com/github/novoforce/Exploring-Pytorch/blob/master/2_image_data_modelling_cifar_dataset.ipynb\" target=\"_parent\"><img src=\"https://colab.research.google.com/assets/colab-badge.svg\" alt=\"Open In Colab\"/></a>"
      ]
    },
    {
      "cell_type": "code",
      "metadata": {
        "id": "KOjIt9KsPbC2",
        "outputId": "33a0c803-550c-45c0-a248-b87c3722a77e",
        "colab": {
          "base_uri": "https://localhost:8080/",
          "height": 50
        }
      },
      "source": [
        "#This cell is a helper function for printing out the logs of the training\n",
        "import os\n",
        "import datetime\n",
        "\n",
        "def printbar():\n",
        "    nowtime = datetime.datetime.now().strftime('%Y-%m-%d %H:%M:%S')\n",
        "    print(\"\\n\"+\"==========\"*8 + \"%s\"%nowtime)\n",
        "#The environment variable os needs to be changed when pytorch and matplotlib run in jupyter on the mac system\n",
        "os.environ[\"KMP_DUPLICATE_LIB_OK\"]=\"TRUE\" \n",
        "printbar()"
      ],
      "execution_count": 1,
      "outputs": [
        {
          "output_type": "stream",
          "text": [
            "\n",
            "================================================================================2020-09-26 11:49:00\n"
          ],
          "name": "stdout"
        }
      ]
    },
    {
      "cell_type": "code",
      "metadata": {
        "id": "KAbs_QJtPpe-",
        "outputId": "d0ed04dc-ea6f-4645-a6fd-f83c5cb9042d",
        "colab": {
          "base_uri": "https://localhost:8080/",
          "height": 34
        }
      },
      "source": [
        "cd .."
      ],
      "execution_count": 2,
      "outputs": [
        {
          "output_type": "stream",
          "text": [
            "/\n"
          ],
          "name": "stdout"
        }
      ]
    },
    {
      "cell_type": "code",
      "metadata": {
        "id": "9tYfcTDNPscj",
        "outputId": "f8b5c349-c554-4af6-e4f6-00350dd5edc2",
        "colab": {
          "base_uri": "https://localhost:8080/",
          "height": 118
        }
      },
      "source": [
        "#so basically I'm cloning this awesome repo which contains the dataset \n",
        "!git clone https://github.com/lyhue1991/eat_pytorch_in_20_days.git\n",
        "cd eat_pytorch_in_20_days"
      ],
      "execution_count": 3,
      "outputs": [
        {
          "output_type": "stream",
          "text": [
            "Cloning into 'eat_pytorch_in_20_days'...\n",
            "remote: Enumerating objects: 37226, done.\u001b[K\n",
            "remote: Total 37226 (delta 0), reused 0 (delta 0), pack-reused 37226\u001b[K\n",
            "Receiving objects: 100% (37226/37226), 39.05 MiB | 21.85 MiB/s, done.\n",
            "Resolving deltas: 100% (13299/13299), done.\n",
            "Checking out files: 100% (37157/37157), done.\n"
          ],
          "name": "stdout"
        }
      ]
    },
    {
      "cell_type": "code",
      "metadata": {
        "id": "-7iPBHiCPumM",
        "outputId": "a2cf557e-4ef1-4870-bbd7-ebb096ec79e5",
        "colab": {
          "base_uri": "https://localhost:8080/",
          "height": 104
        }
      },
      "source": [
        "!pip install torchkeras"
      ],
      "execution_count": 4,
      "outputs": [
        {
          "output_type": "stream",
          "text": [
            "Collecting torchkeras\n",
            "  Downloading https://files.pythonhosted.org/packages/1f/b1/ab208d2aa307a0a0fe947c3df5ebd6633b10c8559cc9908791f30ad23f26/torchkeras-1.5.3-py3-none-any.whl\n",
            "Installing collected packages: torchkeras\n",
            "Successfully installed torchkeras-1.5.3\n"
          ],
          "name": "stdout"
        }
      ]
    },
    {
      "cell_type": "markdown",
      "metadata": {
        "id": "9VNnUxCcP0wQ"
      },
      "source": [
        "## One, prepare the data\n",
        "The cifar2 data set is a subset of the cifar10 data set, which only includes the first two categories airplane and automobile.\n",
        "\n",
        "The training set has 5000 airplane and automobile pictures each, and the test set has 1000 airplane and automobile pictures each.\n",
        "\n",
        "The goal of the cifar2 mission is to train a model to classify images of airplanes and automobiles.\n",
        "\n",
        "The folder structure of the CIFAR-2 data set we prepared is shown below.\n",
        "\n",
        "**`CIFAR-2`**\n",
        "\n",
        "|\n",
        "\n",
        "*   ---------->`TRAIN`\n",
        "  *   ---------->`0_AIRPLANE`\n",
        "       *   ---------->`img-0,img-1,img-2...`\n",
        "  *   ---------->`1_AUTOMOBILE`\n",
        "       *   ---------->`img-0,img-1,img-2...`\n",
        "   \n",
        "\n",
        "*   ---------->`TEST`\n",
        "  *   ---------->`0_AIRPLANE`\n",
        "       *   ---------->`img-0,img-1,img-2...`\n",
        "  *   ---------->`1_AUTOMOBILE`\n",
        "       *   ---------->`img-0,img-1,img-2...`\n",
        "\n",
        "\n"
      ]
    },
    {
      "cell_type": "markdown",
      "metadata": {
        "id": "5VOwK08ZSbPQ"
      },
      "source": [
        "There are usually three ways to build a picture data pipeline in Pytorch.\n",
        "\n",
        "The first is to use datasets.ImageFolder in torchvision to read images and then use DataLoader to load them in parallel.\n",
        "\n",
        "The second is to implement user-defined reading logic by inheriting torch.utils.data.Dataset and then use DataLoader to load in parallel.\n",
        "\n",
        "The third method is a general method for reading user-defined data sets, which can read image data sets or text data sets.\n",
        "\n",
        "In this article, we introduce the first method."
      ]
    },
    {
      "cell_type": "code",
      "metadata": {
        "id": "YOxyV9G_Pwtb"
      },
      "source": [
        "import torch \n",
        "from torch import nn\n",
        "from torch.utils.data import Dataset,DataLoader\n",
        "from torchvision import transforms,datasets "
      ],
      "execution_count": 5,
      "outputs": []
    },
    {
      "cell_type": "code",
      "metadata": {
        "id": "QleKEsg6Sk9W"
      },
      "source": [
        "transform_train = transforms.Compose([transforms.ToTensor()])\n",
        "transform_valid = transforms.Compose([transforms.ToTensor()])"
      ],
      "execution_count": 6,
      "outputs": []
    },
    {
      "cell_type": "code",
      "metadata": {
        "id": "xCz0HJXuSorV",
        "outputId": "b4847a1a-65e9-4404-c65a-4e381d75a78a",
        "colab": {
          "base_uri": "https://localhost:8080/",
          "height": 34
        }
      },
      "source": [
        "ds_train = datasets.ImageFolder(\"./data/cifar2/train/\",transform = transform_train,target_transform= lambda t:torch.tensor([t]).float())\n",
        "ds_valid = datasets.ImageFolder(\"./data/cifar2/train/\",transform = transform_valid,target_transform= lambda t:torch.tensor([t]).float())\n",
        "print(ds_train.class_to_idx)"
      ],
      "execution_count": 13,
      "outputs": [
        {
          "output_type": "stream",
          "text": [
            "{'0_airplane': 0, '1_automobile': 1}\n"
          ],
          "name": "stdout"
        }
      ]
    },
    {
      "cell_type": "code",
      "metadata": {
        "id": "cBc6Q2qFSucg"
      },
      "source": [
        "dl_train = DataLoader(ds_train,batch_size = 50,shuffle = True,num_workers=3)\n",
        "dl_valid = DataLoader(ds_valid,batch_size = 50,shuffle = True,num_workers=3)"
      ],
      "execution_count": 14,
      "outputs": []
    },
    {
      "cell_type": "code",
      "metadata": {
        "id": "Vs_DiS9xTUl3",
        "outputId": "dcab0b48-8c42-4179-984d-704755799b25",
        "colab": {
          "base_uri": "https://localhost:8080/",
          "height": 645
        }
      },
      "source": [
        "%matplotlib inline\n",
        "%config InlineBackend.figure_format = 'svg'\n",
        "\n",
        "from matplotlib import pyplot as plt \n",
        "\n",
        "plt.figure(figsize=(8,8)) \n",
        "for i in range(9):\n",
        "    img,label = ds_train[i]\n",
        "    img = img.permute(1,2,0)\n",
        "    ax=plt.subplot(3,3,i+1)\n",
        "    ax.imshow(img.numpy())\n",
        "    ax.set_title(\"label = %d\"%label.item())\n",
        "    ax.set_xticks([])\n",
        "    ax.set_yticks([]) \n",
        "plt.show()"
      ],
      "execution_count": 15,
      "outputs": [
        {
          "output_type": "display_data",
          "data": {
            "text/plain": [
              "<Figure size 576x576 with 9 Axes>"
            ],
            "image/svg+xml": "<?xml version=\"1.0\" encoding=\"utf-8\" standalone=\"no\"?>\n<!DOCTYPE svg PUBLIC \"-//W3C//DTD SVG 1.1//EN\"\n  \"http://www.w3.org/Graphics/SVG/1.1/DTD/svg11.dtd\">\n<!-- Created with matplotlib (https://matplotlib.org/) -->\n<svg height=\"467.898125pt\" version=\"1.1\" viewBox=\"0 0 460.911765 467.898125\" width=\"460.911765pt\" xmlns=\"http://www.w3.org/2000/svg\" xmlns:xlink=\"http://www.w3.org/1999/xlink\">\n <defs>\n  <style type=\"text/css\">\n*{stroke-linecap:butt;stroke-linejoin:round;}\n  </style>\n </defs>\n <g id=\"figure_1\">\n  <g id=\"patch_1\">\n   <path d=\"M 0 467.898125 \nL 460.911765 467.898125 \nL 460.911765 0 \nL 0 0 \nz\n\" style=\"fill:none;\"/>\n  </g>\n  <g id=\"axes_1\">\n   <g id=\"patch_2\">\n    <path d=\"M 10.7 150.224007 \nL 138.605882 150.224007 \nL 138.605882 22.318125 \nL 10.7 22.318125 \nz\n\" style=\"fill:#ffffff;\"/>\n   </g>\n   <g clip-path=\"url(#pd774bc5bff)\">\n    <image height=\"128\" id=\"image7c93936436\" transform=\"scale(1 -1)translate(0 -128)\" width=\"128\" x=\"10.7\" xlink:href=\"data:image/png;base64,\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\" y=\"-22.224007\"/>\n   </g>\n   <g id=\"matplotlib.axis_1\"/>\n   <g id=\"matplotlib.axis_2\"/>\n   <g id=\"patch_3\">\n    <path d=\"M 10.7 150.224007 \nL 10.7 22.318125 \n\" style=\"fill:none;stroke:#000000;stroke-linecap:square;stroke-linejoin:miter;stroke-width:0.8;\"/>\n   </g>\n   <g id=\"patch_4\">\n    <path d=\"M 138.605882 150.224007 \nL 138.605882 22.318125 \n\" style=\"fill:none;stroke:#000000;stroke-linecap:square;stroke-linejoin:miter;stroke-width:0.8;\"/>\n   </g>\n   <g id=\"patch_5\">\n    <path d=\"M 10.7 150.224007 \nL 138.605882 150.224007 \n\" style=\"fill:none;stroke:#000000;stroke-linecap:square;stroke-linejoin:miter;stroke-width:0.8;\"/>\n   </g>\n   <g id=\"patch_6\">\n    <path d=\"M 10.7 22.318125 \nL 138.605882 22.318125 \n\" style=\"fill:none;stroke:#000000;stroke-linecap:square;stroke-linejoin:miter;stroke-width:0.8;\"/>\n   </g>\n   <g id=\"text_1\">\n    <!-- label = 0 -->\n    <defs>\n     <path d=\"M 9.421875 75.984375 \nL 18.40625 75.984375 \nL 18.40625 0 \nL 9.421875 0 \nz\n\" id=\"DejaVuSans-108\"/>\n     <path d=\"M 34.28125 27.484375 \nQ 23.390625 27.484375 19.1875 25 \nQ 14.984375 22.515625 14.984375 16.5 \nQ 14.984375 11.71875 18.140625 8.90625 \nQ 21.296875 6.109375 26.703125 6.109375 \nQ 34.1875 6.109375 38.703125 11.40625 \nQ 43.21875 16.703125 43.21875 25.484375 \nL 43.21875 27.484375 \nz\nM 52.203125 31.203125 \nL 52.203125 0 \nL 43.21875 0 \nL 43.21875 8.296875 \nQ 40.140625 3.328125 35.546875 0.953125 \nQ 30.953125 -1.421875 24.3125 -1.421875 \nQ 15.921875 -1.421875 10.953125 3.296875 \nQ 6 8.015625 6 15.921875 \nQ 6 25.140625 12.171875 29.828125 \nQ 18.359375 34.515625 30.609375 34.515625 \nL 43.21875 34.515625 \nL 43.21875 35.40625 \nQ 43.21875 41.609375 39.140625 45 \nQ 35.0625 48.390625 27.6875 48.390625 \nQ 23 48.390625 18.546875 47.265625 \nQ 14.109375 46.140625 10.015625 43.890625 \nL 10.015625 52.203125 \nQ 14.9375 54.109375 19.578125 55.046875 \nQ 24.21875 56 28.609375 56 \nQ 40.484375 56 46.34375 49.84375 \nQ 52.203125 43.703125 52.203125 31.203125 \nz\n\" id=\"DejaVuSans-97\"/>\n     <path d=\"M 48.6875 27.296875 \nQ 48.6875 37.203125 44.609375 42.84375 \nQ 40.53125 48.484375 33.40625 48.484375 \nQ 26.265625 48.484375 22.1875 42.84375 \nQ 18.109375 37.203125 18.109375 27.296875 \nQ 18.109375 17.390625 22.1875 11.75 \nQ 26.265625 6.109375 33.40625 6.109375 \nQ 40.53125 6.109375 44.609375 11.75 \nQ 48.6875 17.390625 48.6875 27.296875 \nz\nM 18.109375 46.390625 \nQ 20.953125 51.265625 25.265625 53.625 \nQ 29.59375 56 35.59375 56 \nQ 45.5625 56 51.78125 48.09375 \nQ 58.015625 40.1875 58.015625 27.296875 \nQ 58.015625 14.40625 51.78125 6.484375 \nQ 45.5625 -1.421875 35.59375 -1.421875 \nQ 29.59375 -1.421875 25.265625 0.953125 \nQ 20.953125 3.328125 18.109375 8.203125 \nL 18.109375 0 \nL 9.078125 0 \nL 9.078125 75.984375 \nL 18.109375 75.984375 \nz\n\" id=\"DejaVuSans-98\"/>\n     <path d=\"M 56.203125 29.59375 \nL 56.203125 25.203125 \nL 14.890625 25.203125 \nQ 15.484375 15.921875 20.484375 11.0625 \nQ 25.484375 6.203125 34.421875 6.203125 \nQ 39.59375 6.203125 44.453125 7.46875 \nQ 49.3125 8.734375 54.109375 11.28125 \nL 54.109375 2.78125 \nQ 49.265625 0.734375 44.1875 -0.34375 \nQ 39.109375 -1.421875 33.890625 -1.421875 \nQ 20.796875 -1.421875 13.15625 6.1875 \nQ 5.515625 13.8125 5.515625 26.8125 \nQ 5.515625 40.234375 12.765625 48.109375 \nQ 20.015625 56 32.328125 56 \nQ 43.359375 56 49.78125 48.890625 \nQ 56.203125 41.796875 56.203125 29.59375 \nz\nM 47.21875 32.234375 \nQ 47.125 39.59375 43.09375 43.984375 \nQ 39.0625 48.390625 32.421875 48.390625 \nQ 24.90625 48.390625 20.390625 44.140625 \nQ 15.875 39.890625 15.1875 32.171875 \nz\n\" id=\"DejaVuSans-101\"/>\n     <path id=\"DejaVuSans-32\"/>\n     <path d=\"M 10.59375 45.40625 \nL 73.1875 45.40625 \nL 73.1875 37.203125 \nL 10.59375 37.203125 \nz\nM 10.59375 25.484375 \nL 73.1875 25.484375 \nL 73.1875 17.1875 \nL 10.59375 17.1875 \nz\n\" id=\"DejaVuSans-61\"/>\n     <path d=\"M 31.78125 66.40625 \nQ 24.171875 66.40625 20.328125 58.90625 \nQ 16.5 51.421875 16.5 36.375 \nQ 16.5 21.390625 20.328125 13.890625 \nQ 24.171875 6.390625 31.78125 6.390625 \nQ 39.453125 6.390625 43.28125 13.890625 \nQ 47.125 21.390625 47.125 36.375 \nQ 47.125 51.421875 43.28125 58.90625 \nQ 39.453125 66.40625 31.78125 66.40625 \nz\nM 31.78125 74.21875 \nQ 44.046875 74.21875 50.515625 64.515625 \nQ 56.984375 54.828125 56.984375 36.375 \nQ 56.984375 17.96875 50.515625 8.265625 \nQ 44.046875 -1.421875 31.78125 -1.421875 \nQ 19.53125 -1.421875 13.0625 8.265625 \nQ 6.59375 17.96875 6.59375 36.375 \nQ 6.59375 54.828125 13.0625 64.515625 \nQ 19.53125 74.21875 31.78125 74.21875 \nz\n\" id=\"DejaVuSans-48\"/>\n    </defs>\n    <g transform=\"translate(47.482316 16.318125)scale(0.12 -0.12)\">\n     <use xlink:href=\"#DejaVuSans-108\"/>\n     <use x=\"27.783203\" xlink:href=\"#DejaVuSans-97\"/>\n     <use x=\"89.0625\" xlink:href=\"#DejaVuSans-98\"/>\n     <use x=\"152.539062\" xlink:href=\"#DejaVuSans-101\"/>\n     <use x=\"214.0625\" xlink:href=\"#DejaVuSans-108\"/>\n     <use x=\"241.845703\" xlink:href=\"#DejaVuSans-32\"/>\n     <use x=\"273.632812\" xlink:href=\"#DejaVuSans-61\"/>\n     <use x=\"357.421875\" xlink:href=\"#DejaVuSans-32\"/>\n     <use x=\"389.208984\" xlink:href=\"#DejaVuSans-48\"/>\n    </g>\n   </g>\n  </g>\n  <g id=\"axes_2\">\n   <g id=\"patch_7\">\n    <path d=\"M 168.252941 150.224007 \nL 296.158824 150.224007 \nL 296.158824 22.318125 \nL 168.252941 22.318125 \nz\n\" style=\"fill:#ffffff;\"/>\n   </g>\n   <g clip-path=\"url(#pc9a80a8fa6)\">\n    <image height=\"128\" id=\"image471f5afbe2\" transform=\"scale(1 -1)translate(0 -128)\" width=\"128\" x=\"168.252941\" xlink:href=\"data:image/png;base64,\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\" y=\"-22.224007\"/>\n   </g>\n   <g id=\"matplotlib.axis_3\"/>\n   <g id=\"matplotlib.axis_4\"/>\n   <g id=\"patch_8\">\n    <path d=\"M 168.252941 150.224007 \nL 168.252941 22.318125 \n\" style=\"fill:none;stroke:#000000;stroke-linecap:square;stroke-linejoin:miter;stroke-width:0.8;\"/>\n   </g>\n   <g id=\"patch_9\">\n    <path d=\"M 296.158824 150.224007 \nL 296.158824 22.318125 \n\" style=\"fill:none;stroke:#000000;stroke-linecap:square;stroke-linejoin:miter;stroke-width:0.8;\"/>\n   </g>\n   <g id=\"patch_10\">\n    <path d=\"M 168.252941 150.224007 \nL 296.158824 150.224007 \n\" style=\"fill:none;stroke:#000000;stroke-linecap:square;stroke-linejoin:miter;stroke-width:0.8;\"/>\n   </g>\n   <g id=\"patch_11\">\n    <path d=\"M 168.252941 22.318125 \nL 296.158824 22.318125 \n\" style=\"fill:none;stroke:#000000;stroke-linecap:square;stroke-linejoin:miter;stroke-width:0.8;\"/>\n   </g>\n   <g id=\"text_2\">\n    <!-- label = 0 -->\n    <g transform=\"translate(205.035257 16.318125)scale(0.12 -0.12)\">\n     <use xlink:href=\"#DejaVuSans-108\"/>\n     <use x=\"27.783203\" xlink:href=\"#DejaVuSans-97\"/>\n     <use x=\"89.0625\" xlink:href=\"#DejaVuSans-98\"/>\n     <use x=\"152.539062\" xlink:href=\"#DejaVuSans-101\"/>\n     <use x=\"214.0625\" xlink:href=\"#DejaVuSans-108\"/>\n     <use x=\"241.845703\" xlink:href=\"#DejaVuSans-32\"/>\n     <use x=\"273.632812\" xlink:href=\"#DejaVuSans-61\"/>\n     <use x=\"357.421875\" xlink:href=\"#DejaVuSans-32\"/>\n     <use x=\"389.208984\" xlink:href=\"#DejaVuSans-48\"/>\n    </g>\n   </g>\n  </g>\n  <g id=\"axes_3\">\n   <g id=\"patch_12\">\n    <path d=\"M 325.805882 150.224007 \nL 453.711765 150.224007 \nL 453.711765 22.318125 \nL 325.805882 22.318125 \nz\n\" style=\"fill:#ffffff;\"/>\n   </g>\n   <g clip-path=\"url(#p337d86bfbf)\">\n    <image height=\"128\" id=\"imagec315f9cf2e\" transform=\"scale(1 -1)translate(0 -128)\" width=\"128\" x=\"325.805882\" xlink:href=\"data:image/png;base64,\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\" y=\"-22.224007\"/>\n   </g>\n   <g id=\"matplotlib.axis_5\"/>\n   <g id=\"matplotlib.axis_6\"/>\n   <g id=\"patch_13\">\n    <path d=\"M 325.805882 150.224007 \nL 325.805882 22.318125 \n\" style=\"fill:none;stroke:#000000;stroke-linecap:square;stroke-linejoin:miter;stroke-width:0.8;\"/>\n   </g>\n   <g id=\"patch_14\">\n    <path d=\"M 453.711765 150.224007 \nL 453.711765 22.318125 \n\" style=\"fill:none;stroke:#000000;stroke-linecap:square;stroke-linejoin:miter;stroke-width:0.8;\"/>\n   </g>\n   <g id=\"patch_15\">\n    <path d=\"M 325.805882 150.224007 \nL 453.711765 150.224007 \n\" style=\"fill:none;stroke:#000000;stroke-linecap:square;stroke-linejoin:miter;stroke-width:0.8;\"/>\n   </g>\n   <g id=\"patch_16\">\n    <path d=\"M 325.805882 22.318125 \nL 453.711765 22.318125 \n\" style=\"fill:none;stroke:#000000;stroke-linecap:square;stroke-linejoin:miter;stroke-width:0.8;\"/>\n   </g>\n   <g id=\"text_3\">\n    <!-- label = 0 -->\n    <g transform=\"translate(362.588199 16.318125)scale(0.12 -0.12)\">\n     <use xlink:href=\"#DejaVuSans-108\"/>\n     <use x=\"27.783203\" xlink:href=\"#DejaVuSans-97\"/>\n     <use x=\"89.0625\" xlink:href=\"#DejaVuSans-98\"/>\n     <use x=\"152.539062\" xlink:href=\"#DejaVuSans-101\"/>\n     <use x=\"214.0625\" xlink:href=\"#DejaVuSans-108\"/>\n     <use x=\"241.845703\" xlink:href=\"#DejaVuSans-32\"/>\n     <use x=\"273.632812\" xlink:href=\"#DejaVuSans-61\"/>\n     <use x=\"357.421875\" xlink:href=\"#DejaVuSans-32\"/>\n     <use x=\"389.208984\" xlink:href=\"#DejaVuSans-48\"/>\n    </g>\n   </g>\n  </g>\n  <g id=\"axes_4\">\n   <g id=\"patch_17\">\n    <path d=\"M 10.7 303.711066 \nL 138.605882 303.711066 \nL 138.605882 175.805184 \nL 10.7 175.805184 \nz\n\" style=\"fill:#ffffff;\"/>\n   </g>\n   <g clip-path=\"url(#p9aa9e0767e)\">\n    <image height=\"128\" id=\"image3daab7f733\" transform=\"scale(1 -1)translate(0 -128)\" width=\"128\" x=\"10.7\" xlink:href=\"data:image/png;base64,\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\" y=\"-175.711066\"/>\n   </g>\n   <g id=\"matplotlib.axis_7\"/>\n   <g id=\"matplotlib.axis_8\"/>\n   <g id=\"patch_18\">\n    <path d=\"M 10.7 303.711066 \nL 10.7 175.805184 \n\" style=\"fill:none;stroke:#000000;stroke-linecap:square;stroke-linejoin:miter;stroke-width:0.8;\"/>\n   </g>\n   <g id=\"patch_19\">\n    <path d=\"M 138.605882 303.711066 \nL 138.605882 175.805184 \n\" style=\"fill:none;stroke:#000000;stroke-linecap:square;stroke-linejoin:miter;stroke-width:0.8;\"/>\n   </g>\n   <g id=\"patch_20\">\n    <path d=\"M 10.7 303.711066 \nL 138.605882 303.711066 \n\" style=\"fill:none;stroke:#000000;stroke-linecap:square;stroke-linejoin:miter;stroke-width:0.8;\"/>\n   </g>\n   <g id=\"patch_21\">\n    <path d=\"M 10.7 175.805184 \nL 138.605882 175.805184 \n\" style=\"fill:none;stroke:#000000;stroke-linecap:square;stroke-linejoin:miter;stroke-width:0.8;\"/>\n   </g>\n   <g id=\"text_4\">\n    <!-- label = 0 -->\n    <g transform=\"translate(47.482316 169.805184)scale(0.12 -0.12)\">\n     <use xlink:href=\"#DejaVuSans-108\"/>\n     <use x=\"27.783203\" xlink:href=\"#DejaVuSans-97\"/>\n     <use x=\"89.0625\" xlink:href=\"#DejaVuSans-98\"/>\n     <use x=\"152.539062\" xlink:href=\"#DejaVuSans-101\"/>\n     <use x=\"214.0625\" xlink:href=\"#DejaVuSans-108\"/>\n     <use x=\"241.845703\" xlink:href=\"#DejaVuSans-32\"/>\n     <use x=\"273.632812\" xlink:href=\"#DejaVuSans-61\"/>\n     <use x=\"357.421875\" xlink:href=\"#DejaVuSans-32\"/>\n     <use x=\"389.208984\" xlink:href=\"#DejaVuSans-48\"/>\n    </g>\n   </g>\n  </g>\n  <g id=\"axes_5\">\n   <g id=\"patch_22\">\n    <path d=\"M 168.252941 303.711066 \nL 296.158824 303.711066 \nL 296.158824 175.805184 \nL 168.252941 175.805184 \nz\n\" style=\"fill:#ffffff;\"/>\n   </g>\n   <g clip-path=\"url(#p71add7e5c8)\">\n    <image height=\"128\" id=\"imagee5c19402b5\" transform=\"scale(1 -1)translate(0 -128)\" width=\"128\" x=\"168.252941\" xlink:href=\"data:image/png;base64,\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\" y=\"-175.711066\"/>\n   </g>\n   <g id=\"matplotlib.axis_9\"/>\n   <g id=\"matplotlib.axis_10\"/>\n   <g id=\"patch_23\">\n    <path d=\"M 168.252941 303.711066 \nL 168.252941 175.805184 \n\" style=\"fill:none;stroke:#000000;stroke-linecap:square;stroke-linejoin:miter;stroke-width:0.8;\"/>\n   </g>\n   <g id=\"patch_24\">\n    <path d=\"M 296.158824 303.711066 \nL 296.158824 175.805184 \n\" style=\"fill:none;stroke:#000000;stroke-linecap:square;stroke-linejoin:miter;stroke-width:0.8;\"/>\n   </g>\n   <g id=\"patch_25\">\n    <path d=\"M 168.252941 303.711066 \nL 296.158824 303.711066 \n\" style=\"fill:none;stroke:#000000;stroke-linecap:square;stroke-linejoin:miter;stroke-width:0.8;\"/>\n   </g>\n   <g id=\"patch_26\">\n    <path d=\"M 168.252941 175.805184 \nL 296.158824 175.805184 \n\" style=\"fill:none;stroke:#000000;stroke-linecap:square;stroke-linejoin:miter;stroke-width:0.8;\"/>\n   </g>\n   <g id=\"text_5\">\n    <!-- label = 0 -->\n    <g transform=\"translate(205.035257 169.805184)scale(0.12 -0.12)\">\n     <use xlink:href=\"#DejaVuSans-108\"/>\n     <use x=\"27.783203\" xlink:href=\"#DejaVuSans-97\"/>\n     <use x=\"89.0625\" xlink:href=\"#DejaVuSans-98\"/>\n     <use x=\"152.539062\" xlink:href=\"#DejaVuSans-101\"/>\n     <use x=\"214.0625\" xlink:href=\"#DejaVuSans-108\"/>\n     <use x=\"241.845703\" xlink:href=\"#DejaVuSans-32\"/>\n     <use x=\"273.632812\" xlink:href=\"#DejaVuSans-61\"/>\n     <use x=\"357.421875\" xlink:href=\"#DejaVuSans-32\"/>\n     <use x=\"389.208984\" xlink:href=\"#DejaVuSans-48\"/>\n    </g>\n   </g>\n  </g>\n  <g id=\"axes_6\">\n   <g id=\"patch_27\">\n    <path d=\"M 325.805882 303.711066 \nL 453.711765 303.711066 \nL 453.711765 175.805184 \nL 325.805882 175.805184 \nz\n\" style=\"fill:#ffffff;\"/>\n   </g>\n   <g clip-path=\"url(#pa325269fbc)\">\n    <image height=\"128\" id=\"image1161228f8b\" transform=\"scale(1 -1)translate(0 -128)\" width=\"128\" x=\"325.805882\" xlink:href=\"data:image/png;base64,\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\" y=\"-175.711066\"/>\n   </g>\n   <g id=\"matplotlib.axis_11\"/>\n   <g id=\"matplotlib.axis_12\"/>\n   <g id=\"patch_28\">\n    <path d=\"M 325.805882 303.711066 \nL 325.805882 175.805184 \n\" style=\"fill:none;stroke:#000000;stroke-linecap:square;stroke-linejoin:miter;stroke-width:0.8;\"/>\n   </g>\n   <g id=\"patch_29\">\n    <path d=\"M 453.711765 303.711066 \nL 453.711765 175.805184 \n\" style=\"fill:none;stroke:#000000;stroke-linecap:square;stroke-linejoin:miter;stroke-width:0.8;\"/>\n   </g>\n   <g id=\"patch_30\">\n    <path d=\"M 325.805882 303.711066 \nL 453.711765 303.711066 \n\" style=\"fill:none;stroke:#000000;stroke-linecap:square;stroke-linejoin:miter;stroke-width:0.8;\"/>\n   </g>\n   <g id=\"patch_31\">\n    <path d=\"M 325.805882 175.805184 \nL 453.711765 175.805184 \n\" style=\"fill:none;stroke:#000000;stroke-linecap:square;stroke-linejoin:miter;stroke-width:0.8;\"/>\n   </g>\n   <g id=\"text_6\">\n    <!-- label = 0 -->\n    <g transform=\"translate(362.588199 169.805184)scale(0.12 -0.12)\">\n     <use xlink:href=\"#DejaVuSans-108\"/>\n     <use x=\"27.783203\" xlink:href=\"#DejaVuSans-97\"/>\n     <use x=\"89.0625\" xlink:href=\"#DejaVuSans-98\"/>\n     <use x=\"152.539062\" xlink:href=\"#DejaVuSans-101\"/>\n     <use x=\"214.0625\" xlink:href=\"#DejaVuSans-108\"/>\n     <use x=\"241.845703\" xlink:href=\"#DejaVuSans-32\"/>\n     <use x=\"273.632812\" xlink:href=\"#DejaVuSans-61\"/>\n     <use x=\"357.421875\" xlink:href=\"#DejaVuSans-32\"/>\n     <use x=\"389.208984\" xlink:href=\"#DejaVuSans-48\"/>\n    </g>\n   </g>\n  </g>\n  <g id=\"axes_7\">\n   <g id=\"patch_32\">\n    <path d=\"M 10.7 457.198125 \nL 138.605882 457.198125 \nL 138.605882 329.292243 \nL 10.7 329.292243 \nz\n\" style=\"fill:#ffffff;\"/>\n   </g>\n   <g clip-path=\"url(#pe0a901469c)\">\n    <image height=\"128\" id=\"image8ceb5d4bfe\" transform=\"scale(1 -1)translate(0 -128)\" width=\"128\" x=\"10.7\" xlink:href=\"data:image/png;base64,\niVBORw0KGgoAAAANSUhEUgAAAIAAAACACAYAAADDPmHLAAAABHNCSVQICAgIfAhkiAAADpNJREFUeJztnVmPHFcZhms51Xv37Ivt8WRmHI9HiR0byw5xYhKhGPEDWAT/IP8HIf4BEkuEuHdAECUEKRC8kDiYcWKPO5nx7N09vdXGrd+npfY957x373R11anqb+rbv+OfP7eRe8/D9z3lmdA0Aw/0cC/0xiLPU+Hlcln44dG+8IKvJ5yo14R3Wm3hQaa3w+MPDw+F9xNdz9TUlHA/1/NlSSw8CvV5bZx/WfjNGzeEN+pV4XweaTwQHgR6/vpkXXilWhJ+fKz398WXD4Rvbj7U83sOVsMJgOVwAmA5/PW11XzcARlMAtoAOT7Pg7GnGzk+jVWnhmGIz1UnGl9lNvT0hGkyHH88eGlyWnin0xHeBa9XK8JpAzRqquMvbmwIn4AO93N9nvMLs8IXFxf0epE+n+1nO8Lv378r/M79e8KfNneFuzeA5XACYDmcAFgO/9W1s6K0fcQBAgOlHarM0CYYponwJAHP1O/1ffrtDT1fvy+8d9IV3qiqn++lup4YNsZUY0L4zomen+uljl+cV51MG+X48Eh4uVTQ44dqo9TqalMsLs4LX1jQ68WZ3k/zm6fCn2xt6XqOj/X6+L3cG8ByOAGwHE4ALId//cJpUcL0wwulonBTVJ2WearDe72e8C54murxg4Hq0Aw6qmAi4fEAfn6gMlyMdH3Dnup4olvUXES5oPebpmqzMI4w7HfHfj4zMyO819W4QhVxhRy5h/5Qnx/jFO0T5TGeXxTpeiL8fu4NYDmcAFgOJwCWwwS56shc3WAv7TMWrzqLcYMwVz+1gth1XtTjJ6uqc588Vj925fx54dOTqlNP2loP0KhprL3bVR3d3FK/OUc9QhbrAxjCb68j7lBqTAoPaJMU9f76iGsMhmpjdPuwobD+QaK/Rx6qjRQV9HnTRuvHyt0bwHI4AbAcTgAsh7mwviZ/oM6jX0o/0g+McPrxPvz4UlFtiKOjlvD93T3h62vnhG9svCL8pK1+8PS05ve7HdWpjx49Ev6kfSL88ePHwnn/q6urwisVvZ8mYvG7+wfC9/b0/kYAG8IPDT7XGsDAoAgTNYQBbLSRXM/41Tj8v8MJgOVwAmA5zFs335Q/DGADUGcUGCtXle+dnKhOHeKAyOj3P/30n8Jj+OF7B5pfb36rNXBxrH70YKjXa6FvIEOfweLiol4POpr59IODg7Gf7+xqXwNzCRFyDwY2UgabI4UfnyCX0sP9M9/P3y+njeA5WA0nAJbDCYDlMF6EWDLrAQrqd7KXr99Xm+EIfvfRsergeKg60xRR0xfq+b9+ui28ua29b8Oh2gyMQ+ztqc4+deqU8HamsXnWD1CHH7V0/fFAr898fbnMfL+ngE2Solcwy/V/1BT4+6hNxZpN1kQOwd0bwHI4AbAcTgAshzl1dkX+MDurvWlJojp1dk7r1LcQ+/717/4o3PdeYFNUtJdu5dwF4fuHqnM7qOMfQgf3h6rjskBtnOYebIhM4xbGaOy9CD+dNY+MQ9Dvpg1Rq2tfAusFGuhV7KIeY3tPe/uSGHEW1AcESBWEiNu4N4DlcAJgOZwAWA5z5brOsGFvHP3IhQX1o//y0d/1jCH8UtTJ+0b9/AGGDPmIlUdl+NkDdaRPRnoP0csYaP1CgnkCJehg9kXQbaffz+eTIVaf5xoniRPG6hEHgM1Am6SCeooE8wX8kEOa8DwilwtweA5OACyHEwDLYVJfdcwBYt3lsvrpSNd7d+99rsdXMAMHOq5c1f7/Vktj556P/Lin6+Ncvx51MGSaM4JYM+ejBo/5dOp81kwWkUuZaOj9FfB5msBGeEGNHsYeegHmKeQ4IEcchDbFSM2g52A1nABYDicAlsOYSP3gSlV1eK2i+frH6K3bR2ydNkOvp7Fs+s2lkuYGOid6vjZ6/0ZqFlEXH8Lm4Of0q4NAdeQQsffeQHMPUMFevaY6n/UGBn55p629fry/kfw97jeBjg84p1Gp53tq0xg8H/cGsBxOACyHEwDLYWLomEoJNWzwIz/5+GPh7D2LDObiIV/N/Dr9cM7QOTjUOv0Uw4YLpTI+R8IbSjvE3L8CZgqNzAmEH19Fjd/sgs71m5jQfH8HOn5E58PmOPG0V5Lr4f4FnKGUII6R4fejzeDeAJbDCYDlcAJgOUwKv9IgX3x0pL15Dz/XPWgamHPHDQaqU+onl1AD+GwH/fKYNRxgaFHK4DhC3Tny35yRwzhCxWgcwsf/RBUzh+ZQM8kaygL6+enXxwOtKUxwv/4QexQxlK90ZD+HAeIWnElUKLg5gQ7PwQmA5XACYDlMOaLOgl96rDZAAcdHger0vT3tj68UVcfm0Ike5gqePa19B+WS+rk7mLnTHaqOyxBXoI4cqeFj/h9Kt/CCGTvsE+jApuKcP+pgJvw5azj3YAMxvw8bKUQcZGZa5xjOz2vcwr0BLIcTAMvhBMBymE/+9pH8gbHqzrH2zsU9zK7FvP8WZugEk6qDqHPrZbURlpeXhb801PN/8fC/wps7Oj8gKKrNwP77FubroxxgZH39WG0MzghqH2vsvo89jTzUMJZhE9GmIDinMIeOj9D7ODWlz/vcOZ2zePHiReHuDWA5nABYDicAlsP86a//kD+0WqrTjFEZ4Wzc7Y7W8D1oas1gtvW18NNLZ4VfvnxZ+OY33wqvoeZua/uZrg+9co2a6sD9fV2fyVQHl4oa13h6+I1wzkQKkTtgXb9BDSVr+nqIU+TgjFPw/LOLWnN45swZ4Q30JTBXEU1MCXdvAMvhBMByOAGwHIY1bNQhqLDzSmWNZS+vqt9OP/OzO/9S/tlnwqkj33n7+8I/f/ClLhh1/fMzquN2dnSGDu+A39/eVp2/vLwknH5/p6M2Ev1szkpuNpvCWWPIfP3Zs2ojzc3NCWcugffTbmtvJ+/v3r07wt0bwHI4AbAcTgAshzl3fl3+UK+zv1/90CRRP3ViUo+vVDH3b0332KGO+/DDD4Vvbm4K//qR8gZsllZL6xW66CuYw1zD3V21EWqoUWTv3wF6H5eWTgs/Db/88FCP73bUJqBNsbL8kvCbN28Kv3BB5yayT4D1CLRBnj3TuMn+vtZruDeA5XACYDmcAFgOMzevOo2x/5HZtxlq+kZsBNVRa6svK1/TfQq5z9+DL/4jnDqtiDmCJ9Cx3Nu3h/w/e/tMQznrG155VW2kN954Qzjvd3dP4xrv3tK4BmcDs0aPNgDjDFwfcwecc8jPGXdwbwDL4QTAcjgBsByG8+t7fdWpnJvHGUC0GZIYM22gIxnL/sGtHwpfOqO5hfv37wvfRE3gIvxwztHrof/+0qVLwtc3zgtnLyTrI65cuSKcOv21114T/vrrrwuv1dRGuXNHY/MvyhUwd0Lw+7webS73BrAcTgAshxMAy2FyzNypVbWmjjN1/EB1LEraRub+eahjp01Qrapfv7qquYOVZeWz05ofr8LvD7Cgt976np5vZUX41Wuq06nzb9++7Sn0/t95523hk+iDoM5mr+ACZgzV63o/pZLaGGX0UfB+2Ucwuvcz9hTyHKyGEwDL4QTAcpgT7JVbRT4/hM6IMYMmSVXHRZHGoiuV8XsPsxfv6EBr2m7duiV8cXFReLer+fDmE63Bu3njTeHMRQRFXe/8vNYPZOjfPz7W9QXYmC/hfgYjz1d1vI95ACFmDBnMAaSOZ+yfnM+Xewi5N4DlcAJgOZwAWA4zM6N+9QBz7OKh+u017CcQGtVJnDE06peqzLGOnTVs6+taE7e0pHX7s7PqR//+N78V/v77fxD+3nvvCZ+uamx866n2Ns6gt+40evFGevk8BWsY6bcXkEuoInbPz1kfweuVYGOxb4BwbwDL4QTAcjgBsBxmAD86KnDvWcWIzssxlw9uZzgSi9Z6gAfo/dtF3fqNG1ojNzmpOrvdUp3445/+TPgHH/xZ+C9++SvhP/r5T4RzRhH7JHj/EfYm5r6FSaa8iD2aimU9f6uDuYfYNzHC9yPYCAHmF8SYK8hchHsDWA4nAJbDCYDlMCXM1Rv1G9XTZD6fewZNTOoMmiTRXMHBvtbc3bv7b+FXr14VXsQeRpz7V0Sd/zDW9V7YeEV4vaHre7aLfQ8rmI+Q6/VYc1fCnkX8nAgR2+f1CkXUXEZ6fu6xlMNG4Hq5vQKPd28Ay+EEwHI4AbAcJvC4+Sxm0UKn5ZnaAHk6fp89ztS5e/eu8DRVJXX9+neFsxeQOr5QUD/46FCvNzevfQO1usYRHjW3hJuC6uA0h02U6v+MycKxnzMXwn39imW1AULo/NzHvoZQ6nmC3497DiEuE2N97g1gOZwAWA4nAJbDhNh4LxmoTi+jJjAqq85l3XsfuYVDzMT56qvHwq9duyZ8fkF19u6u5ga66PWrQEf3h5gLiL2LO31d76mlFeGsieQePf2+5gKSXM9nDPbuzcbPKcyRS4iRO8hi6nQ9H/syhinmNwAI47g3gO1wAmA5nABYDlMIVQaGPdVpPvz8EmLzWTJ+b1zWwHEmzuXL3xG+jf0A2LeQQkcmqdYD+IhD9GDToMTRC8G9Hu4H+X/aBLmPXAp0NOMArNJP0vF7HfvoM+D5aAPw+uwNZP2GewNYDicAlsMJgOUwAWL/HnR+D7N3YTJ4WazHc6/eybrGuq9eUZ0/B5vgy4ePhFdqmF2MfHq7i7hAWevqY8TOI+wx1O5jb96RSnvkz4367UEEmwjfjmEjYZvCkfOn6fh9BNlXEeB/OGOsH0YCbQL3BrAcTgAshxMAy2ECaK0qYv0p/M5eT/1uL+AMIdXR7G07hX0Aw1CP59w9D34rTZbAVx06hN8cp5xzCL894r6Aev1Rvxs6FzV4jBOwfiFifz5r/FjEB4wcTxsAX2ecIAicDeDwHJwAWA4nAJbDMD/N2bKMhfcwrz4wqgN9BAo4a5idh6wn4F7Be0dtPX8Anc69ehPE0hGYYA0i/wXY90BOm2AkN5CP1+F83jw/8/3024kXXY/f5wwh9wawHE4ALIcTAMvxP0ipqQ5NXOYGAAAAAElFTkSuQmCC\" y=\"-329.198125\"/>\n   </g>\n   <g id=\"matplotlib.axis_13\"/>\n   <g id=\"matplotlib.axis_14\"/>\n   <g id=\"patch_33\">\n    <path d=\"M 10.7 457.198125 \nL 10.7 329.292243 \n\" style=\"fill:none;stroke:#000000;stroke-linecap:square;stroke-linejoin:miter;stroke-width:0.8;\"/>\n   </g>\n   <g id=\"patch_34\">\n    <path d=\"M 138.605882 457.198125 \nL 138.605882 329.292243 \n\" style=\"fill:none;stroke:#000000;stroke-linecap:square;stroke-linejoin:miter;stroke-width:0.8;\"/>\n   </g>\n   <g id=\"patch_35\">\n    <path d=\"M 10.7 457.198125 \nL 138.605882 457.198125 \n\" style=\"fill:none;stroke:#000000;stroke-linecap:square;stroke-linejoin:miter;stroke-width:0.8;\"/>\n   </g>\n   <g id=\"patch_36\">\n    <path d=\"M 10.7 329.292243 \nL 138.605882 329.292243 \n\" style=\"fill:none;stroke:#000000;stroke-linecap:square;stroke-linejoin:miter;stroke-width:0.8;\"/>\n   </g>\n   <g id=\"text_7\">\n    <!-- label = 0 -->\n    <g transform=\"translate(47.482316 323.292243)scale(0.12 -0.12)\">\n     <use xlink:href=\"#DejaVuSans-108\"/>\n     <use x=\"27.783203\" xlink:href=\"#DejaVuSans-97\"/>\n     <use x=\"89.0625\" xlink:href=\"#DejaVuSans-98\"/>\n     <use x=\"152.539062\" xlink:href=\"#DejaVuSans-101\"/>\n     <use x=\"214.0625\" xlink:href=\"#DejaVuSans-108\"/>\n     <use x=\"241.845703\" xlink:href=\"#DejaVuSans-32\"/>\n     <use x=\"273.632812\" xlink:href=\"#DejaVuSans-61\"/>\n     <use x=\"357.421875\" xlink:href=\"#DejaVuSans-32\"/>\n     <use x=\"389.208984\" xlink:href=\"#DejaVuSans-48\"/>\n    </g>\n   </g>\n  </g>\n  <g id=\"axes_8\">\n   <g id=\"patch_37\">\n    <path d=\"M 168.252941 457.198125 \nL 296.158824 457.198125 \nL 296.158824 329.292243 \nL 168.252941 329.292243 \nz\n\" style=\"fill:#ffffff;\"/>\n   </g>\n   <g clip-path=\"url(#p223fba1ed7)\">\n    <image height=\"128\" id=\"image63881a5bb5\" transform=\"scale(1 -1)translate(0 -128)\" width=\"128\" x=\"168.252941\" xlink:href=\"data:image/png;base64,\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\" y=\"-329.198125\"/>\n   </g>\n   <g id=\"matplotlib.axis_15\"/>\n   <g id=\"matplotlib.axis_16\"/>\n   <g id=\"patch_38\">\n    <path d=\"M 168.252941 457.198125 \nL 168.252941 329.292243 \n\" style=\"fill:none;stroke:#000000;stroke-linecap:square;stroke-linejoin:miter;stroke-width:0.8;\"/>\n   </g>\n   <g id=\"patch_39\">\n    <path d=\"M 296.158824 457.198125 \nL 296.158824 329.292243 \n\" style=\"fill:none;stroke:#000000;stroke-linecap:square;stroke-linejoin:miter;stroke-width:0.8;\"/>\n   </g>\n   <g id=\"patch_40\">\n    <path d=\"M 168.252941 457.198125 \nL 296.158824 457.198125 \n\" style=\"fill:none;stroke:#000000;stroke-linecap:square;stroke-linejoin:miter;stroke-width:0.8;\"/>\n   </g>\n   <g id=\"patch_41\">\n    <path d=\"M 168.252941 329.292243 \nL 296.158824 329.292243 \n\" style=\"fill:none;stroke:#000000;stroke-linecap:square;stroke-linejoin:miter;stroke-width:0.8;\"/>\n   </g>\n   <g id=\"text_8\">\n    <!-- label = 0 -->\n    <g transform=\"translate(205.035257 323.292243)scale(0.12 -0.12)\">\n     <use xlink:href=\"#DejaVuSans-108\"/>\n     <use x=\"27.783203\" xlink:href=\"#DejaVuSans-97\"/>\n     <use x=\"89.0625\" xlink:href=\"#DejaVuSans-98\"/>\n     <use x=\"152.539062\" xlink:href=\"#DejaVuSans-101\"/>\n     <use x=\"214.0625\" xlink:href=\"#DejaVuSans-108\"/>\n     <use x=\"241.845703\" xlink:href=\"#DejaVuSans-32\"/>\n     <use x=\"273.632812\" xlink:href=\"#DejaVuSans-61\"/>\n     <use x=\"357.421875\" xlink:href=\"#DejaVuSans-32\"/>\n     <use x=\"389.208984\" xlink:href=\"#DejaVuSans-48\"/>\n    </g>\n   </g>\n  </g>\n  <g id=\"axes_9\">\n   <g id=\"patch_42\">\n    <path d=\"M 325.805882 457.198125 \nL 453.711765 457.198125 \nL 453.711765 329.292243 \nL 325.805882 329.292243 \nz\n\" style=\"fill:#ffffff;\"/>\n   </g>\n   <g clip-path=\"url(#pa38f289fa0)\">\n    <image height=\"128\" id=\"imageac432f95ea\" transform=\"scale(1 -1)translate(0 -128)\" width=\"128\" x=\"325.805882\" xlink:href=\"data:image/png;base64,\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\" y=\"-329.198125\"/>\n   </g>\n   <g id=\"matplotlib.axis_17\"/>\n   <g id=\"matplotlib.axis_18\"/>\n   <g id=\"patch_43\">\n    <path d=\"M 325.805882 457.198125 \nL 325.805882 329.292243 \n\" style=\"fill:none;stroke:#000000;stroke-linecap:square;stroke-linejoin:miter;stroke-width:0.8;\"/>\n   </g>\n   <g id=\"patch_44\">\n    <path d=\"M 453.711765 457.198125 \nL 453.711765 329.292243 \n\" style=\"fill:none;stroke:#000000;stroke-linecap:square;stroke-linejoin:miter;stroke-width:0.8;\"/>\n   </g>\n   <g id=\"patch_45\">\n    <path d=\"M 325.805882 457.198125 \nL 453.711765 457.198125 \n\" style=\"fill:none;stroke:#000000;stroke-linecap:square;stroke-linejoin:miter;stroke-width:0.8;\"/>\n   </g>\n   <g id=\"patch_46\">\n    <path d=\"M 325.805882 329.292243 \nL 453.711765 329.292243 \n\" style=\"fill:none;stroke:#000000;stroke-linecap:square;stroke-linejoin:miter;stroke-width:0.8;\"/>\n   </g>\n   <g id=\"text_9\">\n    <!-- label = 0 -->\n    <g transform=\"translate(362.588199 323.292243)scale(0.12 -0.12)\">\n     <use xlink:href=\"#DejaVuSans-108\"/>\n     <use x=\"27.783203\" xlink:href=\"#DejaVuSans-97\"/>\n     <use x=\"89.0625\" xlink:href=\"#DejaVuSans-98\"/>\n     <use x=\"152.539062\" xlink:href=\"#DejaVuSans-101\"/>\n     <use x=\"214.0625\" xlink:href=\"#DejaVuSans-108\"/>\n     <use x=\"241.845703\" xlink:href=\"#DejaVuSans-32\"/>\n     <use x=\"273.632812\" xlink:href=\"#DejaVuSans-61\"/>\n     <use x=\"357.421875\" xlink:href=\"#DejaVuSans-32\"/>\n     <use x=\"389.208984\" xlink:href=\"#DejaVuSans-48\"/>\n    </g>\n   </g>\n  </g>\n </g>\n <defs>\n  <clipPath id=\"pd774bc5bff\">\n   <rect height=\"127.905882\" width=\"127.905882\" x=\"10.7\" y=\"22.318125\"/>\n  </clipPath>\n  <clipPath id=\"pc9a80a8fa6\">\n   <rect height=\"127.905882\" width=\"127.905882\" x=\"168.252941\" y=\"22.318125\"/>\n  </clipPath>\n  <clipPath id=\"p337d86bfbf\">\n   <rect height=\"127.905882\" width=\"127.905882\" x=\"325.805882\" y=\"22.318125\"/>\n  </clipPath>\n  <clipPath id=\"p9aa9e0767e\">\n   <rect height=\"127.905882\" width=\"127.905882\" x=\"10.7\" y=\"175.805184\"/>\n  </clipPath>\n  <clipPath id=\"p71add7e5c8\">\n   <rect height=\"127.905882\" width=\"127.905882\" x=\"168.252941\" y=\"175.805184\"/>\n  </clipPath>\n  <clipPath id=\"pa325269fbc\">\n   <rect height=\"127.905882\" width=\"127.905882\" x=\"325.805882\" y=\"175.805184\"/>\n  </clipPath>\n  <clipPath id=\"pe0a901469c\">\n   <rect height=\"127.905882\" width=\"127.905882\" x=\"10.7\" y=\"329.292243\"/>\n  </clipPath>\n  <clipPath id=\"p223fba1ed7\">\n   <rect height=\"127.905882\" width=\"127.905882\" x=\"168.252941\" y=\"329.292243\"/>\n  </clipPath>\n  <clipPath id=\"pa38f289fa0\">\n   <rect height=\"127.905882\" width=\"127.905882\" x=\"325.805882\" y=\"329.292243\"/>\n  </clipPath>\n </defs>\n</svg>\n"
          },
          "metadata": {
            "tags": []
          }
        }
      ]
    },
    {
      "cell_type": "code",
      "metadata": {
        "id": "Z0t_7TWMTb_Q",
        "outputId": "2b83e517-7fd7-4fbc-cc40-e404cae9814c",
        "colab": {
          "base_uri": "https://localhost:8080/",
          "height": 34
        }
      },
      "source": [
        "# The default order of Pytorch's pictures is Batch, Channel, Width, Height \n",
        "for x,y in dl_train:\n",
        "    print(x.shape,y.shape) \n",
        "    break\n",
        "    "
      ],
      "execution_count": 17,
      "outputs": [
        {
          "output_type": "stream",
          "text": [
            "torch.Size([50, 3, 32, 32]) torch.Size([50, 1])\n"
          ],
          "name": "stdout"
        }
      ]
    },
    {
      "cell_type": "markdown",
      "metadata": {
        "id": "ftTeyCzRTvMY"
      },
      "source": [
        "# Second, define the model\n",
        "There are usually three ways to build a model using Pytorch:\n",
        "*  use **nn.Sequential** to build a model in layer order,\n",
        "*  inherit **nn.Module** base class to build a custom model, \n",
        "* inherit **nn.Module** base class to build a model and assist in applying model containers (nn.Sequential, nn. ModuleList, nn.ModuleDict) is encapsulated.\n",
        "\n",
        "Here choose to build a custom model by inheriting the nn.Module base class."
      ]
    },
    {
      "cell_type": "code",
      "metadata": {
        "id": "URMYoE_bTjqG",
        "outputId": "fb0cc438-8d41-459e-fba8-c09ecf21805f",
        "colab": {
          "base_uri": "https://localhost:8080/",
          "height": 34
        }
      },
      "source": [
        "pool = nn.AdaptiveMaxPool2d((1,1))\n",
        "t = torch.randn(10,8,32,32)\n",
        "pool(t).shape "
      ],
      "execution_count": 18,
      "outputs": [
        {
          "output_type": "execute_result",
          "data": {
            "text/plain": [
              "torch.Size([10, 8, 1, 1])"
            ]
          },
          "metadata": {
            "tags": []
          },
          "execution_count": 18
        }
      ]
    },
    {
      "cell_type": "code",
      "metadata": {
        "id": "BSUn7zAsUbZm",
        "outputId": "9227aeac-a211-40a6-d775-5a09ae7870ab",
        "colab": {
          "base_uri": "https://localhost:8080/",
          "height": 218
        }
      },
      "source": [
        "class Net(nn.Module):\n",
        "    \n",
        "    def __init__(self):\n",
        "        super(Net, self).__init__()\n",
        "        self.conv1 = nn.Conv2d(in_channels=3,out_channels=32,kernel_size = 3)\n",
        "        self.pool = nn.MaxPool2d(kernel_size = 2,stride = 2)\n",
        "        self.conv2 = nn.Conv2d(in_channels=32,out_channels=64,kernel_size = 5)\n",
        "        self.dropout = nn.Dropout2d(p = 0.1)\n",
        "        self.adaptive_pool = nn.AdaptiveMaxPool2d((1,1))\n",
        "        self.flatten = nn.Flatten()\n",
        "        self.linear1 = nn.Linear(64,32)\n",
        "        self.relu = nn.ReLU()\n",
        "        self.linear2 = nn.Linear(32,1)\n",
        "        self.sigmoid = nn.Sigmoid()\n",
        "        \n",
        "    def forward(self,x):\n",
        "        x = self.conv1(x)\n",
        "        x = self.pool(x)\n",
        "        x = self.conv2(x)\n",
        "        x = self.pool(x)\n",
        "        x = self.dropout(x)\n",
        "        x = self.adaptive_pool(x)\n",
        "        x = self.flatten(x)\n",
        "        x = self.linear1(x)\n",
        "        x = self.relu(x)\n",
        "        x = self.linear2(x)\n",
        "        y = self.sigmoid(x)\n",
        "        return y\n",
        "        \n",
        "net = Net()\n",
        "print(net)"
      ],
      "execution_count": 24,
      "outputs": [
        {
          "output_type": "stream",
          "text": [
            "Net(\n",
            "  (conv1): Conv2d(3, 32, kernel_size=(3, 3), stride=(1, 1))\n",
            "  (pool): MaxPool2d(kernel_size=2, stride=2, padding=0, dilation=1, ceil_mode=False)\n",
            "  (conv2): Conv2d(32, 64, kernel_size=(5, 5), stride=(1, 1))\n",
            "  (dropout): Dropout2d(p=0.1, inplace=False)\n",
            "  (adaptive_pool): AdaptiveMaxPool2d(output_size=(1, 1))\n",
            "  (flatten): Flatten()\n",
            "  (linear1): Linear(in_features=64, out_features=32, bias=True)\n",
            "  (relu): ReLU()\n",
            "  (linear2): Linear(in_features=32, out_features=1, bias=True)\n",
            "  (sigmoid): Sigmoid()\n",
            ")\n"
          ],
          "name": "stdout"
        }
      ]
    },
    {
      "cell_type": "code",
      "metadata": {
        "id": "BqRerHlzXktZ",
        "outputId": "a1043303-a6cd-4a06-ab8c-6c96549c0e6c",
        "colab": {
          "base_uri": "https://localhost:8080/",
          "height": 1000
        }
      },
      "source": [
        "help(Net)"
      ],
      "execution_count": 28,
      "outputs": [
        {
          "output_type": "stream",
          "text": [
            "Help on class Net in module __main__:\n",
            "\n",
            "class Net(torch.nn.modules.module.Module)\n",
            " |  Base class for all neural network modules.\n",
            " |  \n",
            " |  Your models should also subclass this class.\n",
            " |  \n",
            " |  Modules can also contain other Modules, allowing to nest them in\n",
            " |  a tree structure. You can assign the submodules as regular attributes::\n",
            " |  \n",
            " |      import torch.nn as nn\n",
            " |      import torch.nn.functional as F\n",
            " |  \n",
            " |      class Model(nn.Module):\n",
            " |          def __init__(self):\n",
            " |              super(Model, self).__init__()\n",
            " |              self.conv1 = nn.Conv2d(1, 20, 5)\n",
            " |              self.conv2 = nn.Conv2d(20, 20, 5)\n",
            " |  \n",
            " |          def forward(self, x):\n",
            " |              x = F.relu(self.conv1(x))\n",
            " |              return F.relu(self.conv2(x))\n",
            " |  \n",
            " |  Submodules assigned in this way will be registered, and will have their\n",
            " |  parameters converted too when you call :meth:`to`, etc.\n",
            " |  \n",
            " |  Method resolution order:\n",
            " |      Net\n",
            " |      torch.nn.modules.module.Module\n",
            " |      builtins.object\n",
            " |  \n",
            " |  Methods defined here:\n",
            " |  \n",
            " |  __init__(self)\n",
            " |      Initializes internal Module state, shared by both nn.Module and ScriptModule.\n",
            " |  \n",
            " |  forward(self, x)\n",
            " |  \n",
            " |  ----------------------------------------------------------------------\n",
            " |  Methods inherited from torch.nn.modules.module.Module:\n",
            " |  \n",
            " |  __call__ = _call_impl(self, *input, **kwargs)\n",
            " |  \n",
            " |  __delattr__(self, name)\n",
            " |      Implement delattr(self, name).\n",
            " |  \n",
            " |  __dir__(self)\n",
            " |      __dir__() -> list\n",
            " |      default dir() implementation\n",
            " |  \n",
            " |  __getattr__(self, name:str) -> Union[torch.Tensor, _ForwardRef('Module')]\n",
            " |  \n",
            " |  __repr__(self)\n",
            " |      Return repr(self).\n",
            " |  \n",
            " |  __setattr__(self, name:str, value:Union[torch.Tensor, _ForwardRef('Module')]) -> None\n",
            " |      Implement setattr(self, name, value).\n",
            " |  \n",
            " |  __setstate__(self, state)\n",
            " |  \n",
            " |  add_module(self, name:str, module:'Module') -> None\n",
            " |      Adds a child module to the current module.\n",
            " |      \n",
            " |      The module can be accessed as an attribute using the given name.\n",
            " |      \n",
            " |      Args:\n",
            " |          name (string): name of the child module. The child module can be\n",
            " |              accessed from this module using the given name\n",
            " |          module (Module): child module to be added to the module.\n",
            " |  \n",
            " |  apply(self:~T, fn:Callable[[_ForwardRef('Module')], NoneType]) -> ~T\n",
            " |      Applies ``fn`` recursively to every submodule (as returned by ``.children()``)\n",
            " |      as well as self. Typical use includes initializing the parameters of a model\n",
            " |      (see also :ref:`nn-init-doc`).\n",
            " |      \n",
            " |      Args:\n",
            " |          fn (:class:`Module` -> None): function to be applied to each submodule\n",
            " |      \n",
            " |      Returns:\n",
            " |          Module: self\n",
            " |      \n",
            " |      Example::\n",
            " |      \n",
            " |          >>> @torch.no_grad()\n",
            " |          >>> def init_weights(m):\n",
            " |          >>>     print(m)\n",
            " |          >>>     if type(m) == nn.Linear:\n",
            " |          >>>         m.weight.fill_(1.0)\n",
            " |          >>>         print(m.weight)\n",
            " |          >>> net = nn.Sequential(nn.Linear(2, 2), nn.Linear(2, 2))\n",
            " |          >>> net.apply(init_weights)\n",
            " |          Linear(in_features=2, out_features=2, bias=True)\n",
            " |          Parameter containing:\n",
            " |          tensor([[ 1.,  1.],\n",
            " |                  [ 1.,  1.]])\n",
            " |          Linear(in_features=2, out_features=2, bias=True)\n",
            " |          Parameter containing:\n",
            " |          tensor([[ 1.,  1.],\n",
            " |                  [ 1.,  1.]])\n",
            " |          Sequential(\n",
            " |            (0): Linear(in_features=2, out_features=2, bias=True)\n",
            " |            (1): Linear(in_features=2, out_features=2, bias=True)\n",
            " |          )\n",
            " |          Sequential(\n",
            " |            (0): Linear(in_features=2, out_features=2, bias=True)\n",
            " |            (1): Linear(in_features=2, out_features=2, bias=True)\n",
            " |          )\n",
            " |  \n",
            " |  bfloat16(self:~T) -> ~T\n",
            " |      Casts all floating point parameters and buffers to ``bfloat16`` datatype.\n",
            " |      \n",
            " |      Returns:\n",
            " |          Module: self\n",
            " |  \n",
            " |  buffers(self, recurse:bool=True) -> Iterator[torch.Tensor]\n",
            " |      Returns an iterator over module buffers.\n",
            " |      \n",
            " |      Args:\n",
            " |          recurse (bool): if True, then yields buffers of this module\n",
            " |              and all submodules. Otherwise, yields only buffers that\n",
            " |              are direct members of this module.\n",
            " |      \n",
            " |      Yields:\n",
            " |          torch.Tensor: module buffer\n",
            " |      \n",
            " |      Example::\n",
            " |      \n",
            " |          >>> for buf in model.buffers():\n",
            " |          >>>     print(type(buf), buf.size())\n",
            " |          <class 'torch.Tensor'> (20L,)\n",
            " |          <class 'torch.Tensor'> (20L, 1L, 5L, 5L)\n",
            " |  \n",
            " |  children(self) -> Iterator[_ForwardRef('Module')]\n",
            " |      Returns an iterator over immediate children modules.\n",
            " |      \n",
            " |      Yields:\n",
            " |          Module: a child module\n",
            " |  \n",
            " |  cpu(self:~T) -> ~T\n",
            " |      Moves all model parameters and buffers to the CPU.\n",
            " |      \n",
            " |      Returns:\n",
            " |          Module: self\n",
            " |  \n",
            " |  cuda(self:~T, device:Union[int, torch.device, NoneType]=None) -> ~T\n",
            " |      Moves all model parameters and buffers to the GPU.\n",
            " |      \n",
            " |      This also makes associated parameters and buffers different objects. So\n",
            " |      it should be called before constructing optimizer if the module will\n",
            " |      live on GPU while being optimized.\n",
            " |      \n",
            " |      Arguments:\n",
            " |          device (int, optional): if specified, all parameters will be\n",
            " |              copied to that device\n",
            " |      \n",
            " |      Returns:\n",
            " |          Module: self\n",
            " |  \n",
            " |  double(self:~T) -> ~T\n",
            " |      Casts all floating point parameters and buffers to ``double`` datatype.\n",
            " |      \n",
            " |      Returns:\n",
            " |          Module: self\n",
            " |  \n",
            " |  eval(self:~T) -> ~T\n",
            " |      Sets the module in evaluation mode.\n",
            " |      \n",
            " |      This has any effect only on certain modules. See documentations of\n",
            " |      particular modules for details of their behaviors in training/evaluation\n",
            " |      mode, if they are affected, e.g. :class:`Dropout`, :class:`BatchNorm`,\n",
            " |      etc.\n",
            " |      \n",
            " |      This is equivalent with :meth:`self.train(False) <torch.nn.Module.train>`.\n",
            " |      \n",
            " |      Returns:\n",
            " |          Module: self\n",
            " |  \n",
            " |  extra_repr(self) -> str\n",
            " |      Set the extra representation of the module\n",
            " |      \n",
            " |      To print customized extra information, you should reimplement\n",
            " |      this method in your own modules. Both single-line and multi-line\n",
            " |      strings are acceptable.\n",
            " |  \n",
            " |  float(self:~T) -> ~T\n",
            " |      Casts all floating point parameters and buffers to float datatype.\n",
            " |      \n",
            " |      Returns:\n",
            " |          Module: self\n",
            " |  \n",
            " |  half(self:~T) -> ~T\n",
            " |      Casts all floating point parameters and buffers to ``half`` datatype.\n",
            " |      \n",
            " |      Returns:\n",
            " |          Module: self\n",
            " |  \n",
            " |  load_state_dict(self, state_dict:Dict[str, torch.Tensor], strict:bool=True)\n",
            " |      Copies parameters and buffers from :attr:`state_dict` into\n",
            " |      this module and its descendants. If :attr:`strict` is ``True``, then\n",
            " |      the keys of :attr:`state_dict` must exactly match the keys returned\n",
            " |      by this module's :meth:`~torch.nn.Module.state_dict` function.\n",
            " |      \n",
            " |      Arguments:\n",
            " |          state_dict (dict): a dict containing parameters and\n",
            " |              persistent buffers.\n",
            " |          strict (bool, optional): whether to strictly enforce that the keys\n",
            " |              in :attr:`state_dict` match the keys returned by this module's\n",
            " |              :meth:`~torch.nn.Module.state_dict` function. Default: ``True``\n",
            " |      \n",
            " |      Returns:\n",
            " |          ``NamedTuple`` with ``missing_keys`` and ``unexpected_keys`` fields:\n",
            " |              * **missing_keys** is a list of str containing the missing keys\n",
            " |              * **unexpected_keys** is a list of str containing the unexpected keys\n",
            " |  \n",
            " |  modules(self) -> Iterator[_ForwardRef('Module')]\n",
            " |      Returns an iterator over all modules in the network.\n",
            " |      \n",
            " |      Yields:\n",
            " |          Module: a module in the network\n",
            " |      \n",
            " |      Note:\n",
            " |          Duplicate modules are returned only once. In the following\n",
            " |          example, ``l`` will be returned only once.\n",
            " |      \n",
            " |      Example::\n",
            " |      \n",
            " |          >>> l = nn.Linear(2, 2)\n",
            " |          >>> net = nn.Sequential(l, l)\n",
            " |          >>> for idx, m in enumerate(net.modules()):\n",
            " |                  print(idx, '->', m)\n",
            " |      \n",
            " |          0 -> Sequential(\n",
            " |            (0): Linear(in_features=2, out_features=2, bias=True)\n",
            " |            (1): Linear(in_features=2, out_features=2, bias=True)\n",
            " |          )\n",
            " |          1 -> Linear(in_features=2, out_features=2, bias=True)\n",
            " |  \n",
            " |  named_buffers(self, prefix:str='', recurse:bool=True) -> Iterator[Tuple[str, torch.Tensor]]\n",
            " |      Returns an iterator over module buffers, yielding both the\n",
            " |      name of the buffer as well as the buffer itself.\n",
            " |      \n",
            " |      Args:\n",
            " |          prefix (str): prefix to prepend to all buffer names.\n",
            " |          recurse (bool): if True, then yields buffers of this module\n",
            " |              and all submodules. Otherwise, yields only buffers that\n",
            " |              are direct members of this module.\n",
            " |      \n",
            " |      Yields:\n",
            " |          (string, torch.Tensor): Tuple containing the name and buffer\n",
            " |      \n",
            " |      Example::\n",
            " |      \n",
            " |          >>> for name, buf in self.named_buffers():\n",
            " |          >>>    if name in ['running_var']:\n",
            " |          >>>        print(buf.size())\n",
            " |  \n",
            " |  named_children(self) -> Iterator[Tuple[str, _ForwardRef('Module')]]\n",
            " |      Returns an iterator over immediate children modules, yielding both\n",
            " |      the name of the module as well as the module itself.\n",
            " |      \n",
            " |      Yields:\n",
            " |          (string, Module): Tuple containing a name and child module\n",
            " |      \n",
            " |      Example::\n",
            " |      \n",
            " |          >>> for name, module in model.named_children():\n",
            " |          >>>     if name in ['conv4', 'conv5']:\n",
            " |          >>>         print(module)\n",
            " |  \n",
            " |  named_modules(self, memo:Union[Set[_ForwardRef('Module')], NoneType]=None, prefix:str='')\n",
            " |      Returns an iterator over all modules in the network, yielding\n",
            " |      both the name of the module as well as the module itself.\n",
            " |      \n",
            " |      Yields:\n",
            " |          (string, Module): Tuple of name and module\n",
            " |      \n",
            " |      Note:\n",
            " |          Duplicate modules are returned only once. In the following\n",
            " |          example, ``l`` will be returned only once.\n",
            " |      \n",
            " |      Example::\n",
            " |      \n",
            " |          >>> l = nn.Linear(2, 2)\n",
            " |          >>> net = nn.Sequential(l, l)\n",
            " |          >>> for idx, m in enumerate(net.named_modules()):\n",
            " |                  print(idx, '->', m)\n",
            " |      \n",
            " |          0 -> ('', Sequential(\n",
            " |            (0): Linear(in_features=2, out_features=2, bias=True)\n",
            " |            (1): Linear(in_features=2, out_features=2, bias=True)\n",
            " |          ))\n",
            " |          1 -> ('0', Linear(in_features=2, out_features=2, bias=True))\n",
            " |  \n",
            " |  named_parameters(self, prefix:str='', recurse:bool=True) -> Iterator[Tuple[str, torch.Tensor]]\n",
            " |      Returns an iterator over module parameters, yielding both the\n",
            " |      name of the parameter as well as the parameter itself.\n",
            " |      \n",
            " |      Args:\n",
            " |          prefix (str): prefix to prepend to all parameter names.\n",
            " |          recurse (bool): if True, then yields parameters of this module\n",
            " |              and all submodules. Otherwise, yields only parameters that\n",
            " |              are direct members of this module.\n",
            " |      \n",
            " |      Yields:\n",
            " |          (string, Parameter): Tuple containing the name and parameter\n",
            " |      \n",
            " |      Example::\n",
            " |      \n",
            " |          >>> for name, param in self.named_parameters():\n",
            " |          >>>    if name in ['bias']:\n",
            " |          >>>        print(param.size())\n",
            " |  \n",
            " |  parameters(self, recurse:bool=True) -> Iterator[torch.nn.parameter.Parameter]\n",
            " |      Returns an iterator over module parameters.\n",
            " |      \n",
            " |      This is typically passed to an optimizer.\n",
            " |      \n",
            " |      Args:\n",
            " |          recurse (bool): if True, then yields parameters of this module\n",
            " |              and all submodules. Otherwise, yields only parameters that\n",
            " |              are direct members of this module.\n",
            " |      \n",
            " |      Yields:\n",
            " |          Parameter: module parameter\n",
            " |      \n",
            " |      Example::\n",
            " |      \n",
            " |          >>> for param in model.parameters():\n",
            " |          >>>     print(type(param), param.size())\n",
            " |          <class 'torch.Tensor'> (20L,)\n",
            " |          <class 'torch.Tensor'> (20L, 1L, 5L, 5L)\n",
            " |  \n",
            " |  register_backward_hook(self, hook:Callable[[_ForwardRef('Module'), Union[Tuple[torch.Tensor, ...], torch.Tensor], Union[Tuple[torch.Tensor, ...], torch.Tensor]], Union[NoneType, torch.Tensor]]) -> torch.utils.hooks.RemovableHandle\n",
            " |      Registers a backward hook on the module.\n",
            " |      \n",
            " |      .. warning ::\n",
            " |      \n",
            " |          The current implementation will not have the presented behavior\n",
            " |          for complex :class:`Module` that perform many operations.\n",
            " |          In some failure cases, :attr:`grad_input` and :attr:`grad_output` will only\n",
            " |          contain the gradients for a subset of the inputs and outputs.\n",
            " |          For such :class:`Module`, you should use :func:`torch.Tensor.register_hook`\n",
            " |          directly on a specific input or output to get the required gradients.\n",
            " |      \n",
            " |      The hook will be called every time the gradients with respect to module\n",
            " |      inputs are computed. The hook should have the following signature::\n",
            " |      \n",
            " |          hook(module, grad_input, grad_output) -> Tensor or None\n",
            " |      \n",
            " |      The :attr:`grad_input` and :attr:`grad_output` may be tuples if the\n",
            " |      module has multiple inputs or outputs. The hook should not modify its\n",
            " |      arguments, but it can optionally return a new gradient with respect to\n",
            " |      input that will be used in place of :attr:`grad_input` in subsequent\n",
            " |      computations. :attr:`grad_input` will only correspond to the inputs given\n",
            " |      as positional arguments.\n",
            " |      \n",
            " |      Returns:\n",
            " |          :class:`torch.utils.hooks.RemovableHandle`:\n",
            " |              a handle that can be used to remove the added hook by calling\n",
            " |              ``handle.remove()``\n",
            " |  \n",
            " |  register_buffer(self, name:str, tensor:torch.Tensor, persistent:bool=True) -> None\n",
            " |      Adds a buffer to the module.\n",
            " |      \n",
            " |      This is typically used to register a buffer that should not to be\n",
            " |      considered a model parameter. For example, BatchNorm's ``running_mean``\n",
            " |      is not a parameter, but is part of the module's state. Buffers, by\n",
            " |      default, are persistent and will be saved alongside parameters. This\n",
            " |      behavior can be changed by setting :attr:`persistent` to ``False``. The\n",
            " |      only difference between a persistent buffer and a non-persistent buffer\n",
            " |      is that the latter will not be a part of this module's\n",
            " |      :attr:`state_dict`.\n",
            " |      \n",
            " |      Buffers can be accessed as attributes using given names.\n",
            " |      \n",
            " |      Args:\n",
            " |          name (string): name of the buffer. The buffer can be accessed\n",
            " |              from this module using the given name\n",
            " |          tensor (Tensor): buffer to be registered.\n",
            " |          persistent (bool): whether the buffer is part of this module's\n",
            " |              :attr:`state_dict`.\n",
            " |      \n",
            " |      Example::\n",
            " |      \n",
            " |          >>> self.register_buffer('running_mean', torch.zeros(num_features))\n",
            " |  \n",
            " |  register_forward_hook(self, hook:Callable[..., NoneType]) -> torch.utils.hooks.RemovableHandle\n",
            " |      Registers a forward hook on the module.\n",
            " |      \n",
            " |      The hook will be called every time after :func:`forward` has computed an output.\n",
            " |      It should have the following signature::\n",
            " |      \n",
            " |          hook(module, input, output) -> None or modified output\n",
            " |      \n",
            " |      The input contains only the positional arguments given to the module.\n",
            " |      Keyword arguments won't be passed to the hooks and only to the ``forward``.\n",
            " |      The hook can modify the output. It can modify the input inplace but\n",
            " |      it will not have effect on forward since this is called after\n",
            " |      :func:`forward` is called.\n",
            " |      \n",
            " |      Returns:\n",
            " |          :class:`torch.utils.hooks.RemovableHandle`:\n",
            " |              a handle that can be used to remove the added hook by calling\n",
            " |              ``handle.remove()``\n",
            " |  \n",
            " |  register_forward_pre_hook(self, hook:Callable[..., NoneType]) -> torch.utils.hooks.RemovableHandle\n",
            " |      Registers a forward pre-hook on the module.\n",
            " |      \n",
            " |      The hook will be called every time before :func:`forward` is invoked.\n",
            " |      It should have the following signature::\n",
            " |      \n",
            " |          hook(module, input) -> None or modified input\n",
            " |      \n",
            " |      The input contains only the positional arguments given to the module.\n",
            " |      Keyword arguments won't be passed to the hooks and only to the ``forward``.\n",
            " |      The hook can modify the input. User can either return a tuple or a\n",
            " |      single modified value in the hook. We will wrap the value into a tuple\n",
            " |      if a single value is returned(unless that value is already a tuple).\n",
            " |      \n",
            " |      Returns:\n",
            " |          :class:`torch.utils.hooks.RemovableHandle`:\n",
            " |              a handle that can be used to remove the added hook by calling\n",
            " |              ``handle.remove()``\n",
            " |  \n",
            " |  register_parameter(self, name:str, param:torch.nn.parameter.Parameter) -> None\n",
            " |      Adds a parameter to the module.\n",
            " |      \n",
            " |      The parameter can be accessed as an attribute using given name.\n",
            " |      \n",
            " |      Args:\n",
            " |          name (string): name of the parameter. The parameter can be accessed\n",
            " |              from this module using the given name\n",
            " |          param (Parameter): parameter to be added to the module.\n",
            " |  \n",
            " |  requires_grad_(self:~T, requires_grad:bool=True) -> ~T\n",
            " |      Change if autograd should record operations on parameters in this\n",
            " |      module.\n",
            " |      \n",
            " |      This method sets the parameters' :attr:`requires_grad` attributes\n",
            " |      in-place.\n",
            " |      \n",
            " |      This method is helpful for freezing part of the module for finetuning\n",
            " |      or training parts of a model individually (e.g., GAN training).\n",
            " |      \n",
            " |      Args:\n",
            " |          requires_grad (bool): whether autograd should record operations on\n",
            " |                                parameters in this module. Default: ``True``.\n",
            " |      \n",
            " |      Returns:\n",
            " |          Module: self\n",
            " |  \n",
            " |  share_memory(self:~T) -> ~T\n",
            " |  \n",
            " |  state_dict(self, destination=None, prefix='', keep_vars=False)\n",
            " |      Returns a dictionary containing a whole state of the module.\n",
            " |      \n",
            " |      Both parameters and persistent buffers (e.g. running averages) are\n",
            " |      included. Keys are corresponding parameter and buffer names.\n",
            " |      \n",
            " |      Returns:\n",
            " |          dict:\n",
            " |              a dictionary containing a whole state of the module\n",
            " |      \n",
            " |      Example::\n",
            " |      \n",
            " |          >>> module.state_dict().keys()\n",
            " |          ['bias', 'weight']\n",
            " |  \n",
            " |  to(self, *args, **kwargs)\n",
            " |      Moves and/or casts the parameters and buffers.\n",
            " |      \n",
            " |      This can be called as\n",
            " |      \n",
            " |      .. function:: to(device=None, dtype=None, non_blocking=False)\n",
            " |      \n",
            " |      .. function:: to(dtype, non_blocking=False)\n",
            " |      \n",
            " |      .. function:: to(tensor, non_blocking=False)\n",
            " |      \n",
            " |      .. function:: to(memory_format=torch.channels_last)\n",
            " |      \n",
            " |      Its signature is similar to :meth:`torch.Tensor.to`, but only accepts\n",
            " |      floating point desired :attr:`dtype` s. In addition, this method will\n",
            " |      only cast the floating point parameters and buffers to :attr:`dtype`\n",
            " |      (if given). The integral parameters and buffers will be moved\n",
            " |      :attr:`device`, if that is given, but with dtypes unchanged. When\n",
            " |      :attr:`non_blocking` is set, it tries to convert/move asynchronously\n",
            " |      with respect to the host if possible, e.g., moving CPU Tensors with\n",
            " |      pinned memory to CUDA devices.\n",
            " |      \n",
            " |      See below for examples.\n",
            " |      \n",
            " |      .. note::\n",
            " |          This method modifies the module in-place.\n",
            " |      \n",
            " |      Args:\n",
            " |          device (:class:`torch.device`): the desired device of the parameters\n",
            " |              and buffers in this module\n",
            " |          dtype (:class:`torch.dtype`): the desired floating point type of\n",
            " |              the floating point parameters and buffers in this module\n",
            " |          tensor (torch.Tensor): Tensor whose dtype and device are the desired\n",
            " |              dtype and device for all parameters and buffers in this module\n",
            " |          memory_format (:class:`torch.memory_format`): the desired memory\n",
            " |              format for 4D parameters and buffers in this module (keyword\n",
            " |              only argument)\n",
            " |      \n",
            " |      Returns:\n",
            " |          Module: self\n",
            " |      \n",
            " |      Example::\n",
            " |      \n",
            " |          >>> linear = nn.Linear(2, 2)\n",
            " |          >>> linear.weight\n",
            " |          Parameter containing:\n",
            " |          tensor([[ 0.1913, -0.3420],\n",
            " |                  [-0.5113, -0.2325]])\n",
            " |          >>> linear.to(torch.double)\n",
            " |          Linear(in_features=2, out_features=2, bias=True)\n",
            " |          >>> linear.weight\n",
            " |          Parameter containing:\n",
            " |          tensor([[ 0.1913, -0.3420],\n",
            " |                  [-0.5113, -0.2325]], dtype=torch.float64)\n",
            " |          >>> gpu1 = torch.device(\"cuda:1\")\n",
            " |          >>> linear.to(gpu1, dtype=torch.half, non_blocking=True)\n",
            " |          Linear(in_features=2, out_features=2, bias=True)\n",
            " |          >>> linear.weight\n",
            " |          Parameter containing:\n",
            " |          tensor([[ 0.1914, -0.3420],\n",
            " |                  [-0.5112, -0.2324]], dtype=torch.float16, device='cuda:1')\n",
            " |          >>> cpu = torch.device(\"cpu\")\n",
            " |          >>> linear.to(cpu)\n",
            " |          Linear(in_features=2, out_features=2, bias=True)\n",
            " |          >>> linear.weight\n",
            " |          Parameter containing:\n",
            " |          tensor([[ 0.1914, -0.3420],\n",
            " |                  [-0.5112, -0.2324]], dtype=torch.float16)\n",
            " |  \n",
            " |  train(self:~T, mode:bool=True) -> ~T\n",
            " |      Sets the module in training mode.\n",
            " |      \n",
            " |      This has any effect only on certain modules. See documentations of\n",
            " |      particular modules for details of their behaviors in training/evaluation\n",
            " |      mode, if they are affected, e.g. :class:`Dropout`, :class:`BatchNorm`,\n",
            " |      etc.\n",
            " |      \n",
            " |      Args:\n",
            " |          mode (bool): whether to set training mode (``True``) or evaluation\n",
            " |                       mode (``False``). Default: ``True``.\n",
            " |      \n",
            " |      Returns:\n",
            " |          Module: self\n",
            " |  \n",
            " |  type(self:~T, dst_type:Union[torch.dtype, str]) -> ~T\n",
            " |      Casts all parameters and buffers to :attr:`dst_type`.\n",
            " |      \n",
            " |      Arguments:\n",
            " |          dst_type (type or string): the desired type\n",
            " |      \n",
            " |      Returns:\n",
            " |          Module: self\n",
            " |  \n",
            " |  zero_grad(self) -> None\n",
            " |      Sets gradients of all model parameters to zero.\n",
            " |  \n",
            " |  ----------------------------------------------------------------------\n",
            " |  Data descriptors inherited from torch.nn.modules.module.Module:\n",
            " |  \n",
            " |  __dict__\n",
            " |      dictionary for instance variables (if defined)\n",
            " |  \n",
            " |  __weakref__\n",
            " |      list of weak references to the object (if defined)\n",
            " |  \n",
            " |  ----------------------------------------------------------------------\n",
            " |  Data and other attributes inherited from torch.nn.modules.module.Module:\n",
            " |  \n",
            " |  T_destination = ~T_destination\n",
            " |      Type variable.\n",
            " |      \n",
            " |      Usage::\n",
            " |      \n",
            " |        T = TypeVar('T')  # Can be anything\n",
            " |        A = TypeVar('A', str, bytes)  # Must be str or bytes\n",
            " |      \n",
            " |      Type variables exist primarily for the benefit of static type\n",
            " |      checkers.  They serve as the parameters for generic types as well\n",
            " |      as for generic function definitions.  See class Generic for more\n",
            " |      information on generic types.  Generic functions work as follows:\n",
            " |      \n",
            " |        def repeat(x: T, n: int) -> List[T]:\n",
            " |            '''Return a list containing n references to x.'''\n",
            " |            return [x]*n\n",
            " |      \n",
            " |        def longest(x: A, y: A) -> A:\n",
            " |            '''Return the longest of two strings.'''\n",
            " |            return x if len(x) >= len(y) else y\n",
            " |      \n",
            " |      The latter example's signature is essentially the overloading\n",
            " |      of (str, str) -> str and (bytes, bytes) -> bytes.  Also note\n",
            " |      that if the arguments are instances of some subclass of str,\n",
            " |      the return type is still plain str.\n",
            " |      \n",
            " |      At runtime, isinstance(x, T) and issubclass(C, T) will raise TypeError.\n",
            " |      \n",
            " |      Type variables defined with covariant=True or contravariant=True\n",
            " |      can be used do declare covariant or contravariant generic types.\n",
            " |      See PEP 484 for more details. By default generic types are invariant\n",
            " |      in all type variables.\n",
            " |      \n",
            " |      Type variables can be introspected. e.g.:\n",
            " |      \n",
            " |        T.__name__ == 'T'\n",
            " |        T.__constraints__ == ()\n",
            " |        T.__covariant__ == False\n",
            " |        T.__contravariant__ = False\n",
            " |        A.__constraints__ == (str, bytes)\n",
            " |  \n",
            " |  __annotations__ = {'__call__': typing.Callable[..., typing.Any], '_ver...\n",
            " |  \n",
            " |  dump_patches = False\n",
            "\n"
          ],
          "name": "stdout"
        }
      ]
    },
    {
      "cell_type": "code",
      "metadata": {
        "id": "cSp2OBq1UpYH",
        "outputId": "7d963607-0d84-4905-83f4-df96480400f4",
        "colab": {
          "base_uri": "https://localhost:8080/",
          "height": 420
        }
      },
      "source": [
        "import torchkeras\n",
        "torchkeras.summary(net,input_shape= (3,32,32))"
      ],
      "execution_count": 25,
      "outputs": [
        {
          "output_type": "stream",
          "text": [
            "----------------------------------------------------------------\n",
            "        Layer (type)               Output Shape         Param #\n",
            "================================================================\n",
            "            Conv2d-1           [-1, 32, 30, 30]             896\n",
            "         MaxPool2d-2           [-1, 32, 15, 15]               0\n",
            "            Conv2d-3           [-1, 64, 11, 11]          51,264\n",
            "         MaxPool2d-4             [-1, 64, 5, 5]               0\n",
            "         Dropout2d-5             [-1, 64, 5, 5]               0\n",
            " AdaptiveMaxPool2d-6             [-1, 64, 1, 1]               0\n",
            "           Flatten-7                   [-1, 64]               0\n",
            "            Linear-8                   [-1, 32]           2,080\n",
            "              ReLU-9                   [-1, 32]               0\n",
            "           Linear-10                    [-1, 1]              33\n",
            "          Sigmoid-11                    [-1, 1]               0\n",
            "================================================================\n",
            "Total params: 54,273\n",
            "Trainable params: 54,273\n",
            "Non-trainable params: 0\n",
            "----------------------------------------------------------------\n",
            "Input size (MB): 0.011719\n",
            "Forward/backward pass size (MB): 0.359634\n",
            "Params size (MB): 0.207035\n",
            "Estimated Total Size (MB): 0.578388\n",
            "----------------------------------------------------------------\n"
          ],
          "name": "stdout"
        }
      ]
    },
    {
      "cell_type": "markdown",
      "metadata": {
        "id": "SVPthtP3Ya2r"
      },
      "source": [
        "# Three, training model\n",
        "Pytorch usually requires users to write custom training loops, and the code style of training loops varies from person to person.\n",
        "\n",
        "There are three typical training loop code styles: \n",
        "* script form training loop, \n",
        "* function form training loop,\n",
        "* class form training loop.\n",
        "\n",
        "Here is a more general functional training loop."
      ]
    },
    {
      "cell_type": "code",
      "metadata": {
        "id": "TiddanIjUwmm"
      },
      "source": [
        "import pandas as pd \n",
        "from sklearn.metrics import roc_auc_score\n",
        "\n",
        "model = net\n",
        "model.optimizer = torch.optim.SGD(model.parameters(),lr = 0.01)\n",
        "model.loss_func = torch.nn.BCELoss()\n",
        "model.metric_func = lambda y_pred,y_true: roc_auc_score(y_true.data.numpy(),y_pred.data.numpy())\n",
        "model.metric_name = \"auc\""
      ],
      "execution_count": 29,
      "outputs": []
    },
    {
      "cell_type": "code",
      "metadata": {
        "id": "mvMXfuW9YmCo",
        "outputId": "88d6dc80-7b33-41b6-a61c-30e8557901cb",
        "colab": {
          "base_uri": "https://localhost:8080/",
          "height": 34
        }
      },
      "source": [
        "def train_step(model,features,labels):\n",
        "    \n",
        "    # Training mode, the dropout layer takes effect\n",
        "    model.train()\n",
        "    \n",
        "    # Gradient clear\n",
        "    model.optimizer.zero_grad()\n",
        "    \n",
        "    # Forward propagation for loss\n",
        "    predictions = model(features)\n",
        "    loss = model.loss_func(predictions,labels)\n",
        "    metric = model.metric_func(predictions,labels)\n",
        "\n",
        "    # Backpropagation gradient seek \n",
        "    loss.backward()\n",
        "    model.optimizer.step()\n",
        "\n",
        "    return loss.item(),metric.item()\n",
        "\n",
        "def valid_step(model,features,labels):\n",
        "    \n",
        "    # prediction mode, dropout layer does not play a role\n",
        "    model.eval()\n",
        "    # Turn off gradient calculation\n",
        "    with torch.no_grad():\n",
        "        predictions = model(features)\n",
        "        loss = model.loss_func(predictions,labels)\n",
        "        metric = model.metric_func(predictions,labels)\n",
        "    \n",
        "    return loss.item(), metric.item()\n",
        "\n",
        "\n",
        "# next train_step\n",
        "features,labels = next(iter(dl_train))\n",
        "# Running a single train step\n",
        "train_step(model,features,labels)"
      ],
      "execution_count": 30,
      "outputs": [
        {
          "output_type": "execute_result",
          "data": {
            "text/plain": [
              "(0.6841493248939514, 0.6078098471986417)"
            ]
          },
          "metadata": {
            "tags": []
          },
          "execution_count": 30
        }
      ]
    },
    {
      "cell_type": "code",
      "metadata": {
        "id": "M3HqCI_oZWim"
      },
      "source": [
        "def train_model(model,epochs,dl_train,dl_valid,log_step_freq):\n",
        "\n",
        "    metric_name = model.metric_name\n",
        "    dfhistory = pd.DataFrame(columns = [\"epoch\",\"loss\",metric_name,\"val_loss\",\"val_\"+metric_name]) \n",
        "    print(\"Start Training...\")\n",
        "    nowtime = datetime.datetime.now().strftime('%Y-%m-%d %H:%M:%S')\n",
        "    print(\"==========\"*8 + \"%s\"%nowtime)\n",
        "\n",
        "    for epoch in range(1,epochs+1):  \n",
        "\n",
        "      # 1 training cycle-------------------------------------------------\n",
        "        loss_sum = 0.0\n",
        "        metric_sum = 0.0\n",
        "        step = 1\n",
        "\n",
        "        for step, (features,labels) in enumerate(dl_train, 1):\n",
        "\n",
        "            loss,metric = train_step(model,features,labels)\n",
        "\n",
        "            # Gradient clearing\n",
        "            loss_sum += loss\n",
        "            metric_sum += metric\n",
        "            if step%log_step_freq == 0:   \n",
        "                print((\"[step = %d] loss: %.3f, \"+metric_name+\": %.3f\") %\n",
        "                      (step, loss_sum/step, metric_sum/step))\n",
        "\n",
        "        # 2，Eval mode for validation-------------------------------------------------\n",
        "        val_loss_sum = 0.0\n",
        "        val_metric_sum = 0.0\n",
        "        val_step = 1\n",
        "\n",
        "        for val_step, (features,labels) in enumerate(dl_valid, 1):\n",
        "\n",
        "            val_loss,val_metric = valid_step(model,features,labels)\n",
        "\n",
        "            val_loss_sum += val_loss\n",
        "            val_metric_sum += val_metric\n",
        "\n",
        "        # 3，record logs-------------------------------------------------\n",
        "        info = (epoch, loss_sum/step, metric_sum/step, val_loss_sum/val_step, val_metric_sum/val_step)\n",
        "        dfhistory.loc[epoch-1] = info\n",
        "\n",
        "        # epoch-level print log\n",
        "        print((\"\\nEPOCH = %d, loss = %.3f,\"+ metric_name + \\\n",
        "              \"  = %.3f, val_loss = %.3f, \"+\"val_\"+ metric_name+\" = %.3f\") \n",
        "              %info)\n",
        "        nowtime = datetime.datetime.now().strftime('%Y-%m-%d %H:%M:%S')\n",
        "        print(\"\\n\"+\"==========\"*8 + \"%s\"%nowtime)\n",
        "\n",
        "    print('Finished Training...')\n",
        "    \n",
        "    return dfhistory"
      ],
      "execution_count": 32,
      "outputs": []
    },
    {
      "cell_type": "code",
      "metadata": {
        "id": "x4IY40j6Z2yU",
        "outputId": "dc9685bc-09d2-484d-d6f7-137bbc1ba65a",
        "colab": {
          "base_uri": "https://localhost:8080/",
          "height": 1000
        }
      },
      "source": [
        "epochs = 20\n",
        "\n",
        "dfhistory = train_model(model,epochs,dl_train,dl_valid,log_step_freq = 50)"
      ],
      "execution_count": 33,
      "outputs": [
        {
          "output_type": "stream",
          "text": [
            "Start Training...\n",
            "================================================================================2020-09-26 12:34:17\n",
            "[step = 50] loss: 0.689, auc: 0.708\n",
            "[step = 100] loss: 0.686, auc: 0.731\n",
            "[step = 150] loss: 0.683, auc: 0.750\n",
            "[step = 200] loss: 0.680, auc: 0.761\n",
            "\n",
            "EPOCH = 1, loss = 0.680,auc  = 0.761, val_loss = 0.668, val_auc = 0.805\n",
            "\n",
            "================================================================================2020-09-26 12:34:41\n",
            "[step = 50] loss: 0.665, auc: 0.788\n",
            "[step = 100] loss: 0.661, auc: 0.795\n",
            "[step = 150] loss: 0.656, auc: 0.796\n",
            "[step = 200] loss: 0.651, auc: 0.795\n",
            "\n",
            "EPOCH = 2, loss = 0.651,auc  = 0.795, val_loss = 0.627, val_auc = 0.808\n",
            "\n",
            "================================================================================2020-09-26 12:35:06\n",
            "[step = 50] loss: 0.620, auc: 0.795\n",
            "[step = 100] loss: 0.613, auc: 0.805\n",
            "[step = 150] loss: 0.608, auc: 0.801\n",
            "[step = 200] loss: 0.600, auc: 0.802\n",
            "\n",
            "EPOCH = 3, loss = 0.600,auc  = 0.802, val_loss = 0.568, val_auc = 0.811\n",
            "\n",
            "================================================================================2020-09-26 12:35:30\n",
            "[step = 50] loss: 0.565, auc: 0.811\n",
            "[step = 100] loss: 0.556, auc: 0.811\n",
            "[step = 150] loss: 0.553, auc: 0.809\n",
            "[step = 200] loss: 0.550, auc: 0.808\n",
            "\n",
            "EPOCH = 4, loss = 0.550,auc  = 0.808, val_loss = 0.530, val_auc = 0.819\n",
            "\n",
            "================================================================================2020-09-26 12:35:53\n",
            "[step = 50] loss: 0.535, auc: 0.807\n",
            "[step = 100] loss: 0.530, auc: 0.815\n",
            "[step = 150] loss: 0.527, auc: 0.815\n",
            "[step = 200] loss: 0.525, auc: 0.817\n",
            "\n",
            "EPOCH = 5, loss = 0.525,auc  = 0.817, val_loss = 0.509, val_auc = 0.829\n",
            "\n",
            "================================================================================2020-09-26 12:36:16\n",
            "[step = 50] loss: 0.514, auc: 0.820\n",
            "[step = 100] loss: 0.509, auc: 0.827\n",
            "[step = 150] loss: 0.510, auc: 0.826\n",
            "[step = 200] loss: 0.511, auc: 0.825\n",
            "\n",
            "EPOCH = 6, loss = 0.511,auc  = 0.825, val_loss = 0.496, val_auc = 0.839\n",
            "\n",
            "================================================================================2020-09-26 12:36:40\n",
            "[step = 50] loss: 0.492, auc: 0.843\n",
            "[step = 100] loss: 0.502, auc: 0.834\n",
            "[step = 150] loss: 0.504, auc: 0.830\n",
            "[step = 200] loss: 0.499, auc: 0.835\n",
            "\n",
            "EPOCH = 7, loss = 0.499,auc  = 0.835, val_loss = 0.486, val_auc = 0.845\n",
            "\n",
            "================================================================================2020-09-26 12:37:03\n",
            "[step = 50] loss: 0.485, auc: 0.847\n",
            "[step = 100] loss: 0.485, auc: 0.845\n",
            "[step = 150] loss: 0.487, auc: 0.844\n",
            "[step = 200] loss: 0.489, auc: 0.842\n",
            "\n",
            "EPOCH = 8, loss = 0.489,auc  = 0.842, val_loss = 0.479, val_auc = 0.851\n",
            "\n",
            "================================================================================2020-09-26 12:37:27\n",
            "[step = 50] loss: 0.490, auc: 0.844\n",
            "[step = 100] loss: 0.486, auc: 0.846\n",
            "[step = 150] loss: 0.486, auc: 0.847\n",
            "[step = 200] loss: 0.482, auc: 0.851\n",
            "\n",
            "EPOCH = 9, loss = 0.482,auc  = 0.851, val_loss = 0.472, val_auc = 0.857\n",
            "\n",
            "================================================================================2020-09-26 12:37:50\n",
            "[step = 50] loss: 0.474, auc: 0.854\n",
            "[step = 100] loss: 0.469, auc: 0.859\n",
            "[step = 150] loss: 0.470, auc: 0.858\n",
            "[step = 200] loss: 0.471, auc: 0.857\n",
            "\n",
            "EPOCH = 10, loss = 0.471,auc  = 0.857, val_loss = 0.485, val_auc = 0.868\n",
            "\n",
            "================================================================================2020-09-26 12:38:14\n",
            "[step = 50] loss: 0.459, auc: 0.873\n",
            "[step = 100] loss: 0.468, auc: 0.867\n",
            "[step = 150] loss: 0.465, auc: 0.869\n",
            "[step = 200] loss: 0.463, auc: 0.868\n",
            "\n",
            "EPOCH = 11, loss = 0.463,auc  = 0.868, val_loss = 0.457, val_auc = 0.870\n",
            "\n",
            "================================================================================2020-09-26 12:38:37\n",
            "[step = 50] loss: 0.463, auc: 0.869\n",
            "[step = 100] loss: 0.458, auc: 0.872\n",
            "[step = 150] loss: 0.457, auc: 0.872\n",
            "[step = 200] loss: 0.454, auc: 0.874\n",
            "\n",
            "EPOCH = 12, loss = 0.454,auc  = 0.874, val_loss = 0.434, val_auc = 0.881\n",
            "\n",
            "================================================================================2020-09-26 12:39:01\n",
            "[step = 50] loss: 0.430, auc: 0.889\n",
            "[step = 100] loss: 0.441, auc: 0.883\n",
            "[step = 150] loss: 0.441, auc: 0.882\n",
            "[step = 200] loss: 0.443, auc: 0.881\n",
            "\n",
            "EPOCH = 13, loss = 0.443,auc  = 0.881, val_loss = 0.466, val_auc = 0.884\n",
            "\n",
            "================================================================================2020-09-26 12:39:27\n",
            "[step = 50] loss: 0.456, auc: 0.879\n",
            "[step = 100] loss: 0.442, auc: 0.885\n",
            "[step = 150] loss: 0.434, auc: 0.890\n",
            "[step = 200] loss: 0.437, auc: 0.889\n",
            "\n",
            "EPOCH = 14, loss = 0.437,auc  = 0.889, val_loss = 0.425, val_auc = 0.900\n",
            "\n",
            "================================================================================2020-09-26 12:39:51\n",
            "[step = 50] loss: 0.430, auc: 0.895\n",
            "[step = 100] loss: 0.426, auc: 0.899\n",
            "[step = 150] loss: 0.429, auc: 0.898\n",
            "[step = 200] loss: 0.432, auc: 0.897\n",
            "\n",
            "EPOCH = 15, loss = 0.432,auc  = 0.897, val_loss = 0.402, val_auc = 0.902\n",
            "\n",
            "================================================================================2020-09-26 12:40:16\n",
            "[step = 50] loss: 0.431, auc: 0.897\n",
            "[step = 100] loss: 0.421, auc: 0.903\n",
            "[step = 150] loss: 0.414, auc: 0.907\n",
            "[step = 200] loss: 0.419, auc: 0.904\n",
            "\n",
            "EPOCH = 16, loss = 0.419,auc  = 0.904, val_loss = 0.384, val_auc = 0.912\n",
            "\n",
            "================================================================================2020-09-26 12:40:40\n",
            "[step = 50] loss: 0.420, auc: 0.903\n",
            "[step = 100] loss: 0.408, auc: 0.908\n",
            "[step = 150] loss: 0.403, auc: 0.909\n",
            "[step = 200] loss: 0.404, auc: 0.911\n",
            "\n",
            "EPOCH = 17, loss = 0.404,auc  = 0.911, val_loss = 0.383, val_auc = 0.913\n",
            "\n",
            "================================================================================2020-09-26 12:41:03\n",
            "[step = 50] loss: 0.400, auc: 0.915\n",
            "[step = 100] loss: 0.400, auc: 0.916\n",
            "[step = 150] loss: 0.401, auc: 0.916\n",
            "[step = 200] loss: 0.401, auc: 0.916\n",
            "\n",
            "EPOCH = 18, loss = 0.401,auc  = 0.916, val_loss = 0.418, val_auc = 0.929\n",
            "\n",
            "================================================================================2020-09-26 12:41:27\n",
            "[step = 50] loss: 0.399, auc: 0.922\n",
            "[step = 100] loss: 0.398, auc: 0.922\n",
            "[step = 150] loss: 0.404, auc: 0.923\n",
            "[step = 200] loss: 0.396, auc: 0.924\n",
            "\n",
            "EPOCH = 19, loss = 0.396,auc  = 0.924, val_loss = 0.367, val_auc = 0.934\n",
            "\n",
            "================================================================================2020-09-26 12:41:50\n",
            "[step = 50] loss: 0.355, auc: 0.933\n",
            "[step = 100] loss: 0.378, auc: 0.930\n",
            "[step = 150] loss: 0.376, auc: 0.929\n",
            "[step = 200] loss: 0.375, auc: 0.929\n",
            "\n",
            "EPOCH = 20, loss = 0.375,auc  = 0.929, val_loss = 0.366, val_auc = 0.931\n",
            "\n",
            "================================================================================2020-09-26 12:42:14\n",
            "Finished Training...\n"
          ],
          "name": "stdout"
        }
      ]
    },
    {
      "cell_type": "markdown",
      "metadata": {
        "id": "ktmTA6QYaMQM"
      },
      "source": [
        "# Four, evaluation model\n",
        "We first evaluate the effect of the model on the training set and validation set."
      ]
    },
    {
      "cell_type": "code",
      "metadata": {
        "id": "CHCM4s7CaCqv",
        "outputId": "16a009a0-1e3e-49fd-e156-83d389f895b7",
        "colab": {
          "base_uri": "https://localhost:8080/",
          "height": 639
        }
      },
      "source": [
        "dfhistory"
      ],
      "execution_count": 34,
      "outputs": [
        {
          "output_type": "execute_result",
          "data": {
            "text/html": [
              "<div>\n",
              "<style scoped>\n",
              "    .dataframe tbody tr th:only-of-type {\n",
              "        vertical-align: middle;\n",
              "    }\n",
              "\n",
              "    .dataframe tbody tr th {\n",
              "        vertical-align: top;\n",
              "    }\n",
              "\n",
              "    .dataframe thead th {\n",
              "        text-align: right;\n",
              "    }\n",
              "</style>\n",
              "<table border=\"1\" class=\"dataframe\">\n",
              "  <thead>\n",
              "    <tr style=\"text-align: right;\">\n",
              "      <th></th>\n",
              "      <th>epoch</th>\n",
              "      <th>loss</th>\n",
              "      <th>auc</th>\n",
              "      <th>val_loss</th>\n",
              "      <th>val_auc</th>\n",
              "    </tr>\n",
              "  </thead>\n",
              "  <tbody>\n",
              "    <tr>\n",
              "      <th>0</th>\n",
              "      <td>1.0</td>\n",
              "      <td>0.680459</td>\n",
              "      <td>0.760806</td>\n",
              "      <td>0.667771</td>\n",
              "      <td>0.804766</td>\n",
              "    </tr>\n",
              "    <tr>\n",
              "      <th>1</th>\n",
              "      <td>2.0</td>\n",
              "      <td>0.651275</td>\n",
              "      <td>0.794604</td>\n",
              "      <td>0.626957</td>\n",
              "      <td>0.808204</td>\n",
              "    </tr>\n",
              "    <tr>\n",
              "      <th>2</th>\n",
              "      <td>3.0</td>\n",
              "      <td>0.600041</td>\n",
              "      <td>0.802242</td>\n",
              "      <td>0.568256</td>\n",
              "      <td>0.810869</td>\n",
              "    </tr>\n",
              "    <tr>\n",
              "      <th>3</th>\n",
              "      <td>4.0</td>\n",
              "      <td>0.550297</td>\n",
              "      <td>0.807997</td>\n",
              "      <td>0.529548</td>\n",
              "      <td>0.818655</td>\n",
              "    </tr>\n",
              "    <tr>\n",
              "      <th>4</th>\n",
              "      <td>5.0</td>\n",
              "      <td>0.524518</td>\n",
              "      <td>0.816810</td>\n",
              "      <td>0.508594</td>\n",
              "      <td>0.829007</td>\n",
              "    </tr>\n",
              "    <tr>\n",
              "      <th>5</th>\n",
              "      <td>6.0</td>\n",
              "      <td>0.511129</td>\n",
              "      <td>0.825424</td>\n",
              "      <td>0.496109</td>\n",
              "      <td>0.838631</td>\n",
              "    </tr>\n",
              "    <tr>\n",
              "      <th>6</th>\n",
              "      <td>7.0</td>\n",
              "      <td>0.498522</td>\n",
              "      <td>0.834996</td>\n",
              "      <td>0.485604</td>\n",
              "      <td>0.845403</td>\n",
              "    </tr>\n",
              "    <tr>\n",
              "      <th>7</th>\n",
              "      <td>8.0</td>\n",
              "      <td>0.489412</td>\n",
              "      <td>0.842103</td>\n",
              "      <td>0.479277</td>\n",
              "      <td>0.850793</td>\n",
              "    </tr>\n",
              "    <tr>\n",
              "      <th>8</th>\n",
              "      <td>9.0</td>\n",
              "      <td>0.481688</td>\n",
              "      <td>0.850593</td>\n",
              "      <td>0.472460</td>\n",
              "      <td>0.857347</td>\n",
              "    </tr>\n",
              "    <tr>\n",
              "      <th>9</th>\n",
              "      <td>10.0</td>\n",
              "      <td>0.470657</td>\n",
              "      <td>0.857201</td>\n",
              "      <td>0.484907</td>\n",
              "      <td>0.867548</td>\n",
              "    </tr>\n",
              "    <tr>\n",
              "      <th>10</th>\n",
              "      <td>11.0</td>\n",
              "      <td>0.463000</td>\n",
              "      <td>0.868071</td>\n",
              "      <td>0.456924</td>\n",
              "      <td>0.869745</td>\n",
              "    </tr>\n",
              "    <tr>\n",
              "      <th>11</th>\n",
              "      <td>12.0</td>\n",
              "      <td>0.453979</td>\n",
              "      <td>0.874252</td>\n",
              "      <td>0.434462</td>\n",
              "      <td>0.881170</td>\n",
              "    </tr>\n",
              "    <tr>\n",
              "      <th>12</th>\n",
              "      <td>13.0</td>\n",
              "      <td>0.443341</td>\n",
              "      <td>0.880542</td>\n",
              "      <td>0.465902</td>\n",
              "      <td>0.883730</td>\n",
              "    </tr>\n",
              "    <tr>\n",
              "      <th>13</th>\n",
              "      <td>14.0</td>\n",
              "      <td>0.437414</td>\n",
              "      <td>0.889453</td>\n",
              "      <td>0.424531</td>\n",
              "      <td>0.899661</td>\n",
              "    </tr>\n",
              "    <tr>\n",
              "      <th>14</th>\n",
              "      <td>15.0</td>\n",
              "      <td>0.432035</td>\n",
              "      <td>0.896714</td>\n",
              "      <td>0.402036</td>\n",
              "      <td>0.902394</td>\n",
              "    </tr>\n",
              "    <tr>\n",
              "      <th>15</th>\n",
              "      <td>16.0</td>\n",
              "      <td>0.419017</td>\n",
              "      <td>0.904291</td>\n",
              "      <td>0.384280</td>\n",
              "      <td>0.912032</td>\n",
              "    </tr>\n",
              "    <tr>\n",
              "      <th>16</th>\n",
              "      <td>17.0</td>\n",
              "      <td>0.403548</td>\n",
              "      <td>0.911434</td>\n",
              "      <td>0.383090</td>\n",
              "      <td>0.913490</td>\n",
              "    </tr>\n",
              "    <tr>\n",
              "      <th>17</th>\n",
              "      <td>18.0</td>\n",
              "      <td>0.400884</td>\n",
              "      <td>0.915924</td>\n",
              "      <td>0.418049</td>\n",
              "      <td>0.928925</td>\n",
              "    </tr>\n",
              "    <tr>\n",
              "      <th>18</th>\n",
              "      <td>19.0</td>\n",
              "      <td>0.395605</td>\n",
              "      <td>0.923678</td>\n",
              "      <td>0.366512</td>\n",
              "      <td>0.933871</td>\n",
              "    </tr>\n",
              "    <tr>\n",
              "      <th>19</th>\n",
              "      <td>20.0</td>\n",
              "      <td>0.374801</td>\n",
              "      <td>0.929032</td>\n",
              "      <td>0.366403</td>\n",
              "      <td>0.930636</td>\n",
              "    </tr>\n",
              "  </tbody>\n",
              "</table>\n",
              "</div>"
            ],
            "text/plain": [
              "    epoch      loss       auc  val_loss   val_auc\n",
              "0     1.0  0.680459  0.760806  0.667771  0.804766\n",
              "1     2.0  0.651275  0.794604  0.626957  0.808204\n",
              "2     3.0  0.600041  0.802242  0.568256  0.810869\n",
              "3     4.0  0.550297  0.807997  0.529548  0.818655\n",
              "4     5.0  0.524518  0.816810  0.508594  0.829007\n",
              "5     6.0  0.511129  0.825424  0.496109  0.838631\n",
              "6     7.0  0.498522  0.834996  0.485604  0.845403\n",
              "7     8.0  0.489412  0.842103  0.479277  0.850793\n",
              "8     9.0  0.481688  0.850593  0.472460  0.857347\n",
              "9    10.0  0.470657  0.857201  0.484907  0.867548\n",
              "10   11.0  0.463000  0.868071  0.456924  0.869745\n",
              "11   12.0  0.453979  0.874252  0.434462  0.881170\n",
              "12   13.0  0.443341  0.880542  0.465902  0.883730\n",
              "13   14.0  0.437414  0.889453  0.424531  0.899661\n",
              "14   15.0  0.432035  0.896714  0.402036  0.902394\n",
              "15   16.0  0.419017  0.904291  0.384280  0.912032\n",
              "16   17.0  0.403548  0.911434  0.383090  0.913490\n",
              "17   18.0  0.400884  0.915924  0.418049  0.928925\n",
              "18   19.0  0.395605  0.923678  0.366512  0.933871\n",
              "19   20.0  0.374801  0.929032  0.366403  0.930636"
            ]
          },
          "metadata": {
            "tags": []
          },
          "execution_count": 34
        }
      ]
    },
    {
      "cell_type": "code",
      "metadata": {
        "id": "V3UOPCTBaPHl"
      },
      "source": [
        "%matplotlib inline\n",
        "%config InlineBackend.figure_format = 'svg'\n",
        "\n",
        "import matplotlib.pyplot as plt\n",
        "\n",
        "def plot_metric(dfhistory, metric):\n",
        "    train_metrics = dfhistory[metric]\n",
        "    val_metrics = dfhistory['val_'+metric]\n",
        "    epochs = range(1, len(train_metrics) + 1)\n",
        "    plt.plot(epochs, train_metrics, 'bo--')\n",
        "    plt.plot(epochs, val_metrics, 'ro-')\n",
        "    plt.title('Training and validation '+ metric)\n",
        "    plt.xlabel(\"Epochs\")\n",
        "    plt.ylabel(metric)\n",
        "    plt.legend([\"train_\"+metric, 'val_'+metric])\n",
        "    plt.show()"
      ],
      "execution_count": 35,
      "outputs": []
    },
    {
      "cell_type": "code",
      "metadata": {
        "id": "ytvzZMaycFWt",
        "outputId": "c28d7e82-623b-420a-ca7b-d1951025091f",
        "colab": {
          "base_uri": "https://localhost:8080/",
          "height": 390
        }
      },
      "source": [
        "plot_metric(dfhistory,\"loss\")"
      ],
      "execution_count": 36,
      "outputs": [
        {
          "output_type": "display_data",
          "data": {
            "text/plain": [
              "<Figure size 432x288 with 1 Axes>"
            ],
            "image/svg+xml": "<?xml version=\"1.0\" encoding=\"utf-8\" standalone=\"no\"?>\n<!DOCTYPE svg PUBLIC \"-//W3C//DTD SVG 1.1//EN\"\n  \"http://www.w3.org/Graphics/SVG/1.1/DTD/svg11.dtd\">\n<!-- Created with matplotlib (https://matplotlib.org/) -->\n<svg height=\"277.314375pt\" version=\"1.1\" viewBox=\"0 0 392.14375 277.314375\" width=\"392.14375pt\" xmlns=\"http://www.w3.org/2000/svg\" xmlns:xlink=\"http://www.w3.org/1999/xlink\">\n <defs>\n  <style type=\"text/css\">\n*{stroke-linecap:butt;stroke-linejoin:round;}\n  </style>\n </defs>\n <g id=\"figure_1\">\n  <g id=\"patch_1\">\n   <path d=\"M 0 277.314375 \nL 392.14375 277.314375 \nL 392.14375 0 \nL 0 0 \nz\n\" style=\"fill:none;\"/>\n  </g>\n  <g id=\"axes_1\">\n   <g id=\"patch_2\">\n    <path d=\"M 50.14375 239.758125 \nL 384.94375 239.758125 \nL 384.94375 22.318125 \nL 50.14375 22.318125 \nz\n\" style=\"fill:#ffffff;\"/>\n   </g>\n   <g id=\"matplotlib.axis_1\">\n    <g id=\"xtick_1\">\n     <g id=\"line2d_1\">\n      <defs>\n       <path d=\"M 0 0 \nL 0 3.5 \n\" id=\"m1231eb5791\" style=\"stroke:#000000;stroke-width:0.8;\"/>\n      </defs>\n      <g>\n       <use style=\"stroke:#000000;stroke-width:0.8;\" x=\"89.39064\" xlink:href=\"#m1231eb5791\" y=\"239.758125\"/>\n      </g>\n     </g>\n     <g id=\"text_1\">\n      <!-- 2.5 -->\n      <defs>\n       <path d=\"M 19.1875 8.296875 \nL 53.609375 8.296875 \nL 53.609375 0 \nL 7.328125 0 \nL 7.328125 8.296875 \nQ 12.9375 14.109375 22.625 23.890625 \nQ 32.328125 33.6875 34.8125 36.53125 \nQ 39.546875 41.84375 41.421875 45.53125 \nQ 43.3125 49.21875 43.3125 52.78125 \nQ 43.3125 58.59375 39.234375 62.25 \nQ 35.15625 65.921875 28.609375 65.921875 \nQ 23.96875 65.921875 18.8125 64.3125 \nQ 13.671875 62.703125 7.8125 59.421875 \nL 7.8125 69.390625 \nQ 13.765625 71.78125 18.9375 73 \nQ 24.125 74.21875 28.421875 74.21875 \nQ 39.75 74.21875 46.484375 68.546875 \nQ 53.21875 62.890625 53.21875 53.421875 \nQ 53.21875 48.921875 51.53125 44.890625 \nQ 49.859375 40.875 45.40625 35.40625 \nQ 44.1875 33.984375 37.640625 27.21875 \nQ 31.109375 20.453125 19.1875 8.296875 \nz\n\" id=\"DejaVuSans-50\"/>\n       <path d=\"M 10.6875 12.40625 \nL 21 12.40625 \nL 21 0 \nL 10.6875 0 \nz\n\" id=\"DejaVuSans-46\"/>\n       <path d=\"M 10.796875 72.90625 \nL 49.515625 72.90625 \nL 49.515625 64.59375 \nL 19.828125 64.59375 \nL 19.828125 46.734375 \nQ 21.96875 47.46875 24.109375 47.828125 \nQ 26.265625 48.1875 28.421875 48.1875 \nQ 40.625 48.1875 47.75 41.5 \nQ 54.890625 34.8125 54.890625 23.390625 \nQ 54.890625 11.625 47.5625 5.09375 \nQ 40.234375 -1.421875 26.90625 -1.421875 \nQ 22.3125 -1.421875 17.546875 -0.640625 \nQ 12.796875 0.140625 7.71875 1.703125 \nL 7.71875 11.625 \nQ 12.109375 9.234375 16.796875 8.0625 \nQ 21.484375 6.890625 26.703125 6.890625 \nQ 35.15625 6.890625 40.078125 11.328125 \nQ 45.015625 15.765625 45.015625 23.390625 \nQ 45.015625 31 40.078125 35.4375 \nQ 35.15625 39.890625 26.703125 39.890625 \nQ 22.75 39.890625 18.8125 39.015625 \nQ 14.890625 38.140625 10.796875 36.28125 \nz\n\" id=\"DejaVuSans-53\"/>\n      </defs>\n      <g transform=\"translate(81.439077 254.356562)scale(0.1 -0.1)\">\n       <use xlink:href=\"#DejaVuSans-50\"/>\n       <use x=\"63.623047\" xlink:href=\"#DejaVuSans-46\"/>\n       <use x=\"95.410156\" xlink:href=\"#DejaVuSans-53\"/>\n      </g>\n     </g>\n    </g>\n    <g id=\"xtick_2\">\n     <g id=\"line2d_2\">\n      <g>\n       <use style=\"stroke:#000000;stroke-width:0.8;\" x=\"129.438487\" xlink:href=\"#m1231eb5791\" y=\"239.758125\"/>\n      </g>\n     </g>\n     <g id=\"text_2\">\n      <!-- 5.0 -->\n      <defs>\n       <path d=\"M 31.78125 66.40625 \nQ 24.171875 66.40625 20.328125 58.90625 \nQ 16.5 51.421875 16.5 36.375 \nQ 16.5 21.390625 20.328125 13.890625 \nQ 24.171875 6.390625 31.78125 6.390625 \nQ 39.453125 6.390625 43.28125 13.890625 \nQ 47.125 21.390625 47.125 36.375 \nQ 47.125 51.421875 43.28125 58.90625 \nQ 39.453125 66.40625 31.78125 66.40625 \nz\nM 31.78125 74.21875 \nQ 44.046875 74.21875 50.515625 64.515625 \nQ 56.984375 54.828125 56.984375 36.375 \nQ 56.984375 17.96875 50.515625 8.265625 \nQ 44.046875 -1.421875 31.78125 -1.421875 \nQ 19.53125 -1.421875 13.0625 8.265625 \nQ 6.59375 17.96875 6.59375 36.375 \nQ 6.59375 54.828125 13.0625 64.515625 \nQ 19.53125 74.21875 31.78125 74.21875 \nz\n\" id=\"DejaVuSans-48\"/>\n      </defs>\n      <g transform=\"translate(121.486924 254.356562)scale(0.1 -0.1)\">\n       <use xlink:href=\"#DejaVuSans-53\"/>\n       <use x=\"63.623047\" xlink:href=\"#DejaVuSans-46\"/>\n       <use x=\"95.410156\" xlink:href=\"#DejaVuSans-48\"/>\n      </g>\n     </g>\n    </g>\n    <g id=\"xtick_3\">\n     <g id=\"line2d_3\">\n      <g>\n       <use style=\"stroke:#000000;stroke-width:0.8;\" x=\"169.486334\" xlink:href=\"#m1231eb5791\" y=\"239.758125\"/>\n      </g>\n     </g>\n     <g id=\"text_3\">\n      <!-- 7.5 -->\n      <defs>\n       <path d=\"M 8.203125 72.90625 \nL 55.078125 72.90625 \nL 55.078125 68.703125 \nL 28.609375 0 \nL 18.3125 0 \nL 43.21875 64.59375 \nL 8.203125 64.59375 \nz\n\" id=\"DejaVuSans-55\"/>\n      </defs>\n      <g transform=\"translate(161.534771 254.356562)scale(0.1 -0.1)\">\n       <use xlink:href=\"#DejaVuSans-55\"/>\n       <use x=\"63.623047\" xlink:href=\"#DejaVuSans-46\"/>\n       <use x=\"95.410156\" xlink:href=\"#DejaVuSans-53\"/>\n      </g>\n     </g>\n    </g>\n    <g id=\"xtick_4\">\n     <g id=\"line2d_4\">\n      <g>\n       <use style=\"stroke:#000000;stroke-width:0.8;\" x=\"209.534181\" xlink:href=\"#m1231eb5791\" y=\"239.758125\"/>\n      </g>\n     </g>\n     <g id=\"text_4\">\n      <!-- 10.0 -->\n      <defs>\n       <path d=\"M 12.40625 8.296875 \nL 28.515625 8.296875 \nL 28.515625 63.921875 \nL 10.984375 60.40625 \nL 10.984375 69.390625 \nL 28.421875 72.90625 \nL 38.28125 72.90625 \nL 38.28125 8.296875 \nL 54.390625 8.296875 \nL 54.390625 0 \nL 12.40625 0 \nz\n\" id=\"DejaVuSans-49\"/>\n      </defs>\n      <g transform=\"translate(198.401368 254.356562)scale(0.1 -0.1)\">\n       <use xlink:href=\"#DejaVuSans-49\"/>\n       <use x=\"63.623047\" xlink:href=\"#DejaVuSans-48\"/>\n       <use x=\"127.246094\" xlink:href=\"#DejaVuSans-46\"/>\n       <use x=\"159.033203\" xlink:href=\"#DejaVuSans-48\"/>\n      </g>\n     </g>\n    </g>\n    <g id=\"xtick_5\">\n     <g id=\"line2d_5\">\n      <g>\n       <use style=\"stroke:#000000;stroke-width:0.8;\" x=\"249.582028\" xlink:href=\"#m1231eb5791\" y=\"239.758125\"/>\n      </g>\n     </g>\n     <g id=\"text_5\">\n      <!-- 12.5 -->\n      <g transform=\"translate(238.449215 254.356562)scale(0.1 -0.1)\">\n       <use xlink:href=\"#DejaVuSans-49\"/>\n       <use x=\"63.623047\" xlink:href=\"#DejaVuSans-50\"/>\n       <use x=\"127.246094\" xlink:href=\"#DejaVuSans-46\"/>\n       <use x=\"159.033203\" xlink:href=\"#DejaVuSans-53\"/>\n      </g>\n     </g>\n    </g>\n    <g id=\"xtick_6\">\n     <g id=\"line2d_6\">\n      <g>\n       <use style=\"stroke:#000000;stroke-width:0.8;\" x=\"289.629874\" xlink:href=\"#m1231eb5791\" y=\"239.758125\"/>\n      </g>\n     </g>\n     <g id=\"text_6\">\n      <!-- 15.0 -->\n      <g transform=\"translate(278.497062 254.356562)scale(0.1 -0.1)\">\n       <use xlink:href=\"#DejaVuSans-49\"/>\n       <use x=\"63.623047\" xlink:href=\"#DejaVuSans-53\"/>\n       <use x=\"127.246094\" xlink:href=\"#DejaVuSans-46\"/>\n       <use x=\"159.033203\" xlink:href=\"#DejaVuSans-48\"/>\n      </g>\n     </g>\n    </g>\n    <g id=\"xtick_7\">\n     <g id=\"line2d_7\">\n      <g>\n       <use style=\"stroke:#000000;stroke-width:0.8;\" x=\"329.677721\" xlink:href=\"#m1231eb5791\" y=\"239.758125\"/>\n      </g>\n     </g>\n     <g id=\"text_7\">\n      <!-- 17.5 -->\n      <g transform=\"translate(318.544909 254.356562)scale(0.1 -0.1)\">\n       <use xlink:href=\"#DejaVuSans-49\"/>\n       <use x=\"63.623047\" xlink:href=\"#DejaVuSans-55\"/>\n       <use x=\"127.246094\" xlink:href=\"#DejaVuSans-46\"/>\n       <use x=\"159.033203\" xlink:href=\"#DejaVuSans-53\"/>\n      </g>\n     </g>\n    </g>\n    <g id=\"xtick_8\">\n     <g id=\"line2d_8\">\n      <g>\n       <use style=\"stroke:#000000;stroke-width:0.8;\" x=\"369.725568\" xlink:href=\"#m1231eb5791\" y=\"239.758125\"/>\n      </g>\n     </g>\n     <g id=\"text_8\">\n      <!-- 20.0 -->\n      <g transform=\"translate(358.592756 254.356562)scale(0.1 -0.1)\">\n       <use xlink:href=\"#DejaVuSans-50\"/>\n       <use x=\"63.623047\" xlink:href=\"#DejaVuSans-48\"/>\n       <use x=\"127.246094\" xlink:href=\"#DejaVuSans-46\"/>\n       <use x=\"159.033203\" xlink:href=\"#DejaVuSans-48\"/>\n      </g>\n     </g>\n    </g>\n    <g id=\"text_9\">\n     <!-- Epochs -->\n     <defs>\n      <path d=\"M 9.8125 72.90625 \nL 55.90625 72.90625 \nL 55.90625 64.59375 \nL 19.671875 64.59375 \nL 19.671875 43.015625 \nL 54.390625 43.015625 \nL 54.390625 34.71875 \nL 19.671875 34.71875 \nL 19.671875 8.296875 \nL 56.78125 8.296875 \nL 56.78125 0 \nL 9.8125 0 \nz\n\" id=\"DejaVuSans-69\"/>\n      <path d=\"M 18.109375 8.203125 \nL 18.109375 -20.796875 \nL 9.078125 -20.796875 \nL 9.078125 54.6875 \nL 18.109375 54.6875 \nL 18.109375 46.390625 \nQ 20.953125 51.265625 25.265625 53.625 \nQ 29.59375 56 35.59375 56 \nQ 45.5625 56 51.78125 48.09375 \nQ 58.015625 40.1875 58.015625 27.296875 \nQ 58.015625 14.40625 51.78125 6.484375 \nQ 45.5625 -1.421875 35.59375 -1.421875 \nQ 29.59375 -1.421875 25.265625 0.953125 \nQ 20.953125 3.328125 18.109375 8.203125 \nz\nM 48.6875 27.296875 \nQ 48.6875 37.203125 44.609375 42.84375 \nQ 40.53125 48.484375 33.40625 48.484375 \nQ 26.265625 48.484375 22.1875 42.84375 \nQ 18.109375 37.203125 18.109375 27.296875 \nQ 18.109375 17.390625 22.1875 11.75 \nQ 26.265625 6.109375 33.40625 6.109375 \nQ 40.53125 6.109375 44.609375 11.75 \nQ 48.6875 17.390625 48.6875 27.296875 \nz\n\" id=\"DejaVuSans-112\"/>\n      <path d=\"M 30.609375 48.390625 \nQ 23.390625 48.390625 19.1875 42.75 \nQ 14.984375 37.109375 14.984375 27.296875 \nQ 14.984375 17.484375 19.15625 11.84375 \nQ 23.34375 6.203125 30.609375 6.203125 \nQ 37.796875 6.203125 41.984375 11.859375 \nQ 46.1875 17.53125 46.1875 27.296875 \nQ 46.1875 37.015625 41.984375 42.703125 \nQ 37.796875 48.390625 30.609375 48.390625 \nz\nM 30.609375 56 \nQ 42.328125 56 49.015625 48.375 \nQ 55.71875 40.765625 55.71875 27.296875 \nQ 55.71875 13.875 49.015625 6.21875 \nQ 42.328125 -1.421875 30.609375 -1.421875 \nQ 18.84375 -1.421875 12.171875 6.21875 \nQ 5.515625 13.875 5.515625 27.296875 \nQ 5.515625 40.765625 12.171875 48.375 \nQ 18.84375 56 30.609375 56 \nz\n\" id=\"DejaVuSans-111\"/>\n      <path d=\"M 48.78125 52.59375 \nL 48.78125 44.1875 \nQ 44.96875 46.296875 41.140625 47.34375 \nQ 37.3125 48.390625 33.40625 48.390625 \nQ 24.65625 48.390625 19.8125 42.84375 \nQ 14.984375 37.3125 14.984375 27.296875 \nQ 14.984375 17.28125 19.8125 11.734375 \nQ 24.65625 6.203125 33.40625 6.203125 \nQ 37.3125 6.203125 41.140625 7.25 \nQ 44.96875 8.296875 48.78125 10.40625 \nL 48.78125 2.09375 \nQ 45.015625 0.34375 40.984375 -0.53125 \nQ 36.96875 -1.421875 32.421875 -1.421875 \nQ 20.0625 -1.421875 12.78125 6.34375 \nQ 5.515625 14.109375 5.515625 27.296875 \nQ 5.515625 40.671875 12.859375 48.328125 \nQ 20.21875 56 33.015625 56 \nQ 37.15625 56 41.109375 55.140625 \nQ 45.0625 54.296875 48.78125 52.59375 \nz\n\" id=\"DejaVuSans-99\"/>\n      <path d=\"M 54.890625 33.015625 \nL 54.890625 0 \nL 45.90625 0 \nL 45.90625 32.71875 \nQ 45.90625 40.484375 42.875 44.328125 \nQ 39.84375 48.1875 33.796875 48.1875 \nQ 26.515625 48.1875 22.3125 43.546875 \nQ 18.109375 38.921875 18.109375 30.90625 \nL 18.109375 0 \nL 9.078125 0 \nL 9.078125 75.984375 \nL 18.109375 75.984375 \nL 18.109375 46.1875 \nQ 21.34375 51.125 25.703125 53.5625 \nQ 30.078125 56 35.796875 56 \nQ 45.21875 56 50.046875 50.171875 \nQ 54.890625 44.34375 54.890625 33.015625 \nz\n\" id=\"DejaVuSans-104\"/>\n      <path d=\"M 44.28125 53.078125 \nL 44.28125 44.578125 \nQ 40.484375 46.53125 36.375 47.5 \nQ 32.28125 48.484375 27.875 48.484375 \nQ 21.1875 48.484375 17.84375 46.4375 \nQ 14.5 44.390625 14.5 40.28125 \nQ 14.5 37.15625 16.890625 35.375 \nQ 19.28125 33.59375 26.515625 31.984375 \nL 29.59375 31.296875 \nQ 39.15625 29.25 43.1875 25.515625 \nQ 47.21875 21.78125 47.21875 15.09375 \nQ 47.21875 7.46875 41.1875 3.015625 \nQ 35.15625 -1.421875 24.609375 -1.421875 \nQ 20.21875 -1.421875 15.453125 -0.5625 \nQ 10.6875 0.296875 5.421875 2 \nL 5.421875 11.28125 \nQ 10.40625 8.6875 15.234375 7.390625 \nQ 20.0625 6.109375 24.8125 6.109375 \nQ 31.15625 6.109375 34.5625 8.28125 \nQ 37.984375 10.453125 37.984375 14.40625 \nQ 37.984375 18.0625 35.515625 20.015625 \nQ 33.0625 21.96875 24.703125 23.78125 \nL 21.578125 24.515625 \nQ 13.234375 26.265625 9.515625 29.90625 \nQ 5.8125 33.546875 5.8125 39.890625 \nQ 5.8125 47.609375 11.28125 51.796875 \nQ 16.75 56 26.8125 56 \nQ 31.78125 56 36.171875 55.265625 \nQ 40.578125 54.546875 44.28125 53.078125 \nz\n\" id=\"DejaVuSans-115\"/>\n     </defs>\n     <g transform=\"translate(199.628125 268.034687)scale(0.1 -0.1)\">\n      <use xlink:href=\"#DejaVuSans-69\"/>\n      <use x=\"63.183594\" xlink:href=\"#DejaVuSans-112\"/>\n      <use x=\"126.660156\" xlink:href=\"#DejaVuSans-111\"/>\n      <use x=\"187.841797\" xlink:href=\"#DejaVuSans-99\"/>\n      <use x=\"242.822266\" xlink:href=\"#DejaVuSans-104\"/>\n      <use x=\"306.201172\" xlink:href=\"#DejaVuSans-115\"/>\n     </g>\n    </g>\n   </g>\n   <g id=\"matplotlib.axis_2\">\n    <g id=\"ytick_1\">\n     <g id=\"line2d_9\">\n      <defs>\n       <path d=\"M 0 0 \nL -3.5 0 \n\" id=\"mf802acea48\" style=\"stroke:#000000;stroke-width:0.8;\"/>\n      </defs>\n      <g>\n       <use style=\"stroke:#000000;stroke-width:0.8;\" x=\"50.14375\" xlink:href=\"#mf802acea48\" y=\"208.728033\"/>\n      </g>\n     </g>\n     <g id=\"text_10\">\n      <!-- 0.40 -->\n      <defs>\n       <path d=\"M 37.796875 64.3125 \nL 12.890625 25.390625 \nL 37.796875 25.390625 \nz\nM 35.203125 72.90625 \nL 47.609375 72.90625 \nL 47.609375 25.390625 \nL 58.015625 25.390625 \nL 58.015625 17.1875 \nL 47.609375 17.1875 \nL 47.609375 0 \nL 37.796875 0 \nL 37.796875 17.1875 \nL 4.890625 17.1875 \nL 4.890625 26.703125 \nz\n\" id=\"DejaVuSans-52\"/>\n      </defs>\n      <g transform=\"translate(20.878125 212.527252)scale(0.1 -0.1)\">\n       <use xlink:href=\"#DejaVuSans-48\"/>\n       <use x=\"63.623047\" xlink:href=\"#DejaVuSans-46\"/>\n       <use x=\"95.410156\" xlink:href=\"#DejaVuSans-52\"/>\n       <use x=\"159.033203\" xlink:href=\"#DejaVuSans-48\"/>\n      </g>\n     </g>\n    </g>\n    <g id=\"ytick_2\">\n     <g id=\"line2d_10\">\n      <g>\n       <use style=\"stroke:#000000;stroke-width:0.8;\" x=\"50.14375\" xlink:href=\"#mf802acea48\" y=\"177.2571\"/>\n      </g>\n     </g>\n     <g id=\"text_11\">\n      <!-- 0.45 -->\n      <g transform=\"translate(20.878125 181.056318)scale(0.1 -0.1)\">\n       <use xlink:href=\"#DejaVuSans-48\"/>\n       <use x=\"63.623047\" xlink:href=\"#DejaVuSans-46\"/>\n       <use x=\"95.410156\" xlink:href=\"#DejaVuSans-52\"/>\n       <use x=\"159.033203\" xlink:href=\"#DejaVuSans-53\"/>\n      </g>\n     </g>\n    </g>\n    <g id=\"ytick_3\">\n     <g id=\"line2d_11\">\n      <g>\n       <use style=\"stroke:#000000;stroke-width:0.8;\" x=\"50.14375\" xlink:href=\"#mf802acea48\" y=\"145.786166\"/>\n      </g>\n     </g>\n     <g id=\"text_12\">\n      <!-- 0.50 -->\n      <g transform=\"translate(20.878125 149.585385)scale(0.1 -0.1)\">\n       <use xlink:href=\"#DejaVuSans-48\"/>\n       <use x=\"63.623047\" xlink:href=\"#DejaVuSans-46\"/>\n       <use x=\"95.410156\" xlink:href=\"#DejaVuSans-53\"/>\n       <use x=\"159.033203\" xlink:href=\"#DejaVuSans-48\"/>\n      </g>\n     </g>\n    </g>\n    <g id=\"ytick_4\">\n     <g id=\"line2d_12\">\n      <g>\n       <use style=\"stroke:#000000;stroke-width:0.8;\" x=\"50.14375\" xlink:href=\"#mf802acea48\" y=\"114.315233\"/>\n      </g>\n     </g>\n     <g id=\"text_13\">\n      <!-- 0.55 -->\n      <g transform=\"translate(20.878125 118.114452)scale(0.1 -0.1)\">\n       <use xlink:href=\"#DejaVuSans-48\"/>\n       <use x=\"63.623047\" xlink:href=\"#DejaVuSans-46\"/>\n       <use x=\"95.410156\" xlink:href=\"#DejaVuSans-53\"/>\n       <use x=\"159.033203\" xlink:href=\"#DejaVuSans-53\"/>\n      </g>\n     </g>\n    </g>\n    <g id=\"ytick_5\">\n     <g id=\"line2d_13\">\n      <g>\n       <use style=\"stroke:#000000;stroke-width:0.8;\" x=\"50.14375\" xlink:href=\"#mf802acea48\" y=\"82.8443\"/>\n      </g>\n     </g>\n     <g id=\"text_14\">\n      <!-- 0.60 -->\n      <defs>\n       <path d=\"M 33.015625 40.375 \nQ 26.375 40.375 22.484375 35.828125 \nQ 18.609375 31.296875 18.609375 23.390625 \nQ 18.609375 15.53125 22.484375 10.953125 \nQ 26.375 6.390625 33.015625 6.390625 \nQ 39.65625 6.390625 43.53125 10.953125 \nQ 47.40625 15.53125 47.40625 23.390625 \nQ 47.40625 31.296875 43.53125 35.828125 \nQ 39.65625 40.375 33.015625 40.375 \nz\nM 52.59375 71.296875 \nL 52.59375 62.3125 \nQ 48.875 64.0625 45.09375 64.984375 \nQ 41.3125 65.921875 37.59375 65.921875 \nQ 27.828125 65.921875 22.671875 59.328125 \nQ 17.53125 52.734375 16.796875 39.40625 \nQ 19.671875 43.65625 24.015625 45.921875 \nQ 28.375 48.1875 33.59375 48.1875 \nQ 44.578125 48.1875 50.953125 41.515625 \nQ 57.328125 34.859375 57.328125 23.390625 \nQ 57.328125 12.15625 50.6875 5.359375 \nQ 44.046875 -1.421875 33.015625 -1.421875 \nQ 20.359375 -1.421875 13.671875 8.265625 \nQ 6.984375 17.96875 6.984375 36.375 \nQ 6.984375 53.65625 15.1875 63.9375 \nQ 23.390625 74.21875 37.203125 74.21875 \nQ 40.921875 74.21875 44.703125 73.484375 \nQ 48.484375 72.75 52.59375 71.296875 \nz\n\" id=\"DejaVuSans-54\"/>\n      </defs>\n      <g transform=\"translate(20.878125 86.643519)scale(0.1 -0.1)\">\n       <use xlink:href=\"#DejaVuSans-48\"/>\n       <use x=\"63.623047\" xlink:href=\"#DejaVuSans-46\"/>\n       <use x=\"95.410156\" xlink:href=\"#DejaVuSans-54\"/>\n       <use x=\"159.033203\" xlink:href=\"#DejaVuSans-48\"/>\n      </g>\n     </g>\n    </g>\n    <g id=\"ytick_6\">\n     <g id=\"line2d_14\">\n      <g>\n       <use style=\"stroke:#000000;stroke-width:0.8;\" x=\"50.14375\" xlink:href=\"#mf802acea48\" y=\"51.373367\"/>\n      </g>\n     </g>\n     <g id=\"text_15\">\n      <!-- 0.65 -->\n      <g transform=\"translate(20.878125 55.172586)scale(0.1 -0.1)\">\n       <use xlink:href=\"#DejaVuSans-48\"/>\n       <use x=\"63.623047\" xlink:href=\"#DejaVuSans-46\"/>\n       <use x=\"95.410156\" xlink:href=\"#DejaVuSans-54\"/>\n       <use x=\"159.033203\" xlink:href=\"#DejaVuSans-53\"/>\n      </g>\n     </g>\n    </g>\n    <g id=\"text_16\">\n     <!-- loss -->\n     <defs>\n      <path d=\"M 9.421875 75.984375 \nL 18.40625 75.984375 \nL 18.40625 0 \nL 9.421875 0 \nz\n\" id=\"DejaVuSans-108\"/>\n     </defs>\n     <g transform=\"translate(14.798438 140.695937)rotate(-90)scale(0.1 -0.1)\">\n      <use xlink:href=\"#DejaVuSans-108\"/>\n      <use x=\"27.783203\" xlink:href=\"#DejaVuSans-111\"/>\n      <use x=\"88.964844\" xlink:href=\"#DejaVuSans-115\"/>\n      <use x=\"141.064453\" xlink:href=\"#DejaVuSans-115\"/>\n     </g>\n    </g>\n   </g>\n   <g id=\"line2d_15\">\n    <path clip-path=\"url(#p72867a03f1)\" d=\"M 65.361932 32.201761 \nL 81.381071 50.571077 \nL 97.400209 82.818518 \nL 113.419348 114.128095 \nL 129.438487 130.35381 \nL 145.457626 138.781441 \nL 161.476764 146.716363 \nL 177.495903 152.450153 \nL 193.515042 157.31209 \nL 209.534181 164.254918 \nL 225.553319 169.074874 \nL 241.572458 174.752697 \nL 257.591597 181.448385 \nL 273.610736 185.178926 \nL 289.629874 188.564732 \nL 305.649013 196.758625 \nL 321.668152 206.495077 \nL 337.687291 208.171488 \nL 353.706429 211.494228 \nL 369.725568 224.588638 \n\" style=\"fill:none;stroke:#0000ff;stroke-dasharray:5.55,2.4;stroke-dashoffset:0;stroke-width:1.5;\"/>\n    <defs>\n     <path d=\"M 0 3 \nC 0.795609 3 1.55874 2.683901 2.12132 2.12132 \nC 2.683901 1.55874 3 0.795609 3 0 \nC 3 -0.795609 2.683901 -1.55874 2.12132 -2.12132 \nC 1.55874 -2.683901 0.795609 -3 0 -3 \nC -0.795609 -3 -1.55874 -2.683901 -2.12132 -2.12132 \nC -2.683901 -1.55874 -3 -0.795609 -3 0 \nC -3 0.795609 -2.683901 1.55874 -2.12132 2.12132 \nC -1.55874 2.683901 -0.795609 3 0 3 \nz\n\" id=\"m68520c04ef\" style=\"stroke:#0000ff;\"/>\n    </defs>\n    <g clip-path=\"url(#p72867a03f1)\">\n     <use style=\"fill:#0000ff;stroke:#0000ff;\" x=\"65.361932\" xlink:href=\"#m68520c04ef\" y=\"32.201761\"/>\n     <use style=\"fill:#0000ff;stroke:#0000ff;\" x=\"81.381071\" xlink:href=\"#m68520c04ef\" y=\"50.571077\"/>\n     <use style=\"fill:#0000ff;stroke:#0000ff;\" x=\"97.400209\" xlink:href=\"#m68520c04ef\" y=\"82.818518\"/>\n     <use style=\"fill:#0000ff;stroke:#0000ff;\" x=\"113.419348\" xlink:href=\"#m68520c04ef\" y=\"114.128095\"/>\n     <use style=\"fill:#0000ff;stroke:#0000ff;\" x=\"129.438487\" xlink:href=\"#m68520c04ef\" y=\"130.35381\"/>\n     <use style=\"fill:#0000ff;stroke:#0000ff;\" x=\"145.457626\" xlink:href=\"#m68520c04ef\" y=\"138.781441\"/>\n     <use style=\"fill:#0000ff;stroke:#0000ff;\" x=\"161.476764\" xlink:href=\"#m68520c04ef\" y=\"146.716363\"/>\n     <use style=\"fill:#0000ff;stroke:#0000ff;\" x=\"177.495903\" xlink:href=\"#m68520c04ef\" y=\"152.450153\"/>\n     <use style=\"fill:#0000ff;stroke:#0000ff;\" x=\"193.515042\" xlink:href=\"#m68520c04ef\" y=\"157.31209\"/>\n     <use style=\"fill:#0000ff;stroke:#0000ff;\" x=\"209.534181\" xlink:href=\"#m68520c04ef\" y=\"164.254918\"/>\n     <use style=\"fill:#0000ff;stroke:#0000ff;\" x=\"225.553319\" xlink:href=\"#m68520c04ef\" y=\"169.074874\"/>\n     <use style=\"fill:#0000ff;stroke:#0000ff;\" x=\"241.572458\" xlink:href=\"#m68520c04ef\" y=\"174.752697\"/>\n     <use style=\"fill:#0000ff;stroke:#0000ff;\" x=\"257.591597\" xlink:href=\"#m68520c04ef\" y=\"181.448385\"/>\n     <use style=\"fill:#0000ff;stroke:#0000ff;\" x=\"273.610736\" xlink:href=\"#m68520c04ef\" y=\"185.178926\"/>\n     <use style=\"fill:#0000ff;stroke:#0000ff;\" x=\"289.629874\" xlink:href=\"#m68520c04ef\" y=\"188.564732\"/>\n     <use style=\"fill:#0000ff;stroke:#0000ff;\" x=\"305.649013\" xlink:href=\"#m68520c04ef\" y=\"196.758625\"/>\n     <use style=\"fill:#0000ff;stroke:#0000ff;\" x=\"321.668152\" xlink:href=\"#m68520c04ef\" y=\"206.495077\"/>\n     <use style=\"fill:#0000ff;stroke:#0000ff;\" x=\"337.687291\" xlink:href=\"#m68520c04ef\" y=\"208.171488\"/>\n     <use style=\"fill:#0000ff;stroke:#0000ff;\" x=\"353.706429\" xlink:href=\"#m68520c04ef\" y=\"211.494228\"/>\n     <use style=\"fill:#0000ff;stroke:#0000ff;\" x=\"369.725568\" xlink:href=\"#m68520c04ef\" y=\"224.588638\"/>\n    </g>\n   </g>\n   <g id=\"line2d_16\">\n    <path clip-path=\"url(#p72867a03f1)\" d=\"M 65.361932 40.187806 \nL 81.381071 65.877176 \nL 97.400209 102.824497 \nL 113.419348 127.188078 \nL 129.438487 140.376763 \nL 145.457626 148.235216 \nL 161.476764 154.847048 \nL 177.495903 158.829477 \nL 193.515042 163.120589 \nL 209.534181 155.285813 \nL 225.553319 172.899306 \nL 241.572458 187.037011 \nL 257.591597 167.248278 \nL 273.610736 193.28749 \nL 289.629874 207.446431 \nL 305.649013 218.62257 \nL 321.668152 219.371326 \nL 337.687291 197.367778 \nL 353.706429 229.806218 \nL 369.725568 229.874489 \n\" style=\"fill:none;stroke:#ff0000;stroke-linecap:square;stroke-width:1.5;\"/>\n    <defs>\n     <path d=\"M 0 3 \nC 0.795609 3 1.55874 2.683901 2.12132 2.12132 \nC 2.683901 1.55874 3 0.795609 3 0 \nC 3 -0.795609 2.683901 -1.55874 2.12132 -2.12132 \nC 1.55874 -2.683901 0.795609 -3 0 -3 \nC -0.795609 -3 -1.55874 -2.683901 -2.12132 -2.12132 \nC -2.683901 -1.55874 -3 -0.795609 -3 0 \nC -3 0.795609 -2.683901 1.55874 -2.12132 2.12132 \nC -1.55874 2.683901 -0.795609 3 0 3 \nz\n\" id=\"mbd10ff1578\" style=\"stroke:#ff0000;\"/>\n    </defs>\n    <g clip-path=\"url(#p72867a03f1)\">\n     <use style=\"fill:#ff0000;stroke:#ff0000;\" x=\"65.361932\" xlink:href=\"#mbd10ff1578\" y=\"40.187806\"/>\n     <use style=\"fill:#ff0000;stroke:#ff0000;\" x=\"81.381071\" xlink:href=\"#mbd10ff1578\" y=\"65.877176\"/>\n     <use style=\"fill:#ff0000;stroke:#ff0000;\" x=\"97.400209\" xlink:href=\"#mbd10ff1578\" y=\"102.824497\"/>\n     <use style=\"fill:#ff0000;stroke:#ff0000;\" x=\"113.419348\" xlink:href=\"#mbd10ff1578\" y=\"127.188078\"/>\n     <use style=\"fill:#ff0000;stroke:#ff0000;\" x=\"129.438487\" xlink:href=\"#mbd10ff1578\" y=\"140.376763\"/>\n     <use style=\"fill:#ff0000;stroke:#ff0000;\" x=\"145.457626\" xlink:href=\"#mbd10ff1578\" y=\"148.235216\"/>\n     <use style=\"fill:#ff0000;stroke:#ff0000;\" x=\"161.476764\" xlink:href=\"#mbd10ff1578\" y=\"154.847048\"/>\n     <use style=\"fill:#ff0000;stroke:#ff0000;\" x=\"177.495903\" xlink:href=\"#mbd10ff1578\" y=\"158.829477\"/>\n     <use style=\"fill:#ff0000;stroke:#ff0000;\" x=\"193.515042\" xlink:href=\"#mbd10ff1578\" y=\"163.120589\"/>\n     <use style=\"fill:#ff0000;stroke:#ff0000;\" x=\"209.534181\" xlink:href=\"#mbd10ff1578\" y=\"155.285813\"/>\n     <use style=\"fill:#ff0000;stroke:#ff0000;\" x=\"225.553319\" xlink:href=\"#mbd10ff1578\" y=\"172.899306\"/>\n     <use style=\"fill:#ff0000;stroke:#ff0000;\" x=\"241.572458\" xlink:href=\"#mbd10ff1578\" y=\"187.037011\"/>\n     <use style=\"fill:#ff0000;stroke:#ff0000;\" x=\"257.591597\" xlink:href=\"#mbd10ff1578\" y=\"167.248278\"/>\n     <use style=\"fill:#ff0000;stroke:#ff0000;\" x=\"273.610736\" xlink:href=\"#mbd10ff1578\" y=\"193.28749\"/>\n     <use style=\"fill:#ff0000;stroke:#ff0000;\" x=\"289.629874\" xlink:href=\"#mbd10ff1578\" y=\"207.446431\"/>\n     <use style=\"fill:#ff0000;stroke:#ff0000;\" x=\"305.649013\" xlink:href=\"#mbd10ff1578\" y=\"218.62257\"/>\n     <use style=\"fill:#ff0000;stroke:#ff0000;\" x=\"321.668152\" xlink:href=\"#mbd10ff1578\" y=\"219.371326\"/>\n     <use style=\"fill:#ff0000;stroke:#ff0000;\" x=\"337.687291\" xlink:href=\"#mbd10ff1578\" y=\"197.367778\"/>\n     <use style=\"fill:#ff0000;stroke:#ff0000;\" x=\"353.706429\" xlink:href=\"#mbd10ff1578\" y=\"229.806218\"/>\n     <use style=\"fill:#ff0000;stroke:#ff0000;\" x=\"369.725568\" xlink:href=\"#mbd10ff1578\" y=\"229.874489\"/>\n    </g>\n   </g>\n   <g id=\"patch_3\">\n    <path d=\"M 50.14375 239.758125 \nL 50.14375 22.318125 \n\" style=\"fill:none;stroke:#000000;stroke-linecap:square;stroke-linejoin:miter;stroke-width:0.8;\"/>\n   </g>\n   <g id=\"patch_4\">\n    <path d=\"M 384.94375 239.758125 \nL 384.94375 22.318125 \n\" style=\"fill:none;stroke:#000000;stroke-linecap:square;stroke-linejoin:miter;stroke-width:0.8;\"/>\n   </g>\n   <g id=\"patch_5\">\n    <path d=\"M 50.14375 239.758125 \nL 384.94375 239.758125 \n\" style=\"fill:none;stroke:#000000;stroke-linecap:square;stroke-linejoin:miter;stroke-width:0.8;\"/>\n   </g>\n   <g id=\"patch_6\">\n    <path d=\"M 50.14375 22.318125 \nL 384.94375 22.318125 \n\" style=\"fill:none;stroke:#000000;stroke-linecap:square;stroke-linejoin:miter;stroke-width:0.8;\"/>\n   </g>\n   <g id=\"text_17\">\n    <!-- Training and validation loss -->\n    <defs>\n     <path d=\"M -0.296875 72.90625 \nL 61.375 72.90625 \nL 61.375 64.59375 \nL 35.5 64.59375 \nL 35.5 0 \nL 25.59375 0 \nL 25.59375 64.59375 \nL -0.296875 64.59375 \nz\n\" id=\"DejaVuSans-84\"/>\n     <path d=\"M 41.109375 46.296875 \nQ 39.59375 47.171875 37.8125 47.578125 \nQ 36.03125 48 33.890625 48 \nQ 26.265625 48 22.1875 43.046875 \nQ 18.109375 38.09375 18.109375 28.8125 \nL 18.109375 0 \nL 9.078125 0 \nL 9.078125 54.6875 \nL 18.109375 54.6875 \nL 18.109375 46.1875 \nQ 20.953125 51.171875 25.484375 53.578125 \nQ 30.03125 56 36.53125 56 \nQ 37.453125 56 38.578125 55.875 \nQ 39.703125 55.765625 41.0625 55.515625 \nz\n\" id=\"DejaVuSans-114\"/>\n     <path d=\"M 34.28125 27.484375 \nQ 23.390625 27.484375 19.1875 25 \nQ 14.984375 22.515625 14.984375 16.5 \nQ 14.984375 11.71875 18.140625 8.90625 \nQ 21.296875 6.109375 26.703125 6.109375 \nQ 34.1875 6.109375 38.703125 11.40625 \nQ 43.21875 16.703125 43.21875 25.484375 \nL 43.21875 27.484375 \nz\nM 52.203125 31.203125 \nL 52.203125 0 \nL 43.21875 0 \nL 43.21875 8.296875 \nQ 40.140625 3.328125 35.546875 0.953125 \nQ 30.953125 -1.421875 24.3125 -1.421875 \nQ 15.921875 -1.421875 10.953125 3.296875 \nQ 6 8.015625 6 15.921875 \nQ 6 25.140625 12.171875 29.828125 \nQ 18.359375 34.515625 30.609375 34.515625 \nL 43.21875 34.515625 \nL 43.21875 35.40625 \nQ 43.21875 41.609375 39.140625 45 \nQ 35.0625 48.390625 27.6875 48.390625 \nQ 23 48.390625 18.546875 47.265625 \nQ 14.109375 46.140625 10.015625 43.890625 \nL 10.015625 52.203125 \nQ 14.9375 54.109375 19.578125 55.046875 \nQ 24.21875 56 28.609375 56 \nQ 40.484375 56 46.34375 49.84375 \nQ 52.203125 43.703125 52.203125 31.203125 \nz\n\" id=\"DejaVuSans-97\"/>\n     <path d=\"M 9.421875 54.6875 \nL 18.40625 54.6875 \nL 18.40625 0 \nL 9.421875 0 \nz\nM 9.421875 75.984375 \nL 18.40625 75.984375 \nL 18.40625 64.59375 \nL 9.421875 64.59375 \nz\n\" id=\"DejaVuSans-105\"/>\n     <path d=\"M 54.890625 33.015625 \nL 54.890625 0 \nL 45.90625 0 \nL 45.90625 32.71875 \nQ 45.90625 40.484375 42.875 44.328125 \nQ 39.84375 48.1875 33.796875 48.1875 \nQ 26.515625 48.1875 22.3125 43.546875 \nQ 18.109375 38.921875 18.109375 30.90625 \nL 18.109375 0 \nL 9.078125 0 \nL 9.078125 54.6875 \nL 18.109375 54.6875 \nL 18.109375 46.1875 \nQ 21.34375 51.125 25.703125 53.5625 \nQ 30.078125 56 35.796875 56 \nQ 45.21875 56 50.046875 50.171875 \nQ 54.890625 44.34375 54.890625 33.015625 \nz\n\" id=\"DejaVuSans-110\"/>\n     <path d=\"M 45.40625 27.984375 \nQ 45.40625 37.75 41.375 43.109375 \nQ 37.359375 48.484375 30.078125 48.484375 \nQ 22.859375 48.484375 18.828125 43.109375 \nQ 14.796875 37.75 14.796875 27.984375 \nQ 14.796875 18.265625 18.828125 12.890625 \nQ 22.859375 7.515625 30.078125 7.515625 \nQ 37.359375 7.515625 41.375 12.890625 \nQ 45.40625 18.265625 45.40625 27.984375 \nz\nM 54.390625 6.78125 \nQ 54.390625 -7.171875 48.1875 -13.984375 \nQ 42 -20.796875 29.203125 -20.796875 \nQ 24.46875 -20.796875 20.265625 -20.09375 \nQ 16.0625 -19.390625 12.109375 -17.921875 \nL 12.109375 -9.1875 \nQ 16.0625 -11.328125 19.921875 -12.34375 \nQ 23.78125 -13.375 27.78125 -13.375 \nQ 36.625 -13.375 41.015625 -8.765625 \nQ 45.40625 -4.15625 45.40625 5.171875 \nL 45.40625 9.625 \nQ 42.625 4.78125 38.28125 2.390625 \nQ 33.9375 0 27.875 0 \nQ 17.828125 0 11.671875 7.65625 \nQ 5.515625 15.328125 5.515625 27.984375 \nQ 5.515625 40.671875 11.671875 48.328125 \nQ 17.828125 56 27.875 56 \nQ 33.9375 56 38.28125 53.609375 \nQ 42.625 51.21875 45.40625 46.390625 \nL 45.40625 54.6875 \nL 54.390625 54.6875 \nz\n\" id=\"DejaVuSans-103\"/>\n     <path id=\"DejaVuSans-32\"/>\n     <path d=\"M 45.40625 46.390625 \nL 45.40625 75.984375 \nL 54.390625 75.984375 \nL 54.390625 0 \nL 45.40625 0 \nL 45.40625 8.203125 \nQ 42.578125 3.328125 38.25 0.953125 \nQ 33.9375 -1.421875 27.875 -1.421875 \nQ 17.96875 -1.421875 11.734375 6.484375 \nQ 5.515625 14.40625 5.515625 27.296875 \nQ 5.515625 40.1875 11.734375 48.09375 \nQ 17.96875 56 27.875 56 \nQ 33.9375 56 38.25 53.625 \nQ 42.578125 51.265625 45.40625 46.390625 \nz\nM 14.796875 27.296875 \nQ 14.796875 17.390625 18.875 11.75 \nQ 22.953125 6.109375 30.078125 6.109375 \nQ 37.203125 6.109375 41.296875 11.75 \nQ 45.40625 17.390625 45.40625 27.296875 \nQ 45.40625 37.203125 41.296875 42.84375 \nQ 37.203125 48.484375 30.078125 48.484375 \nQ 22.953125 48.484375 18.875 42.84375 \nQ 14.796875 37.203125 14.796875 27.296875 \nz\n\" id=\"DejaVuSans-100\"/>\n     <path d=\"M 2.984375 54.6875 \nL 12.5 54.6875 \nL 29.59375 8.796875 \nL 46.6875 54.6875 \nL 56.203125 54.6875 \nL 35.6875 0 \nL 23.484375 0 \nz\n\" id=\"DejaVuSans-118\"/>\n     <path d=\"M 18.3125 70.21875 \nL 18.3125 54.6875 \nL 36.8125 54.6875 \nL 36.8125 47.703125 \nL 18.3125 47.703125 \nL 18.3125 18.015625 \nQ 18.3125 11.328125 20.140625 9.421875 \nQ 21.96875 7.515625 27.59375 7.515625 \nL 36.8125 7.515625 \nL 36.8125 0 \nL 27.59375 0 \nQ 17.1875 0 13.234375 3.875 \nQ 9.28125 7.765625 9.28125 18.015625 \nL 9.28125 47.703125 \nL 2.6875 47.703125 \nL 2.6875 54.6875 \nL 9.28125 54.6875 \nL 9.28125 70.21875 \nz\n\" id=\"DejaVuSans-116\"/>\n    </defs>\n    <g transform=\"translate(135.73375 16.318125)scale(0.12 -0.12)\">\n     <use xlink:href=\"#DejaVuSans-84\"/>\n     <use x=\"46.333984\" xlink:href=\"#DejaVuSans-114\"/>\n     <use x=\"87.447266\" xlink:href=\"#DejaVuSans-97\"/>\n     <use x=\"148.726562\" xlink:href=\"#DejaVuSans-105\"/>\n     <use x=\"176.509766\" xlink:href=\"#DejaVuSans-110\"/>\n     <use x=\"239.888672\" xlink:href=\"#DejaVuSans-105\"/>\n     <use x=\"267.671875\" xlink:href=\"#DejaVuSans-110\"/>\n     <use x=\"331.050781\" xlink:href=\"#DejaVuSans-103\"/>\n     <use x=\"394.527344\" xlink:href=\"#DejaVuSans-32\"/>\n     <use x=\"426.314453\" xlink:href=\"#DejaVuSans-97\"/>\n     <use x=\"487.59375\" xlink:href=\"#DejaVuSans-110\"/>\n     <use x=\"550.972656\" xlink:href=\"#DejaVuSans-100\"/>\n     <use x=\"614.449219\" xlink:href=\"#DejaVuSans-32\"/>\n     <use x=\"646.236328\" xlink:href=\"#DejaVuSans-118\"/>\n     <use x=\"705.416016\" xlink:href=\"#DejaVuSans-97\"/>\n     <use x=\"766.695312\" xlink:href=\"#DejaVuSans-108\"/>\n     <use x=\"794.478516\" xlink:href=\"#DejaVuSans-105\"/>\n     <use x=\"822.261719\" xlink:href=\"#DejaVuSans-100\"/>\n     <use x=\"885.738281\" xlink:href=\"#DejaVuSans-97\"/>\n     <use x=\"947.017578\" xlink:href=\"#DejaVuSans-116\"/>\n     <use x=\"986.226562\" xlink:href=\"#DejaVuSans-105\"/>\n     <use x=\"1014.009766\" xlink:href=\"#DejaVuSans-111\"/>\n     <use x=\"1075.191406\" xlink:href=\"#DejaVuSans-110\"/>\n     <use x=\"1138.570312\" xlink:href=\"#DejaVuSans-32\"/>\n     <use x=\"1170.357422\" xlink:href=\"#DejaVuSans-108\"/>\n     <use x=\"1198.140625\" xlink:href=\"#DejaVuSans-111\"/>\n     <use x=\"1259.322266\" xlink:href=\"#DejaVuSans-115\"/>\n     <use x=\"1311.421875\" xlink:href=\"#DejaVuSans-115\"/>\n    </g>\n   </g>\n   <g id=\"legend_1\">\n    <g id=\"patch_7\">\n     <path d=\"M 298.353125 60.230625 \nL 377.94375 60.230625 \nQ 379.94375 60.230625 379.94375 58.230625 \nL 379.94375 29.318125 \nQ 379.94375 27.318125 377.94375 27.318125 \nL 298.353125 27.318125 \nQ 296.353125 27.318125 296.353125 29.318125 \nL 296.353125 58.230625 \nQ 296.353125 60.230625 298.353125 60.230625 \nz\n\" style=\"fill:#ffffff;opacity:0.8;stroke:#cccccc;stroke-linejoin:miter;\"/>\n    </g>\n    <g id=\"line2d_17\">\n     <path d=\"M 300.353125 35.416562 \nL 320.353125 35.416562 \n\" style=\"fill:none;stroke:#0000ff;stroke-dasharray:5.55,2.4;stroke-dashoffset:0;stroke-width:1.5;\"/>\n    </g>\n    <g id=\"line2d_18\">\n     <g>\n      <use style=\"fill:#0000ff;stroke:#0000ff;\" x=\"310.353125\" xlink:href=\"#m68520c04ef\" y=\"35.416562\"/>\n     </g>\n    </g>\n    <g id=\"text_18\">\n     <!-- train_loss -->\n     <defs>\n      <path d=\"M 50.984375 -16.609375 \nL 50.984375 -23.578125 \nL -0.984375 -23.578125 \nL -0.984375 -16.609375 \nz\n\" id=\"DejaVuSans-95\"/>\n     </defs>\n     <g transform=\"translate(328.353125 38.916562)scale(0.1 -0.1)\">\n      <use xlink:href=\"#DejaVuSans-116\"/>\n      <use x=\"39.208984\" xlink:href=\"#DejaVuSans-114\"/>\n      <use x=\"80.322266\" xlink:href=\"#DejaVuSans-97\"/>\n      <use x=\"141.601562\" xlink:href=\"#DejaVuSans-105\"/>\n      <use x=\"169.384766\" xlink:href=\"#DejaVuSans-110\"/>\n      <use x=\"232.763672\" xlink:href=\"#DejaVuSans-95\"/>\n      <use x=\"282.763672\" xlink:href=\"#DejaVuSans-108\"/>\n      <use x=\"310.546875\" xlink:href=\"#DejaVuSans-111\"/>\n      <use x=\"371.728516\" xlink:href=\"#DejaVuSans-115\"/>\n      <use x=\"423.828125\" xlink:href=\"#DejaVuSans-115\"/>\n     </g>\n    </g>\n    <g id=\"line2d_19\">\n     <path d=\"M 300.353125 50.372812 \nL 320.353125 50.372812 \n\" style=\"fill:none;stroke:#ff0000;stroke-linecap:square;stroke-width:1.5;\"/>\n    </g>\n    <g id=\"line2d_20\">\n     <g>\n      <use style=\"fill:#ff0000;stroke:#ff0000;\" x=\"310.353125\" xlink:href=\"#mbd10ff1578\" y=\"50.372812\"/>\n     </g>\n    </g>\n    <g id=\"text_19\">\n     <!-- val_loss -->\n     <g transform=\"translate(328.353125 53.872812)scale(0.1 -0.1)\">\n      <use xlink:href=\"#DejaVuSans-118\"/>\n      <use x=\"59.179688\" xlink:href=\"#DejaVuSans-97\"/>\n      <use x=\"120.458984\" xlink:href=\"#DejaVuSans-108\"/>\n      <use x=\"148.242188\" xlink:href=\"#DejaVuSans-95\"/>\n      <use x=\"198.242188\" xlink:href=\"#DejaVuSans-108\"/>\n      <use x=\"226.025391\" xlink:href=\"#DejaVuSans-111\"/>\n      <use x=\"287.207031\" xlink:href=\"#DejaVuSans-115\"/>\n      <use x=\"339.306641\" xlink:href=\"#DejaVuSans-115\"/>\n     </g>\n    </g>\n   </g>\n  </g>\n </g>\n <defs>\n  <clipPath id=\"p72867a03f1\">\n   <rect height=\"217.44\" width=\"334.8\" x=\"50.14375\" y=\"22.318125\"/>\n  </clipPath>\n </defs>\n</svg>\n"
          },
          "metadata": {
            "tags": [],
            "needs_background": "light"
          }
        }
      ]
    },
    {
      "cell_type": "code",
      "metadata": {
        "id": "lC4w5lHicHKz",
        "outputId": "bee5ba01-9746-40de-d213-0665b912071c",
        "colab": {
          "base_uri": "https://localhost:8080/",
          "height": 390
        }
      },
      "source": [
        "plot_metric(dfhistory,\"auc\")"
      ],
      "execution_count": 37,
      "outputs": [
        {
          "output_type": "display_data",
          "data": {
            "text/plain": [
              "<Figure size 432x288 with 1 Axes>"
            ],
            "image/svg+xml": "<?xml version=\"1.0\" encoding=\"utf-8\" standalone=\"no\"?>\n<!DOCTYPE svg PUBLIC \"-//W3C//DTD SVG 1.1//EN\"\n  \"http://www.w3.org/Graphics/SVG/1.1/DTD/svg11.dtd\">\n<!-- Created with matplotlib (https://matplotlib.org/) -->\n<svg height=\"277.314375pt\" version=\"1.1\" viewBox=\"0 0 398.50625 277.314375\" width=\"398.50625pt\" xmlns=\"http://www.w3.org/2000/svg\" xmlns:xlink=\"http://www.w3.org/1999/xlink\">\n <defs>\n  <style type=\"text/css\">\n*{stroke-linecap:butt;stroke-linejoin:round;}\n  </style>\n </defs>\n <g id=\"figure_1\">\n  <g id=\"patch_1\">\n   <path d=\"M 0 277.314375 \nL 398.50625 277.314375 \nL 398.50625 0 \nL 0 0 \nz\n\" style=\"fill:none;\"/>\n  </g>\n  <g id=\"axes_1\">\n   <g id=\"patch_2\">\n    <path d=\"M 56.50625 239.758125 \nL 391.30625 239.758125 \nL 391.30625 22.318125 \nL 56.50625 22.318125 \nz\n\" style=\"fill:#ffffff;\"/>\n   </g>\n   <g id=\"matplotlib.axis_1\">\n    <g id=\"xtick_1\">\n     <g id=\"line2d_1\">\n      <defs>\n       <path d=\"M 0 0 \nL 0 3.5 \n\" id=\"maed0f99e31\" style=\"stroke:#000000;stroke-width:0.8;\"/>\n      </defs>\n      <g>\n       <use style=\"stroke:#000000;stroke-width:0.8;\" x=\"95.75314\" xlink:href=\"#maed0f99e31\" y=\"239.758125\"/>\n      </g>\n     </g>\n     <g id=\"text_1\">\n      <!-- 2.5 -->\n      <defs>\n       <path d=\"M 19.1875 8.296875 \nL 53.609375 8.296875 \nL 53.609375 0 \nL 7.328125 0 \nL 7.328125 8.296875 \nQ 12.9375 14.109375 22.625 23.890625 \nQ 32.328125 33.6875 34.8125 36.53125 \nQ 39.546875 41.84375 41.421875 45.53125 \nQ 43.3125 49.21875 43.3125 52.78125 \nQ 43.3125 58.59375 39.234375 62.25 \nQ 35.15625 65.921875 28.609375 65.921875 \nQ 23.96875 65.921875 18.8125 64.3125 \nQ 13.671875 62.703125 7.8125 59.421875 \nL 7.8125 69.390625 \nQ 13.765625 71.78125 18.9375 73 \nQ 24.125 74.21875 28.421875 74.21875 \nQ 39.75 74.21875 46.484375 68.546875 \nQ 53.21875 62.890625 53.21875 53.421875 \nQ 53.21875 48.921875 51.53125 44.890625 \nQ 49.859375 40.875 45.40625 35.40625 \nQ 44.1875 33.984375 37.640625 27.21875 \nQ 31.109375 20.453125 19.1875 8.296875 \nz\n\" id=\"DejaVuSans-50\"/>\n       <path d=\"M 10.6875 12.40625 \nL 21 12.40625 \nL 21 0 \nL 10.6875 0 \nz\n\" id=\"DejaVuSans-46\"/>\n       <path d=\"M 10.796875 72.90625 \nL 49.515625 72.90625 \nL 49.515625 64.59375 \nL 19.828125 64.59375 \nL 19.828125 46.734375 \nQ 21.96875 47.46875 24.109375 47.828125 \nQ 26.265625 48.1875 28.421875 48.1875 \nQ 40.625 48.1875 47.75 41.5 \nQ 54.890625 34.8125 54.890625 23.390625 \nQ 54.890625 11.625 47.5625 5.09375 \nQ 40.234375 -1.421875 26.90625 -1.421875 \nQ 22.3125 -1.421875 17.546875 -0.640625 \nQ 12.796875 0.140625 7.71875 1.703125 \nL 7.71875 11.625 \nQ 12.109375 9.234375 16.796875 8.0625 \nQ 21.484375 6.890625 26.703125 6.890625 \nQ 35.15625 6.890625 40.078125 11.328125 \nQ 45.015625 15.765625 45.015625 23.390625 \nQ 45.015625 31 40.078125 35.4375 \nQ 35.15625 39.890625 26.703125 39.890625 \nQ 22.75 39.890625 18.8125 39.015625 \nQ 14.890625 38.140625 10.796875 36.28125 \nz\n\" id=\"DejaVuSans-53\"/>\n      </defs>\n      <g transform=\"translate(87.801577 254.356562)scale(0.1 -0.1)\">\n       <use xlink:href=\"#DejaVuSans-50\"/>\n       <use x=\"63.623047\" xlink:href=\"#DejaVuSans-46\"/>\n       <use x=\"95.410156\" xlink:href=\"#DejaVuSans-53\"/>\n      </g>\n     </g>\n    </g>\n    <g id=\"xtick_2\">\n     <g id=\"line2d_2\">\n      <g>\n       <use style=\"stroke:#000000;stroke-width:0.8;\" x=\"135.800987\" xlink:href=\"#maed0f99e31\" y=\"239.758125\"/>\n      </g>\n     </g>\n     <g id=\"text_2\">\n      <!-- 5.0 -->\n      <defs>\n       <path d=\"M 31.78125 66.40625 \nQ 24.171875 66.40625 20.328125 58.90625 \nQ 16.5 51.421875 16.5 36.375 \nQ 16.5 21.390625 20.328125 13.890625 \nQ 24.171875 6.390625 31.78125 6.390625 \nQ 39.453125 6.390625 43.28125 13.890625 \nQ 47.125 21.390625 47.125 36.375 \nQ 47.125 51.421875 43.28125 58.90625 \nQ 39.453125 66.40625 31.78125 66.40625 \nz\nM 31.78125 74.21875 \nQ 44.046875 74.21875 50.515625 64.515625 \nQ 56.984375 54.828125 56.984375 36.375 \nQ 56.984375 17.96875 50.515625 8.265625 \nQ 44.046875 -1.421875 31.78125 -1.421875 \nQ 19.53125 -1.421875 13.0625 8.265625 \nQ 6.59375 17.96875 6.59375 36.375 \nQ 6.59375 54.828125 13.0625 64.515625 \nQ 19.53125 74.21875 31.78125 74.21875 \nz\n\" id=\"DejaVuSans-48\"/>\n      </defs>\n      <g transform=\"translate(127.849424 254.356562)scale(0.1 -0.1)\">\n       <use xlink:href=\"#DejaVuSans-53\"/>\n       <use x=\"63.623047\" xlink:href=\"#DejaVuSans-46\"/>\n       <use x=\"95.410156\" xlink:href=\"#DejaVuSans-48\"/>\n      </g>\n     </g>\n    </g>\n    <g id=\"xtick_3\">\n     <g id=\"line2d_3\">\n      <g>\n       <use style=\"stroke:#000000;stroke-width:0.8;\" x=\"175.848834\" xlink:href=\"#maed0f99e31\" y=\"239.758125\"/>\n      </g>\n     </g>\n     <g id=\"text_3\">\n      <!-- 7.5 -->\n      <defs>\n       <path d=\"M 8.203125 72.90625 \nL 55.078125 72.90625 \nL 55.078125 68.703125 \nL 28.609375 0 \nL 18.3125 0 \nL 43.21875 64.59375 \nL 8.203125 64.59375 \nz\n\" id=\"DejaVuSans-55\"/>\n      </defs>\n      <g transform=\"translate(167.897271 254.356562)scale(0.1 -0.1)\">\n       <use xlink:href=\"#DejaVuSans-55\"/>\n       <use x=\"63.623047\" xlink:href=\"#DejaVuSans-46\"/>\n       <use x=\"95.410156\" xlink:href=\"#DejaVuSans-53\"/>\n      </g>\n     </g>\n    </g>\n    <g id=\"xtick_4\">\n     <g id=\"line2d_4\">\n      <g>\n       <use style=\"stroke:#000000;stroke-width:0.8;\" x=\"215.896681\" xlink:href=\"#maed0f99e31\" y=\"239.758125\"/>\n      </g>\n     </g>\n     <g id=\"text_4\">\n      <!-- 10.0 -->\n      <defs>\n       <path d=\"M 12.40625 8.296875 \nL 28.515625 8.296875 \nL 28.515625 63.921875 \nL 10.984375 60.40625 \nL 10.984375 69.390625 \nL 28.421875 72.90625 \nL 38.28125 72.90625 \nL 38.28125 8.296875 \nL 54.390625 8.296875 \nL 54.390625 0 \nL 12.40625 0 \nz\n\" id=\"DejaVuSans-49\"/>\n      </defs>\n      <g transform=\"translate(204.763868 254.356562)scale(0.1 -0.1)\">\n       <use xlink:href=\"#DejaVuSans-49\"/>\n       <use x=\"63.623047\" xlink:href=\"#DejaVuSans-48\"/>\n       <use x=\"127.246094\" xlink:href=\"#DejaVuSans-46\"/>\n       <use x=\"159.033203\" xlink:href=\"#DejaVuSans-48\"/>\n      </g>\n     </g>\n    </g>\n    <g id=\"xtick_5\">\n     <g id=\"line2d_5\">\n      <g>\n       <use style=\"stroke:#000000;stroke-width:0.8;\" x=\"255.944528\" xlink:href=\"#maed0f99e31\" y=\"239.758125\"/>\n      </g>\n     </g>\n     <g id=\"text_5\">\n      <!-- 12.5 -->\n      <g transform=\"translate(244.811715 254.356562)scale(0.1 -0.1)\">\n       <use xlink:href=\"#DejaVuSans-49\"/>\n       <use x=\"63.623047\" xlink:href=\"#DejaVuSans-50\"/>\n       <use x=\"127.246094\" xlink:href=\"#DejaVuSans-46\"/>\n       <use x=\"159.033203\" xlink:href=\"#DejaVuSans-53\"/>\n      </g>\n     </g>\n    </g>\n    <g id=\"xtick_6\">\n     <g id=\"line2d_6\">\n      <g>\n       <use style=\"stroke:#000000;stroke-width:0.8;\" x=\"295.992374\" xlink:href=\"#maed0f99e31\" y=\"239.758125\"/>\n      </g>\n     </g>\n     <g id=\"text_6\">\n      <!-- 15.0 -->\n      <g transform=\"translate(284.859562 254.356562)scale(0.1 -0.1)\">\n       <use xlink:href=\"#DejaVuSans-49\"/>\n       <use x=\"63.623047\" xlink:href=\"#DejaVuSans-53\"/>\n       <use x=\"127.246094\" xlink:href=\"#DejaVuSans-46\"/>\n       <use x=\"159.033203\" xlink:href=\"#DejaVuSans-48\"/>\n      </g>\n     </g>\n    </g>\n    <g id=\"xtick_7\">\n     <g id=\"line2d_7\">\n      <g>\n       <use style=\"stroke:#000000;stroke-width:0.8;\" x=\"336.040221\" xlink:href=\"#maed0f99e31\" y=\"239.758125\"/>\n      </g>\n     </g>\n     <g id=\"text_7\">\n      <!-- 17.5 -->\n      <g transform=\"translate(324.907409 254.356562)scale(0.1 -0.1)\">\n       <use xlink:href=\"#DejaVuSans-49\"/>\n       <use x=\"63.623047\" xlink:href=\"#DejaVuSans-55\"/>\n       <use x=\"127.246094\" xlink:href=\"#DejaVuSans-46\"/>\n       <use x=\"159.033203\" xlink:href=\"#DejaVuSans-53\"/>\n      </g>\n     </g>\n    </g>\n    <g id=\"xtick_8\">\n     <g id=\"line2d_8\">\n      <g>\n       <use style=\"stroke:#000000;stroke-width:0.8;\" x=\"376.088068\" xlink:href=\"#maed0f99e31\" y=\"239.758125\"/>\n      </g>\n     </g>\n     <g id=\"text_8\">\n      <!-- 20.0 -->\n      <g transform=\"translate(364.955256 254.356562)scale(0.1 -0.1)\">\n       <use xlink:href=\"#DejaVuSans-50\"/>\n       <use x=\"63.623047\" xlink:href=\"#DejaVuSans-48\"/>\n       <use x=\"127.246094\" xlink:href=\"#DejaVuSans-46\"/>\n       <use x=\"159.033203\" xlink:href=\"#DejaVuSans-48\"/>\n      </g>\n     </g>\n    </g>\n    <g id=\"text_9\">\n     <!-- Epochs -->\n     <defs>\n      <path d=\"M 9.8125 72.90625 \nL 55.90625 72.90625 \nL 55.90625 64.59375 \nL 19.671875 64.59375 \nL 19.671875 43.015625 \nL 54.390625 43.015625 \nL 54.390625 34.71875 \nL 19.671875 34.71875 \nL 19.671875 8.296875 \nL 56.78125 8.296875 \nL 56.78125 0 \nL 9.8125 0 \nz\n\" id=\"DejaVuSans-69\"/>\n      <path d=\"M 18.109375 8.203125 \nL 18.109375 -20.796875 \nL 9.078125 -20.796875 \nL 9.078125 54.6875 \nL 18.109375 54.6875 \nL 18.109375 46.390625 \nQ 20.953125 51.265625 25.265625 53.625 \nQ 29.59375 56 35.59375 56 \nQ 45.5625 56 51.78125 48.09375 \nQ 58.015625 40.1875 58.015625 27.296875 \nQ 58.015625 14.40625 51.78125 6.484375 \nQ 45.5625 -1.421875 35.59375 -1.421875 \nQ 29.59375 -1.421875 25.265625 0.953125 \nQ 20.953125 3.328125 18.109375 8.203125 \nz\nM 48.6875 27.296875 \nQ 48.6875 37.203125 44.609375 42.84375 \nQ 40.53125 48.484375 33.40625 48.484375 \nQ 26.265625 48.484375 22.1875 42.84375 \nQ 18.109375 37.203125 18.109375 27.296875 \nQ 18.109375 17.390625 22.1875 11.75 \nQ 26.265625 6.109375 33.40625 6.109375 \nQ 40.53125 6.109375 44.609375 11.75 \nQ 48.6875 17.390625 48.6875 27.296875 \nz\n\" id=\"DejaVuSans-112\"/>\n      <path d=\"M 30.609375 48.390625 \nQ 23.390625 48.390625 19.1875 42.75 \nQ 14.984375 37.109375 14.984375 27.296875 \nQ 14.984375 17.484375 19.15625 11.84375 \nQ 23.34375 6.203125 30.609375 6.203125 \nQ 37.796875 6.203125 41.984375 11.859375 \nQ 46.1875 17.53125 46.1875 27.296875 \nQ 46.1875 37.015625 41.984375 42.703125 \nQ 37.796875 48.390625 30.609375 48.390625 \nz\nM 30.609375 56 \nQ 42.328125 56 49.015625 48.375 \nQ 55.71875 40.765625 55.71875 27.296875 \nQ 55.71875 13.875 49.015625 6.21875 \nQ 42.328125 -1.421875 30.609375 -1.421875 \nQ 18.84375 -1.421875 12.171875 6.21875 \nQ 5.515625 13.875 5.515625 27.296875 \nQ 5.515625 40.765625 12.171875 48.375 \nQ 18.84375 56 30.609375 56 \nz\n\" id=\"DejaVuSans-111\"/>\n      <path d=\"M 48.78125 52.59375 \nL 48.78125 44.1875 \nQ 44.96875 46.296875 41.140625 47.34375 \nQ 37.3125 48.390625 33.40625 48.390625 \nQ 24.65625 48.390625 19.8125 42.84375 \nQ 14.984375 37.3125 14.984375 27.296875 \nQ 14.984375 17.28125 19.8125 11.734375 \nQ 24.65625 6.203125 33.40625 6.203125 \nQ 37.3125 6.203125 41.140625 7.25 \nQ 44.96875 8.296875 48.78125 10.40625 \nL 48.78125 2.09375 \nQ 45.015625 0.34375 40.984375 -0.53125 \nQ 36.96875 -1.421875 32.421875 -1.421875 \nQ 20.0625 -1.421875 12.78125 6.34375 \nQ 5.515625 14.109375 5.515625 27.296875 \nQ 5.515625 40.671875 12.859375 48.328125 \nQ 20.21875 56 33.015625 56 \nQ 37.15625 56 41.109375 55.140625 \nQ 45.0625 54.296875 48.78125 52.59375 \nz\n\" id=\"DejaVuSans-99\"/>\n      <path d=\"M 54.890625 33.015625 \nL 54.890625 0 \nL 45.90625 0 \nL 45.90625 32.71875 \nQ 45.90625 40.484375 42.875 44.328125 \nQ 39.84375 48.1875 33.796875 48.1875 \nQ 26.515625 48.1875 22.3125 43.546875 \nQ 18.109375 38.921875 18.109375 30.90625 \nL 18.109375 0 \nL 9.078125 0 \nL 9.078125 75.984375 \nL 18.109375 75.984375 \nL 18.109375 46.1875 \nQ 21.34375 51.125 25.703125 53.5625 \nQ 30.078125 56 35.796875 56 \nQ 45.21875 56 50.046875 50.171875 \nQ 54.890625 44.34375 54.890625 33.015625 \nz\n\" id=\"DejaVuSans-104\"/>\n      <path d=\"M 44.28125 53.078125 \nL 44.28125 44.578125 \nQ 40.484375 46.53125 36.375 47.5 \nQ 32.28125 48.484375 27.875 48.484375 \nQ 21.1875 48.484375 17.84375 46.4375 \nQ 14.5 44.390625 14.5 40.28125 \nQ 14.5 37.15625 16.890625 35.375 \nQ 19.28125 33.59375 26.515625 31.984375 \nL 29.59375 31.296875 \nQ 39.15625 29.25 43.1875 25.515625 \nQ 47.21875 21.78125 47.21875 15.09375 \nQ 47.21875 7.46875 41.1875 3.015625 \nQ 35.15625 -1.421875 24.609375 -1.421875 \nQ 20.21875 -1.421875 15.453125 -0.5625 \nQ 10.6875 0.296875 5.421875 2 \nL 5.421875 11.28125 \nQ 10.40625 8.6875 15.234375 7.390625 \nQ 20.0625 6.109375 24.8125 6.109375 \nQ 31.15625 6.109375 34.5625 8.28125 \nQ 37.984375 10.453125 37.984375 14.40625 \nQ 37.984375 18.0625 35.515625 20.015625 \nQ 33.0625 21.96875 24.703125 23.78125 \nL 21.578125 24.515625 \nQ 13.234375 26.265625 9.515625 29.90625 \nQ 5.8125 33.546875 5.8125 39.890625 \nQ 5.8125 47.609375 11.28125 51.796875 \nQ 16.75 56 26.8125 56 \nQ 31.78125 56 36.171875 55.265625 \nQ 40.578125 54.546875 44.28125 53.078125 \nz\n\" id=\"DejaVuSans-115\"/>\n     </defs>\n     <g transform=\"translate(205.990625 268.034687)scale(0.1 -0.1)\">\n      <use xlink:href=\"#DejaVuSans-69\"/>\n      <use x=\"63.183594\" xlink:href=\"#DejaVuSans-112\"/>\n      <use x=\"126.660156\" xlink:href=\"#DejaVuSans-111\"/>\n      <use x=\"187.841797\" xlink:href=\"#DejaVuSans-99\"/>\n      <use x=\"242.822266\" xlink:href=\"#DejaVuSans-104\"/>\n      <use x=\"306.201172\" xlink:href=\"#DejaVuSans-115\"/>\n     </g>\n    </g>\n   </g>\n   <g id=\"matplotlib.axis_2\">\n    <g id=\"ytick_1\">\n     <g id=\"line2d_9\">\n      <defs>\n       <path d=\"M 0 0 \nL -3.5 0 \n\" id=\"mb9dd622dc6\" style=\"stroke:#000000;stroke-width:0.8;\"/>\n      </defs>\n      <g>\n       <use style=\"stroke:#000000;stroke-width:0.8;\" x=\"56.50625\" xlink:href=\"#mb9dd622dc6\" y=\"213.662736\"/>\n      </g>\n     </g>\n     <g id=\"text_10\">\n      <!-- 0.775 -->\n      <g transform=\"translate(20.878125 217.461954)scale(0.1 -0.1)\">\n       <use xlink:href=\"#DejaVuSans-48\"/>\n       <use x=\"63.623047\" xlink:href=\"#DejaVuSans-46\"/>\n       <use x=\"95.410156\" xlink:href=\"#DejaVuSans-55\"/>\n       <use x=\"159.033203\" xlink:href=\"#DejaVuSans-55\"/>\n       <use x=\"222.65625\" xlink:href=\"#DejaVuSans-53\"/>\n      </g>\n     </g>\n    </g>\n    <g id=\"ytick_2\">\n     <g id=\"line2d_10\">\n      <g>\n       <use style=\"stroke:#000000;stroke-width:0.8;\" x=\"56.50625\" xlink:href=\"#mb9dd622dc6\" y=\"185.108029\"/>\n      </g>\n     </g>\n     <g id=\"text_11\">\n      <!-- 0.800 -->\n      <defs>\n       <path d=\"M 31.78125 34.625 \nQ 24.75 34.625 20.71875 30.859375 \nQ 16.703125 27.09375 16.703125 20.515625 \nQ 16.703125 13.921875 20.71875 10.15625 \nQ 24.75 6.390625 31.78125 6.390625 \nQ 38.8125 6.390625 42.859375 10.171875 \nQ 46.921875 13.96875 46.921875 20.515625 \nQ 46.921875 27.09375 42.890625 30.859375 \nQ 38.875 34.625 31.78125 34.625 \nz\nM 21.921875 38.8125 \nQ 15.578125 40.375 12.03125 44.71875 \nQ 8.5 49.078125 8.5 55.328125 \nQ 8.5 64.0625 14.71875 69.140625 \nQ 20.953125 74.21875 31.78125 74.21875 \nQ 42.671875 74.21875 48.875 69.140625 \nQ 55.078125 64.0625 55.078125 55.328125 \nQ 55.078125 49.078125 51.53125 44.71875 \nQ 48 40.375 41.703125 38.8125 \nQ 48.828125 37.15625 52.796875 32.3125 \nQ 56.78125 27.484375 56.78125 20.515625 \nQ 56.78125 9.90625 50.3125 4.234375 \nQ 43.84375 -1.421875 31.78125 -1.421875 \nQ 19.734375 -1.421875 13.25 4.234375 \nQ 6.78125 9.90625 6.78125 20.515625 \nQ 6.78125 27.484375 10.78125 32.3125 \nQ 14.796875 37.15625 21.921875 38.8125 \nz\nM 18.3125 54.390625 \nQ 18.3125 48.734375 21.84375 45.5625 \nQ 25.390625 42.390625 31.78125 42.390625 \nQ 38.140625 42.390625 41.71875 45.5625 \nQ 45.3125 48.734375 45.3125 54.390625 \nQ 45.3125 60.0625 41.71875 63.234375 \nQ 38.140625 66.40625 31.78125 66.40625 \nQ 25.390625 66.40625 21.84375 63.234375 \nQ 18.3125 60.0625 18.3125 54.390625 \nz\n\" id=\"DejaVuSans-56\"/>\n      </defs>\n      <g transform=\"translate(20.878125 188.907248)scale(0.1 -0.1)\">\n       <use xlink:href=\"#DejaVuSans-48\"/>\n       <use x=\"63.623047\" xlink:href=\"#DejaVuSans-46\"/>\n       <use x=\"95.410156\" xlink:href=\"#DejaVuSans-56\"/>\n       <use x=\"159.033203\" xlink:href=\"#DejaVuSans-48\"/>\n       <use x=\"222.65625\" xlink:href=\"#DejaVuSans-48\"/>\n      </g>\n     </g>\n    </g>\n    <g id=\"ytick_3\">\n     <g id=\"line2d_11\">\n      <g>\n       <use style=\"stroke:#000000;stroke-width:0.8;\" x=\"56.50625\" xlink:href=\"#mb9dd622dc6\" y=\"156.553323\"/>\n      </g>\n     </g>\n     <g id=\"text_12\">\n      <!-- 0.825 -->\n      <g transform=\"translate(20.878125 160.352542)scale(0.1 -0.1)\">\n       <use xlink:href=\"#DejaVuSans-48\"/>\n       <use x=\"63.623047\" xlink:href=\"#DejaVuSans-46\"/>\n       <use x=\"95.410156\" xlink:href=\"#DejaVuSans-56\"/>\n       <use x=\"159.033203\" xlink:href=\"#DejaVuSans-50\"/>\n       <use x=\"222.65625\" xlink:href=\"#DejaVuSans-53\"/>\n      </g>\n     </g>\n    </g>\n    <g id=\"ytick_4\">\n     <g id=\"line2d_12\">\n      <g>\n       <use style=\"stroke:#000000;stroke-width:0.8;\" x=\"56.50625\" xlink:href=\"#mb9dd622dc6\" y=\"127.998617\"/>\n      </g>\n     </g>\n     <g id=\"text_13\">\n      <!-- 0.850 -->\n      <g transform=\"translate(20.878125 131.797835)scale(0.1 -0.1)\">\n       <use xlink:href=\"#DejaVuSans-48\"/>\n       <use x=\"63.623047\" xlink:href=\"#DejaVuSans-46\"/>\n       <use x=\"95.410156\" xlink:href=\"#DejaVuSans-56\"/>\n       <use x=\"159.033203\" xlink:href=\"#DejaVuSans-53\"/>\n       <use x=\"222.65625\" xlink:href=\"#DejaVuSans-48\"/>\n      </g>\n     </g>\n    </g>\n    <g id=\"ytick_5\">\n     <g id=\"line2d_13\">\n      <g>\n       <use style=\"stroke:#000000;stroke-width:0.8;\" x=\"56.50625\" xlink:href=\"#mb9dd622dc6\" y=\"99.44391\"/>\n      </g>\n     </g>\n     <g id=\"text_14\">\n      <!-- 0.875 -->\n      <g transform=\"translate(20.878125 103.243129)scale(0.1 -0.1)\">\n       <use xlink:href=\"#DejaVuSans-48\"/>\n       <use x=\"63.623047\" xlink:href=\"#DejaVuSans-46\"/>\n       <use x=\"95.410156\" xlink:href=\"#DejaVuSans-56\"/>\n       <use x=\"159.033203\" xlink:href=\"#DejaVuSans-55\"/>\n       <use x=\"222.65625\" xlink:href=\"#DejaVuSans-53\"/>\n      </g>\n     </g>\n    </g>\n    <g id=\"ytick_6\">\n     <g id=\"line2d_14\">\n      <g>\n       <use style=\"stroke:#000000;stroke-width:0.8;\" x=\"56.50625\" xlink:href=\"#mb9dd622dc6\" y=\"70.889204\"/>\n      </g>\n     </g>\n     <g id=\"text_15\">\n      <!-- 0.900 -->\n      <defs>\n       <path d=\"M 10.984375 1.515625 \nL 10.984375 10.5 \nQ 14.703125 8.734375 18.5 7.8125 \nQ 22.3125 6.890625 25.984375 6.890625 \nQ 35.75 6.890625 40.890625 13.453125 \nQ 46.046875 20.015625 46.78125 33.40625 \nQ 43.953125 29.203125 39.59375 26.953125 \nQ 35.25 24.703125 29.984375 24.703125 \nQ 19.046875 24.703125 12.671875 31.3125 \nQ 6.296875 37.9375 6.296875 49.421875 \nQ 6.296875 60.640625 12.9375 67.421875 \nQ 19.578125 74.21875 30.609375 74.21875 \nQ 43.265625 74.21875 49.921875 64.515625 \nQ 56.59375 54.828125 56.59375 36.375 \nQ 56.59375 19.140625 48.40625 8.859375 \nQ 40.234375 -1.421875 26.421875 -1.421875 \nQ 22.703125 -1.421875 18.890625 -0.6875 \nQ 15.09375 0.046875 10.984375 1.515625 \nz\nM 30.609375 32.421875 \nQ 37.25 32.421875 41.125 36.953125 \nQ 45.015625 41.5 45.015625 49.421875 \nQ 45.015625 57.28125 41.125 61.84375 \nQ 37.25 66.40625 30.609375 66.40625 \nQ 23.96875 66.40625 20.09375 61.84375 \nQ 16.21875 57.28125 16.21875 49.421875 \nQ 16.21875 41.5 20.09375 36.953125 \nQ 23.96875 32.421875 30.609375 32.421875 \nz\n\" id=\"DejaVuSans-57\"/>\n      </defs>\n      <g transform=\"translate(20.878125 74.688423)scale(0.1 -0.1)\">\n       <use xlink:href=\"#DejaVuSans-48\"/>\n       <use x=\"63.623047\" xlink:href=\"#DejaVuSans-46\"/>\n       <use x=\"95.410156\" xlink:href=\"#DejaVuSans-57\"/>\n       <use x=\"159.033203\" xlink:href=\"#DejaVuSans-48\"/>\n       <use x=\"222.65625\" xlink:href=\"#DejaVuSans-48\"/>\n      </g>\n     </g>\n    </g>\n    <g id=\"ytick_7\">\n     <g id=\"line2d_15\">\n      <g>\n       <use style=\"stroke:#000000;stroke-width:0.8;\" x=\"56.50625\" xlink:href=\"#mb9dd622dc6\" y=\"42.334498\"/>\n      </g>\n     </g>\n     <g id=\"text_16\">\n      <!-- 0.925 -->\n      <g transform=\"translate(20.878125 46.133716)scale(0.1 -0.1)\">\n       <use xlink:href=\"#DejaVuSans-48\"/>\n       <use x=\"63.623047\" xlink:href=\"#DejaVuSans-46\"/>\n       <use x=\"95.410156\" xlink:href=\"#DejaVuSans-57\"/>\n       <use x=\"159.033203\" xlink:href=\"#DejaVuSans-50\"/>\n       <use x=\"222.65625\" xlink:href=\"#DejaVuSans-53\"/>\n      </g>\n     </g>\n    </g>\n    <g id=\"text_17\">\n     <!-- auc -->\n     <defs>\n      <path d=\"M 34.28125 27.484375 \nQ 23.390625 27.484375 19.1875 25 \nQ 14.984375 22.515625 14.984375 16.5 \nQ 14.984375 11.71875 18.140625 8.90625 \nQ 21.296875 6.109375 26.703125 6.109375 \nQ 34.1875 6.109375 38.703125 11.40625 \nQ 43.21875 16.703125 43.21875 25.484375 \nL 43.21875 27.484375 \nz\nM 52.203125 31.203125 \nL 52.203125 0 \nL 43.21875 0 \nL 43.21875 8.296875 \nQ 40.140625 3.328125 35.546875 0.953125 \nQ 30.953125 -1.421875 24.3125 -1.421875 \nQ 15.921875 -1.421875 10.953125 3.296875 \nQ 6 8.015625 6 15.921875 \nQ 6 25.140625 12.171875 29.828125 \nQ 18.359375 34.515625 30.609375 34.515625 \nL 43.21875 34.515625 \nL 43.21875 35.40625 \nQ 43.21875 41.609375 39.140625 45 \nQ 35.0625 48.390625 27.6875 48.390625 \nQ 23 48.390625 18.546875 47.265625 \nQ 14.109375 46.140625 10.015625 43.890625 \nL 10.015625 52.203125 \nQ 14.9375 54.109375 19.578125 55.046875 \nQ 24.21875 56 28.609375 56 \nQ 40.484375 56 46.34375 49.84375 \nQ 52.203125 43.703125 52.203125 31.203125 \nz\n\" id=\"DejaVuSans-97\"/>\n      <path d=\"M 8.5 21.578125 \nL 8.5 54.6875 \nL 17.484375 54.6875 \nL 17.484375 21.921875 \nQ 17.484375 14.15625 20.5 10.265625 \nQ 23.53125 6.390625 29.59375 6.390625 \nQ 36.859375 6.390625 41.078125 11.03125 \nQ 45.3125 15.671875 45.3125 23.6875 \nL 45.3125 54.6875 \nL 54.296875 54.6875 \nL 54.296875 0 \nL 45.3125 0 \nL 45.3125 8.40625 \nQ 42.046875 3.421875 37.71875 1 \nQ 33.40625 -1.421875 27.6875 -1.421875 \nQ 18.265625 -1.421875 13.375 4.4375 \nQ 8.5 10.296875 8.5 21.578125 \nz\nM 31.109375 56 \nz\n\" id=\"DejaVuSans-117\"/>\n     </defs>\n     <g transform=\"translate(14.798438 140.020156)rotate(-90)scale(0.1 -0.1)\">\n      <use xlink:href=\"#DejaVuSans-97\"/>\n      <use x=\"61.279297\" xlink:href=\"#DejaVuSans-117\"/>\n      <use x=\"124.658203\" xlink:href=\"#DejaVuSans-99\"/>\n     </g>\n    </g>\n   </g>\n   <g id=\"line2d_16\">\n    <path clip-path=\"url(#p75d7ce1415)\" d=\"M 71.724432 229.874489 \nL 87.743571 191.270889 \nL 103.762709 182.547282 \nL 119.781848 175.973617 \nL 135.800987 165.907874 \nL 151.820126 156.069161 \nL 167.839264 145.135773 \nL 183.858403 137.01872 \nL 199.877542 127.320988 \nL 215.896681 119.773752 \nL 231.915819 107.357996 \nL 247.934958 100.297988 \nL 263.954097 93.113556 \nL 279.973236 82.936098 \nL 295.992374 74.642029 \nL 312.011513 65.988435 \nL 328.030652 57.829884 \nL 344.049791 52.701069 \nL 360.068929 43.844896 \nL 376.088068 37.729275 \n\" style=\"fill:none;stroke:#0000ff;stroke-dasharray:5.55,2.4;stroke-dashoffset:0;stroke-width:1.5;\"/>\n    <defs>\n     <path d=\"M 0 3 \nC 0.795609 3 1.55874 2.683901 2.12132 2.12132 \nC 2.683901 1.55874 3 0.795609 3 0 \nC 3 -0.795609 2.683901 -1.55874 2.12132 -2.12132 \nC 1.55874 -2.683901 0.795609 -3 0 -3 \nC -0.795609 -3 -1.55874 -2.683901 -2.12132 -2.12132 \nC -2.683901 -1.55874 -3 -0.795609 -3 0 \nC -3 0.795609 -2.683901 1.55874 -2.12132 2.12132 \nC -1.55874 2.683901 -0.795609 3 0 3 \nz\n\" id=\"me039853f3f\" style=\"stroke:#0000ff;\"/>\n    </defs>\n    <g clip-path=\"url(#p75d7ce1415)\">\n     <use style=\"fill:#0000ff;stroke:#0000ff;\" x=\"71.724432\" xlink:href=\"#me039853f3f\" y=\"229.874489\"/>\n     <use style=\"fill:#0000ff;stroke:#0000ff;\" x=\"87.743571\" xlink:href=\"#me039853f3f\" y=\"191.270889\"/>\n     <use style=\"fill:#0000ff;stroke:#0000ff;\" x=\"103.762709\" xlink:href=\"#me039853f3f\" y=\"182.547282\"/>\n     <use style=\"fill:#0000ff;stroke:#0000ff;\" x=\"119.781848\" xlink:href=\"#me039853f3f\" y=\"175.973617\"/>\n     <use style=\"fill:#0000ff;stroke:#0000ff;\" x=\"135.800987\" xlink:href=\"#me039853f3f\" y=\"165.907874\"/>\n     <use style=\"fill:#0000ff;stroke:#0000ff;\" x=\"151.820126\" xlink:href=\"#me039853f3f\" y=\"156.069161\"/>\n     <use style=\"fill:#0000ff;stroke:#0000ff;\" x=\"167.839264\" xlink:href=\"#me039853f3f\" y=\"145.135773\"/>\n     <use style=\"fill:#0000ff;stroke:#0000ff;\" x=\"183.858403\" xlink:href=\"#me039853f3f\" y=\"137.01872\"/>\n     <use style=\"fill:#0000ff;stroke:#0000ff;\" x=\"199.877542\" xlink:href=\"#me039853f3f\" y=\"127.320988\"/>\n     <use style=\"fill:#0000ff;stroke:#0000ff;\" x=\"215.896681\" xlink:href=\"#me039853f3f\" y=\"119.773752\"/>\n     <use style=\"fill:#0000ff;stroke:#0000ff;\" x=\"231.915819\" xlink:href=\"#me039853f3f\" y=\"107.357996\"/>\n     <use style=\"fill:#0000ff;stroke:#0000ff;\" x=\"247.934958\" xlink:href=\"#me039853f3f\" y=\"100.297988\"/>\n     <use style=\"fill:#0000ff;stroke:#0000ff;\" x=\"263.954097\" xlink:href=\"#me039853f3f\" y=\"93.113556\"/>\n     <use style=\"fill:#0000ff;stroke:#0000ff;\" x=\"279.973236\" xlink:href=\"#me039853f3f\" y=\"82.936098\"/>\n     <use style=\"fill:#0000ff;stroke:#0000ff;\" x=\"295.992374\" xlink:href=\"#me039853f3f\" y=\"74.642029\"/>\n     <use style=\"fill:#0000ff;stroke:#0000ff;\" x=\"312.011513\" xlink:href=\"#me039853f3f\" y=\"65.988435\"/>\n     <use style=\"fill:#0000ff;stroke:#0000ff;\" x=\"328.030652\" xlink:href=\"#me039853f3f\" y=\"57.829884\"/>\n     <use style=\"fill:#0000ff;stroke:#0000ff;\" x=\"344.049791\" xlink:href=\"#me039853f3f\" y=\"52.701069\"/>\n     <use style=\"fill:#0000ff;stroke:#0000ff;\" x=\"360.068929\" xlink:href=\"#me039853f3f\" y=\"43.844896\"/>\n     <use style=\"fill:#0000ff;stroke:#0000ff;\" x=\"376.088068\" xlink:href=\"#me039853f3f\" y=\"37.729275\"/>\n    </g>\n   </g>\n   <g id=\"line2d_17\">\n    <path clip-path=\"url(#p75d7ce1415)\" d=\"M 71.724432 179.664158 \nL 87.743571 175.737847 \nL 103.762709 172.694141 \nL 119.781848 163.800148 \nL 135.800987 151.976548 \nL 151.820126 140.984219 \nL 167.839264 133.249824 \nL 183.858403 127.092574 \nL 199.877542 119.606878 \nL 215.896681 107.95499 \nL 231.915819 105.446456 \nL 247.934958 92.396361 \nL 263.954097 89.472356 \nL 279.973236 71.276591 \nL 295.992374 68.154433 \nL 312.011513 57.146932 \nL 328.030652 55.481098 \nL 344.049791 37.851607 \nL 360.068929 32.201761 \nL 376.088068 35.897006 \n\" style=\"fill:none;stroke:#ff0000;stroke-linecap:square;stroke-width:1.5;\"/>\n    <defs>\n     <path d=\"M 0 3 \nC 0.795609 3 1.55874 2.683901 2.12132 2.12132 \nC 2.683901 1.55874 3 0.795609 3 0 \nC 3 -0.795609 2.683901 -1.55874 2.12132 -2.12132 \nC 1.55874 -2.683901 0.795609 -3 0 -3 \nC -0.795609 -3 -1.55874 -2.683901 -2.12132 -2.12132 \nC -2.683901 -1.55874 -3 -0.795609 -3 0 \nC -3 0.795609 -2.683901 1.55874 -2.12132 2.12132 \nC -1.55874 2.683901 -0.795609 3 0 3 \nz\n\" id=\"m9bdbf54719\" style=\"stroke:#ff0000;\"/>\n    </defs>\n    <g clip-path=\"url(#p75d7ce1415)\">\n     <use style=\"fill:#ff0000;stroke:#ff0000;\" x=\"71.724432\" xlink:href=\"#m9bdbf54719\" y=\"179.664158\"/>\n     <use style=\"fill:#ff0000;stroke:#ff0000;\" x=\"87.743571\" xlink:href=\"#m9bdbf54719\" y=\"175.737847\"/>\n     <use style=\"fill:#ff0000;stroke:#ff0000;\" x=\"103.762709\" xlink:href=\"#m9bdbf54719\" y=\"172.694141\"/>\n     <use style=\"fill:#ff0000;stroke:#ff0000;\" x=\"119.781848\" xlink:href=\"#m9bdbf54719\" y=\"163.800148\"/>\n     <use style=\"fill:#ff0000;stroke:#ff0000;\" x=\"135.800987\" xlink:href=\"#m9bdbf54719\" y=\"151.976548\"/>\n     <use style=\"fill:#ff0000;stroke:#ff0000;\" x=\"151.820126\" xlink:href=\"#m9bdbf54719\" y=\"140.984219\"/>\n     <use style=\"fill:#ff0000;stroke:#ff0000;\" x=\"167.839264\" xlink:href=\"#m9bdbf54719\" y=\"133.249824\"/>\n     <use style=\"fill:#ff0000;stroke:#ff0000;\" x=\"183.858403\" xlink:href=\"#m9bdbf54719\" y=\"127.092574\"/>\n     <use style=\"fill:#ff0000;stroke:#ff0000;\" x=\"199.877542\" xlink:href=\"#m9bdbf54719\" y=\"119.606878\"/>\n     <use style=\"fill:#ff0000;stroke:#ff0000;\" x=\"215.896681\" xlink:href=\"#m9bdbf54719\" y=\"107.95499\"/>\n     <use style=\"fill:#ff0000;stroke:#ff0000;\" x=\"231.915819\" xlink:href=\"#m9bdbf54719\" y=\"105.446456\"/>\n     <use style=\"fill:#ff0000;stroke:#ff0000;\" x=\"247.934958\" xlink:href=\"#m9bdbf54719\" y=\"92.396361\"/>\n     <use style=\"fill:#ff0000;stroke:#ff0000;\" x=\"263.954097\" xlink:href=\"#m9bdbf54719\" y=\"89.472356\"/>\n     <use style=\"fill:#ff0000;stroke:#ff0000;\" x=\"279.973236\" xlink:href=\"#m9bdbf54719\" y=\"71.276591\"/>\n     <use style=\"fill:#ff0000;stroke:#ff0000;\" x=\"295.992374\" xlink:href=\"#m9bdbf54719\" y=\"68.154433\"/>\n     <use style=\"fill:#ff0000;stroke:#ff0000;\" x=\"312.011513\" xlink:href=\"#m9bdbf54719\" y=\"57.146932\"/>\n     <use style=\"fill:#ff0000;stroke:#ff0000;\" x=\"328.030652\" xlink:href=\"#m9bdbf54719\" y=\"55.481098\"/>\n     <use style=\"fill:#ff0000;stroke:#ff0000;\" x=\"344.049791\" xlink:href=\"#m9bdbf54719\" y=\"37.851607\"/>\n     <use style=\"fill:#ff0000;stroke:#ff0000;\" x=\"360.068929\" xlink:href=\"#m9bdbf54719\" y=\"32.201761\"/>\n     <use style=\"fill:#ff0000;stroke:#ff0000;\" x=\"376.088068\" xlink:href=\"#m9bdbf54719\" y=\"35.897006\"/>\n    </g>\n   </g>\n   <g id=\"patch_3\">\n    <path d=\"M 56.50625 239.758125 \nL 56.50625 22.318125 \n\" style=\"fill:none;stroke:#000000;stroke-linecap:square;stroke-linejoin:miter;stroke-width:0.8;\"/>\n   </g>\n   <g id=\"patch_4\">\n    <path d=\"M 391.30625 239.758125 \nL 391.30625 22.318125 \n\" style=\"fill:none;stroke:#000000;stroke-linecap:square;stroke-linejoin:miter;stroke-width:0.8;\"/>\n   </g>\n   <g id=\"patch_5\">\n    <path d=\"M 56.50625 239.758125 \nL 391.30625 239.758125 \n\" style=\"fill:none;stroke:#000000;stroke-linecap:square;stroke-linejoin:miter;stroke-width:0.8;\"/>\n   </g>\n   <g id=\"patch_6\">\n    <path d=\"M 56.50625 22.318125 \nL 391.30625 22.318125 \n\" style=\"fill:none;stroke:#000000;stroke-linecap:square;stroke-linejoin:miter;stroke-width:0.8;\"/>\n   </g>\n   <g id=\"text_18\">\n    <!-- Training and validation auc -->\n    <defs>\n     <path d=\"M -0.296875 72.90625 \nL 61.375 72.90625 \nL 61.375 64.59375 \nL 35.5 64.59375 \nL 35.5 0 \nL 25.59375 0 \nL 25.59375 64.59375 \nL -0.296875 64.59375 \nz\n\" id=\"DejaVuSans-84\"/>\n     <path d=\"M 41.109375 46.296875 \nQ 39.59375 47.171875 37.8125 47.578125 \nQ 36.03125 48 33.890625 48 \nQ 26.265625 48 22.1875 43.046875 \nQ 18.109375 38.09375 18.109375 28.8125 \nL 18.109375 0 \nL 9.078125 0 \nL 9.078125 54.6875 \nL 18.109375 54.6875 \nL 18.109375 46.1875 \nQ 20.953125 51.171875 25.484375 53.578125 \nQ 30.03125 56 36.53125 56 \nQ 37.453125 56 38.578125 55.875 \nQ 39.703125 55.765625 41.0625 55.515625 \nz\n\" id=\"DejaVuSans-114\"/>\n     <path d=\"M 9.421875 54.6875 \nL 18.40625 54.6875 \nL 18.40625 0 \nL 9.421875 0 \nz\nM 9.421875 75.984375 \nL 18.40625 75.984375 \nL 18.40625 64.59375 \nL 9.421875 64.59375 \nz\n\" id=\"DejaVuSans-105\"/>\n     <path d=\"M 54.890625 33.015625 \nL 54.890625 0 \nL 45.90625 0 \nL 45.90625 32.71875 \nQ 45.90625 40.484375 42.875 44.328125 \nQ 39.84375 48.1875 33.796875 48.1875 \nQ 26.515625 48.1875 22.3125 43.546875 \nQ 18.109375 38.921875 18.109375 30.90625 \nL 18.109375 0 \nL 9.078125 0 \nL 9.078125 54.6875 \nL 18.109375 54.6875 \nL 18.109375 46.1875 \nQ 21.34375 51.125 25.703125 53.5625 \nQ 30.078125 56 35.796875 56 \nQ 45.21875 56 50.046875 50.171875 \nQ 54.890625 44.34375 54.890625 33.015625 \nz\n\" id=\"DejaVuSans-110\"/>\n     <path d=\"M 45.40625 27.984375 \nQ 45.40625 37.75 41.375 43.109375 \nQ 37.359375 48.484375 30.078125 48.484375 \nQ 22.859375 48.484375 18.828125 43.109375 \nQ 14.796875 37.75 14.796875 27.984375 \nQ 14.796875 18.265625 18.828125 12.890625 \nQ 22.859375 7.515625 30.078125 7.515625 \nQ 37.359375 7.515625 41.375 12.890625 \nQ 45.40625 18.265625 45.40625 27.984375 \nz\nM 54.390625 6.78125 \nQ 54.390625 -7.171875 48.1875 -13.984375 \nQ 42 -20.796875 29.203125 -20.796875 \nQ 24.46875 -20.796875 20.265625 -20.09375 \nQ 16.0625 -19.390625 12.109375 -17.921875 \nL 12.109375 -9.1875 \nQ 16.0625 -11.328125 19.921875 -12.34375 \nQ 23.78125 -13.375 27.78125 -13.375 \nQ 36.625 -13.375 41.015625 -8.765625 \nQ 45.40625 -4.15625 45.40625 5.171875 \nL 45.40625 9.625 \nQ 42.625 4.78125 38.28125 2.390625 \nQ 33.9375 0 27.875 0 \nQ 17.828125 0 11.671875 7.65625 \nQ 5.515625 15.328125 5.515625 27.984375 \nQ 5.515625 40.671875 11.671875 48.328125 \nQ 17.828125 56 27.875 56 \nQ 33.9375 56 38.28125 53.609375 \nQ 42.625 51.21875 45.40625 46.390625 \nL 45.40625 54.6875 \nL 54.390625 54.6875 \nz\n\" id=\"DejaVuSans-103\"/>\n     <path id=\"DejaVuSans-32\"/>\n     <path d=\"M 45.40625 46.390625 \nL 45.40625 75.984375 \nL 54.390625 75.984375 \nL 54.390625 0 \nL 45.40625 0 \nL 45.40625 8.203125 \nQ 42.578125 3.328125 38.25 0.953125 \nQ 33.9375 -1.421875 27.875 -1.421875 \nQ 17.96875 -1.421875 11.734375 6.484375 \nQ 5.515625 14.40625 5.515625 27.296875 \nQ 5.515625 40.1875 11.734375 48.09375 \nQ 17.96875 56 27.875 56 \nQ 33.9375 56 38.25 53.625 \nQ 42.578125 51.265625 45.40625 46.390625 \nz\nM 14.796875 27.296875 \nQ 14.796875 17.390625 18.875 11.75 \nQ 22.953125 6.109375 30.078125 6.109375 \nQ 37.203125 6.109375 41.296875 11.75 \nQ 45.40625 17.390625 45.40625 27.296875 \nQ 45.40625 37.203125 41.296875 42.84375 \nQ 37.203125 48.484375 30.078125 48.484375 \nQ 22.953125 48.484375 18.875 42.84375 \nQ 14.796875 37.203125 14.796875 27.296875 \nz\n\" id=\"DejaVuSans-100\"/>\n     <path d=\"M 2.984375 54.6875 \nL 12.5 54.6875 \nL 29.59375 8.796875 \nL 46.6875 54.6875 \nL 56.203125 54.6875 \nL 35.6875 0 \nL 23.484375 0 \nz\n\" id=\"DejaVuSans-118\"/>\n     <path d=\"M 9.421875 75.984375 \nL 18.40625 75.984375 \nL 18.40625 0 \nL 9.421875 0 \nz\n\" id=\"DejaVuSans-108\"/>\n     <path d=\"M 18.3125 70.21875 \nL 18.3125 54.6875 \nL 36.8125 54.6875 \nL 36.8125 47.703125 \nL 18.3125 47.703125 \nL 18.3125 18.015625 \nQ 18.3125 11.328125 20.140625 9.421875 \nQ 21.96875 7.515625 27.59375 7.515625 \nL 36.8125 7.515625 \nL 36.8125 0 \nL 27.59375 0 \nQ 17.1875 0 13.234375 3.875 \nQ 9.28125 7.765625 9.28125 18.015625 \nL 9.28125 47.703125 \nL 2.6875 47.703125 \nL 2.6875 54.6875 \nL 9.28125 54.6875 \nL 9.28125 70.21875 \nz\n\" id=\"DejaVuSans-116\"/>\n    </defs>\n    <g transform=\"translate(142.907188 16.318125)scale(0.12 -0.12)\">\n     <use xlink:href=\"#DejaVuSans-84\"/>\n     <use x=\"46.333984\" xlink:href=\"#DejaVuSans-114\"/>\n     <use x=\"87.447266\" xlink:href=\"#DejaVuSans-97\"/>\n     <use x=\"148.726562\" xlink:href=\"#DejaVuSans-105\"/>\n     <use x=\"176.509766\" xlink:href=\"#DejaVuSans-110\"/>\n     <use x=\"239.888672\" xlink:href=\"#DejaVuSans-105\"/>\n     <use x=\"267.671875\" xlink:href=\"#DejaVuSans-110\"/>\n     <use x=\"331.050781\" xlink:href=\"#DejaVuSans-103\"/>\n     <use x=\"394.527344\" xlink:href=\"#DejaVuSans-32\"/>\n     <use x=\"426.314453\" xlink:href=\"#DejaVuSans-97\"/>\n     <use x=\"487.59375\" xlink:href=\"#DejaVuSans-110\"/>\n     <use x=\"550.972656\" xlink:href=\"#DejaVuSans-100\"/>\n     <use x=\"614.449219\" xlink:href=\"#DejaVuSans-32\"/>\n     <use x=\"646.236328\" xlink:href=\"#DejaVuSans-118\"/>\n     <use x=\"705.416016\" xlink:href=\"#DejaVuSans-97\"/>\n     <use x=\"766.695312\" xlink:href=\"#DejaVuSans-108\"/>\n     <use x=\"794.478516\" xlink:href=\"#DejaVuSans-105\"/>\n     <use x=\"822.261719\" xlink:href=\"#DejaVuSans-100\"/>\n     <use x=\"885.738281\" xlink:href=\"#DejaVuSans-97\"/>\n     <use x=\"947.017578\" xlink:href=\"#DejaVuSans-116\"/>\n     <use x=\"986.226562\" xlink:href=\"#DejaVuSans-105\"/>\n     <use x=\"1014.009766\" xlink:href=\"#DejaVuSans-111\"/>\n     <use x=\"1075.191406\" xlink:href=\"#DejaVuSans-110\"/>\n     <use x=\"1138.570312\" xlink:href=\"#DejaVuSans-32\"/>\n     <use x=\"1170.357422\" xlink:href=\"#DejaVuSans-97\"/>\n     <use x=\"1231.636719\" xlink:href=\"#DejaVuSans-117\"/>\n     <use x=\"1295.015625\" xlink:href=\"#DejaVuSans-99\"/>\n    </g>\n   </g>\n   <g id=\"legend_1\">\n    <g id=\"patch_7\">\n     <path d=\"M 63.50625 60.230625 \nL 141.745313 60.230625 \nQ 143.745313 60.230625 143.745313 58.230625 \nL 143.745313 29.318125 \nQ 143.745313 27.318125 141.745313 27.318125 \nL 63.50625 27.318125 \nQ 61.50625 27.318125 61.50625 29.318125 \nL 61.50625 58.230625 \nQ 61.50625 60.230625 63.50625 60.230625 \nz\n\" style=\"fill:#ffffff;opacity:0.8;stroke:#cccccc;stroke-linejoin:miter;\"/>\n    </g>\n    <g id=\"line2d_18\">\n     <path d=\"M 65.50625 35.416562 \nL 85.50625 35.416562 \n\" style=\"fill:none;stroke:#0000ff;stroke-dasharray:5.55,2.4;stroke-dashoffset:0;stroke-width:1.5;\"/>\n    </g>\n    <g id=\"line2d_19\">\n     <g>\n      <use style=\"fill:#0000ff;stroke:#0000ff;\" x=\"75.50625\" xlink:href=\"#me039853f3f\" y=\"35.416562\"/>\n     </g>\n    </g>\n    <g id=\"text_19\">\n     <!-- train_auc -->\n     <defs>\n      <path d=\"M 50.984375 -16.609375 \nL 50.984375 -23.578125 \nL -0.984375 -23.578125 \nL -0.984375 -16.609375 \nz\n\" id=\"DejaVuSans-95\"/>\n     </defs>\n     <g transform=\"translate(93.50625 38.916562)scale(0.1 -0.1)\">\n      <use xlink:href=\"#DejaVuSans-116\"/>\n      <use x=\"39.208984\" xlink:href=\"#DejaVuSans-114\"/>\n      <use x=\"80.322266\" xlink:href=\"#DejaVuSans-97\"/>\n      <use x=\"141.601562\" xlink:href=\"#DejaVuSans-105\"/>\n      <use x=\"169.384766\" xlink:href=\"#DejaVuSans-110\"/>\n      <use x=\"232.763672\" xlink:href=\"#DejaVuSans-95\"/>\n      <use x=\"282.763672\" xlink:href=\"#DejaVuSans-97\"/>\n      <use x=\"344.042969\" xlink:href=\"#DejaVuSans-117\"/>\n      <use x=\"407.421875\" xlink:href=\"#DejaVuSans-99\"/>\n     </g>\n    </g>\n    <g id=\"line2d_20\">\n     <path d=\"M 65.50625 50.372812 \nL 85.50625 50.372812 \n\" style=\"fill:none;stroke:#ff0000;stroke-linecap:square;stroke-width:1.5;\"/>\n    </g>\n    <g id=\"line2d_21\">\n     <g>\n      <use style=\"fill:#ff0000;stroke:#ff0000;\" x=\"75.50625\" xlink:href=\"#m9bdbf54719\" y=\"50.372812\"/>\n     </g>\n    </g>\n    <g id=\"text_20\">\n     <!-- val_auc -->\n     <g transform=\"translate(93.50625 53.872812)scale(0.1 -0.1)\">\n      <use xlink:href=\"#DejaVuSans-118\"/>\n      <use x=\"59.179688\" xlink:href=\"#DejaVuSans-97\"/>\n      <use x=\"120.458984\" xlink:href=\"#DejaVuSans-108\"/>\n      <use x=\"148.242188\" xlink:href=\"#DejaVuSans-95\"/>\n      <use x=\"198.242188\" xlink:href=\"#DejaVuSans-97\"/>\n      <use x=\"259.521484\" xlink:href=\"#DejaVuSans-117\"/>\n      <use x=\"322.900391\" xlink:href=\"#DejaVuSans-99\"/>\n     </g>\n    </g>\n   </g>\n  </g>\n </g>\n <defs>\n  <clipPath id=\"p75d7ce1415\">\n   <rect height=\"217.44\" width=\"334.8\" x=\"56.50625\" y=\"22.318125\"/>\n  </clipPath>\n </defs>\n</svg>\n"
          },
          "metadata": {
            "tags": [],
            "needs_background": "light"
          }
        }
      ]
    },
    {
      "cell_type": "markdown",
      "metadata": {
        "id": "1s2qaVz_clQL"
      },
      "source": [
        "# Five, use the model"
      ]
    },
    {
      "cell_type": "code",
      "metadata": {
        "id": "iOmwLAJMcJ_3"
      },
      "source": [
        "def predict(model,dl):\n",
        "    model.eval()\n",
        "    with torch.no_grad():\n",
        "        result = torch.cat([model.forward(t[0]) for t in dl])\n",
        "    return(result.data)"
      ],
      "execution_count": 38,
      "outputs": []
    },
    {
      "cell_type": "code",
      "metadata": {
        "id": "qpdv3-Imco-C",
        "outputId": "85abd57c-e2c7-4139-8074-76b77e10057f",
        "colab": {
          "base_uri": "https://localhost:8080/",
          "height": 134
        }
      },
      "source": [
        "y_pred_probs = predict(model,dl_valid)\n",
        "y_pred_probs"
      ],
      "execution_count": 39,
      "outputs": [
        {
          "output_type": "execute_result",
          "data": {
            "text/plain": [
              "tensor([[0.0810],\n",
              "        [0.0228],\n",
              "        [0.1059],\n",
              "        ...,\n",
              "        [0.2594],\n",
              "        [0.1037],\n",
              "        [0.5198]])"
            ]
          },
          "metadata": {
            "tags": []
          },
          "execution_count": 39
        }
      ]
    },
    {
      "cell_type": "code",
      "metadata": {
        "id": "0fnM-cG6cu8i",
        "outputId": "762a9e98-0b21-4a8d-cac1-31381f96c37b",
        "colab": {
          "base_uri": "https://localhost:8080/",
          "height": 134
        }
      },
      "source": [
        "y_pred = torch.where(y_pred_probs>0.5,torch.ones_like(y_pred_probs),torch.zeros_like(y_pred_probs))\n",
        "y_pred"
      ],
      "execution_count": 41,
      "outputs": [
        {
          "output_type": "execute_result",
          "data": {
            "text/plain": [
              "tensor([[0.],\n",
              "        [0.],\n",
              "        [0.],\n",
              "        ...,\n",
              "        [0.],\n",
              "        [0.],\n",
              "        [1.]])"
            ]
          },
          "metadata": {
            "tags": []
          },
          "execution_count": 41
        }
      ]
    },
    {
      "cell_type": "markdown",
      "metadata": {
        "id": "sFOKvVD2c7Xc"
      },
      "source": [
        "# Six, save the model\n",
        "It is recommended to save the Pytorch model by saving parameters."
      ]
    },
    {
      "cell_type": "code",
      "metadata": {
        "id": "j9C35BU5c1Yf",
        "outputId": "7477072f-15c1-4d09-9f04-9e5cbc8404c0",
        "colab": {
          "base_uri": "https://localhost:8080/",
          "height": 34
        }
      },
      "source": [
        "print(model.state_dict().keys())"
      ],
      "execution_count": 42,
      "outputs": [
        {
          "output_type": "stream",
          "text": [
            "odict_keys(['conv1.weight', 'conv1.bias', 'conv2.weight', 'conv2.bias', 'linear1.weight', 'linear1.bias', 'linear2.weight', 'linear2.bias'])\n"
          ],
          "name": "stdout"
        }
      ]
    },
    {
      "cell_type": "code",
      "metadata": {
        "id": "nctVBmY5c-6n",
        "outputId": "ba74b01a-3aa2-4146-aa74-b29d05cf1b66",
        "colab": {
          "base_uri": "https://localhost:8080/",
          "height": 134
        }
      },
      "source": [
        "torch.save(model.state_dict(), \"./data/model_parameter.pkl\")\n",
        "\n",
        "net_clone = Net()\n",
        "net_clone.load_state_dict(torch.load(\"./data/model_parameter.pkl\"))\n",
        "\n",
        "predict(net_clone,dl_valid)"
      ],
      "execution_count": 43,
      "outputs": [
        {
          "output_type": "execute_result",
          "data": {
            "text/plain": [
              "tensor([[0.8795],\n",
              "        [0.1362],\n",
              "        [0.0016],\n",
              "        ...,\n",
              "        [0.8597],\n",
              "        [0.2019],\n",
              "        [0.0715]])"
            ]
          },
          "metadata": {
            "tags": []
          },
          "execution_count": 43
        }
      ]
    }
  ]
}