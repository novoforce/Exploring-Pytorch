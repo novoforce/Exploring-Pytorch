{
  "nbformat": 4,
  "nbformat_minor": 0,
  "metadata": {
    "colab": {
      "name": "3_tensor_in_pytorch.ipynb",
      "provenance": [],
      "toc_visible": true,
      "authorship_tag": "ABX9TyNNmpojheaH+hmKAo18ql1l",
      "include_colab_link": true
    },
    "kernelspec": {
      "name": "python3",
      "display_name": "Python 3"
    }
  },
  "cells": [
    {
      "cell_type": "markdown",
      "metadata": {
        "id": "view-in-github",
        "colab_type": "text"
      },
      "source": [
        "<a href=\"https://colab.research.google.com/github/novoforce/Exploring-Pytorch/blob/master/3_tensor_in_pytorch.ipynb\" target=\"_parent\"><img src=\"https://colab.research.google.com/assets/colab-badge.svg\" alt=\"Open In Colab\"/></a>"
      ]
    },
    {
      "cell_type": "markdown",
      "metadata": {
        "id": "vJxwKaBdx2sy"
      },
      "source": [
        "# Tensor data structure\n",
        "The basic data structure of Pytorch is Tensor. Tensors are multidimensional arrays. Pytorch's tensor is very similar to the array in numpy.\n",
        "\n",
        "In this section, we mainly introduce basic concepts such as tensor data type, tensor dimension, tensor size, tensor and numpy array.\n",
        "\n"
      ]
    },
    {
      "cell_type": "markdown",
      "metadata": {
        "id": "IrSj5AabyIr6"
      },
      "source": [
        "## One, the data type of the tensor\n",
        "The data type of tensor is basically one-to-one correspondence with numpy.array, **but the str type is not supported**.\n",
        "\n",
        "include:\n",
        "\n",
        "**torch.float64(torch.double)**,\n",
        "\n",
        "**torch.float32(torch.float)**,\n",
        "\n",
        "**torch.float16**,\n",
        "\n",
        "**torch.int64(torch.long)**,\n",
        "\n",
        "**torch.int32(torch.int)**,\n",
        "\n",
        "**torch.int16**,\n",
        "\n",
        "**torch.int8**,\n",
        "\n",
        "**torch.uint8**,\n",
        "\n",
        "**torch.bool**\n",
        "\n",
        "Generally, neural network modeling uses torch.float32 type."
      ]
    },
    {
      "cell_type": "markdown",
      "metadata": {
        "id": "qTt6xLcJzu7R"
      },
      "source": [
        "In Pytorch the **tensor initialization** can be done in 3 ways:\n",
        "\n",
        "* **Auto type infering similar to the python language.**\n",
        "\n",
        "  * Here the Pytorch will assign the type of the tensor automatically   based on the type of the value.\n",
        "\n",
        "* **Manually specifying data-type**\n",
        "  * Here we will assign the type of the tensor while at declaration.\n",
        "\n",
        "* **Use specific type constructor**\n",
        "  * Here we will use Pytorch constructor at tensor declaration.\n",
        "\n"
      ]
    },
    {
      "cell_type": "code",
      "metadata": {
        "id": "dQIJUy8Bx8Qg",
        "outputId": "52e5e1df-87e4-493b-e580-6e16bc014cc7",
        "colab": {
          "base_uri": "https://localhost:8080/",
          "height": 67
        }
      },
      "source": [
        "import  numpy  as  np \n",
        "import  torch \n",
        "\n",
        "# Auto infering similar to the python language.\n",
        "\n",
        "i = torch.tensor(1);print(i,i.dtype)\n",
        "x = torch.tensor(2.0);print(x,x.dtype)\n",
        "b = torch.tensor(True);print(b,b.dtype)"
      ],
      "execution_count": 1,
      "outputs": [
        {
          "output_type": "stream",
          "text": [
            "tensor(1) torch.int64\n",
            "tensor(2.) torch.float32\n",
            "tensor(True) torch.bool\n"
          ],
          "name": "stdout"
        }
      ]
    },
    {
      "cell_type": "code",
      "metadata": {
        "id": "TVkE4X_0yiXM",
        "outputId": "e6d35be7-3f21-4cad-e0f4-39ddfbc29630",
        "colab": {
          "base_uri": "https://localhost:8080/",
          "height": 50
        }
      },
      "source": [
        "# Manually specifying data-type\n",
        "\n",
        "i = torch.tensor(1,dtype = torch.int32);print(i,i.dtype)\n",
        "x = torch.tensor(2.0,dtype = torch.double);print(x,x.dtype)"
      ],
      "execution_count": 2,
      "outputs": [
        {
          "output_type": "stream",
          "text": [
            "tensor(1, dtype=torch.int32) torch.int32\n",
            "tensor(2., dtype=torch.float64) torch.float64\n"
          ],
          "name": "stdout"
        }
      ]
    },
    {
      "cell_type": "code",
      "metadata": {
        "id": "NelwJH7qylpK",
        "outputId": "96760022-45dd-4b9e-9a7e-58c00c99f1d2",
        "colab": {
          "base_uri": "https://localhost:8080/",
          "height": 67
        }
      },
      "source": [
        "# Use specific type constructor\n",
        "\n",
        "i = torch.IntTensor(1);print(i,i.dtype)\n",
        "x = torch.Tensor(np.array(2.0));print(x,x.dtype) #torch.FloatTensor\n",
        "b = torch.BoolTensor(np.array([1,0,2,0])); print(b,b.dtype)"
      ],
      "execution_count": 3,
      "outputs": [
        {
          "output_type": "stream",
          "text": [
            "tensor([86531264], dtype=torch.int32) torch.int32\n",
            "tensor(2.) torch.float32\n",
            "tensor([ True, False,  True, False]) torch.bool\n"
          ],
          "name": "stdout"
        }
      ]
    },
    {
      "cell_type": "markdown",
      "metadata": {
        "id": "j1XGjfpz1tB_"
      },
      "source": [
        "# Type conversions in Pytorch\n",
        "\n",
        "For **data-type conversion** there are **3 ways** in Pytorch:\n",
        "\n",
        "* **call method to floating point type float**\n",
        "* **Use the type function to convert to floating point type** \n",
        "* **Use the type_as method to convert to the same type of a Tensor**"
      ]
    },
    {
      "cell_type": "code",
      "metadata": {
        "id": "aCc84dpKynyf",
        "outputId": "31ff2957-3aa7-4f56-9aed-3c2178f251cb",
        "colab": {
          "base_uri": "https://localhost:8080/",
          "height": 84
        }
      },
      "source": [
        "# Different types of conversion\n",
        "\n",
        "i = torch.tensor(1); print(i,i.dtype)\n",
        "\n",
        "x = i.float(); print(x,x.dtype) # call method to floating point type float \n",
        "y = i.type(torch.float); print(y,y.dtype) #Use the type function to convert to floating point type \n",
        "z = i.type_as(x);print(z,z.dtype) #Use the type_as method to convert to the same type of a Tensor"
      ],
      "execution_count": 4,
      "outputs": [
        {
          "output_type": "stream",
          "text": [
            "tensor(1) torch.int64\n",
            "tensor(1.) torch.float32\n",
            "tensor(1.) torch.float32\n",
            "tensor(1.) torch.float32\n"
          ],
          "name": "stdout"
        }
      ]
    },
    {
      "cell_type": "markdown",
      "metadata": {
        "id": "nl1pMJpFzGD4"
      },
      "source": [
        "## Second, the dimensions of the tensor\n",
        "Different types of data can be represented by tensors of different dimensions.\n",
        "\n",
        "The **scalar** is a **0-dimensional tensor**, the **vector** is a **1-dimensional tensor**, and the **matrix** is ​​a **2-dimensional tensor**.\n",
        "\n",
        "The **color image** has three channels of **rgb**, which can be expressed as a **3-dimensional tensor**.\n",
        "\n",
        "**Video** also has a **time dimension**, which can be expressed as a **4-dimensional tensor**.\n",
        "\n",
        "It can be simply summarized as: **There are several levels of brackets**, which is how many dimensions of tensor."
      ]
    },
    {
      "cell_type": "code",
      "metadata": {
        "id": "CcbaqtECy8u7",
        "outputId": "c5909de3-ad1e-4ac3-ca3b-88a959673d5a",
        "colab": {
          "base_uri": "https://localhost:8080/",
          "height": 50
        }
      },
      "source": [
        "scalar = torch.tensor(True)\n",
        "print(scalar)\n",
        "print(scalar.dim())  # scalar, 0-dimensional tensor"
      ],
      "execution_count": 5,
      "outputs": [
        {
          "output_type": "stream",
          "text": [
            "tensor(True)\n",
            "0\n"
          ],
          "name": "stdout"
        }
      ]
    },
    {
      "cell_type": "code",
      "metadata": {
        "id": "B8Lj4qW-303S",
        "outputId": "0611f79b-4fb0-48b4-b376-64e51e9251ff",
        "colab": {
          "base_uri": "https://localhost:8080/",
          "height": 50
        }
      },
      "source": [
        "vector = torch.tensor([1.0,2.0,3.0,4.0]) #vector 1-dimensional tensor\n",
        "print(vector)\n",
        "print(vector.dim())"
      ],
      "execution_count": 6,
      "outputs": [
        {
          "output_type": "stream",
          "text": [
            "tensor([1., 2., 3., 4.])\n",
            "1\n"
          ],
          "name": "stdout"
        }
      ]
    },
    {
      "cell_type": "code",
      "metadata": {
        "id": "EnrK6aGF3-Fo",
        "outputId": "99260c9a-4865-46a8-a026-3afb4307963b",
        "colab": {
          "base_uri": "https://localhost:8080/",
          "height": 67
        }
      },
      "source": [
        "matrix = torch.tensor([[1.0,2.0],[3.0,4.0]]) #matrix 2-dimensional tensor\n",
        "print(matrix)\n",
        "print(matrix.dim())"
      ],
      "execution_count": 7,
      "outputs": [
        {
          "output_type": "stream",
          "text": [
            "tensor([[1., 2.],\n",
            "        [3., 4.]])\n",
            "2\n"
          ],
          "name": "stdout"
        }
      ]
    },
    {
      "cell_type": "code",
      "metadata": {
        "id": "K9-DUAkT3_9U",
        "outputId": "fb7e115c-7f81-4454-8b47-51d80e7e76d5",
        "colab": {
          "base_uri": "https://localhost:8080/",
          "height": 118
        }
      },
      "source": [
        "tensor3 = torch.tensor([[[1.0,2.0],[3.0,4.0]],[[5.0,6.0],[7.0,8.0]]]) #3D tensor 3-dimensional tensor\n",
        "print(tensor3)\n",
        "print(tensor3.dim())"
      ],
      "execution_count": 8,
      "outputs": [
        {
          "output_type": "stream",
          "text": [
            "tensor([[[1., 2.],\n",
            "         [3., 4.]],\n",
            "\n",
            "        [[5., 6.],\n",
            "         [7., 8.]]])\n",
            "3\n"
          ],
          "name": "stdout"
        }
      ]
    },
    {
      "cell_type": "code",
      "metadata": {
        "id": "CpcnALwX4B-l",
        "outputId": "010d7618-74e7-41b5-a083-2efbc5d2a2d9",
        "colab": {
          "base_uri": "https://localhost:8080/",
          "height": 235
        }
      },
      "source": [
        "tensor4 = torch.tensor([[[[1.0,1.0],[2.0,2.0]],[[3.0,3.0],[4.0,4.0]]],\n",
        "                        [[[5.0,5.0],[6.0,6.0]],[[7.0,7.0],[8.0,8.0]]]]) #4D tensor 4-dimensional tensor\n",
        "print(tensor4)\n",
        "print(tensor4.dim())"
      ],
      "execution_count": 9,
      "outputs": [
        {
          "output_type": "stream",
          "text": [
            "tensor([[[[1., 1.],\n",
            "          [2., 2.]],\n",
            "\n",
            "         [[3., 3.],\n",
            "          [4., 4.]]],\n",
            "\n",
            "\n",
            "        [[[5., 5.],\n",
            "          [6., 6.]],\n",
            "\n",
            "         [[7., 7.],\n",
            "          [8., 8.]]]])\n",
            "4\n"
          ],
          "name": "stdout"
        }
      ]
    },
    {
      "cell_type": "markdown",
      "metadata": {
        "id": "_Vf0eb-s4s-N"
      },
      "source": [
        "# Third, the size of the tensor\n",
        "You can use the **shape attribute** or the **`size()` method** to view the length of the tensor in each dimension.\n",
        "\n",
        "You can use the view method to change the size of the tensor.\n",
        "\n",
        "If the view method fails to change the size, you can use the reshape method."
      ]
    },
    {
      "cell_type": "code",
      "metadata": {
        "id": "olE98uu84Dm3",
        "outputId": "18f71b56-a384-4a4c-e4b2-c8a3d7bbc47e",
        "colab": {
          "base_uri": "https://localhost:8080/",
          "height": 50
        }
      },
      "source": [
        "scalar = torch.tensor(True)\n",
        "print(scalar.size())\n",
        "print(scalar.shape)"
      ],
      "execution_count": 10,
      "outputs": [
        {
          "output_type": "stream",
          "text": [
            "torch.Size([])\n",
            "torch.Size([])\n"
          ],
          "name": "stdout"
        }
      ]
    },
    {
      "cell_type": "code",
      "metadata": {
        "id": "2krUvKta5Hdw",
        "outputId": "7e9be0dc-8d7c-4d1c-9ac2-1fc13e2859cf",
        "colab": {
          "base_uri": "https://localhost:8080/",
          "height": 50
        }
      },
      "source": [
        "vector = torch.tensor([1.0,2.0,3.0,4.0])\n",
        "print(vector.size())\n",
        "print(vector.shape)"
      ],
      "execution_count": 11,
      "outputs": [
        {
          "output_type": "stream",
          "text": [
            "torch.Size([4])\n",
            "torch.Size([4])\n"
          ],
          "name": "stdout"
        }
      ]
    },
    {
      "cell_type": "code",
      "metadata": {
        "id": "9ros1Pgr5Jal",
        "outputId": "2688ed1b-4b41-4d1e-ecc8-06a9080e85c7",
        "colab": {
          "base_uri": "https://localhost:8080/",
          "height": 34
        }
      },
      "source": [
        "matrix = torch.tensor([[1.0,2.0],[3.0,4.0]])\n",
        "print(matrix.size())"
      ],
      "execution_count": 12,
      "outputs": [
        {
          "output_type": "stream",
          "text": [
            "torch.Size([2, 2])\n"
          ],
          "name": "stdout"
        }
      ]
    },
    {
      "cell_type": "code",
      "metadata": {
        "id": "utiiZm4g5LBi",
        "outputId": "33c6fb5d-bc76-4c7b-c50a-835d71c0993f",
        "colab": {
          "base_uri": "https://localhost:8080/",
          "height": 202
        }
      },
      "source": [
        "# Use view to change the tensor size \n",
        "vector = torch.arange(0,12)\n",
        "print(vector)\n",
        "print(vector.shape)\n",
        "\n",
        "matrix34 = vector.view(3,4)\n",
        "print(matrix34)\n",
        "print(matrix34.shape)\n",
        "\n",
        "matrix43 = vector.view(4,-1)  #-1 means that the length of the position is automatically inferred by the program \n",
        "print(matrix43)\n",
        "print(matrix43.shape)"
      ],
      "execution_count": 14,
      "outputs": [
        {
          "output_type": "stream",
          "text": [
            "tensor([ 0,  1,  2,  3,  4,  5,  6,  7,  8,  9, 10, 11])\n",
            "torch.Size([12])\n",
            "tensor([[ 0,  1,  2,  3],\n",
            "        [ 4,  5,  6,  7],\n",
            "        [ 8,  9, 10, 11]])\n",
            "torch.Size([3, 4])\n",
            "tensor([[ 0,  1,  2],\n",
            "        [ 3,  4,  5],\n",
            "        [ 6,  7,  8],\n",
            "        [ 9, 10, 11]])\n",
            "torch.Size([4, 3])\n"
          ],
          "name": "stdout"
        }
      ]
    },
    {
      "cell_type": "code",
      "metadata": {
        "id": "CujeEAgU5ULA",
        "outputId": "97ac89d3-3964-4f77-a485-9ca78f8427e2",
        "colab": {
          "base_uri": "https://localhost:8080/",
          "height": 202
        }
      },
      "source": [
        "# Some operations will distort the tensor storage structure, directly using the view will fail, you can use the reshape method \n",
        "\n",
        "matrix26 = torch.arange(0,12).view(2,6)\n",
        "print(matrix26)\n",
        "print(matrix26.shape)\n",
        "\n",
        "# Transpose operation twists tensor storage structure\n",
        "matrix62 = matrix26.t()\n",
        "print(matrix26.is_contiguous())\n",
        "print(matrix62.is_contiguous())\n",
        "\n",
        "\n",
        "# Use the view method directly will fail, you can use the reshape method\n",
        "#matrix34 = matrix62.view(3,4) #error!  RuntimeError: view size is not compatible with input tensor's size and stride (at least one dimension spans across two contiguous subspaces). Use .reshape(...) instead.\n",
        "matrix34 = matrix62.reshape(3,4) #Equivalent to matrix34 = matrix62.contiguous().view(3,4) \n",
        "matrix34_view = matrix62.contiguous().view(3,4)\n",
        "print(matrix34)\n",
        "print(matrix34_view)"
      ],
      "execution_count": 19,
      "outputs": [
        {
          "output_type": "stream",
          "text": [
            "tensor([[ 0,  1,  2,  3,  4,  5],\n",
            "        [ 6,  7,  8,  9, 10, 11]])\n",
            "torch.Size([2, 6])\n",
            "True\n",
            "False\n",
            "tensor([[ 0,  6,  1,  7],\n",
            "        [ 2,  8,  3,  9],\n",
            "        [ 4, 10,  5, 11]])\n",
            "tensor([[ 0,  6,  1,  7],\n",
            "        [ 2,  8,  3,  9],\n",
            "        [ 4, 10,  5, 11]])\n"
          ],
          "name": "stdout"
        }
      ]
    },
    {
      "cell_type": "markdown",
      "metadata": {
        "id": "GIiwIeJ_8PPA"
      },
      "source": [
        "# Four, tensor and numpy array\n",
        "\n",
        "You can use **`numpy() method`** to get numpy array from Tensor, or use **`torch.from_numpy`** to get Tensor from numpy array.\n",
        "\n",
        "The **Tensor** and **numpy arrays** associated with these two methods **share data memory**.\n",
        "\n",
        "If you **change one of them**, the value of the **other will also change**.\n",
        "\n",
        "If necessary, you can use **the `clone() method`** of the tensor to copy the tensor to interrupt this association.\n",
        "\n",
        "In addition, you can also use the **`item method`** to get the corresponding Python value from a **scalar tensor**.\n",
        "\n",
        "Use the tolist method to get the corresponding Python value list from the tensor."
      ]
    },
    {
      "cell_type": "code",
      "metadata": {
        "id": "kzTRQMh15gqS",
        "outputId": "8f3e0f30-0ade-4b68-89de-2ab710a24666",
        "colab": {
          "base_uri": "https://localhost:8080/",
          "height": 134
        }
      },
      "source": [
        "import numpy as np\n",
        "import torch \n",
        "\n",
        "#torch.from_numpy function gets Tensor \n",
        "\n",
        "arr = np.zeros(3)\n",
        "tensor = torch.from_numpy(arr)\n",
        "print(\"before add 1:\")\n",
        "print(arr)\n",
        "print(tensor)\n",
        "\n",
        "print(\"\\nafter add 1:\")\n",
        "np.add(arr,1, out = arr) #Add 1 to arr, and tensor also changes\n",
        "print(arr)\n",
        "print(tensor)"
      ],
      "execution_count": 20,
      "outputs": [
        {
          "output_type": "stream",
          "text": [
            "before add 1:\n",
            "[0. 0. 0.]\n",
            "tensor([0., 0., 0.], dtype=torch.float64)\n",
            "\n",
            "after add 1:\n",
            "[1. 1. 1.]\n",
            "tensor([1., 1., 1.], dtype=torch.float64)\n"
          ],
          "name": "stdout"
        }
      ]
    },
    {
      "cell_type": "code",
      "metadata": {
        "id": "-kqoKNex9MzG",
        "outputId": "cdf35abe-5f8b-4131-8e52-9f21825a4b07",
        "colab": {
          "base_uri": "https://localhost:8080/",
          "height": 134
        }
      },
      "source": [
        "# The numpy method gets the numpy array \n",
        "\n",
        "tensor = torch.zeros(3)\n",
        "arr = tensor.numpy()\n",
        "print(\"before add 1:\")\n",
        "print(tensor)\n",
        "print(arr)\n",
        "\n",
        "print(\"\\nafter add 1:\")\n",
        "\n",
        "#Use the underlined method to indicate that the calculation result will be returned to the calling tensor\n",
        "tensor.add_(1) #Add 1 to tensor and arr will change accordingly\n",
        "#or： torch.add(tensor,1,out = tensor)\n",
        "print(tensor)\n",
        "print(arr)"
      ],
      "execution_count": 21,
      "outputs": [
        {
          "output_type": "stream",
          "text": [
            "before add 1:\n",
            "tensor([0., 0., 0.])\n",
            "[0. 0. 0.]\n",
            "\n",
            "after add 1:\n",
            "tensor([1., 1., 1.])\n",
            "[1. 1. 1.]\n"
          ],
          "name": "stdout"
        }
      ]
    },
    {
      "cell_type": "code",
      "metadata": {
        "id": "mk29C-8E9mtk",
        "outputId": "9eecd750-0db5-4f20-a44d-1e032e5203f1",
        "colab": {
          "base_uri": "https://localhost:8080/",
          "height": 134
        }
      },
      "source": [
        "# You can use the clone() method to copy the \n",
        "tensor = torch.zeros(3)\n",
        "\n",
        "#Use the clone method to copy the tensor, the copied tensor and the original tensor are independent of memory\n",
        "arr = tensor.clone().numpy() # Can also use tensor.data.numpy()\n",
        "print(\"before add 1:\")\n",
        "print(tensor)\n",
        "print(arr)\n",
        "\n",
        "print(\"\\nafter add 1:\")\n",
        "\n",
        "#Use the underlined method to indicate that the calculation result will be returned to the calling tensor\n",
        "tensor.add_(1) #Add 1 to tensor, arr will not change accordingly\n",
        "print(tensor)\n",
        "print(arr)"
      ],
      "execution_count": 22,
      "outputs": [
        {
          "output_type": "stream",
          "text": [
            "before add 1:\n",
            "tensor([0., 0., 0.])\n",
            "[0. 0. 0.]\n",
            "\n",
            "after add 1:\n",
            "tensor([1., 1., 1.])\n",
            "[0. 0. 0.]\n"
          ],
          "name": "stdout"
        }
      ]
    },
    {
      "cell_type": "code",
      "metadata": {
        "id": "hdQB8TGd-AYH",
        "outputId": "d0c0b981-248a-46c9-86ea-35b63ff099b8",
        "colab": {
          "base_uri": "https://localhost:8080/",
          "height": 84
        }
      },
      "source": [
        "# The item method and tolist method can convert tensors into Python numbers and lists of numbers\n",
        "scalar = torch.tensor(1.0)\n",
        "s = scalar.item()\n",
        "print(s)\n",
        "print(type(s))\n",
        "\n",
        "tensor = torch.rand(2,2)\n",
        "t = tensor.tolist()\n",
        "print(t)\n",
        "print(type(t))"
      ],
      "execution_count": 23,
      "outputs": [
        {
          "output_type": "stream",
          "text": [
            "1.0\n",
            "<class 'float'>\n",
            "[[0.9574081897735596, 0.46405869722366333], [0.5458638072013855, 0.7305765748023987]]\n",
            "<class 'list'>\n"
          ],
          "name": "stdout"
        }
      ]
    },
    {
      "cell_type": "code",
      "metadata": {
        "id": "XZpHIrjq_Mjt"
      },
      "source": [
        ""
      ],
      "execution_count": null,
      "outputs": []
    }
  ]
}