{
  "nbformat": 4,
  "nbformat_minor": 0,
  "metadata": {
    "colab": {
      "name": "1003_Pytorch_RNN_GRU_LSTM.ipynb",
      "provenance": [],
      "collapsed_sections": [],
      "toc_visible": true,
      "authorship_tag": "ABX9TyMYiXQj68mPVhtOZJP1z3I1",
      "include_colab_link": true
    },
    "kernelspec": {
      "name": "python3",
      "display_name": "Python 3"
    },
    "accelerator": "GPU",
    "widgets": {
      "application/vnd.jupyter.widget-state+json": {
        "86a31b5a1dbf47d591f865fa11d1e2a8": {
          "model_module": "@jupyter-widgets/controls",
          "model_name": "HBoxModel",
          "state": {
            "_view_name": "HBoxView",
            "_dom_classes": [],
            "_model_name": "HBoxModel",
            "_view_module": "@jupyter-widgets/controls",
            "_model_module_version": "1.5.0",
            "_view_count": null,
            "_view_module_version": "1.5.0",
            "box_style": "",
            "layout": "IPY_MODEL_fca71d1180bc4934a41c56c34902bed9",
            "_model_module": "@jupyter-widgets/controls",
            "children": [
              "IPY_MODEL_dc0c8d5d3456448cbbc24822c767cfed",
              "IPY_MODEL_07c0f96d763748a181e68203ef8970a0"
            ]
          }
        },
        "fca71d1180bc4934a41c56c34902bed9": {
          "model_module": "@jupyter-widgets/base",
          "model_name": "LayoutModel",
          "state": {
            "_view_name": "LayoutView",
            "grid_template_rows": null,
            "right": null,
            "justify_content": null,
            "_view_module": "@jupyter-widgets/base",
            "overflow": null,
            "_model_module_version": "1.2.0",
            "_view_count": null,
            "flex_flow": null,
            "width": null,
            "min_width": null,
            "border": null,
            "align_items": null,
            "bottom": null,
            "_model_module": "@jupyter-widgets/base",
            "top": null,
            "grid_column": null,
            "overflow_y": null,
            "overflow_x": null,
            "grid_auto_flow": null,
            "grid_area": null,
            "grid_template_columns": null,
            "flex": null,
            "_model_name": "LayoutModel",
            "justify_items": null,
            "grid_row": null,
            "max_height": null,
            "align_content": null,
            "visibility": null,
            "align_self": null,
            "height": null,
            "min_height": null,
            "padding": null,
            "grid_auto_rows": null,
            "grid_gap": null,
            "max_width": null,
            "order": null,
            "_view_module_version": "1.2.0",
            "grid_template_areas": null,
            "object_position": null,
            "object_fit": null,
            "grid_auto_columns": null,
            "margin": null,
            "display": null,
            "left": null
          }
        },
        "dc0c8d5d3456448cbbc24822c767cfed": {
          "model_module": "@jupyter-widgets/controls",
          "model_name": "FloatProgressModel",
          "state": {
            "_view_name": "ProgressView",
            "style": "IPY_MODEL_e8ae5cf092a940e7afb0a5e9f5df88fe",
            "_dom_classes": [],
            "description": "",
            "_model_name": "FloatProgressModel",
            "bar_style": "info",
            "max": 1,
            "_view_module": "@jupyter-widgets/controls",
            "_model_module_version": "1.5.0",
            "value": 1,
            "_view_count": null,
            "_view_module_version": "1.5.0",
            "orientation": "horizontal",
            "min": 0,
            "description_tooltip": null,
            "_model_module": "@jupyter-widgets/controls",
            "layout": "IPY_MODEL_0c1fe3a5b99447bfb5cf3360ac1a05ab"
          }
        },
        "07c0f96d763748a181e68203ef8970a0": {
          "model_module": "@jupyter-widgets/controls",
          "model_name": "HTMLModel",
          "state": {
            "_view_name": "HTMLView",
            "style": "IPY_MODEL_14c183c8caf34675892ed1403e9351a6",
            "_dom_classes": [],
            "description": "",
            "_model_name": "HTMLModel",
            "placeholder": "​",
            "_view_module": "@jupyter-widgets/controls",
            "_model_module_version": "1.5.0",
            "value": " 9920512/? [00:20&lt;00:00, 42754024.16it/s]",
            "_view_count": null,
            "_view_module_version": "1.5.0",
            "description_tooltip": null,
            "_model_module": "@jupyter-widgets/controls",
            "layout": "IPY_MODEL_38feb54b37784045b9499dbae2f9261f"
          }
        },
        "e8ae5cf092a940e7afb0a5e9f5df88fe": {
          "model_module": "@jupyter-widgets/controls",
          "model_name": "ProgressStyleModel",
          "state": {
            "_view_name": "StyleView",
            "_model_name": "ProgressStyleModel",
            "description_width": "initial",
            "_view_module": "@jupyter-widgets/base",
            "_model_module_version": "1.5.0",
            "_view_count": null,
            "_view_module_version": "1.2.0",
            "bar_color": null,
            "_model_module": "@jupyter-widgets/controls"
          }
        },
        "0c1fe3a5b99447bfb5cf3360ac1a05ab": {
          "model_module": "@jupyter-widgets/base",
          "model_name": "LayoutModel",
          "state": {
            "_view_name": "LayoutView",
            "grid_template_rows": null,
            "right": null,
            "justify_content": null,
            "_view_module": "@jupyter-widgets/base",
            "overflow": null,
            "_model_module_version": "1.2.0",
            "_view_count": null,
            "flex_flow": null,
            "width": null,
            "min_width": null,
            "border": null,
            "align_items": null,
            "bottom": null,
            "_model_module": "@jupyter-widgets/base",
            "top": null,
            "grid_column": null,
            "overflow_y": null,
            "overflow_x": null,
            "grid_auto_flow": null,
            "grid_area": null,
            "grid_template_columns": null,
            "flex": null,
            "_model_name": "LayoutModel",
            "justify_items": null,
            "grid_row": null,
            "max_height": null,
            "align_content": null,
            "visibility": null,
            "align_self": null,
            "height": null,
            "min_height": null,
            "padding": null,
            "grid_auto_rows": null,
            "grid_gap": null,
            "max_width": null,
            "order": null,
            "_view_module_version": "1.2.0",
            "grid_template_areas": null,
            "object_position": null,
            "object_fit": null,
            "grid_auto_columns": null,
            "margin": null,
            "display": null,
            "left": null
          }
        },
        "14c183c8caf34675892ed1403e9351a6": {
          "model_module": "@jupyter-widgets/controls",
          "model_name": "DescriptionStyleModel",
          "state": {
            "_view_name": "StyleView",
            "_model_name": "DescriptionStyleModel",
            "description_width": "",
            "_view_module": "@jupyter-widgets/base",
            "_model_module_version": "1.5.0",
            "_view_count": null,
            "_view_module_version": "1.2.0",
            "_model_module": "@jupyter-widgets/controls"
          }
        },
        "38feb54b37784045b9499dbae2f9261f": {
          "model_module": "@jupyter-widgets/base",
          "model_name": "LayoutModel",
          "state": {
            "_view_name": "LayoutView",
            "grid_template_rows": null,
            "right": null,
            "justify_content": null,
            "_view_module": "@jupyter-widgets/base",
            "overflow": null,
            "_model_module_version": "1.2.0",
            "_view_count": null,
            "flex_flow": null,
            "width": null,
            "min_width": null,
            "border": null,
            "align_items": null,
            "bottom": null,
            "_model_module": "@jupyter-widgets/base",
            "top": null,
            "grid_column": null,
            "overflow_y": null,
            "overflow_x": null,
            "grid_auto_flow": null,
            "grid_area": null,
            "grid_template_columns": null,
            "flex": null,
            "_model_name": "LayoutModel",
            "justify_items": null,
            "grid_row": null,
            "max_height": null,
            "align_content": null,
            "visibility": null,
            "align_self": null,
            "height": null,
            "min_height": null,
            "padding": null,
            "grid_auto_rows": null,
            "grid_gap": null,
            "max_width": null,
            "order": null,
            "_view_module_version": "1.2.0",
            "grid_template_areas": null,
            "object_position": null,
            "object_fit": null,
            "grid_auto_columns": null,
            "margin": null,
            "display": null,
            "left": null
          }
        },
        "7613dff6bf0940c8befa2f990c40cf96": {
          "model_module": "@jupyter-widgets/controls",
          "model_name": "HBoxModel",
          "state": {
            "_view_name": "HBoxView",
            "_dom_classes": [],
            "_model_name": "HBoxModel",
            "_view_module": "@jupyter-widgets/controls",
            "_model_module_version": "1.5.0",
            "_view_count": null,
            "_view_module_version": "1.5.0",
            "box_style": "",
            "layout": "IPY_MODEL_b1e673b1991b4bcb95e583b8cc95f342",
            "_model_module": "@jupyter-widgets/controls",
            "children": [
              "IPY_MODEL_e085b1a9e8c546009489388b10a2f518",
              "IPY_MODEL_a83eac9be899415c928befdb82132dd3"
            ]
          }
        },
        "b1e673b1991b4bcb95e583b8cc95f342": {
          "model_module": "@jupyter-widgets/base",
          "model_name": "LayoutModel",
          "state": {
            "_view_name": "LayoutView",
            "grid_template_rows": null,
            "right": null,
            "justify_content": null,
            "_view_module": "@jupyter-widgets/base",
            "overflow": null,
            "_model_module_version": "1.2.0",
            "_view_count": null,
            "flex_flow": null,
            "width": null,
            "min_width": null,
            "border": null,
            "align_items": null,
            "bottom": null,
            "_model_module": "@jupyter-widgets/base",
            "top": null,
            "grid_column": null,
            "overflow_y": null,
            "overflow_x": null,
            "grid_auto_flow": null,
            "grid_area": null,
            "grid_template_columns": null,
            "flex": null,
            "_model_name": "LayoutModel",
            "justify_items": null,
            "grid_row": null,
            "max_height": null,
            "align_content": null,
            "visibility": null,
            "align_self": null,
            "height": null,
            "min_height": null,
            "padding": null,
            "grid_auto_rows": null,
            "grid_gap": null,
            "max_width": null,
            "order": null,
            "_view_module_version": "1.2.0",
            "grid_template_areas": null,
            "object_position": null,
            "object_fit": null,
            "grid_auto_columns": null,
            "margin": null,
            "display": null,
            "left": null
          }
        },
        "e085b1a9e8c546009489388b10a2f518": {
          "model_module": "@jupyter-widgets/controls",
          "model_name": "FloatProgressModel",
          "state": {
            "_view_name": "ProgressView",
            "style": "IPY_MODEL_e121e16a5dc34a02a8758c8271dddad5",
            "_dom_classes": [],
            "description": "",
            "_model_name": "FloatProgressModel",
            "bar_style": "info",
            "max": 1,
            "_view_module": "@jupyter-widgets/controls",
            "_model_module_version": "1.5.0",
            "value": 0,
            "_view_count": null,
            "_view_module_version": "1.5.0",
            "orientation": "horizontal",
            "min": 0,
            "description_tooltip": null,
            "_model_module": "@jupyter-widgets/controls",
            "layout": "IPY_MODEL_73f0ec282eb74eb28081cdd22af3a444"
          }
        },
        "a83eac9be899415c928befdb82132dd3": {
          "model_module": "@jupyter-widgets/controls",
          "model_name": "HTMLModel",
          "state": {
            "_view_name": "HTMLView",
            "style": "IPY_MODEL_c1bf45e2c7f04ea8a8bdecc61de4b103",
            "_dom_classes": [],
            "description": "",
            "_model_name": "HTMLModel",
            "placeholder": "​",
            "_view_module": "@jupyter-widgets/controls",
            "_model_module_version": "1.5.0",
            "value": " 0/? [00:00&lt;?, ?it/s]",
            "_view_count": null,
            "_view_module_version": "1.5.0",
            "description_tooltip": null,
            "_model_module": "@jupyter-widgets/controls",
            "layout": "IPY_MODEL_c7f3e8484af946c6acc80f937af6187f"
          }
        },
        "e121e16a5dc34a02a8758c8271dddad5": {
          "model_module": "@jupyter-widgets/controls",
          "model_name": "ProgressStyleModel",
          "state": {
            "_view_name": "StyleView",
            "_model_name": "ProgressStyleModel",
            "description_width": "initial",
            "_view_module": "@jupyter-widgets/base",
            "_model_module_version": "1.5.0",
            "_view_count": null,
            "_view_module_version": "1.2.0",
            "bar_color": null,
            "_model_module": "@jupyter-widgets/controls"
          }
        },
        "73f0ec282eb74eb28081cdd22af3a444": {
          "model_module": "@jupyter-widgets/base",
          "model_name": "LayoutModel",
          "state": {
            "_view_name": "LayoutView",
            "grid_template_rows": null,
            "right": null,
            "justify_content": null,
            "_view_module": "@jupyter-widgets/base",
            "overflow": null,
            "_model_module_version": "1.2.0",
            "_view_count": null,
            "flex_flow": null,
            "width": null,
            "min_width": null,
            "border": null,
            "align_items": null,
            "bottom": null,
            "_model_module": "@jupyter-widgets/base",
            "top": null,
            "grid_column": null,
            "overflow_y": null,
            "overflow_x": null,
            "grid_auto_flow": null,
            "grid_area": null,
            "grid_template_columns": null,
            "flex": null,
            "_model_name": "LayoutModel",
            "justify_items": null,
            "grid_row": null,
            "max_height": null,
            "align_content": null,
            "visibility": null,
            "align_self": null,
            "height": null,
            "min_height": null,
            "padding": null,
            "grid_auto_rows": null,
            "grid_gap": null,
            "max_width": null,
            "order": null,
            "_view_module_version": "1.2.0",
            "grid_template_areas": null,
            "object_position": null,
            "object_fit": null,
            "grid_auto_columns": null,
            "margin": null,
            "display": null,
            "left": null
          }
        },
        "c1bf45e2c7f04ea8a8bdecc61de4b103": {
          "model_module": "@jupyter-widgets/controls",
          "model_name": "DescriptionStyleModel",
          "state": {
            "_view_name": "StyleView",
            "_model_name": "DescriptionStyleModel",
            "description_width": "",
            "_view_module": "@jupyter-widgets/base",
            "_model_module_version": "1.5.0",
            "_view_count": null,
            "_view_module_version": "1.2.0",
            "_model_module": "@jupyter-widgets/controls"
          }
        },
        "c7f3e8484af946c6acc80f937af6187f": {
          "model_module": "@jupyter-widgets/base",
          "model_name": "LayoutModel",
          "state": {
            "_view_name": "LayoutView",
            "grid_template_rows": null,
            "right": null,
            "justify_content": null,
            "_view_module": "@jupyter-widgets/base",
            "overflow": null,
            "_model_module_version": "1.2.0",
            "_view_count": null,
            "flex_flow": null,
            "width": null,
            "min_width": null,
            "border": null,
            "align_items": null,
            "bottom": null,
            "_model_module": "@jupyter-widgets/base",
            "top": null,
            "grid_column": null,
            "overflow_y": null,
            "overflow_x": null,
            "grid_auto_flow": null,
            "grid_area": null,
            "grid_template_columns": null,
            "flex": null,
            "_model_name": "LayoutModel",
            "justify_items": null,
            "grid_row": null,
            "max_height": null,
            "align_content": null,
            "visibility": null,
            "align_self": null,
            "height": null,
            "min_height": null,
            "padding": null,
            "grid_auto_rows": null,
            "grid_gap": null,
            "max_width": null,
            "order": null,
            "_view_module_version": "1.2.0",
            "grid_template_areas": null,
            "object_position": null,
            "object_fit": null,
            "grid_auto_columns": null,
            "margin": null,
            "display": null,
            "left": null
          }
        },
        "e8c4e8cb16da4674a90e15cd395afa64": {
          "model_module": "@jupyter-widgets/controls",
          "model_name": "HBoxModel",
          "state": {
            "_view_name": "HBoxView",
            "_dom_classes": [],
            "_model_name": "HBoxModel",
            "_view_module": "@jupyter-widgets/controls",
            "_model_module_version": "1.5.0",
            "_view_count": null,
            "_view_module_version": "1.5.0",
            "box_style": "",
            "layout": "IPY_MODEL_105670bca62141138f22f48f315419f9",
            "_model_module": "@jupyter-widgets/controls",
            "children": [
              "IPY_MODEL_ffe13c060db34657b0313a71af34a750",
              "IPY_MODEL_4455ac4cfa994c8d81392a3f05d46c99"
            ]
          }
        },
        "105670bca62141138f22f48f315419f9": {
          "model_module": "@jupyter-widgets/base",
          "model_name": "LayoutModel",
          "state": {
            "_view_name": "LayoutView",
            "grid_template_rows": null,
            "right": null,
            "justify_content": null,
            "_view_module": "@jupyter-widgets/base",
            "overflow": null,
            "_model_module_version": "1.2.0",
            "_view_count": null,
            "flex_flow": null,
            "width": null,
            "min_width": null,
            "border": null,
            "align_items": null,
            "bottom": null,
            "_model_module": "@jupyter-widgets/base",
            "top": null,
            "grid_column": null,
            "overflow_y": null,
            "overflow_x": null,
            "grid_auto_flow": null,
            "grid_area": null,
            "grid_template_columns": null,
            "flex": null,
            "_model_name": "LayoutModel",
            "justify_items": null,
            "grid_row": null,
            "max_height": null,
            "align_content": null,
            "visibility": null,
            "align_self": null,
            "height": null,
            "min_height": null,
            "padding": null,
            "grid_auto_rows": null,
            "grid_gap": null,
            "max_width": null,
            "order": null,
            "_view_module_version": "1.2.0",
            "grid_template_areas": null,
            "object_position": null,
            "object_fit": null,
            "grid_auto_columns": null,
            "margin": null,
            "display": null,
            "left": null
          }
        },
        "ffe13c060db34657b0313a71af34a750": {
          "model_module": "@jupyter-widgets/controls",
          "model_name": "FloatProgressModel",
          "state": {
            "_view_name": "ProgressView",
            "style": "IPY_MODEL_41b9990a1c8241d19fc7a1b1d281b879",
            "_dom_classes": [],
            "description": "",
            "_model_name": "FloatProgressModel",
            "bar_style": "success",
            "max": 1,
            "_view_module": "@jupyter-widgets/controls",
            "_model_module_version": "1.5.0",
            "value": 1,
            "_view_count": null,
            "_view_module_version": "1.5.0",
            "orientation": "horizontal",
            "min": 0,
            "description_tooltip": null,
            "_model_module": "@jupyter-widgets/controls",
            "layout": "IPY_MODEL_00e39d9817a145348484ad510ff0d6d3"
          }
        },
        "4455ac4cfa994c8d81392a3f05d46c99": {
          "model_module": "@jupyter-widgets/controls",
          "model_name": "HTMLModel",
          "state": {
            "_view_name": "HTMLView",
            "style": "IPY_MODEL_ed81cadd780b42e8a5f877f0058f3b2c",
            "_dom_classes": [],
            "description": "",
            "_model_name": "HTMLModel",
            "placeholder": "​",
            "_view_module": "@jupyter-widgets/controls",
            "_model_module_version": "1.5.0",
            "value": " 1654784/? [00:07&lt;00:00, 229643.49it/s]",
            "_view_count": null,
            "_view_module_version": "1.5.0",
            "description_tooltip": null,
            "_model_module": "@jupyter-widgets/controls",
            "layout": "IPY_MODEL_e7268fb5c26949abb41343c5bafcd90f"
          }
        },
        "41b9990a1c8241d19fc7a1b1d281b879": {
          "model_module": "@jupyter-widgets/controls",
          "model_name": "ProgressStyleModel",
          "state": {
            "_view_name": "StyleView",
            "_model_name": "ProgressStyleModel",
            "description_width": "initial",
            "_view_module": "@jupyter-widgets/base",
            "_model_module_version": "1.5.0",
            "_view_count": null,
            "_view_module_version": "1.2.0",
            "bar_color": null,
            "_model_module": "@jupyter-widgets/controls"
          }
        },
        "00e39d9817a145348484ad510ff0d6d3": {
          "model_module": "@jupyter-widgets/base",
          "model_name": "LayoutModel",
          "state": {
            "_view_name": "LayoutView",
            "grid_template_rows": null,
            "right": null,
            "justify_content": null,
            "_view_module": "@jupyter-widgets/base",
            "overflow": null,
            "_model_module_version": "1.2.0",
            "_view_count": null,
            "flex_flow": null,
            "width": null,
            "min_width": null,
            "border": null,
            "align_items": null,
            "bottom": null,
            "_model_module": "@jupyter-widgets/base",
            "top": null,
            "grid_column": null,
            "overflow_y": null,
            "overflow_x": null,
            "grid_auto_flow": null,
            "grid_area": null,
            "grid_template_columns": null,
            "flex": null,
            "_model_name": "LayoutModel",
            "justify_items": null,
            "grid_row": null,
            "max_height": null,
            "align_content": null,
            "visibility": null,
            "align_self": null,
            "height": null,
            "min_height": null,
            "padding": null,
            "grid_auto_rows": null,
            "grid_gap": null,
            "max_width": null,
            "order": null,
            "_view_module_version": "1.2.0",
            "grid_template_areas": null,
            "object_position": null,
            "object_fit": null,
            "grid_auto_columns": null,
            "margin": null,
            "display": null,
            "left": null
          }
        },
        "ed81cadd780b42e8a5f877f0058f3b2c": {
          "model_module": "@jupyter-widgets/controls",
          "model_name": "DescriptionStyleModel",
          "state": {
            "_view_name": "StyleView",
            "_model_name": "DescriptionStyleModel",
            "description_width": "",
            "_view_module": "@jupyter-widgets/base",
            "_model_module_version": "1.5.0",
            "_view_count": null,
            "_view_module_version": "1.2.0",
            "_model_module": "@jupyter-widgets/controls"
          }
        },
        "e7268fb5c26949abb41343c5bafcd90f": {
          "model_module": "@jupyter-widgets/base",
          "model_name": "LayoutModel",
          "state": {
            "_view_name": "LayoutView",
            "grid_template_rows": null,
            "right": null,
            "justify_content": null,
            "_view_module": "@jupyter-widgets/base",
            "overflow": null,
            "_model_module_version": "1.2.0",
            "_view_count": null,
            "flex_flow": null,
            "width": null,
            "min_width": null,
            "border": null,
            "align_items": null,
            "bottom": null,
            "_model_module": "@jupyter-widgets/base",
            "top": null,
            "grid_column": null,
            "overflow_y": null,
            "overflow_x": null,
            "grid_auto_flow": null,
            "grid_area": null,
            "grid_template_columns": null,
            "flex": null,
            "_model_name": "LayoutModel",
            "justify_items": null,
            "grid_row": null,
            "max_height": null,
            "align_content": null,
            "visibility": null,
            "align_self": null,
            "height": null,
            "min_height": null,
            "padding": null,
            "grid_auto_rows": null,
            "grid_gap": null,
            "max_width": null,
            "order": null,
            "_view_module_version": "1.2.0",
            "grid_template_areas": null,
            "object_position": null,
            "object_fit": null,
            "grid_auto_columns": null,
            "margin": null,
            "display": null,
            "left": null
          }
        },
        "3fb81d8ad8e64531bbc5f505ab5da8b4": {
          "model_module": "@jupyter-widgets/controls",
          "model_name": "HBoxModel",
          "state": {
            "_view_name": "HBoxView",
            "_dom_classes": [],
            "_model_name": "HBoxModel",
            "_view_module": "@jupyter-widgets/controls",
            "_model_module_version": "1.5.0",
            "_view_count": null,
            "_view_module_version": "1.5.0",
            "box_style": "",
            "layout": "IPY_MODEL_f29fbb1afd804acea7615b3ea250fa73",
            "_model_module": "@jupyter-widgets/controls",
            "children": [
              "IPY_MODEL_00a011b89c24415992731236471b5497",
              "IPY_MODEL_6778f65c6266497dac18e1f5096d4572"
            ]
          }
        },
        "f29fbb1afd804acea7615b3ea250fa73": {
          "model_module": "@jupyter-widgets/base",
          "model_name": "LayoutModel",
          "state": {
            "_view_name": "LayoutView",
            "grid_template_rows": null,
            "right": null,
            "justify_content": null,
            "_view_module": "@jupyter-widgets/base",
            "overflow": null,
            "_model_module_version": "1.2.0",
            "_view_count": null,
            "flex_flow": null,
            "width": null,
            "min_width": null,
            "border": null,
            "align_items": null,
            "bottom": null,
            "_model_module": "@jupyter-widgets/base",
            "top": null,
            "grid_column": null,
            "overflow_y": null,
            "overflow_x": null,
            "grid_auto_flow": null,
            "grid_area": null,
            "grid_template_columns": null,
            "flex": null,
            "_model_name": "LayoutModel",
            "justify_items": null,
            "grid_row": null,
            "max_height": null,
            "align_content": null,
            "visibility": null,
            "align_self": null,
            "height": null,
            "min_height": null,
            "padding": null,
            "grid_auto_rows": null,
            "grid_gap": null,
            "max_width": null,
            "order": null,
            "_view_module_version": "1.2.0",
            "grid_template_areas": null,
            "object_position": null,
            "object_fit": null,
            "grid_auto_columns": null,
            "margin": null,
            "display": null,
            "left": null
          }
        },
        "00a011b89c24415992731236471b5497": {
          "model_module": "@jupyter-widgets/controls",
          "model_name": "FloatProgressModel",
          "state": {
            "_view_name": "ProgressView",
            "style": "IPY_MODEL_a5a8f2ece4644ded80f118ccaf1285d9",
            "_dom_classes": [],
            "description": "",
            "_model_name": "FloatProgressModel",
            "bar_style": "success",
            "max": 1,
            "_view_module": "@jupyter-widgets/controls",
            "_model_module_version": "1.5.0",
            "value": 1,
            "_view_count": null,
            "_view_module_version": "1.5.0",
            "orientation": "horizontal",
            "min": 0,
            "description_tooltip": null,
            "_model_module": "@jupyter-widgets/controls",
            "layout": "IPY_MODEL_65b41e157dbe44728f91ab65e13b7d2c"
          }
        },
        "6778f65c6266497dac18e1f5096d4572": {
          "model_module": "@jupyter-widgets/controls",
          "model_name": "HTMLModel",
          "state": {
            "_view_name": "HTMLView",
            "style": "IPY_MODEL_68b49c12fe314b71af5c2b97e0ff93e7",
            "_dom_classes": [],
            "description": "",
            "_model_name": "HTMLModel",
            "placeholder": "​",
            "_view_module": "@jupyter-widgets/controls",
            "_model_module_version": "1.5.0",
            "value": " 8192/? [00:06&lt;00:00, 1173.09it/s]",
            "_view_count": null,
            "_view_module_version": "1.5.0",
            "description_tooltip": null,
            "_model_module": "@jupyter-widgets/controls",
            "layout": "IPY_MODEL_d578590aeb914784a03c3db22d59884b"
          }
        },
        "a5a8f2ece4644ded80f118ccaf1285d9": {
          "model_module": "@jupyter-widgets/controls",
          "model_name": "ProgressStyleModel",
          "state": {
            "_view_name": "StyleView",
            "_model_name": "ProgressStyleModel",
            "description_width": "initial",
            "_view_module": "@jupyter-widgets/base",
            "_model_module_version": "1.5.0",
            "_view_count": null,
            "_view_module_version": "1.2.0",
            "bar_color": null,
            "_model_module": "@jupyter-widgets/controls"
          }
        },
        "65b41e157dbe44728f91ab65e13b7d2c": {
          "model_module": "@jupyter-widgets/base",
          "model_name": "LayoutModel",
          "state": {
            "_view_name": "LayoutView",
            "grid_template_rows": null,
            "right": null,
            "justify_content": null,
            "_view_module": "@jupyter-widgets/base",
            "overflow": null,
            "_model_module_version": "1.2.0",
            "_view_count": null,
            "flex_flow": null,
            "width": null,
            "min_width": null,
            "border": null,
            "align_items": null,
            "bottom": null,
            "_model_module": "@jupyter-widgets/base",
            "top": null,
            "grid_column": null,
            "overflow_y": null,
            "overflow_x": null,
            "grid_auto_flow": null,
            "grid_area": null,
            "grid_template_columns": null,
            "flex": null,
            "_model_name": "LayoutModel",
            "justify_items": null,
            "grid_row": null,
            "max_height": null,
            "align_content": null,
            "visibility": null,
            "align_self": null,
            "height": null,
            "min_height": null,
            "padding": null,
            "grid_auto_rows": null,
            "grid_gap": null,
            "max_width": null,
            "order": null,
            "_view_module_version": "1.2.0",
            "grid_template_areas": null,
            "object_position": null,
            "object_fit": null,
            "grid_auto_columns": null,
            "margin": null,
            "display": null,
            "left": null
          }
        },
        "68b49c12fe314b71af5c2b97e0ff93e7": {
          "model_module": "@jupyter-widgets/controls",
          "model_name": "DescriptionStyleModel",
          "state": {
            "_view_name": "StyleView",
            "_model_name": "DescriptionStyleModel",
            "description_width": "",
            "_view_module": "@jupyter-widgets/base",
            "_model_module_version": "1.5.0",
            "_view_count": null,
            "_view_module_version": "1.2.0",
            "_model_module": "@jupyter-widgets/controls"
          }
        },
        "d578590aeb914784a03c3db22d59884b": {
          "model_module": "@jupyter-widgets/base",
          "model_name": "LayoutModel",
          "state": {
            "_view_name": "LayoutView",
            "grid_template_rows": null,
            "right": null,
            "justify_content": null,
            "_view_module": "@jupyter-widgets/base",
            "overflow": null,
            "_model_module_version": "1.2.0",
            "_view_count": null,
            "flex_flow": null,
            "width": null,
            "min_width": null,
            "border": null,
            "align_items": null,
            "bottom": null,
            "_model_module": "@jupyter-widgets/base",
            "top": null,
            "grid_column": null,
            "overflow_y": null,
            "overflow_x": null,
            "grid_auto_flow": null,
            "grid_area": null,
            "grid_template_columns": null,
            "flex": null,
            "_model_name": "LayoutModel",
            "justify_items": null,
            "grid_row": null,
            "max_height": null,
            "align_content": null,
            "visibility": null,
            "align_self": null,
            "height": null,
            "min_height": null,
            "padding": null,
            "grid_auto_rows": null,
            "grid_gap": null,
            "max_width": null,
            "order": null,
            "_view_module_version": "1.2.0",
            "grid_template_areas": null,
            "object_position": null,
            "object_fit": null,
            "grid_auto_columns": null,
            "margin": null,
            "display": null,
            "left": null
          }
        }
      }
    }
  },
  "cells": [
    {
      "cell_type": "markdown",
      "metadata": {
        "id": "view-in-github",
        "colab_type": "text"
      },
      "source": [
        "<a href=\"https://colab.research.google.com/github/novoforce/Exploring-Pytorch/blob/master/new/1003_Pytorch_RNN_GRU_LSTM.ipynb\" target=\"_parent\"><img src=\"https://colab.research.google.com/assets/colab-badge.svg\" alt=\"Open In Colab\"/></a>"
      ]
    },
    {
      "cell_type": "markdown",
      "metadata": {
        "id": "1m18JJ1PpkqZ"
      },
      "source": [
        "# Imports"
      ]
    },
    {
      "cell_type": "code",
      "metadata": {
        "id": "a4qiyDjbqMJC"
      },
      "source": [
        "import torch\n",
        "import torch.nn as nn #All neural network layers definitions are present\n",
        "import torch.nn.functional as F #functional api for NN layers, used to adding activations\n",
        "import torch.optim as optim #Optimizers are defined here\n",
        "from torch.utils.data import DataLoader #Data management for NN\n",
        "import torchvision.datasets as datasets #Datasets for the NN\n",
        "import torchvision.transforms as transforms #Data transform for augmentation"
      ],
      "execution_count": 1,
      "outputs": []
    },
    {
      "cell_type": "markdown",
      "metadata": {
        "id": "tAx3DzZjpkls"
      },
      "source": [
        "# Create a Recurrent Neural Network"
      ]
    },
    {
      "cell_type": "code",
      "metadata": {
        "id": "Hj0hbD1SrWAv"
      },
      "source": [
        "class RNN(nn.Module):  #subclassing/inheriting from nn.Module\n",
        "  def __init__(self,input_size,hidden_size,num_layers,num_classes):  #input_size= 28x28 = 784\n",
        "    super(RNN,self).__init__() #calls the init function of the parent class(nn.Module)\n",
        "    self.hidden_size= hidden_size\n",
        "    self.num_layers= num_layers\n",
        "    self.rnn= nn.RNN(input_size,hidden_size,num_layers,batch_first=True)\n",
        "    self.fc= nn.Linear(hidden_size*sequence_length,num_classes)\n",
        "\n",
        "  def forward(self,x):\n",
        "    # x= F.relu(self.fc1(x)) #-->shape: (batch x 784)-->(batch x 50)\n",
        "    # x= self.fc2(x) #-->shape: (batch x 50)-->(batch x num_classes)    \n",
        "    h0= torch.zeros(self.num_layers,x.size(0),self.hidden_size).to(device) #initialize hidden state\n",
        "    # Forward Propagation\n",
        "    out,_ = self.rnn(x,h0)\n",
        "    out= out.reshape(out.shape[0],-1)\n",
        "    out= self.fc(out)\n",
        "    return out\n",
        "\n",
        "# Testing the class with some random generated values\n",
        "# model= RNN(28,256,2,10)\n",
        "# x= torch.randn((28,256,2,10))\n",
        "# print(model(x).shape)\n"
      ],
      "execution_count": 2,
      "outputs": []
    },
    {
      "cell_type": "markdown",
      "metadata": {
        "id": "QMF4WtR0nXhk"
      },
      "source": [
        "# Create a Gated Recurrent Unit(GRU)"
      ]
    },
    {
      "cell_type": "code",
      "metadata": {
        "id": "hjO3tyTznh4S"
      },
      "source": [
        "class GRU(nn.Module):  #subclassing/inheriting from nn.Module\n",
        "  def __init__(self,input_size,hidden_size,num_layers,num_classes):  #input_size= 28x28 = 784\n",
        "    super(GRU,self).__init__() #calls the init function of the parent class(nn.Module)\n",
        "    self.hidden_size= hidden_size\n",
        "    self.num_layers= num_layers\n",
        "    self.gru= nn.GRU(input_size,hidden_size,num_layers,batch_first=True)\n",
        "    self.fc= nn.Linear(hidden_size*sequence_length,num_classes)\n",
        "\n",
        "  def forward(self,x):\n",
        "    # x= F.relu(self.fc1(x)) #-->shape: (batch x 784)-->(batch x 50)\n",
        "    # x= self.fc2(x) #-->shape: (batch x 50)-->(batch x num_classes)    \n",
        "    h0= torch.zeros(self.num_layers,x.size(0),self.hidden_size).to(device) #initialize hidden state\n",
        "    # Forward Propagation\n",
        "    out,_ = self.gru(x,h0)\n",
        "    out= out.reshape(out.shape[0],-1)\n",
        "    out= self.fc(out)\n",
        "    return out\n",
        "\n",
        "# Testing the class with some random generated values\n",
        "# model= RNN(28,256,2,10)\n",
        "# x= torch.randn((28,256,2,10))\n",
        "# print(model(x).shape)\n"
      ],
      "execution_count": 3,
      "outputs": []
    },
    {
      "cell_type": "markdown",
      "metadata": {
        "id": "dYncmptpoHiB"
      },
      "source": [
        "# Create a Long Short Term Memory Unit(LSTM)"
      ]
    },
    {
      "cell_type": "code",
      "metadata": {
        "id": "hUyUu_j0oUhO"
      },
      "source": [
        "class LSTM(nn.Module):  #subclassing/inheriting from nn.Module\n",
        "  def __init__(self,input_size,hidden_size,num_layers,num_classes):  #input_size= 28x28 = 784\n",
        "    super(LSTM,self).__init__() #calls the init function of the parent class(nn.Module)\n",
        "    self.hidden_size= hidden_size\n",
        "    self.num_layers= num_layers\n",
        "    self.lstm= nn.LSTM(input_size,hidden_size,num_layers,batch_first=True)\n",
        "    self.fc= nn.Linear(hidden_size*sequence_length,num_classes)\n",
        "\n",
        "  def forward(self,x):\n",
        "    # x= F.relu(self.fc1(x)) #-->shape: (batch x 784)-->(batch x 50)\n",
        "    # x= self.fc2(x) #-->shape: (batch x 50)-->(batch x num_classes)    \n",
        "    h0= torch.zeros(self.num_layers,x.size(0),self.hidden_size).to(device) #initialize hidden state\n",
        "    c0= torch.zeros(self.num_layers,x.size(0),self.hidden_size).to(device) #initialize cell state (specific for lstm)\n",
        "    # Forward Propagation\n",
        "    out,_ = self.lstm(x,(h0,c0))\n",
        "    out= out.reshape(out.shape[0],-1)\n",
        "    out= self.fc(out)\n",
        "    return out\n",
        "\n",
        "# Testing the class with some random generated values\n",
        "# model= RNN(28,256,2,10)\n",
        "# x= torch.randn((28,256,2,10))\n",
        "# print(model(x).shape)\n"
      ],
      "execution_count": 4,
      "outputs": []
    },
    {
      "cell_type": "markdown",
      "metadata": {
        "id": "XwVc2I3KNEx1"
      },
      "source": [
        "# Create a Bi-directional LSTM"
      ]
    },
    {
      "cell_type": "code",
      "metadata": {
        "id": "KJ3rHVmuNJc1"
      },
      "source": [
        "class BRNN(nn.Module):\n",
        "    def __init__(self,input_size,hidden_size,num_layers,num_classes):\n",
        "        super(BRNN,self).__init__()\n",
        "        self.hidden_size= hidden_size\n",
        "        self.num_layers= num_layers\n",
        "        self.lstm= nn.LSTM(input_size,hidden_size,num_layers,batch_first=True, bidirectional=True)\n",
        "        self.fc= nn.Linear(hidden_size*2,num_classes)\n",
        "\n",
        "    def forward(self,x):\n",
        "        h0= torch.zeros(self.num_layers*2,x.size(0),self.hidden_size).to(device) #initialize hidden state\n",
        "        c0= torch.zeros(self.num_layers*2,x.size(0),self.hidden_size).to(device) #initialize cell state (specific for lstm)\n",
        "        # Forward Propagation\n",
        "        out,_ = self.lstm(x,(h0,c0))\n",
        "        out= self.fc(out[:,-1,:]) # take the last hidden state\n",
        "        return out"
      ],
      "execution_count": 5,
      "outputs": []
    },
    {
      "cell_type": "markdown",
      "metadata": {
        "id": "SGDL6LxSpkeR"
      },
      "source": [
        "# Set Device"
      ]
    },
    {
      "cell_type": "code",
      "metadata": {
        "id": "YXBNl7suvIwz"
      },
      "source": [
        "device= torch.device('cuda' if torch.cuda.is_available() else 'cpu')"
      ],
      "execution_count": 6,
      "outputs": []
    },
    {
      "cell_type": "markdown",
      "metadata": {
        "id": "uPWmdm91pkan"
      },
      "source": [
        "# Hyperparameters"
      ]
    },
    {
      "cell_type": "code",
      "metadata": {
        "id": "f2WgzTcavTn0"
      },
      "source": [
        "input_size= 28\n",
        "sequence_length= 28\n",
        "num_layers= 2\n",
        "hidden_size= 256\n",
        "num_classes= 10\n",
        "learning_rate= 0.001\n",
        "batch_size= 64\n",
        "num_epochs= 2"
      ],
      "execution_count": 7,
      "outputs": []
    },
    {
      "cell_type": "markdown",
      "metadata": {
        "id": "esRLjL_UpkW7"
      },
      "source": [
        "# Load Data"
      ]
    },
    {
      "cell_type": "code",
      "metadata": {
        "id": "WVJ8kgaYvlNV",
        "colab": {
          "base_uri": "https://localhost:8080/",
          "height": 369,
          "referenced_widgets": [
            "86a31b5a1dbf47d591f865fa11d1e2a8",
            "fca71d1180bc4934a41c56c34902bed9",
            "dc0c8d5d3456448cbbc24822c767cfed",
            "07c0f96d763748a181e68203ef8970a0",
            "e8ae5cf092a940e7afb0a5e9f5df88fe",
            "0c1fe3a5b99447bfb5cf3360ac1a05ab",
            "14c183c8caf34675892ed1403e9351a6",
            "38feb54b37784045b9499dbae2f9261f",
            "7613dff6bf0940c8befa2f990c40cf96",
            "b1e673b1991b4bcb95e583b8cc95f342",
            "e085b1a9e8c546009489388b10a2f518",
            "a83eac9be899415c928befdb82132dd3",
            "e121e16a5dc34a02a8758c8271dddad5",
            "73f0ec282eb74eb28081cdd22af3a444",
            "c1bf45e2c7f04ea8a8bdecc61de4b103",
            "c7f3e8484af946c6acc80f937af6187f",
            "e8c4e8cb16da4674a90e15cd395afa64",
            "105670bca62141138f22f48f315419f9",
            "ffe13c060db34657b0313a71af34a750",
            "4455ac4cfa994c8d81392a3f05d46c99",
            "41b9990a1c8241d19fc7a1b1d281b879",
            "00e39d9817a145348484ad510ff0d6d3",
            "ed81cadd780b42e8a5f877f0058f3b2c",
            "e7268fb5c26949abb41343c5bafcd90f",
            "3fb81d8ad8e64531bbc5f505ab5da8b4",
            "f29fbb1afd804acea7615b3ea250fa73",
            "00a011b89c24415992731236471b5497",
            "6778f65c6266497dac18e1f5096d4572",
            "a5a8f2ece4644ded80f118ccaf1285d9",
            "65b41e157dbe44728f91ab65e13b7d2c",
            "68b49c12fe314b71af5c2b97e0ff93e7",
            "d578590aeb914784a03c3db22d59884b"
          ]
        },
        "outputId": "c416c375-1b19-4101-8323-84a14a1d872c"
      },
      "source": [
        "train_dataset= datasets.MNIST(root='datasets/',train=True,transform=transforms.ToTensor(),download=True)\n",
        "train_loader= DataLoader(dataset=train_dataset,batch_size=batch_size,shuffle=True)\n",
        "\n",
        "test_dataset= datasets.MNIST(root='datasets/',train=False,transform=transforms.ToTensor(),download=True)\n",
        "test_loader= DataLoader(dataset=test_dataset,batch_size=batch_size,shuffle=True)"
      ],
      "execution_count": 8,
      "outputs": [
        {
          "output_type": "stream",
          "text": [
            "Downloading http://yann.lecun.com/exdb/mnist/train-images-idx3-ubyte.gz to datasets/MNIST/raw/train-images-idx3-ubyte.gz\n"
          ],
          "name": "stdout"
        },
        {
          "output_type": "display_data",
          "data": {
            "application/vnd.jupyter.widget-view+json": {
              "model_id": "86a31b5a1dbf47d591f865fa11d1e2a8",
              "version_minor": 0,
              "version_major": 2
            },
            "text/plain": [
              "HBox(children=(FloatProgress(value=1.0, bar_style='info', max=1.0), HTML(value='')))"
            ]
          },
          "metadata": {
            "tags": []
          }
        },
        {
          "output_type": "stream",
          "text": [
            "Extracting datasets/MNIST/raw/train-images-idx3-ubyte.gz to datasets/MNIST/raw\n",
            "Downloading http://yann.lecun.com/exdb/mnist/train-labels-idx1-ubyte.gz to datasets/MNIST/raw/train-labels-idx1-ubyte.gz\n"
          ],
          "name": "stdout"
        },
        {
          "output_type": "display_data",
          "data": {
            "application/vnd.jupyter.widget-view+json": {
              "model_id": "7613dff6bf0940c8befa2f990c40cf96",
              "version_minor": 0,
              "version_major": 2
            },
            "text/plain": [
              "HBox(children=(FloatProgress(value=1.0, bar_style='info', max=1.0), HTML(value='')))"
            ]
          },
          "metadata": {
            "tags": []
          }
        },
        {
          "output_type": "stream",
          "text": [
            "Extracting datasets/MNIST/raw/train-labels-idx1-ubyte.gz to datasets/MNIST/raw\n",
            "Downloading http://yann.lecun.com/exdb/mnist/t10k-images-idx3-ubyte.gz to datasets/MNIST/raw/t10k-images-idx3-ubyte.gz\n"
          ],
          "name": "stdout"
        },
        {
          "output_type": "display_data",
          "data": {
            "application/vnd.jupyter.widget-view+json": {
              "model_id": "e8c4e8cb16da4674a90e15cd395afa64",
              "version_minor": 0,
              "version_major": 2
            },
            "text/plain": [
              "HBox(children=(FloatProgress(value=1.0, bar_style='info', max=1.0), HTML(value='')))"
            ]
          },
          "metadata": {
            "tags": []
          }
        },
        {
          "output_type": "stream",
          "text": [
            "Extracting datasets/MNIST/raw/t10k-images-idx3-ubyte.gz to datasets/MNIST/raw\n",
            "Downloading http://yann.lecun.com/exdb/mnist/t10k-labels-idx1-ubyte.gz to datasets/MNIST/raw/t10k-labels-idx1-ubyte.gz\n"
          ],
          "name": "stdout"
        },
        {
          "output_type": "display_data",
          "data": {
            "application/vnd.jupyter.widget-view+json": {
              "model_id": "3fb81d8ad8e64531bbc5f505ab5da8b4",
              "version_minor": 0,
              "version_major": 2
            },
            "text/plain": [
              "HBox(children=(FloatProgress(value=1.0, bar_style='info', max=1.0), HTML(value='')))"
            ]
          },
          "metadata": {
            "tags": []
          }
        },
        {
          "output_type": "stream",
          "text": [
            "Extracting datasets/MNIST/raw/t10k-labels-idx1-ubyte.gz to datasets/MNIST/raw\n",
            "Processing...\n",
            "Done!\n"
          ],
          "name": "stdout"
        },
        {
          "output_type": "stream",
          "text": [
            "/usr/local/lib/python3.6/dist-packages/torchvision/datasets/mnist.py:480: UserWarning: The given NumPy array is not writeable, and PyTorch does not support non-writeable tensors. This means you can write to the underlying (supposedly non-writeable) NumPy array using the tensor. You may want to copy the array to protect its data or make it writeable before converting it to a tensor. This type of warning will be suppressed for the rest of this program. (Triggered internally at  /pytorch/torch/csrc/utils/tensor_numpy.cpp:141.)\n",
            "  return torch.from_numpy(parsed.astype(m[2], copy=False)).view(*s)\n"
          ],
          "name": "stderr"
        }
      ]
    },
    {
      "cell_type": "markdown",
      "metadata": {
        "id": "Lros5ha1pkSF"
      },
      "source": [
        "# Initialize network"
      ]
    },
    {
      "cell_type": "code",
      "metadata": {
        "id": "SysrFJq6wrCT"
      },
      "source": [
        "model= RNN(input_size,hidden_size,num_layers,num_classes).to(device)"
      ],
      "execution_count": null,
      "outputs": []
    },
    {
      "cell_type": "code",
      "metadata": {
        "id": "U4sJop84nwI3"
      },
      "source": [
        "model= GRU(input_size,hidden_size,num_layers,num_classes).to(device)"
      ],
      "execution_count": null,
      "outputs": []
    },
    {
      "cell_type": "code",
      "metadata": {
        "id": "bXWXBIYcrmDY"
      },
      "source": [
        "model= LSTM(input_size,hidden_size,num_layers,num_classes).to(device)"
      ],
      "execution_count": null,
      "outputs": []
    },
    {
      "cell_type": "code",
      "metadata": {
        "id": "OSAOARn5PMO6"
      },
      "source": [
        "model= BRNN(input_size,hidden_size,num_layers,num_classes).to(device)"
      ],
      "execution_count": 9,
      "outputs": []
    },
    {
      "cell_type": "markdown",
      "metadata": {
        "id": "tmalpj8KpkLP"
      },
      "source": [
        "# Loss & Optimizers"
      ]
    },
    {
      "cell_type": "code",
      "metadata": {
        "id": "K_aDQH5Mw_NS"
      },
      "source": [
        "criterion= nn.CrossEntropyLoss()\n",
        "optimizer= optim.Adam(model.parameters(),lr=learning_rate) "
      ],
      "execution_count": 10,
      "outputs": []
    },
    {
      "cell_type": "markdown",
      "metadata": {
        "id": "pvda-Zo8pkCe"
      },
      "source": [
        "# Train Network"
      ]
    },
    {
      "cell_type": "code",
      "metadata": {
        "id": "eQkF4qbbxUCo"
      },
      "source": [
        "for epoch in range(num_epochs):\n",
        "    for batch_idx,(data,targets) in enumerate(train_loader):\n",
        "        data= data.to(device).squeeze(1)\n",
        "        targets= targets.to(device)\n",
        "        \n",
        "        #forward propagation\n",
        "        scores= model(data)\n",
        "        loss= criterion(scores,targets)\n",
        "\n",
        "        #backward propagation\n",
        "        optimizer.zero_grad()\n",
        "        loss.backward()\n",
        "\n",
        "        #gradient descent\n",
        "        optimizer.step()"
      ],
      "execution_count": 11,
      "outputs": []
    },
    {
      "cell_type": "markdown",
      "metadata": {
        "id": "0gGsbPODqCB5"
      },
      "source": [
        "# Check accuracy on training & test to see how good our model is"
      ]
    },
    {
      "cell_type": "code",
      "metadata": {
        "colab": {
          "base_uri": "https://localhost:8080/"
        },
        "id": "nXwe-v_VnOov",
        "outputId": "a89794d2-9280-4514-89dc-e0767a90f8c8"
      },
      "source": [
        "def check_accuracy(loader,model):\n",
        "    num_correct= 0\n",
        "    num_samples= 0\n",
        "    model.eval()\n",
        "\n",
        "    with torch.no_grad():\n",
        "        if loader.dataset.train:\n",
        "            print(\"Checking accuracy on Training data\")\n",
        "        else:\n",
        "            print(\"Checking accuracy on Testing data\")\n",
        "\n",
        "        for x,y in loader:\n",
        "            x= x.to(device).squeeze(1)\n",
        "            y= y.to(device)\n",
        "            # print('y: ',y)\n",
        "            scores= model(x)  #batch x num_classes   Here 'model' is the trained\n",
        "            # print('scores: ',scores)\n",
        "            _,predictions= scores.max(1)\n",
        "            # print('vals: ',_,predictions)\n",
        "            # break\n",
        "            num_correct += (predictions == y).sum()\n",
        "            num_samples += predictions.size(0)\n",
        "        print(f'Got {num_correct}/{num_samples} with accuracy {float(num_correct)/float(num_samples)*100:.2f} %')\n",
        "\n",
        "    model.train()\n",
        "\n",
        "check_accuracy(train_loader,model)\n",
        "check_accuracy(test_loader,model)\n"
      ],
      "execution_count": 12,
      "outputs": [
        {
          "output_type": "stream",
          "text": [
            "Checking accuracy on Training data\n",
            "Got 58343/60000 with accuracy 97.24 %\n",
            "Checking accuracy on Testing data\n",
            "Got 9733/10000 with accuracy 97.33 %\n"
          ],
          "name": "stdout"
        }
      ]
    },
    {
      "cell_type": "code",
      "metadata": {
        "id": "1TErDfxJ3C88"
      },
      "source": [
        ""
      ],
      "execution_count": null,
      "outputs": []
    }
  ]
}