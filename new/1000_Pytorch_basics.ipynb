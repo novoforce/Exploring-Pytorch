{
  "nbformat": 4,
  "nbformat_minor": 0,
  "metadata": {
    "colab": {
      "name": "1000_Pytorch_basics.ipynb",
      "provenance": [],
      "collapsed_sections": [],
      "toc_visible": true,
      "authorship_tag": "ABX9TyNRhL+RLlDyky2AjtGpSNJt",
      "include_colab_link": true
    },
    "kernelspec": {
      "name": "python3",
      "display_name": "Python 3"
    }
  },
  "cells": [
    {
      "cell_type": "markdown",
      "metadata": {
        "id": "view-in-github",
        "colab_type": "text"
      },
      "source": [
        "<a href=\"https://colab.research.google.com/github/novoforce/Exploring-Pytorch/blob/master/new/1000_Pytorch_basics.ipynb\" target=\"_parent\"><img src=\"https://colab.research.google.com/assets/colab-badge.svg\" alt=\"Open In Colab\"/></a>"
      ]
    },
    {
      "cell_type": "markdown",
      "metadata": {
        "id": "2leLV9YhUyhi"
      },
      "source": [
        "[Video_Link](https://www.youtube.com/watch?v=x9JiIFvlUwk&list=PLhhyoLH6IjfxeoooqP9rhU3HJIAVAJ3Vz&index=2)"
      ]
    },
    {
      "cell_type": "code",
      "metadata": {
        "id": "d4yNvHR1UjOW"
      },
      "source": [
        "import torch"
      ],
      "execution_count": null,
      "outputs": []
    },
    {
      "cell_type": "markdown",
      "metadata": {
        "id": "NUk9ookcVCjV"
      },
      "source": [
        "# Initialising the tensors"
      ]
    },
    {
      "cell_type": "code",
      "metadata": {
        "colab": {
          "base_uri": "https://localhost:8080/"
        },
        "id": "nV_S9yAxVKFR",
        "outputId": "e89981d5-1ff1-4c5c-fbd7-9af2ce818920"
      },
      "source": [
        "#1\n",
        "my_tensor= torch.tensor([[1,2,3],[4,5,6]])\n",
        "print(my_tensor)"
      ],
      "execution_count": 110,
      "outputs": [
        {
          "output_type": "stream",
          "text": [
            "tensor([[1, 2, 3],\n",
            "        [4, 5, 6]])\n"
          ],
          "name": "stdout"
        }
      ]
    },
    {
      "cell_type": "code",
      "metadata": {
        "colab": {
          "base_uri": "https://localhost:8080/"
        },
        "id": "JYJ-3mSweQ0C",
        "outputId": "6c6ec6a3-a3e9-4953-8416-30a001ab45d6"
      },
      "source": [
        "#2\n",
        "my_tensor= torch.tensor([[1,2,3],[4,5,6]],dtype=torch.float32)\n",
        "print(my_tensor)"
      ],
      "execution_count": null,
      "outputs": [
        {
          "output_type": "stream",
          "text": [
            "tensor([[1., 2., 3.],\n",
            "        [4., 5., 6.]])\n"
          ],
          "name": "stdout"
        }
      ]
    },
    {
      "cell_type": "code",
      "metadata": {
        "colab": {
          "base_uri": "https://localhost:8080/",
          "height": 316
        },
        "id": "xc8h-RLmecYU",
        "outputId": "95118ffd-deb6-4837-85dd-ac328f4a8a48"
      },
      "source": [
        "#3\n",
        "my_tensor= torch.tensor([[1,2,3],[4,5,6]],dtype=torch.float32,device='cuda')\n",
        "print(my_tensor)"
      ],
      "execution_count": null,
      "outputs": [
        {
          "output_type": "error",
          "ename": "RuntimeError",
          "evalue": "ignored",
          "traceback": [
            "\u001b[0;31m---------------------------------------------------------------------------\u001b[0m",
            "\u001b[0;31mRuntimeError\u001b[0m                              Traceback (most recent call last)",
            "\u001b[0;32m<ipython-input-4-9c115fe0c7c1>\u001b[0m in \u001b[0;36m<module>\u001b[0;34m()\u001b[0m\n\u001b[1;32m      1\u001b[0m \u001b[0;31m#3\u001b[0m\u001b[0;34m\u001b[0m\u001b[0;34m\u001b[0m\u001b[0;34m\u001b[0m\u001b[0m\n\u001b[0;32m----> 2\u001b[0;31m \u001b[0mmy_tensor\u001b[0m\u001b[0;34m=\u001b[0m \u001b[0mtorch\u001b[0m\u001b[0;34m.\u001b[0m\u001b[0mtensor\u001b[0m\u001b[0;34m(\u001b[0m\u001b[0;34m[\u001b[0m\u001b[0;34m[\u001b[0m\u001b[0;36m1\u001b[0m\u001b[0;34m,\u001b[0m\u001b[0;36m2\u001b[0m\u001b[0;34m,\u001b[0m\u001b[0;36m3\u001b[0m\u001b[0;34m]\u001b[0m\u001b[0;34m,\u001b[0m\u001b[0;34m[\u001b[0m\u001b[0;36m4\u001b[0m\u001b[0;34m,\u001b[0m\u001b[0;36m5\u001b[0m\u001b[0;34m,\u001b[0m\u001b[0;36m6\u001b[0m\u001b[0;34m]\u001b[0m\u001b[0;34m]\u001b[0m\u001b[0;34m,\u001b[0m\u001b[0mdtype\u001b[0m\u001b[0;34m=\u001b[0m\u001b[0mtorch\u001b[0m\u001b[0;34m.\u001b[0m\u001b[0mfloat32\u001b[0m\u001b[0;34m,\u001b[0m\u001b[0mdevice\u001b[0m\u001b[0;34m=\u001b[0m\u001b[0;34m'cuda'\u001b[0m\u001b[0;34m)\u001b[0m\u001b[0;34m\u001b[0m\u001b[0;34m\u001b[0m\u001b[0m\n\u001b[0m\u001b[1;32m      3\u001b[0m \u001b[0mprint\u001b[0m\u001b[0;34m(\u001b[0m\u001b[0mmy_tensor\u001b[0m\u001b[0;34m)\u001b[0m\u001b[0;34m\u001b[0m\u001b[0;34m\u001b[0m\u001b[0m\n",
            "\u001b[0;32m/usr/local/lib/python3.6/dist-packages/torch/cuda/__init__.py\u001b[0m in \u001b[0;36m_lazy_init\u001b[0;34m()\u001b[0m\n\u001b[1;32m    170\u001b[0m         \u001b[0;31m# This function throws if there's a driver initialization error, no GPUs\u001b[0m\u001b[0;34m\u001b[0m\u001b[0;34m\u001b[0m\u001b[0;34m\u001b[0m\u001b[0m\n\u001b[1;32m    171\u001b[0m         \u001b[0;31m# are found or any other error occurs\u001b[0m\u001b[0;34m\u001b[0m\u001b[0;34m\u001b[0m\u001b[0;34m\u001b[0m\u001b[0m\n\u001b[0;32m--> 172\u001b[0;31m         \u001b[0mtorch\u001b[0m\u001b[0;34m.\u001b[0m\u001b[0m_C\u001b[0m\u001b[0;34m.\u001b[0m\u001b[0m_cuda_init\u001b[0m\u001b[0;34m(\u001b[0m\u001b[0;34m)\u001b[0m\u001b[0;34m\u001b[0m\u001b[0;34m\u001b[0m\u001b[0m\n\u001b[0m\u001b[1;32m    173\u001b[0m         \u001b[0;31m# Some of the queued calls may reentrantly call _lazy_init();\u001b[0m\u001b[0;34m\u001b[0m\u001b[0;34m\u001b[0m\u001b[0;34m\u001b[0m\u001b[0m\n\u001b[1;32m    174\u001b[0m         \u001b[0;31m# we need to just return without initializing in that case.\u001b[0m\u001b[0;34m\u001b[0m\u001b[0;34m\u001b[0m\u001b[0;34m\u001b[0m\u001b[0m\n",
            "\u001b[0;31mRuntimeError\u001b[0m: No CUDA GPUs are available"
          ]
        }
      ]
    },
    {
      "cell_type": "code",
      "metadata": {
        "colab": {
          "base_uri": "https://localhost:8080/"
        },
        "id": "1zU0J-OWesgb",
        "outputId": "3815f188-eafb-45ca-f4f7-2518164b48d3"
      },
      "source": [
        "#4\n",
        "my_tensor= torch.tensor([[1,2,3],[4,5,6]],dtype=torch.float32,device='cpu') #cpu is the default\n",
        "print(my_tensor)"
      ],
      "execution_count": null,
      "outputs": [
        {
          "output_type": "stream",
          "text": [
            "tensor([[1., 2., 3.],\n",
            "        [4., 5., 6.]])\n"
          ],
          "name": "stdout"
        }
      ]
    },
    {
      "cell_type": "code",
      "metadata": {
        "colab": {
          "base_uri": "https://localhost:8080/"
        },
        "id": "d56ZkuUae0fK",
        "outputId": "30182a0d-e464-49e4-dccb-2ca6b28dd6c7"
      },
      "source": [
        "#5\n",
        "#for calculating the gradients\n",
        "my_tensor= torch.tensor([[1,2,3],[4,5,6]],dtype=torch.float32,requires_grad=True)\n",
        "print(my_tensor)"
      ],
      "execution_count": null,
      "outputs": [
        {
          "output_type": "stream",
          "text": [
            "tensor([[1., 2., 3.],\n",
            "        [4., 5., 6.]], requires_grad=True)\n"
          ],
          "name": "stdout"
        }
      ]
    },
    {
      "cell_type": "code",
      "metadata": {
        "colab": {
          "base_uri": "https://localhost:8080/"
        },
        "id": "cucig2A3fpU2",
        "outputId": "bf1ce561-0405-42a4-8faf-f61b62ed9d8f"
      },
      "source": [
        "#6\n",
        "#CUDA- Compute Unified Device Architecture   https://en.wikipedia.org/wiki/CUDA#:~:text=CUDA%20(Compute%20Unified%20Device%20Architecture,API)%20model%20created%20by%20Nvidia.\n",
        "#the best way to add device(cpu/gpu) \n",
        "device= \"cuda\" if torch.cuda.is_available() else \"cpu\"\n",
        "my_tensor= torch.tensor([[1,2,3],[4,5,6]],dtype=torch.float32,device=device) #cpu is the default\n",
        "print(my_tensor)"
      ],
      "execution_count": null,
      "outputs": [
        {
          "output_type": "stream",
          "text": [
            "tensor([[1., 2., 3.],\n",
            "        [4., 5., 6.]])\n"
          ],
          "name": "stdout"
        }
      ]
    },
    {
      "cell_type": "markdown",
      "metadata": {
        "id": "pjbxS04rhzGL"
      },
      "source": [
        "# Other initialization methods"
      ]
    },
    {
      "cell_type": "code",
      "metadata": {
        "colab": {
          "base_uri": "https://localhost:8080/"
        },
        "id": "zJMgIkN4h36a",
        "outputId": "f17d1628-ab48-4834-8e39-78f6d6a2a565"
      },
      "source": [
        "#7\n",
        "x= torch.empty(size=(3,3)) #x will contain random values without any distribution\n",
        "print(x)"
      ],
      "execution_count": null,
      "outputs": [
        {
          "output_type": "stream",
          "text": [
            "tensor([[8.4170e-36, 0.0000e+00, 3.3631e-44],\n",
            "        [0.0000e+00,        nan, 2.0022e-19],\n",
            "        [1.1578e+27, 1.1362e+30, 7.1547e+22]])\n"
          ],
          "name": "stdout"
        }
      ]
    },
    {
      "cell_type": "code",
      "metadata": {
        "colab": {
          "base_uri": "https://localhost:8080/"
        },
        "id": "1huJgm7AiTXw",
        "outputId": "f38c1ce0-ead7-4f75-bf60-1fcfa78f3b8c"
      },
      "source": [
        "#8\n",
        "x= torch.zeros((3,3)) #since 'size' is the first attribute so need to mention explicitly\n",
        "print(x)"
      ],
      "execution_count": null,
      "outputs": [
        {
          "output_type": "stream",
          "text": [
            "tensor([[0., 0., 0.],\n",
            "        [0., 0., 0.],\n",
            "        [0., 0., 0.]])\n"
          ],
          "name": "stdout"
        }
      ]
    },
    {
      "cell_type": "code",
      "metadata": {
        "colab": {
          "base_uri": "https://localhost:8080/"
        },
        "id": "1beHGPzkiTPR",
        "outputId": "6d0d255b-aa7a-4297-a7fb-66fe2add1cf7"
      },
      "source": [
        "#9\n",
        "#random values from uniform distribution from 0 to 1\n",
        "x= torch.rand((3,3))\n",
        "print(x)"
      ],
      "execution_count": null,
      "outputs": [
        {
          "output_type": "stream",
          "text": [
            "tensor([[0.9773, 0.0419, 0.7695],\n",
            "        [0.3718, 0.8906, 0.9822],\n",
            "        [0.7897, 0.7696, 0.2020]])\n"
          ],
          "name": "stdout"
        }
      ]
    },
    {
      "cell_type": "code",
      "metadata": {
        "colab": {
          "base_uri": "https://localhost:8080/"
        },
        "id": "61a3XPO4iTII",
        "outputId": "72c7baf2-a340-4603-8cda-84a0a03648a9"
      },
      "source": [
        "#10\n",
        "x= torch.ones((3,3))\n",
        "print(x)"
      ],
      "execution_count": null,
      "outputs": [
        {
          "output_type": "stream",
          "text": [
            "tensor([[1., 1., 1.],\n",
            "        [1., 1., 1.],\n",
            "        [1., 1., 1.]])\n"
          ],
          "name": "stdout"
        }
      ]
    },
    {
      "cell_type": "code",
      "metadata": {
        "colab": {
          "base_uri": "https://localhost:8080/"
        },
        "id": "Y6sRytz1iS9p",
        "outputId": "576388d2-6aea-473a-90bd-10279b9cbe9d"
      },
      "source": [
        "#11\n",
        "#This will create a Identity matrix\n",
        "x= torch.eye(5,5)\n",
        "print(x)"
      ],
      "execution_count": null,
      "outputs": [
        {
          "output_type": "stream",
          "text": [
            "tensor([[1., 0., 0., 0., 0.],\n",
            "        [0., 1., 0., 0., 0.],\n",
            "        [0., 0., 1., 0., 0.],\n",
            "        [0., 0., 0., 1., 0.],\n",
            "        [0., 0., 0., 0., 1.]])\n"
          ],
          "name": "stdout"
        }
      ]
    },
    {
      "cell_type": "code",
      "metadata": {
        "colab": {
          "base_uri": "https://localhost:8080/"
        },
        "id": "Ksvb1YZLkPFp",
        "outputId": "d9b1a218-9351-4ff9-b415-236e9a6d60dc"
      },
      "source": [
        "#12\n",
        "x= torch.arange(start=0,end=5,step=1) #same like range() in python\n",
        "print(x)"
      ],
      "execution_count": null,
      "outputs": [
        {
          "output_type": "stream",
          "text": [
            "tensor([0, 1, 2, 3, 4])\n"
          ],
          "name": "stdout"
        }
      ]
    },
    {
      "cell_type": "code",
      "metadata": {
        "colab": {
          "base_uri": "https://localhost:8080/"
        },
        "id": "VEycKU2ukPBi",
        "outputId": "1fc7004d-558c-4925-ad55-e8bd656c91bd"
      },
      "source": [
        "#13\n",
        "x= torch.linspace(start=0.1,end=1,steps=10) #start at 0.1 and end at 1 and will have exactly 10 values\n",
        "print(x)"
      ],
      "execution_count": null,
      "outputs": [
        {
          "output_type": "stream",
          "text": [
            "tensor([0.1000, 0.2000, 0.3000, 0.4000, 0.5000, 0.6000, 0.7000, 0.8000, 0.9000,\n",
            "        1.0000])\n"
          ],
          "name": "stdout"
        }
      ]
    },
    {
      "cell_type": "code",
      "metadata": {
        "colab": {
          "base_uri": "https://localhost:8080/"
        },
        "id": "bQqWLqqxkO-N",
        "outputId": "0cf3a80a-7126-4427-a983-caa5bb132247"
      },
      "source": [
        "#14\n",
        "x= torch.empty((1,5)).normal_(mean=0,std=1) #empty values will be normally distributed\n",
        "print(x)\n",
        "print(\"==============================================================\")\n",
        "x= torch.empty((1,5))\n",
        "print('unitialized tensor---->',x)\n",
        "x.normal_(mean=0,std=1)\n",
        "print('unitialized tensor after normalizing---->',x)"
      ],
      "execution_count": null,
      "outputs": [
        {
          "output_type": "stream",
          "text": [
            "tensor([[-0.2007,  0.3872, -0.8723,  0.9609,  0.5665]])\n",
            "==============================================================\n",
            "unitialized tensor----> tensor([[8.4185e-36, 0.0000e+00, 6.1743e+16, 1.4584e-19, 3.1432e-12]])\n",
            "unitialized tensor after normalizing----> tensor([[ 1.0151,  0.7705, -0.4465, -1.1419,  0.3085]])\n"
          ],
          "name": "stdout"
        }
      ]
    },
    {
      "cell_type": "code",
      "metadata": {
        "colab": {
          "base_uri": "https://localhost:8080/"
        },
        "id": "vtgiHiBakO60",
        "outputId": "1214bda6-a603-4d4e-c86f-160ffca91243"
      },
      "source": [
        "#15\n",
        "x= torch.empty((1,5)).uniform_(0,1) #here 0,1 is the lower and the upper range\n",
        "print(x)"
      ],
      "execution_count": null,
      "outputs": [
        {
          "output_type": "stream",
          "text": [
            "tensor([[0.3746, 0.9362, 0.3018, 0.8543, 0.8325]])\n"
          ],
          "name": "stdout"
        }
      ]
    },
    {
      "cell_type": "code",
      "metadata": {
        "colab": {
          "base_uri": "https://localhost:8080/"
        },
        "id": "xRqCtsrfkO2v",
        "outputId": "e05f0f18-5712-4bf8-ee3e-f429df3850f4"
      },
      "source": [
        "#16\n",
        "x= torch.diag(torch.ones(3)) #3x3 diagona matrix \n",
        "print(x)\n",
        "\n",
        "#similar to code snippet #11\n",
        "#Note: torch.diag is used to preserve the diagonal values whereas the torch.eye() is used for diagonal= 1"
      ],
      "execution_count": null,
      "outputs": [
        {
          "output_type": "stream",
          "text": [
            "tensor([[1., 0., 0.],\n",
            "        [0., 1., 0.],\n",
            "        [0., 0., 1.]])\n"
          ],
          "name": "stdout"
        }
      ]
    },
    {
      "cell_type": "markdown",
      "metadata": {
        "id": "ksCW_ag7g8Bf"
      },
      "source": [
        "# Attributes of tensors"
      ]
    },
    {
      "cell_type": "code",
      "metadata": {
        "colab": {
          "base_uri": "https://localhost:8080/"
        },
        "id": "cYf03cHfgCNW",
        "outputId": "bdd81916-51a1-4f82-862f-3c794b43721f"
      },
      "source": [
        "#7\n",
        "my_tensor= torch.tensor([[1,2,3],[4,5,6]],dtype=torch.float32,requires_grad=True)\n",
        "print(my_tensor.dtype)\n",
        "print(my_tensor.device)\n",
        "print(my_tensor.shape)\n",
        "print(my_tensor.requires_grad) #this will be true if the my_tensor has gradient"
      ],
      "execution_count": null,
      "outputs": [
        {
          "output_type": "stream",
          "text": [
            "torch.float32\n",
            "cpu\n",
            "torch.Size([2, 3])\n",
            "True\n"
          ],
          "name": "stdout"
        }
      ]
    },
    {
      "cell_type": "markdown",
      "metadata": {
        "id": "cl03YgdloQFJ"
      },
      "source": [
        "# How to initialize and convert tensors to other types(int,float,double)"
      ]
    },
    {
      "cell_type": "code",
      "metadata": {
        "colab": {
          "base_uri": "https://localhost:8080/"
        },
        "id": "jELkdMZ_hI-D",
        "outputId": "ffde1892-68c2-4a0c-bf3f-06c9ebcdd9a7"
      },
      "source": [
        "#17\n",
        "tensor= torch.arange(4)\n",
        "print(tensor,'datatype->',tensor.dtype)\n",
        "print(tensor.bool(),'datatype->',tensor.bool().dtype)\n",
        "print(tensor.short(),'datatype->',tensor.short().dtype)\n",
        "print(tensor.long(),'datatype->',tensor.long().dtype)# IMPORTANT\n",
        "print(tensor.half(),'datatype->',tensor.half().dtype)\n",
        "print(tensor.float(),'datatype->',tensor.float().dtype)# IMPORTANT"
      ],
      "execution_count": null,
      "outputs": [
        {
          "output_type": "stream",
          "text": [
            "tensor([0, 1, 2, 3]) datatype-> torch.int64\n",
            "tensor([False,  True,  True,  True]) datatype-> torch.bool\n",
            "tensor([0, 1, 2, 3], dtype=torch.int16) datatype-> torch.int16\n",
            "tensor([0, 1, 2, 3]) datatype-> torch.int64\n",
            "tensor([0., 1., 2., 3.], dtype=torch.float16) datatype-> torch.float16\n",
            "tensor([0., 1., 2., 3.]) datatype-> torch.float32\n"
          ],
          "name": "stdout"
        }
      ]
    },
    {
      "cell_type": "markdown",
      "metadata": {
        "id": "GoG5CYNWq551"
      },
      "source": [
        "# Array to Tensor conversion and vice-versa"
      ]
    },
    {
      "cell_type": "code",
      "metadata": {
        "id": "UXjtATSDrmQk"
      },
      "source": [
        "#18\n",
        "import numpy as np"
      ],
      "execution_count": null,
      "outputs": []
    },
    {
      "cell_type": "code",
      "metadata": {
        "colab": {
          "base_uri": "https://localhost:8080/"
        },
        "id": "jWv90zLVq5VA",
        "outputId": "4c28f965-b39d-4a3e-c12b-071744b0b3a3"
      },
      "source": [
        "#19\n",
        "np_array= np.zeros((5,5))\n",
        "print('np_array:',np_array)\n",
        "tensor= torch.from_numpy(np_array)\n",
        "print('tensor:',tensor)\n",
        "np_array_back= tensor.numpy()\n",
        "print('np_array_back:',np_array_back)"
      ],
      "execution_count": null,
      "outputs": [
        {
          "output_type": "stream",
          "text": [
            "np_array: [[0. 0. 0. 0. 0.]\n",
            " [0. 0. 0. 0. 0.]\n",
            " [0. 0. 0. 0. 0.]\n",
            " [0. 0. 0. 0. 0.]\n",
            " [0. 0. 0. 0. 0.]]\n",
            "tensor: tensor([[0., 0., 0., 0., 0.],\n",
            "        [0., 0., 0., 0., 0.],\n",
            "        [0., 0., 0., 0., 0.],\n",
            "        [0., 0., 0., 0., 0.],\n",
            "        [0., 0., 0., 0., 0.]], dtype=torch.float64)\n",
            "np_array_back: [[0. 0. 0. 0. 0.]\n",
            " [0. 0. 0. 0. 0.]\n",
            " [0. 0. 0. 0. 0.]\n",
            " [0. 0. 0. 0. 0.]\n",
            " [0. 0. 0. 0. 0.]]\n"
          ],
          "name": "stdout"
        }
      ]
    },
    {
      "cell_type": "markdown",
      "metadata": {
        "id": "2a7cX7JIr-u8"
      },
      "source": [
        "# Tensor Math & Comparison Operations"
      ]
    },
    {
      "cell_type": "code",
      "metadata": {
        "id": "5DwTNjEOq4Yv"
      },
      "source": [
        "#20\n",
        "x= torch.tensor([1,2,3])\n",
        "y= torch.tensor([9,8,7])"
      ],
      "execution_count": null,
      "outputs": []
    },
    {
      "cell_type": "code",
      "metadata": {
        "colab": {
          "base_uri": "https://localhost:8080/"
        },
        "id": "CNxrwexMozwU",
        "outputId": "233036c3-e71f-4537-ec7d-1a0e6d32e270"
      },
      "source": [
        "#21\n",
        "#Addition operations\n",
        "z1= torch.empty(3)\n",
        "torch.add(x,y,out=z1) #first way\n",
        "print('Addition: ',z1)\n",
        "print(\"============================\")\n",
        "z2= torch.add(x,y) #second way\n",
        "print('Addition: ',z2)\n",
        "print(\"============================\")\n",
        "z3= x+y #third way\n",
        "print('Addition: ',z3)\n",
        "\n",
        "print(\"============================\")\n",
        "#Subtraction operation\n",
        "z= x-y\n",
        "print('Subtarction: ',z)\n",
        "\n",
        "print(\"============================\")\n",
        "#Mulitiplication\n",
        "z= x*y\n",
        "print(\"Mulitiplication\",z)"
      ],
      "execution_count": null,
      "outputs": [
        {
          "output_type": "stream",
          "text": [
            "Addition:  tensor([10., 10., 10.])\n",
            "============================\n",
            "Addition:  tensor([10, 10, 10])\n",
            "============================\n",
            "Addition:  tensor([10, 10, 10])\n",
            "============================\n",
            "Subtarction:  tensor([-8, -6, -4])\n",
            "============================\n",
            "Mulitiplication tensor([ 9, 16, 21])\n"
          ],
          "name": "stdout"
        }
      ]
    },
    {
      "cell_type": "code",
      "metadata": {
        "colab": {
          "base_uri": "https://localhost:8080/",
          "height": 248
        },
        "id": "_qC4-j8by2zq",
        "outputId": "ac92127a-311b-4755-e026-9c28952bcbf1"
      },
      "source": [
        "#22\n",
        "#Division operation\n",
        "z= torch.true_divide(x,y) #will do element wise division and return the values in the form of tensor\n",
        "print('Division: ',z)\n",
        "\n",
        "x= torch.tensor([1,2,3])\n",
        "y= torch.tensor([2])\n",
        "z= torch.true_divide(x,y) # this will divide x/y elementwise\n",
        "print('Division: ',z)\n",
        "\n",
        "x= torch.tensor([1,2,3])\n",
        "y= torch.tensor([2,3])\n",
        "z= torch.true_divide(x,y) #This will throw error as len(x) !=len(y)\n",
        "print('Division: ',z)"
      ],
      "execution_count": null,
      "outputs": [
        {
          "output_type": "stream",
          "text": [
            "Division:  tensor([0.1111, 0.2500, 0.4286])\n",
            "Division:  tensor([0.5000, 1.0000, 1.5000])\n"
          ],
          "name": "stdout"
        },
        {
          "output_type": "error",
          "ename": "RuntimeError",
          "evalue": "ignored",
          "traceback": [
            "\u001b[0;31m---------------------------------------------------------------------------\u001b[0m",
            "\u001b[0;31mRuntimeError\u001b[0m                              Traceback (most recent call last)",
            "\u001b[0;32m<ipython-input-24-2429557f0220>\u001b[0m in \u001b[0;36m<module>\u001b[0;34m()\u001b[0m\n\u001b[1;32m     11\u001b[0m \u001b[0mx\u001b[0m\u001b[0;34m=\u001b[0m \u001b[0mtorch\u001b[0m\u001b[0;34m.\u001b[0m\u001b[0mtensor\u001b[0m\u001b[0;34m(\u001b[0m\u001b[0;34m[\u001b[0m\u001b[0;36m1\u001b[0m\u001b[0;34m,\u001b[0m\u001b[0;36m2\u001b[0m\u001b[0;34m,\u001b[0m\u001b[0;36m3\u001b[0m\u001b[0;34m]\u001b[0m\u001b[0;34m)\u001b[0m\u001b[0;34m\u001b[0m\u001b[0;34m\u001b[0m\u001b[0m\n\u001b[1;32m     12\u001b[0m \u001b[0my\u001b[0m\u001b[0;34m=\u001b[0m \u001b[0mtorch\u001b[0m\u001b[0;34m.\u001b[0m\u001b[0mtensor\u001b[0m\u001b[0;34m(\u001b[0m\u001b[0;34m[\u001b[0m\u001b[0;36m2\u001b[0m\u001b[0;34m,\u001b[0m\u001b[0;36m3\u001b[0m\u001b[0;34m]\u001b[0m\u001b[0;34m)\u001b[0m\u001b[0;34m\u001b[0m\u001b[0;34m\u001b[0m\u001b[0m\n\u001b[0;32m---> 13\u001b[0;31m \u001b[0mz\u001b[0m\u001b[0;34m=\u001b[0m \u001b[0mtorch\u001b[0m\u001b[0;34m.\u001b[0m\u001b[0mtrue_divide\u001b[0m\u001b[0;34m(\u001b[0m\u001b[0mx\u001b[0m\u001b[0;34m,\u001b[0m\u001b[0my\u001b[0m\u001b[0;34m)\u001b[0m \u001b[0;31m#This will throw error as len(x) !=len(y)\u001b[0m\u001b[0;34m\u001b[0m\u001b[0;34m\u001b[0m\u001b[0m\n\u001b[0m\u001b[1;32m     14\u001b[0m \u001b[0mprint\u001b[0m\u001b[0;34m(\u001b[0m\u001b[0;34m'Division: '\u001b[0m\u001b[0;34m,\u001b[0m\u001b[0mz\u001b[0m\u001b[0;34m)\u001b[0m\u001b[0;34m\u001b[0m\u001b[0;34m\u001b[0m\u001b[0m\n",
            "\u001b[0;31mRuntimeError\u001b[0m: The size of tensor a (3) must match the size of tensor b (2) at non-singleton dimension 0"
          ]
        }
      ]
    },
    {
      "cell_type": "code",
      "metadata": {
        "colab": {
          "base_uri": "https://localhost:8080/"
        },
        "id": "JcFK5IOf2ulj",
        "outputId": "02f1bffd-9004-4745-a854-cacd54e48fb6"
      },
      "source": [
        "#23\n",
        "#Exponential Operation\n",
        "x= torch.tensor([10,20,30])\n",
        "z= x.pow(2)\n",
        "print(z)\n",
        "z= x**2\n",
        "print(z)"
      ],
      "execution_count": null,
      "outputs": [
        {
          "output_type": "stream",
          "text": [
            "tensor([100, 400, 900])\n",
            "tensor([100, 400, 900])\n"
          ],
          "name": "stdout"
        }
      ]
    },
    {
      "cell_type": "code",
      "metadata": {
        "colab": {
          "base_uri": "https://localhost:8080/"
        },
        "id": "TaVzjCPH5kRB",
        "outputId": "9fff15b6-0060-4666-bad8-d038a9fea341"
      },
      "source": [
        "#24\n",
        "#Simple Comparison\n",
        "z= x>0\n",
        "print(z)"
      ],
      "execution_count": null,
      "outputs": [
        {
          "output_type": "stream",
          "text": [
            "tensor([True, True, True])\n"
          ],
          "name": "stdout"
        }
      ]
    },
    {
      "cell_type": "code",
      "metadata": {
        "colab": {
          "base_uri": "https://localhost:8080/"
        },
        "id": "d6LweA-B56Ba",
        "outputId": "877ad679-c1d4-41dd-f7cf-1960be467be4"
      },
      "source": [
        "#25\n",
        "#Matrix multiplication\n",
        "x1= torch.rand((2,5))\n",
        "x2= torch.rand((5,3))\n",
        "x3= torch.mm(x1,x2)  #Output shape= (2x3)\n",
        "print('Matrix multiplication: ',x3)\n",
        "x3= x1.mm(x2)  #Output shape= (2x3)\n",
        "print('Matrix multiplication: ',x3)"
      ],
      "execution_count": null,
      "outputs": [
        {
          "output_type": "stream",
          "text": [
            "Matrix multiplication:  tensor([[1.2715, 1.1609, 0.6173],\n",
            "        [1.9431, 1.7158, 1.0504]])\n",
            "Matrix multiplication:  tensor([[1.2715, 1.1609, 0.6173],\n",
            "        [1.9431, 1.7158, 1.0504]])\n"
          ],
          "name": "stdout"
        }
      ]
    },
    {
      "cell_type": "code",
      "metadata": {
        "colab": {
          "base_uri": "https://localhost:8080/"
        },
        "id": "4o4UOsfF6VI3",
        "outputId": "7b5239e4-2210-43ac-aee7-1fb2200a364c"
      },
      "source": [
        "#26\n",
        "#Matrix Exponentiation\n",
        "matrix_exp= torch.rand(5,5)\n",
        "print('Matrix: ',matrix_exp)\n",
        "print('Power of Matrix: ',matrix_exp.matrix_power(3))\n",
        "print('Another way Power of Matrix: ',torch.matrix_power(matrix_exp, 3)) #Another way"
      ],
      "execution_count": null,
      "outputs": [
        {
          "output_type": "stream",
          "text": [
            "Matrix:  tensor([[0.4736, 0.0513, 0.0884, 0.0803, 0.8073],\n",
            "        [0.2221, 0.1744, 0.2359, 0.7896, 0.2892],\n",
            "        [0.2141, 0.3215, 0.5776, 0.3423, 0.9920],\n",
            "        [0.3688, 0.1808, 0.6775, 0.8923, 0.8104],\n",
            "        [0.8614, 0.5578, 0.6677, 0.1083, 0.2233]])\n",
            "Power of Matrix:  tensor([[1.4584, 0.8224, 1.2833, 1.0516, 2.0163],\n",
            "        [2.0048, 1.2362, 2.1376, 1.7028, 2.6817],\n",
            "        [2.5585, 1.5478, 2.5722, 2.1723, 3.6076],\n",
            "        [3.3325, 2.0507, 3.4209, 2.7176, 4.4485],\n",
            "        [2.4597, 1.4757, 2.3579, 1.6932, 2.7528]])\n",
            "Another way Power of Matrix:  tensor([[1.4584, 0.8224, 1.2833, 1.0516, 2.0163],\n",
            "        [2.0048, 1.2362, 2.1376, 1.7028, 2.6817],\n",
            "        [2.5585, 1.5478, 2.5722, 2.1723, 3.6076],\n",
            "        [3.3325, 2.0507, 3.4209, 2.7176, 4.4485],\n",
            "        [2.4597, 1.4757, 2.3579, 1.6932, 2.7528]])\n"
          ],
          "name": "stdout"
        }
      ]
    },
    {
      "cell_type": "code",
      "metadata": {
        "colab": {
          "base_uri": "https://localhost:8080/"
        },
        "id": "RrNbOts4-Hhu",
        "outputId": "345f4636-a84a-42f8-ff82-4e89b7488623"
      },
      "source": [
        "#27\n",
        "# Difference between Matrix multiplication and Elementwise multiplication\n",
        "x= torch.tensor([1,2,3]) #(r0,c0)\n",
        "y= torch.tensor([9,8,7]) #(r1,c1)\n",
        "\n",
        "element_wise_mul= x*y\n",
        "print(\"Elementwise multiplication:\",element_wise_mul)\n",
        "#matrix_mul= torch.mm(x,y)  #This will throw error as len(c0) != len(r1) \n",
        "#print(\"Matrix_multiplication:\",matrix_mul)"
      ],
      "execution_count": null,
      "outputs": [
        {
          "output_type": "stream",
          "text": [
            "Elementwise multiplication: tensor([ 9, 16, 21])\n"
          ],
          "name": "stdout"
        }
      ]
    },
    {
      "cell_type": "code",
      "metadata": {
        "colab": {
          "base_uri": "https://localhost:8080/"
        },
        "id": "Qm46keUN_-xp",
        "outputId": "1918bb57-2272-4d74-8e80-1b99510a26bb"
      },
      "source": [
        "#28\n",
        "#Dot Product of Matrices (will only work on 1D tensors)\n",
        "#Dot product= elementwise matrix multiplication + Adding/Summing the result\n",
        "z= torch.dot(x,y)   #tensor([ 9, 16, 21]) ==> 9+16+21 = 46\n",
        "print('Dot Product: ',z)"
      ],
      "execution_count": null,
      "outputs": [
        {
          "output_type": "stream",
          "text": [
            "Dot Product:  tensor(46)\n"
          ],
          "name": "stdout"
        }
      ]
    },
    {
      "cell_type": "code",
      "metadata": {
        "colab": {
          "base_uri": "https://localhost:8080/"
        },
        "id": "QNQeHgTxBQKb",
        "outputId": "19ce97f4-4774-43fe-c5de-ece40e0ab895"
      },
      "source": [
        "#29\n",
        "# x= torch.tensor([1,2,3,4,5,6]).reshape(3,2)\n",
        "# y= torch.tensor([2,2,2,2,2,2]).reshape(2,3)\n",
        "# z= torch.dot(x,y)\n",
        "# print(z)\n",
        "\n",
        "#Batch Multiplication\n",
        "batch= 32\n",
        "n= 10\n",
        "m= 10\n",
        "p= 30\n",
        "\n",
        "tensor1= torch.rand((batch,n,m))\n",
        "tensor2= torch.rand((batch,m,p))\n",
        "out_bmm= torch.bmm(tensor1,tensor2) #shape= (batch,n,p) => (32,10,30)\n",
        "print(out_bmm,'shape:> ',out_bmm.shape)"
      ],
      "execution_count": null,
      "outputs": [
        {
          "output_type": "stream",
          "text": [
            "tensor([[[0.6746, 1.3440, 1.5197,  ..., 1.4123, 1.3092, 1.1815],\n",
            "         [1.9681, 2.1597, 2.5410,  ..., 2.4502, 2.6391, 1.4104],\n",
            "         [1.6546, 2.1081, 2.3160,  ..., 2.6406, 2.2823, 1.5866],\n",
            "         ...,\n",
            "         [1.6251, 1.8965, 2.2700,  ..., 2.1964, 2.2914, 0.9966],\n",
            "         [1.8708, 2.2831, 2.3218,  ..., 2.7869, 2.7840, 1.8509],\n",
            "         [1.8790, 1.9613, 2.3707,  ..., 2.4906, 2.5309, 1.7560]],\n",
            "\n",
            "        [[2.5538, 1.8276, 2.0366,  ..., 2.7297, 2.5293, 2.2667],\n",
            "         [2.0807, 2.5479, 1.4353,  ..., 2.3295, 1.8959, 1.9945],\n",
            "         [3.6322, 2.7574, 2.6385,  ..., 3.6439, 3.7565, 2.6429],\n",
            "         ...,\n",
            "         [2.7594, 2.4373, 1.7515,  ..., 3.4817, 2.8378, 2.7829],\n",
            "         [2.2292, 1.5217, 1.4299,  ..., 2.4790, 2.6641, 1.9960],\n",
            "         [2.8451, 2.1684, 2.3297,  ..., 3.2520, 3.5597, 2.9761]],\n",
            "\n",
            "        [[2.0431, 1.7959, 1.3607,  ..., 1.4927, 2.2477, 1.9066],\n",
            "         [1.7901, 1.5013, 1.5527,  ..., 1.4306, 2.2598, 1.9273],\n",
            "         [2.1534, 2.4207, 2.0770,  ..., 1.9229, 2.0720, 2.9759],\n",
            "         ...,\n",
            "         [1.2368, 2.0091, 1.7524,  ..., 1.9692, 1.5853, 2.0448],\n",
            "         [2.6388, 2.6554, 2.2339,  ..., 2.5919, 2.4873, 2.5859],\n",
            "         [2.4802, 2.7487, 1.9351,  ..., 2.1361, 2.6349, 2.8481]],\n",
            "\n",
            "        ...,\n",
            "\n",
            "        [[3.3263, 3.0046, 2.5773,  ..., 3.3897, 2.8670, 3.0105],\n",
            "         [2.6697, 2.2682, 2.1744,  ..., 3.0540, 2.2542, 2.4978],\n",
            "         [2.3710, 2.1284, 1.9115,  ..., 2.0338, 1.9551, 2.0651],\n",
            "         ...,\n",
            "         [2.8277, 2.8111, 2.3438,  ..., 2.4724, 2.4138, 2.7627],\n",
            "         [3.8179, 3.1454, 2.5852,  ..., 3.8674, 3.5078, 3.1494],\n",
            "         [2.0675, 1.8160, 1.7774,  ..., 2.4357, 1.6020, 2.1674]],\n",
            "\n",
            "        [[2.1588, 1.4279, 3.0377,  ..., 3.8295, 3.0851, 3.0324],\n",
            "         [2.0650, 1.1532, 2.6159,  ..., 3.2597, 2.5297, 2.8179],\n",
            "         [3.0647, 2.2525, 3.6803,  ..., 4.4364, 3.7087, 3.8812],\n",
            "         ...,\n",
            "         [2.8882, 2.2045, 3.3721,  ..., 4.4392, 3.4757, 3.6630],\n",
            "         [2.6665, 1.8184, 2.8798,  ..., 3.7331, 2.7908, 3.4577],\n",
            "         [1.6930, 0.9605, 2.0900,  ..., 2.7504, 1.5100, 2.5134]],\n",
            "\n",
            "        [[2.3235, 3.2061, 2.7722,  ..., 2.1226, 2.6507, 2.0469],\n",
            "         [2.7667, 3.8421, 3.2564,  ..., 2.6471, 2.9598, 2.9464],\n",
            "         [1.1614, 2.0807, 1.6137,  ..., 1.3962, 1.7269, 1.9041],\n",
            "         ...,\n",
            "         [1.5539, 2.1142, 1.6779,  ..., 1.5178, 2.1374, 1.7734],\n",
            "         [2.3324, 3.6395, 3.3368,  ..., 2.2354, 2.6968, 2.5230],\n",
            "         [2.2502, 3.1202, 2.6289,  ..., 2.0374, 1.8824, 2.2185]]]) shape:>  torch.Size([32, 10, 30])\n"
          ],
          "name": "stdout"
        }
      ]
    },
    {
      "cell_type": "markdown",
      "metadata": {
        "id": "xjVzJDQZJhs7"
      },
      "source": [
        "# Broadcasting"
      ]
    },
    {
      "cell_type": "code",
      "metadata": {
        "colab": {
          "base_uri": "https://localhost:8080/"
        },
        "id": "8xjSHhgcCiss",
        "outputId": "ad7b3c92-b4f3-4fe5-eeec-94a0127b2a0c"
      },
      "source": [
        "#30\n",
        "x1= torch.rand((5,5))  #(5x5)\n",
        "x2= torch.rand((1,5))  #(1x5)\n",
        "print('x1: ',x1)\n",
        "print('x2: ',x2)\n",
        "z= x1-x2 #Mathematically this is wrong operation\n",
        "print(z)\n",
        "z= x1**x2 #Mathematically this is wrong operation\n",
        "print(z)"
      ],
      "execution_count": null,
      "outputs": [
        {
          "output_type": "stream",
          "text": [
            "x1:  tensor([[0.2572, 0.6125, 0.8028, 0.5707, 0.6523],\n",
            "        [0.6456, 0.8701, 0.3016, 0.1734, 0.5940],\n",
            "        [0.4459, 0.7461, 0.6255, 0.1587, 0.7322],\n",
            "        [0.2246, 0.6975, 0.3298, 0.9043, 0.6916],\n",
            "        [0.7365, 0.3020, 0.6561, 0.2501, 0.3893]])\n",
            "x2:  tensor([[0.4265, 0.0819, 0.4527, 0.0407, 0.5531]])\n",
            "tensor([[-0.1693,  0.5306,  0.3501,  0.5300,  0.0992],\n",
            "        [ 0.2191,  0.7882, -0.1511,  0.1327,  0.0409],\n",
            "        [ 0.0194,  0.6642,  0.1728,  0.1180,  0.1790],\n",
            "        [-0.2019,  0.6157, -0.1229,  0.8636,  0.1385],\n",
            "        [ 0.3100,  0.2201,  0.2034,  0.2094, -0.1638]])\n",
            "tensor([[0.5604, 0.9607, 0.9054, 0.9774, 0.7895],\n",
            "        [0.8298, 0.9887, 0.5812, 0.9312, 0.7497],\n",
            "        [0.7086, 0.9763, 0.8086, 0.9278, 0.8416],\n",
            "        [0.5289, 0.9709, 0.6052, 0.9959, 0.8155],\n",
            "        [0.8777, 0.9066, 0.8263, 0.9451, 0.5935]])\n"
          ],
          "name": "stdout"
        }
      ]
    },
    {
      "cell_type": "markdown",
      "metadata": {
        "id": "YmxYGmmBVoW-"
      },
      "source": [
        "# Other useful tensor operations"
      ]
    },
    {
      "cell_type": "code",
      "metadata": {
        "colab": {
          "base_uri": "https://localhost:8080/"
        },
        "id": "XtBDhKQ1Kbga",
        "outputId": "cf671e2e-1981-4303-eccb-f1c9dfa39dd4"
      },
      "source": [
        "#31\n",
        "#Summation with dim attribute\n",
        "x= torch.tensor([[1,1,1],[4,5,6],[7,8,9]])\n",
        "print('x: ',x)\n",
        "sum_x= torch.sum(x,dim=0)\n",
        "sum_y= torch.sum(x,dim=1)\n",
        "print(sum_x,sum_y)\n",
        "\n",
        "#Min and Max\n",
        "values,indices= torch.max(x,dim=0) #return max row\n",
        "print('max: ',values,indices)\n",
        "\n",
        "values,indices= torch.max(x,dim=1) #return max col\n",
        "print('max: ',values,indices)\n",
        "\n",
        "values,indices= torch.min(x,dim=0) #return min row\n",
        "print('min: ',values,indices)\n",
        "\n",
        "values,indices= torch.min(x,dim=1) #return min col\n",
        "print('min: ',values,indices)\n",
        "\n",
        "#absolute value\n",
        "abs_x= torch.abs(x)\n",
        "print('absolute value: ',abs_x)\n",
        "\n",
        "#argmax function\n",
        "z= torch.argmax(x,dim=0)# same as torch.max() but this will return only the location.\n",
        "print('argmax: ',z)\n",
        "\n",
        "z= torch.argmin(x,dim=0)# same as torch.max() but this will return only the location.\n",
        "print('argmin: ',z)\n",
        "\n",
        "#mean value\n",
        "mean_x= torch.mean(x.float(),dim=0) #for calculating the mean the input tensor should be of FLOAT type \n",
        "print('Mean: ',mean_x)"
      ],
      "execution_count": null,
      "outputs": [
        {
          "output_type": "stream",
          "text": [
            "x:  tensor([[1, 1, 1],\n",
            "        [4, 5, 6],\n",
            "        [7, 8, 9]])\n",
            "tensor([12, 14, 16]) tensor([ 3, 15, 24])\n",
            "max:  tensor([7, 8, 9]) tensor([2, 2, 2])\n",
            "max:  tensor([1, 6, 9]) tensor([0, 2, 2])\n",
            "min:  tensor([1, 1, 1]) tensor([0, 0, 0])\n",
            "min:  tensor([1, 4, 7]) tensor([0, 0, 0])\n",
            "absolute value:  tensor([[1, 1, 1],\n",
            "        [4, 5, 6],\n",
            "        [7, 8, 9]])\n",
            "argmax:  tensor([2, 2, 2])\n",
            "argmin:  tensor([0, 0, 0])\n",
            "Mean:  tensor([4.0000, 4.6667, 5.3333])\n"
          ],
          "name": "stdout"
        }
      ]
    },
    {
      "cell_type": "code",
      "metadata": {
        "colab": {
          "base_uri": "https://localhost:8080/"
        },
        "id": "lUvLOGr3VxaL",
        "outputId": "f71fe3c3-be3b-4ae5-cdad-dd9ced4011ff"
      },
      "source": [
        "#32\n",
        "x= torch.tensor([1,2,3]) #(r0,c0)\n",
        "y= torch.tensor([9,8,7]) #(r1,c1)\n",
        "z= torch.eq(x,y)\n",
        "print(\"Is the 2 tensors equal? \",z)\n",
        "\n",
        "sorted_y, indices= torch.sort(y,dim=0,descending=False)\n",
        "print(sorted_y,indices)\n",
        "\n",
        "z= torch.clamp(x,min=0) #less than 0 will be 0\n",
        "print(\"clamped tensor: \",z)\n",
        "\n",
        "z= torch.clamp(x,min=0,max=2)\n",
        "print(\"clamped tensor: \",z)\n",
        "\n",
        "#Relu is a special function of clamp"
      ],
      "execution_count": null,
      "outputs": [
        {
          "output_type": "stream",
          "text": [
            "Is the 2 tensors equal?  tensor([False, False, False])\n",
            "tensor([7, 8, 9]) tensor([2, 1, 0])\n",
            "clamped tensor:  tensor([1, 2, 3])\n",
            "clamped tensor:  tensor([1, 2, 2])\n"
          ],
          "name": "stdout"
        }
      ]
    },
    {
      "cell_type": "code",
      "metadata": {
        "colab": {
          "base_uri": "https://localhost:8080/"
        },
        "id": "AiPMmr0UMdUf",
        "outputId": "78762aac-60b1-42c6-cf93-a3c6d4245636"
      },
      "source": [
        "#33\n",
        "x= torch.tensor([1,0,1,1,1],dtype=torch.bool)\n",
        "print('x: ',x)\n",
        "z= torch.any(x) #OR function\n",
        "print('any: ',z)\n",
        "\n",
        "z= torch.all(x) #AND function\n",
        "print('all: ',z)\n",
        "\n",
        "x= torch.arange(10)\n",
        "print('x: ',x)\n",
        "print('Filtering operation: ',torch.where(x>5,x,x**2)) #----IMPORTANT (if x>5 then x otherwise x^2)\n",
        "print('Unique values: ',torch.tensor([0,0,1,2,2,3,4]).unique())\n",
        "print('No of dimensions: ',x.ndimension())\n",
        "print('No of elements in x: ',x.numel()) #similar to len(x) but bit different in case of nD tensor\n",
        "\n",
        "#difference between numel() and len()--> len() is basically calculates width/row\n",
        "x1= torch.rand([3,5])\n",
        "print('No of elements in x1: ',x1.numel(),len(x1))"
      ],
      "execution_count": 125,
      "outputs": [
        {
          "output_type": "stream",
          "text": [
            "x:  tensor([ True, False,  True,  True,  True])\n",
            "any:  tensor(True)\n",
            "all:  tensor(False)\n",
            "x:  tensor([0, 1, 2, 3, 4, 5, 6, 7, 8, 9])\n",
            "Filtering operation:  tensor([ 0,  1,  4,  9, 16, 25,  6,  7,  8,  9])\n",
            "Unique values:  tensor([0, 1, 2, 3, 4])\n",
            "No of dimensions:  1\n",
            "No of elements in x:  10\n",
            "No of elements in x1:  15 3\n"
          ],
          "name": "stdout"
        }
      ]
    },
    {
      "cell_type": "markdown",
      "metadata": {
        "id": "hz8GnXWptAtX"
      },
      "source": [
        "# Indexing"
      ]
    },
    {
      "cell_type": "code",
      "metadata": {
        "colab": {
          "base_uri": "https://localhost:8080/"
        },
        "id": "uVkBKxObN9Uo",
        "outputId": "defcae2b-af26-4b2a-ebcb-6519bf775c7f"
      },
      "source": [
        "#34\n",
        "# Tensor Indexing\n",
        "batch_size= 10\n",
        "features= 25\n",
        "x= torch.rand((batch_size,features))\n",
        "print('x: ',x,'shape: ',x.shape,'dtype: ',x.dtype)\n",
        "\n",
        "print(\"=====================================================================================================\")\n",
        "print('Features of first example: ')\n",
        "print('first row and all column in first row: ',x[0],'shape: ',x[0].shape)\n",
        "\n",
        "print(\"=====================================================================================================\")\n",
        "print('First feature for all the examples: ')\n",
        "print(x[:,0],'shape: ',x[:,0].shape)\n",
        "\n",
        "print(\"=====================================================================================================\")\n",
        "print('First 10 features of 2nd batch: ')\n",
        "print(x[2,0:10],'shape: ',x[2,0:10].shape)\n"
      ],
      "execution_count": null,
      "outputs": [
        {
          "output_type": "stream",
          "text": [
            "x:  tensor([[2.4363e-01, 4.5453e-01, 7.2161e-01, 8.6224e-01, 1.6576e-01, 3.4606e-02,\n",
            "         6.3573e-01, 8.9671e-01, 7.9575e-02, 8.7158e-01, 4.8972e-01, 7.6993e-01,\n",
            "         7.6575e-01, 3.6880e-01, 3.8664e-01, 9.7229e-01, 5.1772e-01, 2.0121e-01,\n",
            "         2.9768e-01, 2.9312e-01, 9.1276e-01, 5.1353e-01, 1.1850e-01, 3.2659e-01,\n",
            "         3.5205e-03],\n",
            "        [2.5776e-01, 7.6505e-01, 6.1249e-01, 6.2756e-01, 5.8764e-01, 9.2246e-01,\n",
            "         5.4764e-03, 4.5845e-01, 6.6566e-01, 7.4318e-01, 2.8549e-01, 7.7764e-01,\n",
            "         2.8255e-03, 7.0235e-02, 7.4854e-01, 1.2565e-01, 9.8555e-01, 7.7706e-01,\n",
            "         9.9150e-01, 9.6626e-01, 4.2208e-01, 6.8494e-01, 1.8177e-01, 4.4228e-01,\n",
            "         2.5131e-01],\n",
            "        [7.1366e-01, 6.9828e-01, 2.0584e-01, 7.0686e-01, 2.1947e-01, 2.8917e-01,\n",
            "         6.4427e-01, 9.2741e-02, 7.1429e-01, 8.8802e-02, 4.1933e-01, 9.8537e-01,\n",
            "         4.3263e-01, 7.4812e-01, 7.0368e-01, 3.5995e-01, 5.2682e-02, 4.8455e-01,\n",
            "         7.7825e-01, 2.0237e-01, 8.1941e-01, 3.5981e-01, 1.1757e-01, 4.0759e-01,\n",
            "         8.8050e-02],\n",
            "        [5.8784e-01, 9.5313e-01, 6.0383e-01, 2.8419e-01, 7.5435e-01, 9.7597e-01,\n",
            "         6.3968e-01, 9.6088e-01, 2.1960e-01, 9.6667e-01, 4.8353e-01, 4.2932e-01,\n",
            "         5.5722e-01, 5.0087e-01, 2.8815e-01, 6.3773e-01, 2.8776e-01, 6.4613e-01,\n",
            "         5.5836e-01, 9.8464e-01, 9.5164e-01, 6.2691e-01, 3.8770e-01, 4.7212e-01,\n",
            "         1.1684e-01],\n",
            "        [2.7614e-01, 9.2230e-01, 7.7502e-01, 2.7853e-01, 7.8864e-01, 6.2466e-01,\n",
            "         9.4833e-01, 4.0785e-01, 4.6964e-01, 4.2936e-01, 2.1475e-01, 6.5688e-01,\n",
            "         8.9652e-01, 4.3613e-01, 3.3187e-01, 1.0956e-01, 6.8822e-01, 3.3504e-01,\n",
            "         1.5775e-01, 4.7201e-01, 8.4109e-01, 8.5362e-02, 3.0833e-02, 7.5995e-01,\n",
            "         5.0101e-01],\n",
            "        [9.5801e-01, 5.8629e-01, 9.7704e-01, 5.0832e-01, 8.9124e-01, 4.5697e-01,\n",
            "         9.1075e-01, 1.0596e-01, 9.2251e-01, 6.0196e-01, 1.6984e-01, 1.0791e-01,\n",
            "         1.8522e-01, 5.6281e-01, 8.5460e-01, 9.8549e-01, 5.8574e-01, 5.6397e-01,\n",
            "         7.2252e-02, 5.3120e-01, 4.5632e-01, 3.9106e-01, 1.7405e-04, 1.8320e-01,\n",
            "         6.2065e-01],\n",
            "        [3.8026e-01, 2.1174e-01, 3.6401e-01, 9.0288e-01, 8.6194e-01, 8.5064e-01,\n",
            "         2.9995e-01, 9.7035e-01, 8.6333e-01, 9.5082e-01, 6.3526e-01, 7.5173e-01,\n",
            "         5.1445e-02, 3.9957e-01, 4.1773e-01, 4.6303e-01, 5.6416e-02, 9.4846e-02,\n",
            "         3.1757e-01, 2.8899e-02, 3.8288e-01, 8.5563e-01, 2.1165e-02, 3.8635e-01,\n",
            "         4.5811e-01],\n",
            "        [6.7214e-01, 1.9415e-01, 1.7945e-01, 8.6978e-01, 3.0378e-01, 5.3993e-01,\n",
            "         2.9964e-01, 8.4717e-01, 2.4038e-02, 1.9516e-01, 7.3514e-01, 6.1873e-01,\n",
            "         9.3469e-01, 6.1789e-01, 1.0286e-01, 7.9843e-01, 2.7391e-01, 6.3074e-01,\n",
            "         9.2847e-01, 6.2679e-01, 1.3719e-01, 8.9165e-01, 7.3702e-01, 8.8907e-01,\n",
            "         7.6772e-01],\n",
            "        [6.9118e-01, 6.5766e-01, 9.8813e-01, 7.2285e-01, 1.9696e-01, 7.5423e-01,\n",
            "         7.8108e-01, 6.2710e-01, 2.1839e-01, 1.4613e-01, 7.3034e-01, 6.7529e-01,\n",
            "         5.8488e-01, 6.0121e-01, 7.6425e-01, 2.8396e-01, 3.4958e-01, 3.3562e-01,\n",
            "         7.8534e-02, 1.2315e-01, 5.5814e-01, 5.5196e-01, 1.9643e-01, 5.2092e-01,\n",
            "         6.5758e-01],\n",
            "        [5.4664e-01, 4.8808e-01, 7.8282e-01, 9.0113e-01, 5.1781e-02, 5.3018e-02,\n",
            "         9.3819e-01, 3.5869e-01, 7.5437e-01, 9.2700e-01, 3.9770e-01, 1.9420e-01,\n",
            "         9.5198e-01, 8.1206e-01, 5.0102e-01, 9.7598e-01, 7.7947e-02, 1.5484e-01,\n",
            "         5.1869e-01, 1.3146e-01, 3.8177e-01, 6.7413e-02, 7.3311e-01, 8.0970e-01,\n",
            "         7.3377e-01]]) shape:  torch.Size([10, 25]) dtype:  torch.float32\n",
            "=====================================================================================================\n",
            "Features of first example: \n",
            "first row and all column in first row:  tensor([0.2436, 0.4545, 0.7216, 0.8622, 0.1658, 0.0346, 0.6357, 0.8967, 0.0796,\n",
            "        0.8716, 0.4897, 0.7699, 0.7657, 0.3688, 0.3866, 0.9723, 0.5177, 0.2012,\n",
            "        0.2977, 0.2931, 0.9128, 0.5135, 0.1185, 0.3266, 0.0035]) shape:  torch.Size([25])\n",
            "=====================================================================================================\n",
            "First feature for all the examples: \n",
            "tensor([0.2436, 0.2578, 0.7137, 0.5878, 0.2761, 0.9580, 0.3803, 0.6721, 0.6912,\n",
            "        0.5466]) shape:  torch.Size([10])\n",
            "=====================================================================================================\n",
            "First 10 features of 2nd batch: \n",
            "tensor([0.7137, 0.6983, 0.2058, 0.7069, 0.2195, 0.2892, 0.6443, 0.0927, 0.7143,\n",
            "        0.0888]) shape:  torch.Size([10])\n"
          ],
          "name": "stdout"
        }
      ]
    },
    {
      "cell_type": "code",
      "metadata": {
        "id": "WE4ByqjaOyKH"
      },
      "source": [
        "#35\n",
        "#Fancy Indexing\n",
        "x= torch.arange(10)\n",
        "print('x: ',x)\n",
        "idices= [2,5,8]\n",
        "print('indexed values: ',x[indices])\n",
        "\n",
        "print(\"=====================================\")\n",
        "\n",
        "x= torch.rand((3,5))\n",
        "print('x: ',x)\n",
        "rows= torch.tensor([1,0])\n",
        "cols= torch.tensor([4,0])\n",
        "print('Indexed value: ',x[rows,cols])\n",
        "\n",
        "print(\"=====================================\")\n",
        "\n",
        "x= torch.arange(10)\n",
        "print('x: ',x)\n",
        "print('indexed value: ',x[(x<2) | (x>8)])\n",
        "print('indexed value: ',x[(x>2) & (x<8)])\n",
        "print('indexed values: ',x[x.remainder(2)==0]) #elementwise x%2==0 will be filtered  -----Important\n"
      ],
      "execution_count": null,
      "outputs": []
    },
    {
      "cell_type": "markdown",
      "metadata": {
        "id": "PlqyyudjHdMT"
      },
      "source": [
        "# Tensor Reshaping\n",
        "\n",
        "[Difference between reshape and view](https://stackoverflow.com/questions/49643225/whats-the-difference-between-reshape-and-view-in-pytorch)"
      ]
    },
    {
      "cell_type": "code",
      "metadata": {
        "id": "r4SOnbp2rcb7",
        "colab": {
          "base_uri": "https://localhost:8080/"
        },
        "outputId": "33b6e1ce-ee70-42e9-92a1-d8bc486d48b8"
      },
      "source": [
        "x= torch.arange(9)\n",
        "x_3x3= x.view(3,3)\n",
        "x_reshaped= x.reshape(3,3)\n",
        "print('x: ',x)\n",
        "print('x_3x3: ',x_3x3)\n",
        "print('x_reshaped: ',x_reshaped)\n",
        "\n",
        "print(\"====================================Experiment=======================================\")\n",
        "a= torch.arange(9)\n",
        "print('a: ',a)\n",
        "print(\"-------------------->\")\n",
        "b= a.view(3,3)\n",
        "print('b: ',b)\n",
        "print(\"-------------------->\")\n",
        "c= b.t()\n",
        "print('c: ',c)\n",
        "print(\"-------------------->\")\n",
        "# d= c.view(9) # This will throw error\n",
        "d= c.contiguous().view(9)\n",
        "print('d: ',d)\n",
        "print(\"====================>\")\n",
        "x= a.reshape(3,3)\n",
        "print('x: ',x)\n",
        "print(\"-------------------->\")\n",
        "y= x.t()\n",
        "print('y:',y)\n",
        "print(\"-------------------->\")\n",
        "z= y.reshape(9)\n",
        "print('z: ',z)\n",
        "\n",
        "\n"
      ],
      "execution_count": 139,
      "outputs": [
        {
          "output_type": "stream",
          "text": [
            "x:  tensor([0, 1, 2, 3, 4, 5, 6, 7, 8])\n",
            "x_3x3:  tensor([[0, 1, 2],\n",
            "        [3, 4, 5],\n",
            "        [6, 7, 8]])\n",
            "x_reshaped:  tensor([[0, 1, 2],\n",
            "        [3, 4, 5],\n",
            "        [6, 7, 8]])\n",
            "====================================Experiment=======================================\n",
            "a:  tensor([0, 1, 2, 3, 4, 5, 6, 7, 8])\n",
            "-------------------->\n",
            "b:  tensor([[0, 1, 2],\n",
            "        [3, 4, 5],\n",
            "        [6, 7, 8]])\n",
            "-------------------->\n",
            "c:  tensor([[0, 3, 6],\n",
            "        [1, 4, 7],\n",
            "        [2, 5, 8]])\n",
            "-------------------->\n",
            "d:  tensor([0, 3, 6, 1, 4, 7, 2, 5, 8])\n",
            "====================>\n",
            "x:  tensor([[0, 1, 2],\n",
            "        [3, 4, 5],\n",
            "        [6, 7, 8]])\n",
            "-------------------->\n",
            "y: tensor([[0, 3, 6],\n",
            "        [1, 4, 7],\n",
            "        [2, 5, 8]])\n",
            "-------------------->\n",
            "z:  tensor([0, 3, 6, 1, 4, 7, 2, 5, 8])\n"
          ],
          "name": "stdout"
        }
      ]
    },
    {
      "cell_type": "code",
      "metadata": {
        "id": "AKOfWnV1Hrbb"
      },
      "source": [
        ""
      ],
      "execution_count": null,
      "outputs": []
    }
  ]
}