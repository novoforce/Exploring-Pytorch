{
  "nbformat": 4,
  "nbformat_minor": 0,
  "metadata": {
    "colab": {
      "name": "1000_Pytorch_basics.ipynb",
      "provenance": [],
      "collapsed_sections": [],
      "toc_visible": true,
      "authorship_tag": "ABX9TyM231J4CQElHuUjGSsSOKEU",
      "include_colab_link": true
    },
    "kernelspec": {
      "name": "python3",
      "display_name": "Python 3"
    }
  },
  "cells": [
    {
      "cell_type": "markdown",
      "metadata": {
        "id": "view-in-github",
        "colab_type": "text"
      },
      "source": [
        "<a href=\"https://colab.research.google.com/github/novoforce/Exploring-Pytorch/blob/master/new/1000_Pytorch_basics.ipynb\" target=\"_parent\"><img src=\"https://colab.research.google.com/assets/colab-badge.svg\" alt=\"Open In Colab\"/></a>"
      ]
    },
    {
      "cell_type": "markdown",
      "metadata": {
        "id": "2leLV9YhUyhi"
      },
      "source": [
        "[Video_Link](https://www.youtube.com/watch?v=x9JiIFvlUwk&list=PLhhyoLH6IjfxeoooqP9rhU3HJIAVAJ3Vz&index=2)"
      ]
    },
    {
      "cell_type": "code",
      "metadata": {
        "id": "d4yNvHR1UjOW"
      },
      "source": [
        "import torch"
      ],
      "execution_count": 1,
      "outputs": []
    },
    {
      "cell_type": "markdown",
      "metadata": {
        "id": "NUk9ookcVCjV"
      },
      "source": [
        "# Initialising the tensors"
      ]
    },
    {
      "cell_type": "code",
      "metadata": {
        "colab": {
          "base_uri": "https://localhost:8080/"
        },
        "id": "nV_S9yAxVKFR",
        "outputId": "7dc311cf-f1e6-4b40-9599-64272cb2271a"
      },
      "source": [
        "#1\n",
        "my_tensor= torch.tensor([[1,2,3],[4,5,6]])\n",
        "print(my_tensor)"
      ],
      "execution_count": 2,
      "outputs": [
        {
          "output_type": "stream",
          "text": [
            "tensor([[1, 2, 3],\n",
            "        [4, 5, 6]])\n"
          ],
          "name": "stdout"
        }
      ]
    },
    {
      "cell_type": "code",
      "metadata": {
        "colab": {
          "base_uri": "https://localhost:8080/"
        },
        "id": "JYJ-3mSweQ0C",
        "outputId": "cb4b511b-1736-466f-c2e0-a00ff39afaeb"
      },
      "source": [
        "#2\n",
        "my_tensor= torch.tensor([[1,2,3],[4,5,6]],dtype=torch.float32)\n",
        "print(my_tensor)"
      ],
      "execution_count": 3,
      "outputs": [
        {
          "output_type": "stream",
          "text": [
            "tensor([[1., 2., 3.],\n",
            "        [4., 5., 6.]])\n"
          ],
          "name": "stdout"
        }
      ]
    },
    {
      "cell_type": "code",
      "metadata": {
        "colab": {
          "base_uri": "https://localhost:8080/",
          "height": 299
        },
        "id": "xc8h-RLmecYU",
        "outputId": "69f412a1-6459-4a4d-963f-479ec05cfd82"
      },
      "source": [
        "#3\n",
        "my_tensor= torch.tensor([[1,2,3],[4,5,6]],dtype=torch.float32,device='cuda')\n",
        "print(my_tensor)"
      ],
      "execution_count": 4,
      "outputs": [
        {
          "output_type": "error",
          "ename": "RuntimeError",
          "evalue": "ignored",
          "traceback": [
            "\u001b[0;31m---------------------------------------------------------------------------\u001b[0m",
            "\u001b[0;31mRuntimeError\u001b[0m                              Traceback (most recent call last)",
            "\u001b[0;32m<ipython-input-4-ef4471397da5>\u001b[0m in \u001b[0;36m<module>\u001b[0;34m()\u001b[0m\n\u001b[0;32m----> 1\u001b[0;31m \u001b[0mmy_tensor\u001b[0m\u001b[0;34m=\u001b[0m \u001b[0mtorch\u001b[0m\u001b[0;34m.\u001b[0m\u001b[0mtensor\u001b[0m\u001b[0;34m(\u001b[0m\u001b[0;34m[\u001b[0m\u001b[0;34m[\u001b[0m\u001b[0;36m1\u001b[0m\u001b[0;34m,\u001b[0m\u001b[0;36m2\u001b[0m\u001b[0;34m,\u001b[0m\u001b[0;36m3\u001b[0m\u001b[0;34m]\u001b[0m\u001b[0;34m,\u001b[0m\u001b[0;34m[\u001b[0m\u001b[0;36m4\u001b[0m\u001b[0;34m,\u001b[0m\u001b[0;36m5\u001b[0m\u001b[0;34m,\u001b[0m\u001b[0;36m6\u001b[0m\u001b[0;34m]\u001b[0m\u001b[0;34m]\u001b[0m\u001b[0;34m,\u001b[0m\u001b[0mdtype\u001b[0m\u001b[0;34m=\u001b[0m\u001b[0mtorch\u001b[0m\u001b[0;34m.\u001b[0m\u001b[0mfloat32\u001b[0m\u001b[0;34m,\u001b[0m\u001b[0mdevice\u001b[0m\u001b[0;34m=\u001b[0m\u001b[0;34m'cuda'\u001b[0m\u001b[0;34m)\u001b[0m\u001b[0;34m\u001b[0m\u001b[0;34m\u001b[0m\u001b[0m\n\u001b[0m\u001b[1;32m      2\u001b[0m \u001b[0mprint\u001b[0m\u001b[0;34m(\u001b[0m\u001b[0mmy_tensor\u001b[0m\u001b[0;34m)\u001b[0m\u001b[0;34m\u001b[0m\u001b[0;34m\u001b[0m\u001b[0m\n",
            "\u001b[0;32m/usr/local/lib/python3.6/dist-packages/torch/cuda/__init__.py\u001b[0m in \u001b[0;36m_lazy_init\u001b[0;34m()\u001b[0m\n\u001b[1;32m    170\u001b[0m         \u001b[0;31m# This function throws if there's a driver initialization error, no GPUs\u001b[0m\u001b[0;34m\u001b[0m\u001b[0;34m\u001b[0m\u001b[0;34m\u001b[0m\u001b[0m\n\u001b[1;32m    171\u001b[0m         \u001b[0;31m# are found or any other error occurs\u001b[0m\u001b[0;34m\u001b[0m\u001b[0;34m\u001b[0m\u001b[0;34m\u001b[0m\u001b[0m\n\u001b[0;32m--> 172\u001b[0;31m         \u001b[0mtorch\u001b[0m\u001b[0;34m.\u001b[0m\u001b[0m_C\u001b[0m\u001b[0;34m.\u001b[0m\u001b[0m_cuda_init\u001b[0m\u001b[0;34m(\u001b[0m\u001b[0;34m)\u001b[0m\u001b[0;34m\u001b[0m\u001b[0;34m\u001b[0m\u001b[0m\n\u001b[0m\u001b[1;32m    173\u001b[0m         \u001b[0;31m# Some of the queued calls may reentrantly call _lazy_init();\u001b[0m\u001b[0;34m\u001b[0m\u001b[0;34m\u001b[0m\u001b[0;34m\u001b[0m\u001b[0m\n\u001b[1;32m    174\u001b[0m         \u001b[0;31m# we need to just return without initializing in that case.\u001b[0m\u001b[0;34m\u001b[0m\u001b[0;34m\u001b[0m\u001b[0;34m\u001b[0m\u001b[0m\n",
            "\u001b[0;31mRuntimeError\u001b[0m: No CUDA GPUs are available"
          ]
        }
      ]
    },
    {
      "cell_type": "code",
      "metadata": {
        "colab": {
          "base_uri": "https://localhost:8080/"
        },
        "id": "1zU0J-OWesgb",
        "outputId": "0555863d-d680-4c15-f313-5b3cb7bf549d"
      },
      "source": [
        "#4\n",
        "my_tensor= torch.tensor([[1,2,3],[4,5,6]],dtype=torch.float32,device='cpu') #cpu is the default\n",
        "print(my_tensor)"
      ],
      "execution_count": 5,
      "outputs": [
        {
          "output_type": "stream",
          "text": [
            "tensor([[1., 2., 3.],\n",
            "        [4., 5., 6.]])\n"
          ],
          "name": "stdout"
        }
      ]
    },
    {
      "cell_type": "code",
      "metadata": {
        "colab": {
          "base_uri": "https://localhost:8080/"
        },
        "id": "d56ZkuUae0fK",
        "outputId": "5f98f4c9-5117-48a8-ab26-4bd203e70cd0"
      },
      "source": [
        "#5\n",
        "#for calculating the gradients\n",
        "my_tensor= torch.tensor([[1,2,3],[4,5,6]],dtype=torch.float32,requires_grad=True)\n",
        "print(my_tensor)"
      ],
      "execution_count": 6,
      "outputs": [
        {
          "output_type": "stream",
          "text": [
            "tensor([[1., 2., 3.],\n",
            "        [4., 5., 6.]], requires_grad=True)\n"
          ],
          "name": "stdout"
        }
      ]
    },
    {
      "cell_type": "code",
      "metadata": {
        "colab": {
          "base_uri": "https://localhost:8080/"
        },
        "id": "cucig2A3fpU2",
        "outputId": "b3e94e05-67df-469a-cfc2-f50b597a4871"
      },
      "source": [
        "#6\n",
        "#CUDA- Compute Unified Device Architecture   https://en.wikipedia.org/wiki/CUDA#:~:text=CUDA%20(Compute%20Unified%20Device%20Architecture,API)%20model%20created%20by%20Nvidia.\n",
        "#the best way to add device(cpu/gpu) \n",
        "device= \"cuda\" if torch.cuda.is_available() else \"cpu\"\n",
        "my_tensor= torch.tensor([[1,2,3],[4,5,6]],dtype=torch.float32,device=device) #cpu is the default\n",
        "print(my_tensor)"
      ],
      "execution_count": 8,
      "outputs": [
        {
          "output_type": "stream",
          "text": [
            "tensor([[1., 2., 3.],\n",
            "        [4., 5., 6.]])\n"
          ],
          "name": "stdout"
        }
      ]
    },
    {
      "cell_type": "markdown",
      "metadata": {
        "id": "pjbxS04rhzGL"
      },
      "source": [
        "# Other initialization methods"
      ]
    },
    {
      "cell_type": "code",
      "metadata": {
        "colab": {
          "base_uri": "https://localhost:8080/"
        },
        "id": "zJMgIkN4h36a",
        "outputId": "81a73dda-8c92-46eb-c0e1-8cf2d46f9f35"
      },
      "source": [
        "#7\n",
        "x= torch.empty(size=(3,3)) #x will contain random values without any distribution\n",
        "print(x)"
      ],
      "execution_count": 16,
      "outputs": [
        {
          "output_type": "stream",
          "text": [
            "tensor([[1.9487e-35, 0.0000e+00, 1.4013e-45],\n",
            "        [0.0000e+00, 0.0000e+00, 0.0000e+00],\n",
            "        [0.0000e+00, 0.0000e+00, 0.0000e+00]])\n"
          ],
          "name": "stdout"
        }
      ]
    },
    {
      "cell_type": "code",
      "metadata": {
        "colab": {
          "base_uri": "https://localhost:8080/"
        },
        "id": "1huJgm7AiTXw",
        "outputId": "93bda58c-4d89-4788-fb2c-f5fb1b13c244"
      },
      "source": [
        "#8\n",
        "x= torch.zeros((3,3)) #since 'size' is the first attribute so need to mention explicitly\n",
        "print(x)"
      ],
      "execution_count": 17,
      "outputs": [
        {
          "output_type": "stream",
          "text": [
            "tensor([[0., 0., 0.],\n",
            "        [0., 0., 0.],\n",
            "        [0., 0., 0.]])\n"
          ],
          "name": "stdout"
        }
      ]
    },
    {
      "cell_type": "code",
      "metadata": {
        "colab": {
          "base_uri": "https://localhost:8080/"
        },
        "id": "1beHGPzkiTPR",
        "outputId": "c343a35f-f198-48a4-c4ec-626d50cbe0ac"
      },
      "source": [
        "#9\n",
        "#random values from uniform distribution from 0 to 1\n",
        "x= torch.rand((3,3))\n",
        "print(x)"
      ],
      "execution_count": 18,
      "outputs": [
        {
          "output_type": "stream",
          "text": [
            "tensor([[0.3693, 0.8113, 0.6868],\n",
            "        [0.9864, 0.9973, 0.5957],\n",
            "        [0.9985, 0.1162, 0.0259]])\n"
          ],
          "name": "stdout"
        }
      ]
    },
    {
      "cell_type": "code",
      "metadata": {
        "colab": {
          "base_uri": "https://localhost:8080/"
        },
        "id": "61a3XPO4iTII",
        "outputId": "af58ff73-832f-46ed-fc4d-df5b696c3ed6"
      },
      "source": [
        "#10\n",
        "x= torch.ones((3,3))\n",
        "print(x)"
      ],
      "execution_count": 19,
      "outputs": [
        {
          "output_type": "stream",
          "text": [
            "tensor([[1., 1., 1.],\n",
            "        [1., 1., 1.],\n",
            "        [1., 1., 1.]])\n"
          ],
          "name": "stdout"
        }
      ]
    },
    {
      "cell_type": "code",
      "metadata": {
        "colab": {
          "base_uri": "https://localhost:8080/"
        },
        "id": "Y6sRytz1iS9p",
        "outputId": "2ef3c522-7446-4642-ede6-2e317b0aa960"
      },
      "source": [
        "#11\n",
        "#This will create a Identity matrix\n",
        "x= torch.eye(5,5)\n",
        "print(x)"
      ],
      "execution_count": 21,
      "outputs": [
        {
          "output_type": "stream",
          "text": [
            "tensor([[1., 0., 0., 0., 0.],\n",
            "        [0., 1., 0., 0., 0.],\n",
            "        [0., 0., 1., 0., 0.],\n",
            "        [0., 0., 0., 1., 0.],\n",
            "        [0., 0., 0., 0., 1.]])\n"
          ],
          "name": "stdout"
        }
      ]
    },
    {
      "cell_type": "code",
      "metadata": {
        "colab": {
          "base_uri": "https://localhost:8080/"
        },
        "id": "Ksvb1YZLkPFp",
        "outputId": "80fbe3d7-2b0f-4550-a4a0-6766a7e13e6b"
      },
      "source": [
        "#12\n",
        "x= torch.arange(start=0,end=5,step=1) #same like range() in python\n",
        "print(x)"
      ],
      "execution_count": 22,
      "outputs": [
        {
          "output_type": "stream",
          "text": [
            "tensor([0, 1, 2, 3, 4])\n"
          ],
          "name": "stdout"
        }
      ]
    },
    {
      "cell_type": "code",
      "metadata": {
        "colab": {
          "base_uri": "https://localhost:8080/"
        },
        "id": "VEycKU2ukPBi",
        "outputId": "fbf62e26-044b-437d-ea2e-0197a27c9c7b"
      },
      "source": [
        "#13\n",
        "x= torch.linspace(start=0.1,end=1,steps=10) #start at 0.1 and end at 1 and will have exactly 10 values\n",
        "print(x)"
      ],
      "execution_count": 24,
      "outputs": [
        {
          "output_type": "stream",
          "text": [
            "tensor([0.1000, 0.2000, 0.3000, 0.4000, 0.5000, 0.6000, 0.7000, 0.8000, 0.9000,\n",
            "        1.0000])\n"
          ],
          "name": "stdout"
        }
      ]
    },
    {
      "cell_type": "code",
      "metadata": {
        "colab": {
          "base_uri": "https://localhost:8080/"
        },
        "id": "bQqWLqqxkO-N",
        "outputId": "bac93be1-0657-43c1-9e51-c8b2f12a0525"
      },
      "source": [
        "#14\n",
        "x= torch.empty((1,5)).normal_(mean=0,std=1) #empty values will be normally distributed\n",
        "print(x)\n",
        "print(\"==============================================================\")\n",
        "x= torch.empty((1,5))\n",
        "print('unitialized tensor---->',x)\n",
        "x.normal_(mean=0,std=1)\n",
        "print('unitialized tensor after normalizing---->',x)"
      ],
      "execution_count": 30,
      "outputs": [
        {
          "output_type": "stream",
          "text": [
            "tensor([[-2.2369, -0.3737, -0.1161, -0.8447,  0.3866]])\n",
            "==============================================================\n",
            "unitialized tensor----> tensor([[1.8931e-35, 0.0000e+00, 1.5353e+00, 7.0234e-02, 1.1293e-02]])\n",
            "unitialized tensor after normalizing----> tensor([[ 0.3507,  0.9553, -0.4190,  0.7268, -0.9332]])\n"
          ],
          "name": "stdout"
        }
      ]
    },
    {
      "cell_type": "code",
      "metadata": {
        "colab": {
          "base_uri": "https://localhost:8080/"
        },
        "id": "vtgiHiBakO60",
        "outputId": "42f7403f-cfef-45a9-8611-299d96b88f84"
      },
      "source": [
        "#15\n",
        "x= torch.empty((1,5)).uniform_(0,1) #here 0,1 is the lower and the upper range\n",
        "print(x)"
      ],
      "execution_count": 33,
      "outputs": [
        {
          "output_type": "stream",
          "text": [
            "tensor([[0.5713, 0.6838, 0.2560, 0.1015, 0.6552]])\n"
          ],
          "name": "stdout"
        }
      ]
    },
    {
      "cell_type": "code",
      "metadata": {
        "colab": {
          "base_uri": "https://localhost:8080/"
        },
        "id": "xRqCtsrfkO2v",
        "outputId": "a9ed9b92-9b2f-41fc-db84-052edd411ac6"
      },
      "source": [
        "#16\n",
        "x= torch.diag(torch.ones(3)) #3x3 diagona matrix \n",
        "print(x)\n",
        "\n",
        "#similar to code snippet #11\n",
        "#Note: torch.diag is used to preserve the diagonal values whereas the torch.eye() is used for diagonal= 1"
      ],
      "execution_count": 35,
      "outputs": [
        {
          "output_type": "stream",
          "text": [
            "tensor([[1., 0., 0.],\n",
            "        [0., 1., 0.],\n",
            "        [0., 0., 1.]])\n"
          ],
          "name": "stdout"
        }
      ]
    },
    {
      "cell_type": "markdown",
      "metadata": {
        "id": "ksCW_ag7g8Bf"
      },
      "source": [
        "# Attributes of tensors"
      ]
    },
    {
      "cell_type": "code",
      "metadata": {
        "colab": {
          "base_uri": "https://localhost:8080/"
        },
        "id": "cYf03cHfgCNW",
        "outputId": "5faf68ea-452e-4ae0-d18a-d184edd8cc2b"
      },
      "source": [
        "#7\n",
        "my_tensor= torch.tensor([[1,2,3],[4,5,6]],dtype=torch.float32,requires_grad=True)\n",
        "print(my_tensor.dtype)\n",
        "print(my_tensor.device)\n",
        "print(my_tensor.shape)\n",
        "print(my_tensor.requires_grad) #this will be true if the my_tensor has gradient"
      ],
      "execution_count": 14,
      "outputs": [
        {
          "output_type": "stream",
          "text": [
            "torch.float32\n",
            "cpu\n",
            "torch.Size([2, 3])\n",
            "True\n"
          ],
          "name": "stdout"
        }
      ]
    },
    {
      "cell_type": "markdown",
      "metadata": {
        "id": "cl03YgdloQFJ"
      },
      "source": [
        "# How to initialize and convert tensors to other types(int,float,double)"
      ]
    },
    {
      "cell_type": "code",
      "metadata": {
        "colab": {
          "base_uri": "https://localhost:8080/"
        },
        "id": "jELkdMZ_hI-D",
        "outputId": "74cd9948-d34a-4359-8823-ebe98a8e8fb9"
      },
      "source": [
        "#17\n",
        "tensor= torch.arange(4)\n",
        "print(tensor,'datatype->',tensor.dtype)\n",
        "print(tensor.bool(),'datatype->',tensor.bool().dtype)\n",
        "print(tensor.short(),'datatype->',tensor.short().dtype)\n",
        "print(tensor.long(),'datatype->',tensor.long().dtype)# IMPORTANT\n",
        "print(tensor.half(),'datatype->',tensor.half().dtype)\n",
        "print(tensor.float(),'datatype->',tensor.float().dtype)# IMPORTANT"
      ],
      "execution_count": 43,
      "outputs": [
        {
          "output_type": "stream",
          "text": [
            "tensor([0, 1, 2, 3]) datatype-> torch.int64\n",
            "tensor([False,  True,  True,  True]) datatype-> torch.bool\n",
            "tensor([0, 1, 2, 3], dtype=torch.int16) datatype-> torch.int16\n",
            "tensor([0, 1, 2, 3]) datatype-> torch.int64\n",
            "tensor([0., 1., 2., 3.], dtype=torch.float16) datatype-> torch.float16\n",
            "tensor([0., 1., 2., 3.]) datatype-> torch.float32\n"
          ],
          "name": "stdout"
        }
      ]
    },
    {
      "cell_type": "markdown",
      "metadata": {
        "id": "GoG5CYNWq551"
      },
      "source": [
        "# Array to Tensor conversion and vice-versa"
      ]
    },
    {
      "cell_type": "code",
      "metadata": {
        "id": "UXjtATSDrmQk"
      },
      "source": [
        "#18\n",
        "import numpy as np"
      ],
      "execution_count": null,
      "outputs": []
    },
    {
      "cell_type": "code",
      "metadata": {
        "colab": {
          "base_uri": "https://localhost:8080/"
        },
        "id": "jWv90zLVq5VA",
        "outputId": "975d9226-3c91-49fb-99ce-2ab44b342095"
      },
      "source": [
        "#19\n",
        "np_array= np.zeros((5,5))\n",
        "print('np_array:',np_array)\n",
        "tensor= torch.from_numpy(np_array)\n",
        "print('tensor:',tensor)\n",
        "np_array_back= tensor.numpy()\n",
        "print('np_array_back:',np_array_back)"
      ],
      "execution_count": 44,
      "outputs": [
        {
          "output_type": "stream",
          "text": [
            "np_array: [[0. 0. 0. 0. 0.]\n",
            " [0. 0. 0. 0. 0.]\n",
            " [0. 0. 0. 0. 0.]\n",
            " [0. 0. 0. 0. 0.]\n",
            " [0. 0. 0. 0. 0.]]\n",
            "tensor: tensor([[0., 0., 0., 0., 0.],\n",
            "        [0., 0., 0., 0., 0.],\n",
            "        [0., 0., 0., 0., 0.],\n",
            "        [0., 0., 0., 0., 0.],\n",
            "        [0., 0., 0., 0., 0.]], dtype=torch.float64)\n",
            "np_array_back: [[0. 0. 0. 0. 0.]\n",
            " [0. 0. 0. 0. 0.]\n",
            " [0. 0. 0. 0. 0.]\n",
            " [0. 0. 0. 0. 0.]\n",
            " [0. 0. 0. 0. 0.]]\n"
          ],
          "name": "stdout"
        }
      ]
    },
    {
      "cell_type": "markdown",
      "metadata": {
        "id": "2a7cX7JIr-u8"
      },
      "source": [
        "# Tensor Math & Comparison Operations"
      ]
    },
    {
      "cell_type": "code",
      "metadata": {
        "id": "5DwTNjEOq4Yv"
      },
      "source": [
        "#20\n",
        "x= torch.tensor([1,2,3])\n",
        "y= torch.tensor([9,8,7])"
      ],
      "execution_count": 45,
      "outputs": []
    },
    {
      "cell_type": "code",
      "metadata": {
        "colab": {
          "base_uri": "https://localhost:8080/"
        },
        "id": "CNxrwexMozwU",
        "outputId": "57cb8ea2-a91e-49b3-fc7c-10fa8bcbe31e"
      },
      "source": [
        "#21\n",
        "#Addition operations\n",
        "z1= torch.empty(3)\n",
        "torch.add(x,y,out=z1) #first way\n",
        "print('Addition: ',z1)\n",
        "print(\"============================\")\n",
        "z2= torch.add(x,y) #second way\n",
        "print('Addition: ',z2)\n",
        "print(\"============================\")\n",
        "z3= x+y #third way\n",
        "print('Addition: ',z3)\n",
        "\n",
        "#Subtraction operation\n",
        "z= x-y\n",
        "print('Subtarction: ',z)"
      ],
      "execution_count": 55,
      "outputs": [
        {
          "output_type": "stream",
          "text": [
            "Addition:  tensor([3., 4., 5.])\n",
            "============================\n",
            "Addition:  tensor([3, 4, 5])\n",
            "============================\n",
            "Addition:  tensor([3, 4, 5])\n",
            "Subtarction:  tensor([-1,  0,  1])\n"
          ],
          "name": "stdout"
        }
      ]
    },
    {
      "cell_type": "code",
      "metadata": {
        "colab": {
          "base_uri": "https://localhost:8080/",
          "height": 231
        },
        "id": "_qC4-j8by2zq",
        "outputId": "8fd55e81-3f65-4413-afc5-a946ee2ecec3"
      },
      "source": [
        "#22\n",
        "#Division operation\n",
        "z= torch.true_divide(x,y) #will do element wise division and return the values in the form of tensor\n",
        "print('Division: ',z)\n",
        "\n",
        "x= torch.tensor([1,2,3])\n",
        "y= torch.tensor([2])\n",
        "z= torch.true_divide(x,y) # this will divide x/y elementwise\n",
        "print('Division: ',z)\n",
        "\n",
        "x= torch.tensor([1,2,3])\n",
        "y= torch.tensor([2,3])\n",
        "z= torch.true_divide(x,y) #This will throw error as len(x) !=len(y)\n",
        "print('Division: ',z)"
      ],
      "execution_count": 57,
      "outputs": [
        {
          "output_type": "error",
          "ename": "RuntimeError",
          "evalue": "ignored",
          "traceback": [
            "\u001b[0;31m---------------------------------------------------------------------------\u001b[0m",
            "\u001b[0;31mRuntimeError\u001b[0m                              Traceback (most recent call last)",
            "\u001b[0;32m<ipython-input-57-d50ab11f8dda>\u001b[0m in \u001b[0;36m<module>\u001b[0;34m()\u001b[0m\n\u001b[1;32m      1\u001b[0m \u001b[0;31m#Division operation\u001b[0m\u001b[0;34m\u001b[0m\u001b[0;34m\u001b[0m\u001b[0;34m\u001b[0m\u001b[0m\n\u001b[0;32m----> 2\u001b[0;31m \u001b[0mz\u001b[0m\u001b[0;34m=\u001b[0m \u001b[0mtorch\u001b[0m\u001b[0;34m.\u001b[0m\u001b[0mtrue_divide\u001b[0m\u001b[0;34m(\u001b[0m\u001b[0mx\u001b[0m\u001b[0;34m,\u001b[0m\u001b[0my\u001b[0m\u001b[0;34m)\u001b[0m \u001b[0;31m#will do element wise division and return the values in the form of tensor\u001b[0m\u001b[0;34m\u001b[0m\u001b[0;34m\u001b[0m\u001b[0m\n\u001b[0m\u001b[1;32m      3\u001b[0m \u001b[0mprint\u001b[0m\u001b[0;34m(\u001b[0m\u001b[0;34m'Division: '\u001b[0m\u001b[0;34m,\u001b[0m\u001b[0mz\u001b[0m\u001b[0;34m)\u001b[0m\u001b[0;34m\u001b[0m\u001b[0;34m\u001b[0m\u001b[0m\n\u001b[1;32m      4\u001b[0m \u001b[0;34m\u001b[0m\u001b[0m\n\u001b[1;32m      5\u001b[0m \u001b[0mx\u001b[0m\u001b[0;34m=\u001b[0m \u001b[0mtorch\u001b[0m\u001b[0;34m.\u001b[0m\u001b[0mtensor\u001b[0m\u001b[0;34m(\u001b[0m\u001b[0;34m[\u001b[0m\u001b[0;36m1\u001b[0m\u001b[0;34m,\u001b[0m\u001b[0;36m2\u001b[0m\u001b[0;34m,\u001b[0m\u001b[0;36m3\u001b[0m\u001b[0;34m]\u001b[0m\u001b[0;34m)\u001b[0m\u001b[0;34m\u001b[0m\u001b[0;34m\u001b[0m\u001b[0m\n",
            "\u001b[0;31mRuntimeError\u001b[0m: The size of tensor a (3) must match the size of tensor b (2) at non-singleton dimension 0"
          ]
        }
      ]
    },
    {
      "cell_type": "code",
      "metadata": {
        "id": "JcFK5IOf2ulj"
      },
      "source": [
        ""
      ],
      "execution_count": null,
      "outputs": []
    }
  ]
}