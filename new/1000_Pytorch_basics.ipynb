{
  "nbformat": 4,
  "nbformat_minor": 0,
  "metadata": {
    "colab": {
      "name": "1000_Pytorch_basics.ipynb",
      "provenance": [],
      "collapsed_sections": [],
      "toc_visible": true,
      "authorship_tag": "ABX9TyMuVfA/tiPqBIFj4w49XE1t",
      "include_colab_link": true
    },
    "kernelspec": {
      "name": "python3",
      "display_name": "Python 3"
    }
  },
  "cells": [
    {
      "cell_type": "markdown",
      "metadata": {
        "id": "view-in-github",
        "colab_type": "text"
      },
      "source": [
        "<a href=\"https://colab.research.google.com/github/novoforce/Exploring-Pytorch/blob/master/new/1000_Pytorch_basics.ipynb\" target=\"_parent\"><img src=\"https://colab.research.google.com/assets/colab-badge.svg\" alt=\"Open In Colab\"/></a>"
      ]
    },
    {
      "cell_type": "markdown",
      "metadata": {
        "id": "2leLV9YhUyhi"
      },
      "source": [
        "[Video_Link](https://www.youtube.com/watch?v=x9JiIFvlUwk&list=PLhhyoLH6IjfxeoooqP9rhU3HJIAVAJ3Vz&index=2)"
      ]
    },
    {
      "cell_type": "code",
      "metadata": {
        "id": "d4yNvHR1UjOW"
      },
      "source": [
        "import torch"
      ],
      "execution_count": 2,
      "outputs": []
    },
    {
      "cell_type": "markdown",
      "metadata": {
        "id": "NUk9ookcVCjV"
      },
      "source": [
        "# Initialising the tensors"
      ]
    },
    {
      "cell_type": "code",
      "metadata": {
        "colab": {
          "base_uri": "https://localhost:8080/"
        },
        "id": "nV_S9yAxVKFR",
        "outputId": "1613e8f6-8d65-42b6-c2af-1d4917f966a1"
      },
      "source": [
        "#1\n",
        "my_tensor= torch.tensor([[1,2,3],[4,5,6]])\n",
        "print(my_tensor)"
      ],
      "execution_count": 3,
      "outputs": [
        {
          "output_type": "stream",
          "text": [
            "tensor([[1, 2, 3],\n",
            "        [4, 5, 6]])\n"
          ],
          "name": "stdout"
        }
      ]
    },
    {
      "cell_type": "code",
      "metadata": {
        "colab": {
          "base_uri": "https://localhost:8080/"
        },
        "id": "JYJ-3mSweQ0C",
        "outputId": "5b6f0540-6881-4ed5-c187-a428408027e9"
      },
      "source": [
        "#2\n",
        "my_tensor= torch.tensor([[1,2,3],[4,5,6]],dtype=torch.float32)\n",
        "print(my_tensor)"
      ],
      "execution_count": 4,
      "outputs": [
        {
          "output_type": "stream",
          "text": [
            "tensor([[1., 2., 3.],\n",
            "        [4., 5., 6.]])\n"
          ],
          "name": "stdout"
        }
      ]
    },
    {
      "cell_type": "code",
      "metadata": {
        "colab": {
          "base_uri": "https://localhost:8080/",
          "height": 316
        },
        "id": "xc8h-RLmecYU",
        "outputId": "0f553e37-ed09-477a-f80e-9871586c1677"
      },
      "source": [
        "#3\n",
        "my_tensor= torch.tensor([[1,2,3],[4,5,6]],dtype=torch.float32,device='cuda')\n",
        "print(my_tensor)"
      ],
      "execution_count": 5,
      "outputs": [
        {
          "output_type": "error",
          "ename": "RuntimeError",
          "evalue": "ignored",
          "traceback": [
            "\u001b[0;31m---------------------------------------------------------------------------\u001b[0m",
            "\u001b[0;31mRuntimeError\u001b[0m                              Traceback (most recent call last)",
            "\u001b[0;32m<ipython-input-5-9c115fe0c7c1>\u001b[0m in \u001b[0;36m<module>\u001b[0;34m()\u001b[0m\n\u001b[1;32m      1\u001b[0m \u001b[0;31m#3\u001b[0m\u001b[0;34m\u001b[0m\u001b[0;34m\u001b[0m\u001b[0;34m\u001b[0m\u001b[0m\n\u001b[0;32m----> 2\u001b[0;31m \u001b[0mmy_tensor\u001b[0m\u001b[0;34m=\u001b[0m \u001b[0mtorch\u001b[0m\u001b[0;34m.\u001b[0m\u001b[0mtensor\u001b[0m\u001b[0;34m(\u001b[0m\u001b[0;34m[\u001b[0m\u001b[0;34m[\u001b[0m\u001b[0;36m1\u001b[0m\u001b[0;34m,\u001b[0m\u001b[0;36m2\u001b[0m\u001b[0;34m,\u001b[0m\u001b[0;36m3\u001b[0m\u001b[0;34m]\u001b[0m\u001b[0;34m,\u001b[0m\u001b[0;34m[\u001b[0m\u001b[0;36m4\u001b[0m\u001b[0;34m,\u001b[0m\u001b[0;36m5\u001b[0m\u001b[0;34m,\u001b[0m\u001b[0;36m6\u001b[0m\u001b[0;34m]\u001b[0m\u001b[0;34m]\u001b[0m\u001b[0;34m,\u001b[0m\u001b[0mdtype\u001b[0m\u001b[0;34m=\u001b[0m\u001b[0mtorch\u001b[0m\u001b[0;34m.\u001b[0m\u001b[0mfloat32\u001b[0m\u001b[0;34m,\u001b[0m\u001b[0mdevice\u001b[0m\u001b[0;34m=\u001b[0m\u001b[0;34m'cuda'\u001b[0m\u001b[0;34m)\u001b[0m\u001b[0;34m\u001b[0m\u001b[0;34m\u001b[0m\u001b[0m\n\u001b[0m\u001b[1;32m      3\u001b[0m \u001b[0mprint\u001b[0m\u001b[0;34m(\u001b[0m\u001b[0mmy_tensor\u001b[0m\u001b[0;34m)\u001b[0m\u001b[0;34m\u001b[0m\u001b[0;34m\u001b[0m\u001b[0m\n",
            "\u001b[0;32m/usr/local/lib/python3.6/dist-packages/torch/cuda/__init__.py\u001b[0m in \u001b[0;36m_lazy_init\u001b[0;34m()\u001b[0m\n\u001b[1;32m    170\u001b[0m         \u001b[0;31m# This function throws if there's a driver initialization error, no GPUs\u001b[0m\u001b[0;34m\u001b[0m\u001b[0;34m\u001b[0m\u001b[0;34m\u001b[0m\u001b[0m\n\u001b[1;32m    171\u001b[0m         \u001b[0;31m# are found or any other error occurs\u001b[0m\u001b[0;34m\u001b[0m\u001b[0;34m\u001b[0m\u001b[0;34m\u001b[0m\u001b[0m\n\u001b[0;32m--> 172\u001b[0;31m         \u001b[0mtorch\u001b[0m\u001b[0;34m.\u001b[0m\u001b[0m_C\u001b[0m\u001b[0;34m.\u001b[0m\u001b[0m_cuda_init\u001b[0m\u001b[0;34m(\u001b[0m\u001b[0;34m)\u001b[0m\u001b[0;34m\u001b[0m\u001b[0;34m\u001b[0m\u001b[0m\n\u001b[0m\u001b[1;32m    173\u001b[0m         \u001b[0;31m# Some of the queued calls may reentrantly call _lazy_init();\u001b[0m\u001b[0;34m\u001b[0m\u001b[0;34m\u001b[0m\u001b[0;34m\u001b[0m\u001b[0m\n\u001b[1;32m    174\u001b[0m         \u001b[0;31m# we need to just return without initializing in that case.\u001b[0m\u001b[0;34m\u001b[0m\u001b[0;34m\u001b[0m\u001b[0;34m\u001b[0m\u001b[0m\n",
            "\u001b[0;31mRuntimeError\u001b[0m: No CUDA GPUs are available"
          ]
        }
      ]
    },
    {
      "cell_type": "code",
      "metadata": {
        "id": "1zU0J-OWesgb"
      },
      "source": [
        "#4\n",
        "my_tensor= torch.tensor([[1,2,3],[4,5,6]],dtype=torch.float32,device='cpu') #cpu is the default\n",
        "print(my_tensor)"
      ],
      "execution_count": null,
      "outputs": []
    },
    {
      "cell_type": "code",
      "metadata": {
        "id": "d56ZkuUae0fK"
      },
      "source": [
        "#5\n",
        "#for calculating the gradients\n",
        "my_tensor= torch.tensor([[1,2,3],[4,5,6]],dtype=torch.float32,requires_grad=True)\n",
        "print(my_tensor)"
      ],
      "execution_count": null,
      "outputs": []
    },
    {
      "cell_type": "code",
      "metadata": {
        "id": "cucig2A3fpU2"
      },
      "source": [
        "#6\n",
        "#CUDA- Compute Unified Device Architecture   https://en.wikipedia.org/wiki/CUDA#:~:text=CUDA%20(Compute%20Unified%20Device%20Architecture,API)%20model%20created%20by%20Nvidia.\n",
        "#the best way to add device(cpu/gpu) \n",
        "device= \"cuda\" if torch.cuda.is_available() else \"cpu\"\n",
        "my_tensor= torch.tensor([[1,2,3],[4,5,6]],dtype=torch.float32,device=device) #cpu is the default\n",
        "print(my_tensor)"
      ],
      "execution_count": null,
      "outputs": []
    },
    {
      "cell_type": "markdown",
      "metadata": {
        "id": "pjbxS04rhzGL"
      },
      "source": [
        "# Other initialization methods"
      ]
    },
    {
      "cell_type": "code",
      "metadata": {
        "id": "zJMgIkN4h36a"
      },
      "source": [
        "#7\n",
        "x= torch.empty(size=(3,3)) #x will contain random values without any distribution\n",
        "print(x)"
      ],
      "execution_count": null,
      "outputs": []
    },
    {
      "cell_type": "code",
      "metadata": {
        "id": "1huJgm7AiTXw"
      },
      "source": [
        "#8\n",
        "x= torch.zeros((3,3)) #since 'size' is the first attribute so need to mention explicitly\n",
        "print(x)"
      ],
      "execution_count": null,
      "outputs": []
    },
    {
      "cell_type": "code",
      "metadata": {
        "colab": {
          "base_uri": "https://localhost:8080/"
        },
        "id": "1beHGPzkiTPR",
        "outputId": "f613f555-9c14-4e40-b0c2-d43267eec2ce"
      },
      "source": [
        "#9\n",
        "#random values from uniform distribution from 0 to 1\n",
        "x= torch.rand((3,3))\n",
        "print(x)"
      ],
      "execution_count": 6,
      "outputs": [
        {
          "output_type": "stream",
          "text": [
            "tensor([[0.2044, 0.5136, 0.3987],\n",
            "        [0.7786, 0.4671, 0.4056],\n",
            "        [0.7043, 0.4289, 0.1391]])\n"
          ],
          "name": "stdout"
        }
      ]
    },
    {
      "cell_type": "code",
      "metadata": {
        "colab": {
          "base_uri": "https://localhost:8080/"
        },
        "id": "61a3XPO4iTII",
        "outputId": "3ee5b227-c467-4926-b579-e6270b8b07ce"
      },
      "source": [
        "#10\n",
        "x= torch.ones((3,3))\n",
        "print(x)"
      ],
      "execution_count": 7,
      "outputs": [
        {
          "output_type": "stream",
          "text": [
            "tensor([[1., 1., 1.],\n",
            "        [1., 1., 1.],\n",
            "        [1., 1., 1.]])\n"
          ],
          "name": "stdout"
        }
      ]
    },
    {
      "cell_type": "code",
      "metadata": {
        "colab": {
          "base_uri": "https://localhost:8080/"
        },
        "id": "Y6sRytz1iS9p",
        "outputId": "d99b9db0-b299-4c22-c348-49b58e406144"
      },
      "source": [
        "#11\n",
        "#This will create a Identity matrix\n",
        "x= torch.eye(5,5)\n",
        "print(x)"
      ],
      "execution_count": 8,
      "outputs": [
        {
          "output_type": "stream",
          "text": [
            "tensor([[1., 0., 0., 0., 0.],\n",
            "        [0., 1., 0., 0., 0.],\n",
            "        [0., 0., 1., 0., 0.],\n",
            "        [0., 0., 0., 1., 0.],\n",
            "        [0., 0., 0., 0., 1.]])\n"
          ],
          "name": "stdout"
        }
      ]
    },
    {
      "cell_type": "code",
      "metadata": {
        "colab": {
          "base_uri": "https://localhost:8080/"
        },
        "id": "Ksvb1YZLkPFp",
        "outputId": "762a9771-2815-48af-a17b-a286c76b5e85"
      },
      "source": [
        "#12\n",
        "x= torch.arange(start=0,end=5,step=1) #same like range() in python\n",
        "print(x)"
      ],
      "execution_count": 9,
      "outputs": [
        {
          "output_type": "stream",
          "text": [
            "tensor([0, 1, 2, 3, 4])\n"
          ],
          "name": "stdout"
        }
      ]
    },
    {
      "cell_type": "code",
      "metadata": {
        "colab": {
          "base_uri": "https://localhost:8080/"
        },
        "id": "VEycKU2ukPBi",
        "outputId": "4164a447-53df-481d-a50b-43b74e007301"
      },
      "source": [
        "#13\n",
        "x= torch.linspace(start=0.1,end=1,steps=10) #start at 0.1 and end at 1 and will have exactly 10 values\n",
        "print(x)"
      ],
      "execution_count": 10,
      "outputs": [
        {
          "output_type": "stream",
          "text": [
            "tensor([0.1000, 0.2000, 0.3000, 0.4000, 0.5000, 0.6000, 0.7000, 0.8000, 0.9000,\n",
            "        1.0000])\n"
          ],
          "name": "stdout"
        }
      ]
    },
    {
      "cell_type": "code",
      "metadata": {
        "colab": {
          "base_uri": "https://localhost:8080/"
        },
        "id": "bQqWLqqxkO-N",
        "outputId": "56d4da43-eea8-48e3-b607-85abdfd9e168"
      },
      "source": [
        "#14\n",
        "x= torch.empty((1,5)).normal_(mean=0,std=1) #empty values will be normally distributed\n",
        "print(x)\n",
        "print(\"==============================================================\")\n",
        "x= torch.empty((1,5))\n",
        "print('unitialized tensor---->',x)\n",
        "x.normal_(mean=0,std=1)\n",
        "print('unitialized tensor after normalizing---->',x)"
      ],
      "execution_count": 11,
      "outputs": [
        {
          "output_type": "stream",
          "text": [
            "tensor([[-0.7341, -0.9014, -0.2405,  0.7147,  0.4019]])\n",
            "==============================================================\n",
            "unitialized tensor----> tensor([[3.5116e-35, 0.0000e+00, 3.3631e-44, 0.0000e+00,        nan]])\n",
            "unitialized tensor after normalizing----> tensor([[ 2.1914,  0.7113, -0.7494,  0.9997, -1.2037]])\n"
          ],
          "name": "stdout"
        }
      ]
    },
    {
      "cell_type": "code",
      "metadata": {
        "colab": {
          "base_uri": "https://localhost:8080/"
        },
        "id": "vtgiHiBakO60",
        "outputId": "3ddd1772-0a16-4dfe-ecb8-94f1ab80f49d"
      },
      "source": [
        "#15\n",
        "x= torch.empty((1,5)).uniform_(0,1) #here 0,1 is the lower and the upper range\n",
        "print(x)"
      ],
      "execution_count": 12,
      "outputs": [
        {
          "output_type": "stream",
          "text": [
            "tensor([[0.9729, 0.4495, 0.4316, 0.4863, 0.5210]])\n"
          ],
          "name": "stdout"
        }
      ]
    },
    {
      "cell_type": "code",
      "metadata": {
        "colab": {
          "base_uri": "https://localhost:8080/"
        },
        "id": "xRqCtsrfkO2v",
        "outputId": "f11a1cc2-50b3-497d-a7a9-3f8581564b3f"
      },
      "source": [
        "#16\n",
        "x= torch.diag(torch.ones(3)) #3x3 diagona matrix \n",
        "print(x)\n",
        "\n",
        "#similar to code snippet #11\n",
        "#Note: torch.diag is used to preserve the diagonal values whereas the torch.eye() is used for diagonal= 1"
      ],
      "execution_count": 13,
      "outputs": [
        {
          "output_type": "stream",
          "text": [
            "tensor([[1., 0., 0.],\n",
            "        [0., 1., 0.],\n",
            "        [0., 0., 1.]])\n"
          ],
          "name": "stdout"
        }
      ]
    },
    {
      "cell_type": "markdown",
      "metadata": {
        "id": "ksCW_ag7g8Bf"
      },
      "source": [
        "# Attributes of tensors"
      ]
    },
    {
      "cell_type": "code",
      "metadata": {
        "colab": {
          "base_uri": "https://localhost:8080/"
        },
        "id": "cYf03cHfgCNW",
        "outputId": "5c6a0e7d-1a78-489c-ded2-14fb09ea7238"
      },
      "source": [
        "#7\n",
        "my_tensor= torch.tensor([[1,2,3],[4,5,6]],dtype=torch.float32,requires_grad=True)\n",
        "print(my_tensor.dtype)\n",
        "print(my_tensor.device)\n",
        "print(my_tensor.shape)\n",
        "print(my_tensor.requires_grad) #this will be true if the my_tensor has gradient"
      ],
      "execution_count": 14,
      "outputs": [
        {
          "output_type": "stream",
          "text": [
            "torch.float32\n",
            "cpu\n",
            "torch.Size([2, 3])\n",
            "True\n"
          ],
          "name": "stdout"
        }
      ]
    },
    {
      "cell_type": "markdown",
      "metadata": {
        "id": "cl03YgdloQFJ"
      },
      "source": [
        "# How to initialize and convert tensors to other types(int,float,double)"
      ]
    },
    {
      "cell_type": "code",
      "metadata": {
        "colab": {
          "base_uri": "https://localhost:8080/"
        },
        "id": "jELkdMZ_hI-D",
        "outputId": "3b142413-2314-4195-91fb-450b80ed3252"
      },
      "source": [
        "#17\n",
        "tensor= torch.arange(4)\n",
        "print(tensor,'datatype->',tensor.dtype)\n",
        "print(tensor.bool(),'datatype->',tensor.bool().dtype)\n",
        "print(tensor.short(),'datatype->',tensor.short().dtype)\n",
        "print(tensor.long(),'datatype->',tensor.long().dtype)# IMPORTANT\n",
        "print(tensor.half(),'datatype->',tensor.half().dtype)\n",
        "print(tensor.float(),'datatype->',tensor.float().dtype)# IMPORTANT"
      ],
      "execution_count": 15,
      "outputs": [
        {
          "output_type": "stream",
          "text": [
            "tensor([0, 1, 2, 3]) datatype-> torch.int64\n",
            "tensor([False,  True,  True,  True]) datatype-> torch.bool\n",
            "tensor([0, 1, 2, 3], dtype=torch.int16) datatype-> torch.int16\n",
            "tensor([0, 1, 2, 3]) datatype-> torch.int64\n",
            "tensor([0., 1., 2., 3.], dtype=torch.float16) datatype-> torch.float16\n",
            "tensor([0., 1., 2., 3.]) datatype-> torch.float32\n"
          ],
          "name": "stdout"
        }
      ]
    },
    {
      "cell_type": "markdown",
      "metadata": {
        "id": "GoG5CYNWq551"
      },
      "source": [
        "# Array to Tensor conversion and vice-versa"
      ]
    },
    {
      "cell_type": "code",
      "metadata": {
        "id": "UXjtATSDrmQk"
      },
      "source": [
        "#18\n",
        "import numpy as np"
      ],
      "execution_count": 16,
      "outputs": []
    },
    {
      "cell_type": "code",
      "metadata": {
        "colab": {
          "base_uri": "https://localhost:8080/"
        },
        "id": "jWv90zLVq5VA",
        "outputId": "4822005a-0290-493d-d4c6-b816126c44fb"
      },
      "source": [
        "#19\n",
        "np_array= np.zeros((5,5))\n",
        "print('np_array:',np_array)\n",
        "tensor= torch.from_numpy(np_array)\n",
        "print('tensor:',tensor)\n",
        "np_array_back= tensor.numpy()\n",
        "print('np_array_back:',np_array_back)"
      ],
      "execution_count": 17,
      "outputs": [
        {
          "output_type": "stream",
          "text": [
            "np_array: [[0. 0. 0. 0. 0.]\n",
            " [0. 0. 0. 0. 0.]\n",
            " [0. 0. 0. 0. 0.]\n",
            " [0. 0. 0. 0. 0.]\n",
            " [0. 0. 0. 0. 0.]]\n",
            "tensor: tensor([[0., 0., 0., 0., 0.],\n",
            "        [0., 0., 0., 0., 0.],\n",
            "        [0., 0., 0., 0., 0.],\n",
            "        [0., 0., 0., 0., 0.],\n",
            "        [0., 0., 0., 0., 0.]], dtype=torch.float64)\n",
            "np_array_back: [[0. 0. 0. 0. 0.]\n",
            " [0. 0. 0. 0. 0.]\n",
            " [0. 0. 0. 0. 0.]\n",
            " [0. 0. 0. 0. 0.]\n",
            " [0. 0. 0. 0. 0.]]\n"
          ],
          "name": "stdout"
        }
      ]
    },
    {
      "cell_type": "markdown",
      "metadata": {
        "id": "2a7cX7JIr-u8"
      },
      "source": [
        "# Tensor Math & Comparison Operations"
      ]
    },
    {
      "cell_type": "code",
      "metadata": {
        "id": "5DwTNjEOq4Yv"
      },
      "source": [
        "#20\n",
        "x= torch.tensor([1,2,3])\n",
        "y= torch.tensor([9,8,7])"
      ],
      "execution_count": 18,
      "outputs": []
    },
    {
      "cell_type": "code",
      "metadata": {
        "colab": {
          "base_uri": "https://localhost:8080/"
        },
        "id": "CNxrwexMozwU",
        "outputId": "f9bb9187-a095-4a76-8d64-34e7f10d0b22"
      },
      "source": [
        "#21\n",
        "#Addition operations\n",
        "z1= torch.empty(3)\n",
        "torch.add(x,y,out=z1) #first way\n",
        "print('Addition: ',z1)\n",
        "print(\"============================\")\n",
        "z2= torch.add(x,y) #second way\n",
        "print('Addition: ',z2)\n",
        "print(\"============================\")\n",
        "z3= x+y #third way\n",
        "print('Addition: ',z3)\n",
        "\n",
        "print(\"============================\")\n",
        "#Subtraction operation\n",
        "z= x-y\n",
        "print('Subtarction: ',z)\n",
        "\n",
        "print(\"============================\")\n",
        "#Mulitiplication\n",
        "z= x*y\n",
        "print(\"Mulitiplication\",z)"
      ],
      "execution_count": 19,
      "outputs": [
        {
          "output_type": "stream",
          "text": [
            "Addition:  tensor([10., 10., 10.])\n",
            "============================\n",
            "Addition:  tensor([10, 10, 10])\n",
            "============================\n",
            "Addition:  tensor([10, 10, 10])\n",
            "============================\n",
            "Subtarction:  tensor([-8, -6, -4])\n",
            "============================\n",
            "Mulitiplication tensor([ 9, 16, 21])\n"
          ],
          "name": "stdout"
        }
      ]
    },
    {
      "cell_type": "code",
      "metadata": {
        "colab": {
          "base_uri": "https://localhost:8080/",
          "height": 248
        },
        "id": "_qC4-j8by2zq",
        "outputId": "e7fbb121-9753-44dc-d0f0-247a7819014c"
      },
      "source": [
        "#22\n",
        "#Division operation\n",
        "z= torch.true_divide(x,y) #will do element wise division and return the values in the form of tensor\n",
        "print('Division: ',z)\n",
        "\n",
        "x= torch.tensor([1,2,3])\n",
        "y= torch.tensor([2])\n",
        "z= torch.true_divide(x,y) # this will divide x/y elementwise\n",
        "print('Division: ',z)\n",
        "\n",
        "x= torch.tensor([1,2,3])\n",
        "y= torch.tensor([2,3])\n",
        "z= torch.true_divide(x,y) #This will throw error as len(x) !=len(y)\n",
        "print('Division: ',z)"
      ],
      "execution_count": 20,
      "outputs": [
        {
          "output_type": "stream",
          "text": [
            "Division:  tensor([0.1111, 0.2500, 0.4286])\n",
            "Division:  tensor([0.5000, 1.0000, 1.5000])\n"
          ],
          "name": "stdout"
        },
        {
          "output_type": "error",
          "ename": "RuntimeError",
          "evalue": "ignored",
          "traceback": [
            "\u001b[0;31m---------------------------------------------------------------------------\u001b[0m",
            "\u001b[0;31mRuntimeError\u001b[0m                              Traceback (most recent call last)",
            "\u001b[0;32m<ipython-input-20-2429557f0220>\u001b[0m in \u001b[0;36m<module>\u001b[0;34m()\u001b[0m\n\u001b[1;32m     11\u001b[0m \u001b[0mx\u001b[0m\u001b[0;34m=\u001b[0m \u001b[0mtorch\u001b[0m\u001b[0;34m.\u001b[0m\u001b[0mtensor\u001b[0m\u001b[0;34m(\u001b[0m\u001b[0;34m[\u001b[0m\u001b[0;36m1\u001b[0m\u001b[0;34m,\u001b[0m\u001b[0;36m2\u001b[0m\u001b[0;34m,\u001b[0m\u001b[0;36m3\u001b[0m\u001b[0;34m]\u001b[0m\u001b[0;34m)\u001b[0m\u001b[0;34m\u001b[0m\u001b[0;34m\u001b[0m\u001b[0m\n\u001b[1;32m     12\u001b[0m \u001b[0my\u001b[0m\u001b[0;34m=\u001b[0m \u001b[0mtorch\u001b[0m\u001b[0;34m.\u001b[0m\u001b[0mtensor\u001b[0m\u001b[0;34m(\u001b[0m\u001b[0;34m[\u001b[0m\u001b[0;36m2\u001b[0m\u001b[0;34m,\u001b[0m\u001b[0;36m3\u001b[0m\u001b[0;34m]\u001b[0m\u001b[0;34m)\u001b[0m\u001b[0;34m\u001b[0m\u001b[0;34m\u001b[0m\u001b[0m\n\u001b[0;32m---> 13\u001b[0;31m \u001b[0mz\u001b[0m\u001b[0;34m=\u001b[0m \u001b[0mtorch\u001b[0m\u001b[0;34m.\u001b[0m\u001b[0mtrue_divide\u001b[0m\u001b[0;34m(\u001b[0m\u001b[0mx\u001b[0m\u001b[0;34m,\u001b[0m\u001b[0my\u001b[0m\u001b[0;34m)\u001b[0m \u001b[0;31m#This will throw error as len(x) !=len(y)\u001b[0m\u001b[0;34m\u001b[0m\u001b[0;34m\u001b[0m\u001b[0m\n\u001b[0m\u001b[1;32m     14\u001b[0m \u001b[0mprint\u001b[0m\u001b[0;34m(\u001b[0m\u001b[0;34m'Division: '\u001b[0m\u001b[0;34m,\u001b[0m\u001b[0mz\u001b[0m\u001b[0;34m)\u001b[0m\u001b[0;34m\u001b[0m\u001b[0;34m\u001b[0m\u001b[0m\n",
            "\u001b[0;31mRuntimeError\u001b[0m: The size of tensor a (3) must match the size of tensor b (2) at non-singleton dimension 0"
          ]
        }
      ]
    },
    {
      "cell_type": "code",
      "metadata": {
        "id": "JcFK5IOf2ulj"
      },
      "source": [
        "#23\n",
        "#Exponential Operation\n",
        "x= torch.tensor([10,20,30])\n",
        "z= x.pow(2)\n",
        "print(z)\n",
        "z= x**2\n",
        "print(z)"
      ],
      "execution_count": null,
      "outputs": []
    },
    {
      "cell_type": "code",
      "metadata": {
        "colab": {
          "base_uri": "https://localhost:8080/"
        },
        "id": "TaVzjCPH5kRB",
        "outputId": "f22c696a-cc6f-49fc-e5af-fe3a7c4d4bdc"
      },
      "source": [
        "#24\n",
        "#Simple Comparison\n",
        "z= x>0\n",
        "print(z)"
      ],
      "execution_count": 21,
      "outputs": [
        {
          "output_type": "stream",
          "text": [
            "tensor([True, True, True])\n"
          ],
          "name": "stdout"
        }
      ]
    },
    {
      "cell_type": "code",
      "metadata": {
        "colab": {
          "base_uri": "https://localhost:8080/"
        },
        "id": "d6LweA-B56Ba",
        "outputId": "ae8aa34f-e840-46f4-ade1-b5038797db27"
      },
      "source": [
        "#25\n",
        "#Matrix multiplication\n",
        "x1= torch.rand((2,5))\n",
        "x2= torch.rand((5,3))\n",
        "x3= torch.mm(x1,x2)  #Output shape= (2x3)\n",
        "print('Matrix multiplication: ',x3)\n",
        "x3= x1.mm(x2)  #Output shape= (2x3)\n",
        "print('Matrix multiplication: ',x3)"
      ],
      "execution_count": 22,
      "outputs": [
        {
          "output_type": "stream",
          "text": [
            "Matrix multiplication:  tensor([[1.7016, 0.7160, 0.5608],\n",
            "        [2.0721, 1.2453, 1.8302]])\n",
            "Matrix multiplication:  tensor([[1.7016, 0.7160, 0.5608],\n",
            "        [2.0721, 1.2453, 1.8302]])\n"
          ],
          "name": "stdout"
        }
      ]
    },
    {
      "cell_type": "code",
      "metadata": {
        "colab": {
          "base_uri": "https://localhost:8080/"
        },
        "id": "4o4UOsfF6VI3",
        "outputId": "141473e1-cf6c-499d-ef76-c87ceac978af"
      },
      "source": [
        "#26\n",
        "#Matrix Exponentiation\n",
        "matrix_exp= torch.rand(5,5)\n",
        "print('Matrix: ',matrix_exp)\n",
        "print('Power of Matrix: ',matrix_exp.matrix_power(3))\n",
        "print('Another way Power of Matrix: ',torch.matrix_power(matrix_exp, 3)) #Another way"
      ],
      "execution_count": 23,
      "outputs": [
        {
          "output_type": "stream",
          "text": [
            "Matrix:  tensor([[0.3361, 0.9619, 0.1880, 0.2480, 0.7574],\n",
            "        [0.8257, 0.7907, 0.0389, 0.1683, 0.6875],\n",
            "        [0.2604, 0.1706, 0.3207, 0.9916, 0.1082],\n",
            "        [0.7817, 0.6284, 0.9026, 0.6676, 0.8654],\n",
            "        [0.9465, 0.6709, 0.7879, 0.9855, 0.1990]])\n",
            "Power of Matrix:  tensor([[4.6345, 5.0881, 2.9729, 3.9150, 4.1654],\n",
            "        [4.7460, 5.0946, 2.8868, 3.8599, 4.0703],\n",
            "        [3.7192, 3.8022, 2.6660, 3.6137, 3.0703],\n",
            "        [6.9511, 7.2882, 4.8213, 6.2285, 6.1564],\n",
            "        [6.5880, 6.7480, 4.4434, 5.8350, 5.4499]])\n",
            "Another way Power of Matrix:  tensor([[4.6345, 5.0881, 2.9729, 3.9150, 4.1654],\n",
            "        [4.7460, 5.0946, 2.8868, 3.8599, 4.0703],\n",
            "        [3.7192, 3.8022, 2.6660, 3.6137, 3.0703],\n",
            "        [6.9511, 7.2882, 4.8213, 6.2285, 6.1564],\n",
            "        [6.5880, 6.7480, 4.4434, 5.8350, 5.4499]])\n"
          ],
          "name": "stdout"
        }
      ]
    },
    {
      "cell_type": "code",
      "metadata": {
        "colab": {
          "base_uri": "https://localhost:8080/"
        },
        "id": "RrNbOts4-Hhu",
        "outputId": "d9d218f3-b6dd-4cb0-bbb8-c3b474506cbe"
      },
      "source": [
        "#27\n",
        "# Difference between Matrix multiplication and Elementwise multiplication\n",
        "x= torch.tensor([1,2,3]) #(r0,c0)\n",
        "y= torch.tensor([9,8,7]) #(r1,c1)\n",
        "\n",
        "element_wise_mul= x*y\n",
        "print(\"Elementwise multiplication:\",element_wise_mul)\n",
        "#matrix_mul= torch.mm(x,y)  #This will throw error as len(c0) != len(r1) \n",
        "#print(\"Matrix_multiplication:\",matrix_mul)"
      ],
      "execution_count": 24,
      "outputs": [
        {
          "output_type": "stream",
          "text": [
            "Elementwise multiplication: tensor([ 9, 16, 21])\n"
          ],
          "name": "stdout"
        }
      ]
    },
    {
      "cell_type": "code",
      "metadata": {
        "colab": {
          "base_uri": "https://localhost:8080/"
        },
        "id": "Qm46keUN_-xp",
        "outputId": "dcfc580f-a7cf-4ded-b013-241e9b58a994"
      },
      "source": [
        "#28\n",
        "#Dot Product of Matrices (will only work on 1D tensors)\n",
        "#Dot product= elementwise matrix multiplication + Adding/Summing the result\n",
        "z= torch.dot(x,y)   #tensor([ 9, 16, 21]) ==> 9+16+21 = 46\n",
        "print('Dot Product: ',z)"
      ],
      "execution_count": 25,
      "outputs": [
        {
          "output_type": "stream",
          "text": [
            "Dot Product:  tensor(46)\n"
          ],
          "name": "stdout"
        }
      ]
    },
    {
      "cell_type": "code",
      "metadata": {
        "colab": {
          "base_uri": "https://localhost:8080/"
        },
        "id": "QNQeHgTxBQKb",
        "outputId": "d5c43e3e-499c-4b91-b0c3-0b21a27ea99d"
      },
      "source": [
        "#29\n",
        "# x= torch.tensor([1,2,3,4,5,6]).reshape(3,2)\n",
        "# y= torch.tensor([2,2,2,2,2,2]).reshape(2,3)\n",
        "# z= torch.dot(x,y)\n",
        "# print(z)\n",
        "\n",
        "#Batch Multiplication\n",
        "batch= 32\n",
        "n= 10\n",
        "m= 10\n",
        "p= 30\n",
        "\n",
        "tensor1= torch.rand((batch,n,m))\n",
        "tensor2= torch.rand((batch,m,p))\n",
        "out_bmm= torch.bmm(tensor1,tensor2) #shape= (batch,n,p) => (32,10,30)\n",
        "print(out_bmm,'shape:> ',out_bmm.shape)"
      ],
      "execution_count": 26,
      "outputs": [
        {
          "output_type": "stream",
          "text": [
            "tensor([[[3.3142, 2.6600, 4.2329,  ..., 2.9608, 5.1776, 3.6568],\n",
            "         [2.4583, 1.8511, 2.4627,  ..., 1.7147, 3.0940, 2.7337],\n",
            "         [2.9687, 2.2704, 2.6273,  ..., 1.9871, 3.8016, 3.5053],\n",
            "         ...,\n",
            "         [1.9756, 1.2809, 2.1154,  ..., 1.7381, 2.9641, 1.9098],\n",
            "         [3.9793, 2.6685, 3.9114,  ..., 3.0103, 4.6835, 3.6147],\n",
            "         [3.0413, 2.2498, 3.1165,  ..., 2.3860, 3.9460, 2.7906]],\n",
            "\n",
            "        [[2.4466, 2.7960, 2.8469,  ..., 3.0303, 2.2577, 1.8552],\n",
            "         [3.1358, 3.0486, 4.0652,  ..., 4.3268, 2.9829, 2.8181],\n",
            "         [2.2344, 2.0720, 3.2575,  ..., 3.2407, 2.2047, 2.1073],\n",
            "         ...,\n",
            "         [2.9076, 2.8964, 3.6935,  ..., 3.7622, 2.5392, 2.4523],\n",
            "         [3.0432, 2.2368, 3.6783,  ..., 3.3505, 2.9480, 2.4920],\n",
            "         [3.4837, 3.0330, 3.4174,  ..., 4.1035, 3.4829, 2.9930]],\n",
            "\n",
            "        [[3.5919, 2.4990, 2.8122,  ..., 2.3141, 2.6986, 2.7544],\n",
            "         [2.9867, 2.1003, 2.5828,  ..., 2.2060, 2.1179, 2.2019],\n",
            "         [3.6975, 2.5083, 3.4179,  ..., 3.0218, 3.1905, 3.1347],\n",
            "         ...,\n",
            "         [4.7902, 3.3944, 3.3889,  ..., 3.5007, 2.7995, 2.9620],\n",
            "         [3.9520, 3.0872, 3.5977,  ..., 2.5003, 2.9742, 3.0541],\n",
            "         [3.0024, 2.1326, 2.7113,  ..., 1.6962, 2.7231, 2.5224]],\n",
            "\n",
            "        ...,\n",
            "\n",
            "        [[2.6696, 4.1214, 2.7266,  ..., 2.6272, 1.7945, 2.7462],\n",
            "         [2.6291, 3.8938, 2.6517,  ..., 3.1290, 2.2649, 2.3694],\n",
            "         [2.5977, 3.9218, 2.7653,  ..., 2.8369, 2.4488, 2.9864],\n",
            "         ...,\n",
            "         [2.2823, 3.1458, 2.3549,  ..., 2.4527, 2.0265, 2.3840],\n",
            "         [3.9424, 4.6196, 3.8948,  ..., 4.0268, 3.1340, 3.6318],\n",
            "         [3.4273, 4.7769, 3.7498,  ..., 3.0077, 2.4524, 3.5223]],\n",
            "\n",
            "        [[1.7616, 1.5933, 1.0780,  ..., 1.5699, 1.6316, 1.2863],\n",
            "         [1.2549, 1.1517, 1.4227,  ..., 1.0150, 1.5288, 1.0069],\n",
            "         [1.4735, 1.1732, 1.3241,  ..., 1.1536, 1.4563, 1.2098],\n",
            "         ...,\n",
            "         [2.7653, 2.1615, 2.6333,  ..., 2.2231, 3.3247, 2.1708],\n",
            "         [2.4064, 2.1995, 2.4793,  ..., 1.7847, 3.1626, 2.0357],\n",
            "         [3.0135, 2.2577, 2.6079,  ..., 2.7498, 4.3371, 2.1986]],\n",
            "\n",
            "        [[2.9640, 2.8871, 2.2236,  ..., 3.9761, 3.8707, 3.6498],\n",
            "         [2.6288, 2.3562, 1.5960,  ..., 3.2762, 3.2575, 3.5456],\n",
            "         [2.7764, 2.3156, 2.1515,  ..., 2.8252, 3.2544, 2.9389],\n",
            "         ...,\n",
            "         [1.8517, 1.7024, 1.4911,  ..., 2.6798, 2.6641, 2.8418],\n",
            "         [2.7964, 2.1022, 2.1657,  ..., 2.9742, 3.5255, 3.5245],\n",
            "         [1.9013, 1.6812, 2.0188,  ..., 2.6277, 2.8961, 2.3386]]]) shape:>  torch.Size([32, 10, 30])\n"
          ],
          "name": "stdout"
        }
      ]
    },
    {
      "cell_type": "markdown",
      "metadata": {
        "id": "xjVzJDQZJhs7"
      },
      "source": [
        "# Broadcasting"
      ]
    },
    {
      "cell_type": "code",
      "metadata": {
        "colab": {
          "base_uri": "https://localhost:8080/"
        },
        "id": "8xjSHhgcCiss",
        "outputId": "b9d5214e-e213-4319-f0f4-bdc555a27a00"
      },
      "source": [
        "#30\n",
        "x1= torch.rand((5,5))  #(5x5)\n",
        "x2= torch.rand((1,5))  #(1x5)\n",
        "print('x1: ',x1)\n",
        "print('x2: ',x2)\n",
        "z= x1-x2 #Mathematically this is wrong operation\n",
        "print(z)\n",
        "z= x1**x2 #Mathematically this is wrong operation\n",
        "print(z)"
      ],
      "execution_count": 27,
      "outputs": [
        {
          "output_type": "stream",
          "text": [
            "x1:  tensor([[0.0623, 0.3950, 0.0623, 0.4409, 0.1484],\n",
            "        [0.1747, 0.4108, 0.4635, 0.2949, 0.9325],\n",
            "        [0.6038, 0.3797, 0.2519, 0.1746, 0.8110],\n",
            "        [0.1388, 0.6738, 0.8548, 0.5304, 0.9737],\n",
            "        [0.3452, 0.6002, 0.8078, 0.7697, 0.4684]])\n",
            "x2:  tensor([[0.4427, 0.8490, 0.3700, 0.8448, 0.9901]])\n",
            "tensor([[-0.3804, -0.4540, -0.3076, -0.4039, -0.8417],\n",
            "        [-0.2679, -0.4381,  0.0936, -0.5499, -0.0576],\n",
            "        [ 0.1611, -0.4692, -0.1180, -0.6702, -0.1790],\n",
            "        [-0.3039, -0.1752,  0.4848, -0.3144, -0.0164],\n",
            "        [-0.0975, -0.2487,  0.4378, -0.0751, -0.5217]])\n",
            "tensor([[0.2926, 0.4544, 0.3582, 0.5007, 0.1512],\n",
            "        [0.4620, 0.4699, 0.7524, 0.3564, 0.9331],\n",
            "        [0.7999, 0.4395, 0.6005, 0.2289, 0.8127],\n",
            "        [0.4172, 0.7152, 0.9436, 0.5852, 0.9739],\n",
            "        [0.6245, 0.6483, 0.9241, 0.8016, 0.4719]])\n"
          ],
          "name": "stdout"
        }
      ]
    },
    {
      "cell_type": "markdown",
      "metadata": {
        "id": "YmxYGmmBVoW-"
      },
      "source": [
        "# Other useful tensor operations"
      ]
    },
    {
      "cell_type": "code",
      "metadata": {
        "colab": {
          "base_uri": "https://localhost:8080/"
        },
        "id": "XtBDhKQ1Kbga",
        "outputId": "67dd5cde-cad5-4dfa-c5fa-dc8bc371ca09"
      },
      "source": [
        "#31\n",
        "#Summation with dim attribute\n",
        "x= torch.tensor([[1,1,1],[4,5,6],[7,8,9]])\n",
        "print('x: ',x)\n",
        "sum_x= torch.sum(x,dim=0)\n",
        "sum_y= torch.sum(x,dim=1)\n",
        "print(sum_x,sum_y)\n",
        "\n",
        "#Min and Max\n",
        "values,indices= torch.max(x,dim=0) #return max row\n",
        "print('max: ',values,indices)\n",
        "\n",
        "values,indices= torch.max(x,dim=1) #return max col\n",
        "print('max: ',values,indices)\n",
        "\n",
        "values,indices= torch.min(x,dim=0) #return min row\n",
        "print('min: ',values,indices)\n",
        "\n",
        "values,indices= torch.min(x,dim=1) #return min col\n",
        "print('min: ',values,indices)\n",
        "\n",
        "#absolute value\n",
        "abs_x= torch.abs(x)\n",
        "print('absolute value: ',abs_x)\n",
        "\n",
        "#argmax function\n",
        "z= torch.argmax(x,dim=0)# same as torch.max() but this will return only the location.\n",
        "print('argmax: ',z)\n",
        "\n",
        "z= torch.argmin(x,dim=0)# same as torch.max() but this will return only the location.\n",
        "print('argmin: ',z)\n",
        "\n",
        "#mean value\n",
        "mean_x= torch.mean(x.float(),dim=0) #for calculating the mean the input tensor should be of FLOAT type \n",
        "print('Mean: ',mean_x)"
      ],
      "execution_count": 28,
      "outputs": [
        {
          "output_type": "stream",
          "text": [
            "x:  tensor([[1, 1, 1],\n",
            "        [4, 5, 6],\n",
            "        [7, 8, 9]])\n",
            "tensor([12, 14, 16]) tensor([ 3, 15, 24])\n",
            "max:  tensor([7, 8, 9]) tensor([2, 2, 2])\n",
            "max:  tensor([1, 6, 9]) tensor([0, 2, 2])\n",
            "min:  tensor([1, 1, 1]) tensor([0, 0, 0])\n",
            "min:  tensor([1, 4, 7]) tensor([0, 0, 0])\n",
            "absolute value:  tensor([[1, 1, 1],\n",
            "        [4, 5, 6],\n",
            "        [7, 8, 9]])\n",
            "argmax:  tensor([2, 2, 2])\n",
            "argmin:  tensor([0, 0, 0])\n",
            "Mean:  tensor([4.0000, 4.6667, 5.3333])\n"
          ],
          "name": "stdout"
        }
      ]
    },
    {
      "cell_type": "code",
      "metadata": {
        "colab": {
          "base_uri": "https://localhost:8080/"
        },
        "id": "lUvLOGr3VxaL",
        "outputId": "03dc4f8a-03a7-40ad-b8b8-dd061f0acd88"
      },
      "source": [
        "#32\n",
        "x= torch.tensor([1,2,3]) #(r0,c0)\n",
        "y= torch.tensor([9,8,7]) #(r1,c1)\n",
        "z= torch.eq(x,y)\n",
        "print(\"Is the 2 tensors equal? \",z)\n",
        "\n",
        "sorted_y, indices= torch.sort(y,dim=0,descending=False)\n",
        "print(sorted_y,indices)\n",
        "\n",
        "z= torch.clamp(x,min=0) #less than 0 will be 0\n",
        "print(\"clamped tensor: \",z)\n",
        "\n",
        "z= torch.clamp(x,min=0,max=2)\n",
        "print(\"clamped tensor: \",z)\n",
        "\n",
        "#Relu is a special function of clamp"
      ],
      "execution_count": 29,
      "outputs": [
        {
          "output_type": "stream",
          "text": [
            "Is the 2 tensors equal?  tensor([False, False, False])\n",
            "tensor([7, 8, 9]) tensor([2, 1, 0])\n",
            "clamped tensor:  tensor([1, 2, 3])\n",
            "clamped tensor:  tensor([1, 2, 2])\n"
          ],
          "name": "stdout"
        }
      ]
    },
    {
      "cell_type": "code",
      "metadata": {
        "colab": {
          "base_uri": "https://localhost:8080/"
        },
        "id": "AiPMmr0UMdUf",
        "outputId": "1c83664d-c830-4a7e-8eb4-c5faf1c3a728"
      },
      "source": [
        "#33\n",
        "x= torch.tensor([1,0,1,1,1],dtype=torch.bool)\n",
        "print('x: ',x)\n",
        "z= torch.any(x) #OR function\n",
        "print('any: ',z)\n",
        "\n",
        "z= torch.all(x) #AND function\n",
        "print('all: ',z)\n",
        "\n",
        "x= torch.arange(10)\n",
        "print('x: ',x)\n",
        "print('Filtering operation: ',torch.where(x>5,x,x**2)) #----IMPORTANT (if x>5 then x otherwise x^2)\n",
        "print('Unique values: ',torch.tensor([0,0,1,2,2,3,4]).unique())\n",
        "print('No of dimensions: ',x.ndimension())\n",
        "print('No of elements in x: ',x.numel()) #similar to len(x) but bit different in case of nD tensor\n",
        "\n",
        "#difference between numel() and len()--> len() is basically calculates width/row\n",
        "x1= torch.rand([3,5])\n",
        "print('No of elements in x1: ',x1.numel(),len(x1))"
      ],
      "execution_count": 30,
      "outputs": [
        {
          "output_type": "stream",
          "text": [
            "x:  tensor([ True, False,  True,  True,  True])\n",
            "any:  tensor(True)\n",
            "all:  tensor(False)\n",
            "x:  tensor([0, 1, 2, 3, 4, 5, 6, 7, 8, 9])\n",
            "Filtering operation:  tensor([ 0,  1,  4,  9, 16, 25,  6,  7,  8,  9])\n",
            "Unique values:  tensor([0, 1, 2, 3, 4])\n",
            "No of dimensions:  1\n",
            "No of elements in x:  10\n",
            "No of elements in x1:  15 3\n"
          ],
          "name": "stdout"
        }
      ]
    },
    {
      "cell_type": "markdown",
      "metadata": {
        "id": "hz8GnXWptAtX"
      },
      "source": [
        "# Indexing"
      ]
    },
    {
      "cell_type": "code",
      "metadata": {
        "colab": {
          "base_uri": "https://localhost:8080/"
        },
        "id": "uVkBKxObN9Uo",
        "outputId": "6343b47d-d663-4187-8395-70562b6c9b6a"
      },
      "source": [
        "#34\n",
        "# Tensor Indexing\n",
        "batch_size= 10\n",
        "features= 25\n",
        "x= torch.rand((batch_size,features))\n",
        "print('x: ',x,'shape: ',x.shape,'dtype: ',x.dtype)\n",
        "\n",
        "print(\"=====================================================================================================\")\n",
        "print('Features of first example: ')\n",
        "print('first row and all column in first row: ',x[0],'shape: ',x[0].shape)\n",
        "\n",
        "print(\"=====================================================================================================\")\n",
        "print('First feature for all the examples: ')\n",
        "print(x[:,0],'shape: ',x[:,0].shape)\n",
        "\n",
        "print(\"=====================================================================================================\")\n",
        "print('First 10 features of 2nd batch: ')\n",
        "print(x[2,0:10],'shape: ',x[2,0:10].shape)\n"
      ],
      "execution_count": 31,
      "outputs": [
        {
          "output_type": "stream",
          "text": [
            "x:  tensor([[0.5942, 0.9293, 0.2717, 0.1990, 0.6920, 0.5712, 0.3536, 0.4504, 0.0762,\n",
            "         0.4046, 0.6038, 0.1898, 0.7541, 0.3277, 0.4907, 0.3754, 0.3133, 0.1621,\n",
            "         0.4054, 0.1928, 0.7535, 0.2280, 0.1345, 0.3413, 0.4178],\n",
            "        [0.9485, 0.3945, 0.7979, 0.6279, 0.2778, 0.1094, 0.5883, 0.2282, 0.5924,\n",
            "         0.9150, 0.4225, 0.7656, 0.6060, 0.1549, 0.0262, 0.8201, 0.4855, 0.8416,\n",
            "         0.7339, 0.9636, 0.6752, 0.2090, 0.3492, 0.0294, 0.9538],\n",
            "        [0.0212, 0.6040, 0.6956, 0.0121, 0.2529, 0.5721, 0.6692, 0.3025, 0.9975,\n",
            "         0.8599, 0.5745, 0.9534, 0.9412, 0.9637, 0.6457, 0.3683, 0.2590, 0.3732,\n",
            "         0.8888, 0.8079, 0.2745, 0.8938, 0.9107, 0.4585, 0.9697],\n",
            "        [0.2188, 0.3779, 0.8072, 0.9806, 0.7966, 0.3255, 0.2833, 0.0748, 0.6469,\n",
            "         0.4084, 0.9999, 0.8767, 0.4455, 0.7025, 0.8899, 0.2122, 0.2872, 0.1421,\n",
            "         0.1489, 0.5795, 0.1007, 0.0951, 0.3073, 0.3810, 0.3693],\n",
            "        [0.8339, 0.9230, 0.6229, 0.0499, 0.0098, 0.5257, 0.0256, 0.6024, 0.9532,\n",
            "         0.9622, 0.4755, 0.0378, 0.8287, 0.5225, 0.5802, 0.8684, 0.2496, 0.2076,\n",
            "         0.3221, 0.1604, 0.8353, 0.7144, 0.2113, 0.5741, 0.1055],\n",
            "        [0.1912, 0.7106, 0.8205, 0.7132, 0.9814, 0.1889, 0.1307, 0.7465, 0.7767,\n",
            "         0.8089, 0.8422, 0.1030, 0.4318, 0.5122, 0.6451, 0.2543, 0.0137, 0.3598,\n",
            "         0.6322, 0.8928, 0.7533, 0.6514, 0.3908, 0.4206, 0.8121],\n",
            "        [0.2439, 0.3208, 0.6595, 0.5249, 0.8806, 0.2052, 0.7196, 0.3777, 0.7974,\n",
            "         0.9505, 0.0492, 0.8869, 0.8551, 0.0742, 0.2751, 0.2966, 0.1825, 0.7795,\n",
            "         0.0294, 0.7145, 0.3890, 0.3108, 0.3527, 0.0187, 0.7980],\n",
            "        [0.5682, 0.2158, 0.1164, 0.3698, 0.9707, 0.2269, 0.5367, 0.4136, 0.1590,\n",
            "         0.7175, 0.9791, 0.9271, 0.6294, 0.4498, 0.0959, 0.4691, 0.3036, 0.5404,\n",
            "         0.2004, 0.2195, 0.5868, 0.2800, 0.7396, 0.1371, 0.1780],\n",
            "        [0.3699, 0.3813, 0.5884, 0.4010, 0.8299, 0.6150, 0.4113, 0.9210, 0.9474,\n",
            "         0.4724, 0.1690, 0.3602, 0.9539, 0.3541, 0.5905, 0.2726, 0.3520, 0.7879,\n",
            "         0.7109, 0.3866, 0.9429, 0.3546, 0.4839, 0.1370, 0.3663],\n",
            "        [0.0446, 0.3687, 0.7300, 0.0219, 0.1689, 0.5881, 0.3464, 0.4542, 0.7870,\n",
            "         0.4535, 0.6086, 0.6403, 0.2449, 0.9883, 0.7458, 0.9096, 0.3870, 0.1836,\n",
            "         0.3854, 0.9059, 0.8472, 0.5684, 0.1122, 0.1940, 0.3797]]) shape:  torch.Size([10, 25]) dtype:  torch.float32\n",
            "=====================================================================================================\n",
            "Features of first example: \n",
            "first row and all column in first row:  tensor([0.5942, 0.9293, 0.2717, 0.1990, 0.6920, 0.5712, 0.3536, 0.4504, 0.0762,\n",
            "        0.4046, 0.6038, 0.1898, 0.7541, 0.3277, 0.4907, 0.3754, 0.3133, 0.1621,\n",
            "        0.4054, 0.1928, 0.7535, 0.2280, 0.1345, 0.3413, 0.4178]) shape:  torch.Size([25])\n",
            "=====================================================================================================\n",
            "First feature for all the examples: \n",
            "tensor([0.5942, 0.9485, 0.0212, 0.2188, 0.8339, 0.1912, 0.2439, 0.5682, 0.3699,\n",
            "        0.0446]) shape:  torch.Size([10])\n",
            "=====================================================================================================\n",
            "First 10 features of 2nd batch: \n",
            "tensor([0.0212, 0.6040, 0.6956, 0.0121, 0.2529, 0.5721, 0.6692, 0.3025, 0.9975,\n",
            "        0.8599]) shape:  torch.Size([10])\n"
          ],
          "name": "stdout"
        }
      ]
    },
    {
      "cell_type": "code",
      "metadata": {
        "id": "WE4ByqjaOyKH",
        "colab": {
          "base_uri": "https://localhost:8080/"
        },
        "outputId": "4d13afe5-91d9-4751-9ddc-f2ff1661a8d5"
      },
      "source": [
        "#35\n",
        "#Fancy Indexing\n",
        "x= torch.arange(10)\n",
        "print('x: ',x)\n",
        "idices= [2,5,8]\n",
        "print('indexed values: ',x[indices])\n",
        "\n",
        "print(\"=====================================\")\n",
        "\n",
        "x= torch.rand((3,5))\n",
        "print('x: ',x)\n",
        "rows= torch.tensor([1,0])\n",
        "cols= torch.tensor([4,0])\n",
        "print('Indexed value: ',x[rows,cols])\n",
        "\n",
        "print(\"=====================================\")\n",
        "\n",
        "x= torch.arange(10)\n",
        "print('x: ',x)\n",
        "print('indexed value: ',x[(x<2) | (x>8)])\n",
        "print('indexed value: ',x[(x>2) & (x<8)])\n",
        "print('indexed values: ',x[x.remainder(2)==0]) #elementwise x%2==0 will be filtered  -----Important\n"
      ],
      "execution_count": 32,
      "outputs": [
        {
          "output_type": "stream",
          "text": [
            "x:  tensor([0, 1, 2, 3, 4, 5, 6, 7, 8, 9])\n",
            "indexed values:  tensor([2, 1, 0])\n",
            "=====================================\n",
            "x:  tensor([[0.3586, 0.2355, 0.5920, 0.5192, 0.9798],\n",
            "        [0.4996, 0.4068, 0.0211, 0.6178, 0.2309],\n",
            "        [0.1081, 0.0067, 0.4958, 0.3360, 0.0843]])\n",
            "Indexed value:  tensor([0.2309, 0.3586])\n",
            "=====================================\n",
            "x:  tensor([0, 1, 2, 3, 4, 5, 6, 7, 8, 9])\n",
            "indexed value:  tensor([0, 1, 9])\n",
            "indexed value:  tensor([3, 4, 5, 6, 7])\n",
            "indexed values:  tensor([0, 2, 4, 6, 8])\n"
          ],
          "name": "stdout"
        }
      ]
    },
    {
      "cell_type": "markdown",
      "metadata": {
        "id": "PlqyyudjHdMT"
      },
      "source": [
        "# Tensor Reshaping\n",
        "\n",
        "[Difference between reshape and view](https://stackoverflow.com/questions/49643225/whats-the-difference-between-reshape-and-view-in-pytorch)"
      ]
    },
    {
      "cell_type": "code",
      "metadata": {
        "id": "r4SOnbp2rcb7",
        "colab": {
          "base_uri": "https://localhost:8080/"
        },
        "outputId": "62557e19-381e-48c4-fca1-f54eca5fe222"
      },
      "source": [
        "#36\n",
        "x= torch.arange(9)\n",
        "x_3x3= x.view(3,3)\n",
        "x_reshaped= x.reshape(3,3)\n",
        "print('x: ',x)\n",
        "print('x_3x3: ',x_3x3)\n",
        "print('x_reshaped: ',x_reshaped)\n",
        "\n",
        "print(\"====================================Experiment=======================================\")\n",
        "a= torch.arange(9)\n",
        "print('a: ',a)\n",
        "print(\"-------------------->\")\n",
        "b= a.view(3,3)\n",
        "print('b: ',b)\n",
        "print(\"-------------------->\")\n",
        "c= b.t()\n",
        "print('c: ',c)\n",
        "print(\"-------------------->\")\n",
        "# d= c.view(9) # This will throw error\n",
        "d= c.contiguous().view(9)\n",
        "print('d: ',d)\n",
        "print(\"====================>\")\n",
        "x= a.reshape(3,3)\n",
        "print('x: ',x)\n",
        "print(\"-------------------->\")\n",
        "y= x.t()\n",
        "print('y:',y)\n",
        "print(\"-------------------->\")\n",
        "z= y.reshape(9)\n",
        "print('z: ',z)"
      ],
      "execution_count": 33,
      "outputs": [
        {
          "output_type": "stream",
          "text": [
            "x:  tensor([0, 1, 2, 3, 4, 5, 6, 7, 8])\n",
            "x_3x3:  tensor([[0, 1, 2],\n",
            "        [3, 4, 5],\n",
            "        [6, 7, 8]])\n",
            "x_reshaped:  tensor([[0, 1, 2],\n",
            "        [3, 4, 5],\n",
            "        [6, 7, 8]])\n",
            "====================================Experiment=======================================\n",
            "a:  tensor([0, 1, 2, 3, 4, 5, 6, 7, 8])\n",
            "-------------------->\n",
            "b:  tensor([[0, 1, 2],\n",
            "        [3, 4, 5],\n",
            "        [6, 7, 8]])\n",
            "-------------------->\n",
            "c:  tensor([[0, 3, 6],\n",
            "        [1, 4, 7],\n",
            "        [2, 5, 8]])\n",
            "-------------------->\n",
            "d:  tensor([0, 3, 6, 1, 4, 7, 2, 5, 8])\n",
            "====================>\n",
            "x:  tensor([[0, 1, 2],\n",
            "        [3, 4, 5],\n",
            "        [6, 7, 8]])\n",
            "-------------------->\n",
            "y: tensor([[0, 3, 6],\n",
            "        [1, 4, 7],\n",
            "        [2, 5, 8]])\n",
            "-------------------->\n",
            "z:  tensor([0, 3, 6, 1, 4, 7, 2, 5, 8])\n"
          ],
          "name": "stdout"
        }
      ]
    },
    {
      "cell_type": "code",
      "metadata": {
        "colab": {
          "base_uri": "https://localhost:8080/"
        },
        "id": "AKOfWnV1Hrbb",
        "outputId": "88f199c2-4c21-4cb7-bc98-ad94c6b63585"
      },
      "source": [
        "#37\n",
        "x1= torch.rand((2,5)) #(2,5)\n",
        "x2= torch.rand((2,5)) #(2,5)\n",
        "print('x1: ',x1)\n",
        "print('x2: ',x2)\n",
        "x3= torch.cat((x1,x2),dim=0) #across rows (4,5)\n",
        "print('After concatination: ',x3)\n",
        "\n",
        "x3= torch.cat((x1,x2),dim=1) #across rows (2,10)\n",
        "print('After concatination: ',x3)\n",
        "\n",
        "#Unroll the tensor\n",
        "x1_unrolled= x1.view(-1)\n",
        "print('unrolled: ',x1_unrolled) #compare x1 and x_unrolled\n",
        "\n",
        "#fancy unrolling\n",
        "batch= 64\n",
        "x= torch.rand((batch,2,5))\n",
        "z= x.view(batch,-1)\n",
        "print('z shape: ',z.shape)"
      ],
      "execution_count": 37,
      "outputs": [
        {
          "output_type": "stream",
          "text": [
            "x1:  tensor([[0.5671, 0.5407, 0.5156, 0.7262, 0.9496],\n",
            "        [0.2194, 0.4327, 0.3335, 0.0704, 0.4878]])\n",
            "x2:  tensor([[0.1037, 0.7123, 0.1746, 0.0313, 0.2229],\n",
            "        [0.2926, 0.8010, 0.2982, 0.5280, 0.2099]])\n",
            "After concatination:  tensor([[0.5671, 0.5407, 0.5156, 0.7262, 0.9496],\n",
            "        [0.2194, 0.4327, 0.3335, 0.0704, 0.4878],\n",
            "        [0.1037, 0.7123, 0.1746, 0.0313, 0.2229],\n",
            "        [0.2926, 0.8010, 0.2982, 0.5280, 0.2099]])\n",
            "After concatination:  tensor([[0.5671, 0.5407, 0.5156, 0.7262, 0.9496, 0.1037, 0.7123, 0.1746, 0.0313,\n",
            "         0.2229],\n",
            "        [0.2194, 0.4327, 0.3335, 0.0704, 0.4878, 0.2926, 0.8010, 0.2982, 0.5280,\n",
            "         0.2099]])\n",
            "unrolled:  tensor([0.5671, 0.5407, 0.5156, 0.7262, 0.9496, 0.2194, 0.4327, 0.3335, 0.0704,\n",
            "        0.4878])\n",
            "z shape:  torch.Size([64, 10])\n"
          ],
          "name": "stdout"
        }
      ]
    },
    {
      "cell_type": "code",
      "metadata": {
        "colab": {
          "base_uri": "https://localhost:8080/"
        },
        "id": "jiBaraDSbA3q",
        "outputId": "127cf519-c04d-47b5-c2d7-f1e5d8b74d1e"
      },
      "source": [
        "#38\n",
        "#Transposing across multiple dimenions ----> use permute.. special case of transpose 't()'\n",
        "batch= 64\n",
        "x= torch.rand((batch,2,5)) # tensor of 64x2x5\n",
        "print('initial shape: ',x.shape)\n",
        "x= x.permute(0,2,1)\n",
        "print('final shape: ',x.shape)\n",
        "\n",
        "#Adding dimensions\n",
        "x= torch.arange(10) #shape is[10]\n",
        "print('x: ',x,'x.shape: ',x.shape)\n",
        "print(\"-------------------------------------------\")\n",
        "y= x.unsqueeze(0)\n",
        "print('y: ',y,'y.shape: ',y.shape)\n",
        "print(\"-------------------------------------------\")\n",
        "z= x.unsqueeze(1)\n",
        "print('z: ',z,'z.shape: ',z.shape)\n",
        "\n",
        "print(\"============================================\")\n",
        "x= torch.arange(10).unsqueeze(0).unsqueeze(1)\n",
        "print('x: ',x,'x.shape: ',x.shape)\n",
        "print(\"============================================\")\n",
        "x= torch.arange(10).unsqueeze(1).unsqueeze(0)\n",
        "print('x: ',x,'x.shape: ',x.shape)\n",
        "print(\"============================================\")\n",
        "x= torch.arange(10).unsqueeze(0).unsqueeze(1)\n",
        "z= x.squeeze(1)\n",
        "print('z: ',z,'z.shape: ',z.shape)\n",
        "\n"
      ],
      "execution_count": 46,
      "outputs": [
        {
          "output_type": "stream",
          "text": [
            "initial shape:  torch.Size([64, 2, 5])\n",
            "final shape:  torch.Size([64, 5, 2])\n",
            "x:  tensor([0, 1, 2, 3, 4, 5, 6, 7, 8, 9]) x.shape:  torch.Size([10])\n",
            "-------------------------------------------\n",
            "y:  tensor([[0, 1, 2, 3, 4, 5, 6, 7, 8, 9]]) y.shape:  torch.Size([1, 10])\n",
            "-------------------------------------------\n",
            "z:  tensor([[0],\n",
            "        [1],\n",
            "        [2],\n",
            "        [3],\n",
            "        [4],\n",
            "        [5],\n",
            "        [6],\n",
            "        [7],\n",
            "        [8],\n",
            "        [9]]) z.shape:  torch.Size([10, 1])\n",
            "============================================\n",
            "x:  tensor([[[0, 1, 2, 3, 4, 5, 6, 7, 8, 9]]]) x.shape:  torch.Size([1, 1, 10])\n",
            "============================================\n",
            "x:  tensor([[[0],\n",
            "         [1],\n",
            "         [2],\n",
            "         [3],\n",
            "         [4],\n",
            "         [5],\n",
            "         [6],\n",
            "         [7],\n",
            "         [8],\n",
            "         [9]]]) x.shape:  torch.Size([1, 10, 1])\n",
            "============================================\n",
            "z:  tensor([[0, 1, 2, 3, 4, 5, 6, 7, 8, 9]]) z.shape:  torch.Size([1, 10])\n"
          ],
          "name": "stdout"
        }
      ]
    },
    {
      "cell_type": "code",
      "metadata": {
        "id": "l6A7SxhXfKO2"
      },
      "source": [
        ""
      ],
      "execution_count": null,
      "outputs": []
    }
  ]
}