{
  "nbformat": 4,
  "nbformat_minor": 0,
  "metadata": {
    "colab": {
      "name": "1001_Pytorch_ANN.ipynb",
      "provenance": [],
      "collapsed_sections": [],
      "toc_visible": true,
      "authorship_tag": "ABX9TyOVKFLBIEAyvmiO1x647CXL",
      "include_colab_link": true
    },
    "kernelspec": {
      "name": "python3",
      "display_name": "Python 3"
    },
    "accelerator": "GPU"
  },
  "cells": [
    {
      "cell_type": "markdown",
      "metadata": {
        "id": "view-in-github",
        "colab_type": "text"
      },
      "source": [
        "<a href=\"https://colab.research.google.com/github/novoforce/Exploring-Pytorch/blob/master/new/1001_Pytorch_ANN.ipynb\" target=\"_parent\"><img src=\"https://colab.research.google.com/assets/colab-badge.svg\" alt=\"Open In Colab\"/></a>"
      ]
    },
    {
      "cell_type": "markdown",
      "metadata": {
        "id": "1m18JJ1PpkqZ"
      },
      "source": [
        "# Imports"
      ]
    },
    {
      "cell_type": "code",
      "metadata": {
        "id": "a4qiyDjbqMJC"
      },
      "source": [
        "import torch\n",
        "import torch.nn as nn\n",
        "import torch.nn.functional as F\n",
        "import torch.optim as optim\n",
        "from torch.utils.data import DataLoader\n",
        "import torchvision.datasets as datasets\n",
        "import torchvision.transforms as transforms"
      ],
      "execution_count": 2,
      "outputs": []
    },
    {
      "cell_type": "markdown",
      "metadata": {
        "id": "tAx3DzZjpkls"
      },
      "source": [
        "# Create fully connected Neural Network"
      ]
    },
    {
      "cell_type": "code",
      "metadata": {
        "id": "Hj0hbD1SrWAv"
      },
      "source": [
        "class NN(nn.Module):  #subclassing/inheriting from nn.Module\n",
        "  def __init__(self,input_size,num_classes):  #input_size= 28x28 = 784\n",
        "    super(NN,self).__init__() #calls the init function of the parent class(nn.Module)\n",
        "    self.fc1= nn.Linear(input_size,50)\n",
        "    self.fc2= nn.Linear(50,num_classes)\n",
        "\n",
        "  def forward(self,x):\n",
        "    x= F.relu(self.fc1(x)) #-->shape: (batch x 784)-->(batch x 50)\n",
        "    x= self.fc2(x) #-->shape: (batch x 50)-->(batch x num_classes)\n",
        "    return x\n",
        "\n",
        "# Testing the class with some random generated values\n",
        "# model= NN(784,10)\n",
        "# x= torch.randn((64,784))\n",
        "# print(model(x).shape)\n"
      ],
      "execution_count": 19,
      "outputs": []
    },
    {
      "cell_type": "markdown",
      "metadata": {
        "id": "SGDL6LxSpkeR"
      },
      "source": [
        "# Set Device"
      ]
    },
    {
      "cell_type": "code",
      "metadata": {
        "id": "YXBNl7suvIwz"
      },
      "source": [
        "device= torch.device('cuda' if torch.cuda.is_available() else 'cpu')"
      ],
      "execution_count": 20,
      "outputs": []
    },
    {
      "cell_type": "markdown",
      "metadata": {
        "id": "uPWmdm91pkan"
      },
      "source": [
        "# Hyperparameters"
      ]
    },
    {
      "cell_type": "code",
      "metadata": {
        "id": "f2WgzTcavTn0"
      },
      "source": [
        "input_size= 784\n",
        "num_classes= 10\n",
        "learning_rate= 0.001\n",
        "batch_size= 64\n",
        "num_epochs= 1"
      ],
      "execution_count": 26,
      "outputs": []
    },
    {
      "cell_type": "markdown",
      "metadata": {
        "id": "esRLjL_UpkW7"
      },
      "source": [
        "# Load Data"
      ]
    },
    {
      "cell_type": "code",
      "metadata": {
        "id": "WVJ8kgaYvlNV"
      },
      "source": [
        "train_dataset= datasets.MNIST(root='datasets/',train=True,transform=transforms.ToTensor(),download=True)\n",
        "train_loader= DataLoader(dataset=train_dataset,batch_size=batch_size,shuffle=True)\n",
        "\n",
        "test_dataset= datasets.MNIST(root='datasets/',train=False,transform=transforms.ToTensor(),download=True)\n",
        "test_loader= DataLoader(dataset=test_dataset,batch_size=batch_size,shuffle=True)"
      ],
      "execution_count": 27,
      "outputs": []
    },
    {
      "cell_type": "markdown",
      "metadata": {
        "id": "Lros5ha1pkSF"
      },
      "source": [
        "# Initialize network"
      ]
    },
    {
      "cell_type": "code",
      "metadata": {
        "id": "SysrFJq6wrCT"
      },
      "source": [
        "model= NN(input_size=input_size,num_classes=num_classes).to(device)"
      ],
      "execution_count": 28,
      "outputs": []
    },
    {
      "cell_type": "markdown",
      "metadata": {
        "id": "tmalpj8KpkLP"
      },
      "source": [
        "# Loss & Optimizers"
      ]
    },
    {
      "cell_type": "code",
      "metadata": {
        "id": "K_aDQH5Mw_NS"
      },
      "source": [
        "criterion= nn.CrossEntropyLoss()\n",
        "optimizer= optim.Adam(model.parameters(),lr=learning_rate) "
      ],
      "execution_count": 29,
      "outputs": []
    },
    {
      "cell_type": "markdown",
      "metadata": {
        "id": "pvda-Zo8pkCe"
      },
      "source": [
        "# Train Network"
      ]
    },
    {
      "cell_type": "code",
      "metadata": {
        "id": "eQkF4qbbxUCo"
      },
      "source": [
        "for epoch in range(num_epochs):\n",
        "    for batch_idx,(data,targets) in enumerate(train_loader):\n",
        "        data= data.to(device)\n",
        "        targets= targets.to(device)\n",
        "        # print(data.shape) #here we have to reshape the input from (64x1x28x28) to (64x764) which is basically unrolling\n",
        "        data= data.reshape(data.shape[0],-1)\n",
        "\n",
        "        #forward propagation\n",
        "        scores= model(data)\n",
        "        loss= criterion(scores,targets)\n",
        "\n",
        "        #backward propagation\n",
        "        optimizer.zero_grad()\n",
        "        loss.backward()\n",
        "\n",
        "        #gradient descent\n",
        "        optimizer.step()"
      ],
      "execution_count": 31,
      "outputs": []
    },
    {
      "cell_type": "markdown",
      "metadata": {
        "id": "0gGsbPODqCB5"
      },
      "source": [
        "# Check accuracy on training & test to see how good our model is"
      ]
    },
    {
      "cell_type": "code",
      "metadata": {
        "colab": {
          "base_uri": "https://localhost:8080/"
        },
        "id": "nXwe-v_VnOov",
        "outputId": "510713e5-a313-4473-fe21-339b93a20663"
      },
      "source": [
        "def check_accuracy(loader,model):\n",
        "    num_correct= 0\n",
        "    num_samples= 0\n",
        "    model.eval()\n",
        "\n",
        "    with torch.no_grad():\n",
        "        if loader.dataset.train:\n",
        "            print(\"Checking accuracy on Training data\")\n",
        "        else:\n",
        "            print(\"Checking accuracy on Testing data\")\n",
        "\n",
        "        for x,y in loader:\n",
        "            x= x.to(device)\n",
        "            y= y.to(device)\n",
        "            # print('y: ',y)\n",
        "            x= x.reshape(x.shape[0],-1)\n",
        "            scores= model(x)  #batch x num_classes   Here 'model' is the trained\n",
        "            # print('scores: ',scores)\n",
        "            _,predictions= scores.max(1)\n",
        "            # print('vals: ',_,predictions)\n",
        "            # break\n",
        "            num_correct += (predictions == y).sum()\n",
        "            num_samples += predictions.size(0)\n",
        "        print(f'Got {num_correct}/{num_samples} with accuracy {float(num_correct)/float(num_samples)*100:.2f} %')\n",
        "\n",
        "    model.train()\n",
        "\n",
        "check_accuracy(train_loader,model)\n",
        "check_accuracy(test_loader,model)\n"
      ],
      "execution_count": 41,
      "outputs": [
        {
          "output_type": "stream",
          "text": [
            "Checking accuracy on Training data\n",
            "Got 56874/60000 with accuracy 94.79 %\n",
            "Checking accuracy on Testing data\n",
            "Got 9474/10000 with accuracy 94.74 %\n"
          ],
          "name": "stdout"
        }
      ]
    },
    {
      "cell_type": "code",
      "metadata": {
        "id": "1TErDfxJ3C88"
      },
      "source": [
        ""
      ],
      "execution_count": null,
      "outputs": []
    }
  ]
}